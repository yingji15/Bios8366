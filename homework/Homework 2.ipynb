{
 "cells": [
  {
   "cell_type": "code",
   "execution_count": null,
   "metadata": {
    "collapsed": true
   },
   "outputs": [],
   "source": []
  },
  {
   "cell_type": "markdown",
   "metadata": {},
   "source": [
    "Answer all questions and submit them either as an IPython notebook, LaTeX document, or Markdown document. Each question is worth 25 points.\n",
    "\n",
    "This homework is due Tuesday, October 24, 2017."
   ]
  },
  {
   "cell_type": "code",
   "execution_count": 2,
   "metadata": {},
   "outputs": [],
   "source": [
    "%matplotlib inline\n",
    "import numpy as np\n",
    "#import pymc as pm\n",
    "import pylab as plt\n",
    "import pandas as pd\n",
    "\n",
    "# Set seed\n",
    "np.random.seed(10011)"
   ]
  },
  {
   "cell_type": "markdown",
   "metadata": {},
   "source": [
    "# Question 1\n",
    "\n",
    "Epidemiologists are interested in studying the sexual behavior of individuals at risk for HIV infection. Suppose 1500 gay men were surveyed and each was asked how many risky sexual encounters he had in the previous 30 days. Let $n_i$ denote the number of respondents reporting $i$ encounters, for $i = 1, \\ldots , 16$. The DataFrame below contains these reponses:"
   ]
  },
  {
   "cell_type": "code",
   "execution_count": 3,
   "metadata": {},
   "outputs": [
    {
     "data": {
      "text/plain": [
       "<matplotlib.axes._subplots.AxesSubplot at 0x10d2ed898>"
      ]
     },
     "execution_count": 3,
     "metadata": {},
     "output_type": "execute_result"
    },
    {
     "data": {
      "image/png": "[encoded data removed]",
      "text/plain": [
       "<matplotlib.figure.Figure at 0x103558fd0>"
      ]
     },
     "metadata": {},
     "output_type": "display_data"
    }
   ],
   "source": [
    "encounters = pd.DataFrame({'count': np.arange(17),\n",
    "                          'freq': [379, 299, 222, 145, 109, 95, 73, 59,\n",
    "                                  45, 30, 24, 12, 4, 2, 0, 1, 1]})\n",
    "\n",
    "encounters.freq.plot.bar()"
   ]
  },
  {
   "cell_type": "markdown",
   "metadata": {},
   "source": [
    "These data are poorly fitted by a Poisson model. It is more realistic to assume that the respondents comprise three groups. First, there is a group of people who, for whatever reason, report zero risky encounters even if this is not true. Suppose a respondent has probability $\\alpha$ of belonging to this group. \n",
    "\n",
    "With probability $\\beta$, a respondent belongs to a second group representing typical behavior. Such people respond truthfully, and their numbers of risky encounters are assumed to follow a $\\text{Poisson}(\\mu)$ distribution. \n",
    "\n",
    "Finally, with probability $1 − \\alpha − \\beta$, a respondent belongs to a high-risk group. Such people respond truthfully, and their numbers of risky encounters are assumed to follow a $\\text{Poisson}(\\lambda)$ distribution. \n",
    "\n",
    "The parameters in the model are $\\alpha, \\beta, \\mu$ and $\\lambda$. At the tth iteration of EM, we use $\\theta^{(t)} = (\\alpha^{(t)}, \\beta^{(t)}, \\mu^{(t)}, \\lambda^{(t)})$ to denote the current parameter values. The likelihood of the observed data is given by:\n",
    "\n",
    "$$L(\\theta | n_0, \\ldots, n_16) \\propto \\prod_{i=0}^{16} \\left[ \\frac{\\pi_i(\\theta)}{i!} \\right]^{n_i}$$\n",
    "\n",
    "where $\\pi_i(\\theta) = \\alpha 1_{(i=0)} + \\beta \\mu^i \\exp(-\\mu) + (1-\\alpha - \\beta) \\lambda^i \\exp(-\\lambda)$.\n",
    "\n",
    "The observed data are in the `encounters` table above; the *complete* data may be construed to be $(n_{z,0}, n_{t,0}, n_{p,0}), \\ldots, (n_{z,16}, n_{t,16}, n_{p,16})$, where $k = z, t, p$ correspond to zero, typical and promiscuous groups, respectively. That is, $n_0 = n_{z,0} + n_{t,0} + n_{p,0}$, and so on. Let $N = \\sum_{i=0}^{16} n_i = 1500$.\n",
    "\n",
    "Also define:\n",
    "\n",
    "$$\\begin{align}\n",
    "z_0(\\theta) &=& \\frac{\\alpha}{\\pi_0(\\theta)} \\\\\n",
    "t_i(\\theta) &=& \\frac{\\beta \\mu^i \\exp(-\\mu)}{\\pi_i(\\theta)} \\\\\n",
    "p_i(\\theta) &=& \\frac{(1-\\alpha-\\beta)\\lambda^i \\exp(-\\lambda)}{\\pi_i(\\theta)}\n",
    "\\end{align}$$\n",
    "\n",
    "which correspond to probabilities that respondents with $i$ risky encounters belong to various groups.\n",
    "\n",
    "a. Show that the EM algorithm provides the following updates:\n",
    "\n",
    "$$\\begin{align}\n",
    "\\alpha^{(t+1)} &=& \\frac{n_0 z_0(\\theta^{(t)})}{N} \\\\\n",
    "\\beta^{(t+1)} &=& \\sum_i \\frac{n_i t_i(\\theta^{(t)})}{N} \\\\\n",
    "\\mu^{(t+1)} &=& \\frac{\\sum_i i n_i t_i(\\theta^{(t)})}{\\sum_i n_i t_i(\\theta^{(t)})} \\\\\n",
    "\\lambda^{(t+1)} &=& \\frac{\\sum_i i n_i p_i(\\theta^{(t)})}{\\sum_i n_i p_i(\\theta^{(t)})}\n",
    "\\end{align}$$\n",
    "\n",
    "\n",
    "b. Extimate the parameters of the model using the observed data."
   ]
  },
  {
   "cell_type": "code",
   "execution_count": 3,
   "metadata": {
    "collapsed": true
   },
   "outputs": [],
   "source": [
    "# Write your answer here"
   ]
  },
  {
   "cell_type": "code",
   "execution_count": null,
   "metadata": {
    "collapsed": true
   },
   "outputs": [],
   "source": [
    "from scipy.stats.distributions import poisson\n",
    "\n",
    "\n",
    "def e_step(alpha,beta,mu,lam):\n",
    "    t=[]\n",
    "    p=[]\n",
    "    \n",
    "    for i in range(0,16+1):\n",
    "        pi=alpha*(i==0)+beta*np.exp(-mu)*(mu**i) +(1-alpha-beta)*(lam**i)*np.exp(-lam)\n",
    "        z= alpha/pi*(i==0)\n",
    "        ti=beta*(mu**i)*np.exp(-mu)/pi\n",
    "        t.append(ti)\n",
    "        \n",
    "        pt=(1-alpha-beta)*(lam**i)*np.exp(-lam)/pi\n",
    "        p.append(pt)\n",
    "    \n",
    "    return z,t,p\n"
   ]
  },
  {
   "cell_type": "code",
   "execution_count": 26,
   "metadata": {},
   "outputs": [],
   "source": [
    "a,b,c=e_step(1,2,3,4)"
   ]
  },
  {
   "cell_type": "code",
   "execution_count": 15,
   "metadata": {},
   "outputs": [
    {
     "data": {
      "text/plain": [
       "-0.0"
      ]
     },
     "execution_count": 15,
     "metadata": {},
     "output_type": "execute_result"
    }
   ],
   "source": [
    "a"
   ]
  },
  {
   "cell_type": "code",
   "execution_count": 18,
   "metadata": {},
   "outputs": [
    {
     "data": {
      "text/plain": [
       "17"
      ]
     },
     "execution_count": 18,
     "metadata": {},
     "output_type": "execute_result"
    }
   ],
   "source": [
    "len(b)"
   ]
  },
  {
   "cell_type": "code",
   "execution_count": 27,
   "metadata": {
    "collapsed": true
   },
   "outputs": [],
   "source": [
    "n=np.array([379, 299, 222, 145, 109, 95, 73, 59,45, 30, 24, 12, 4, 2, 0, 1, 1])"
   ]
  },
  {
   "cell_type": "code",
   "execution_count": 22,
   "metadata": {},
   "outputs": [
    {
     "data": {
      "text/plain": [
       "list"
      ]
     },
     "execution_count": 22,
     "metadata": {},
     "output_type": "execute_result"
    }
   ],
   "source": [
    "type(n)"
   ]
  },
  {
   "cell_type": "code",
   "execution_count": 28,
   "metadata": {
    "collapsed": true
   },
   "outputs": [],
   "source": [
    "b=np.array(b)"
   ]
  },
  {
   "cell_type": "code",
   "execution_count": null,
   "metadata": {},
   "outputs": [],
   "source": [
    "print(np.sum(n*b))"
   ]
  },
  {
   "cell_type": "code",
   "execution_count": null,
   "metadata": {},
   "outputs": [],
   "source": [
    "def m_step(z,t,p,n,N=1500):\n",
    "    #n is a vector of n0,n1,...,n16\n",
    "    # w is the combination of z,t,p from e step\n",
    "    \n",
    "    \n",
    "    t=np.array(t)\n",
    "    p=np.array(p)\n",
    "    \n",
    "    alpha= n[0]*z/N\n",
    "    beta=np.sum(n*t/N)\n",
    "    \n",
    "    tsum=0\n",
    "    for i in range(0,16+1):\n",
    "        tsum=tsum+i*n[i]*t[i]\n",
    "        \n",
    "    mu=tsum/np.sum(n*t)\n",
    "    \n",
    "    psum=0\n",
    "    for i in range(0,16+1):\n",
    "        psum=psum+i*p[i]*n[i]\n",
    "    \n",
    "    lam=psum/np.sum(n*t)\n",
    "    \n",
    "    return alpha,beta,mu,lam\n"
   ]
  },
  {
   "cell_type": "code",
   "execution_count": 35,
   "metadata": {},
   "outputs": [
    {
     "data": {
      "text/plain": [
       "(-0.0, 0.94747634992871843, 0.56861375574705153, 2.2789507245726726)"
      ]
     },
     "execution_count": 35,
     "metadata": {},
     "output_type": "execute_result"
    }
   ],
   "source": [
    "m_step(a,b,c)"
   ]
  },
  {
   "cell_type": "code",
   "execution_count": null,
   "metadata": {},
   "outputs": [],
   "source": [
    "resp=np.array([379, 299, 222, 145, 109, 95, 73, 59,45, 30, 24, 12, 4, 2, 0, 1, 1]) #data\n",
    "    \n",
    "\n",
    "def run_em(alpha0=0.2, beta0=0.5,mu0=5,lam0=5, n=resp):\n",
    "    \n",
    "    # Initialize values\n",
    "    alpha=alpha0\n",
    "    beta=beta0\n",
    "    mu=mu0\n",
    "    lam=lam0\n",
    "\n",
    "    # Stopping criterion\n",
    "    crit = 1e-3\n",
    "\n",
    "    # Convergence flag\n",
    "    converged = False\n",
    "\n",
    "    # Loop until converged\n",
    "    while not converged:\n",
    "\n",
    "        # E-step\n",
    "        z,t,p = e_step(alpha,beta,mu,lam)\n",
    "        # M-step\n",
    "        alpha_new, beta_new,mu_new,lam_new = m_step(z,t,p,n)\n",
    "\n",
    "        # Check convergence\n",
    "        converged = ( np.all(np.abs((np.array(alpha_new) - np.array(alpha)) < crit)) \n",
    "                     & np.all(np.abs((np.array(mu_new) - np.array(mu)) < crit))\n",
    "                     & np.all(np.abs((np.array(beta_new) - np.array(beta)) < crit))\n",
    "                     & np.all(np.abs((np.array(lam_new) - np.array(lam)) < crit)) ) \n",
    "                \n",
    "        alpha, beta, mu, lam = alpha_new, beta_new,mu_new,lam_new\n",
    "\n",
    "    return  alpha, beta, mu, lam"
   ]
  },
  {
   "cell_type": "code",
   "execution_count": null,
   "metadata": {},
   "outputs": [],
   "source": [
    "run_em()"
   ]
  },
  {
   "cell_type": "code",
   "execution_count": 5,
   "metadata": {},
   "outputs": [
    {
     "data": {
      "text/plain": [
       "0"
      ]
     },
     "execution_count": 5,
     "metadata": {},
     "output_type": "execute_result"
    }
   ],
   "source": [
    "(1==0)*2"
   ]
  },
  {
   "cell_type": "code",
   "execution_count": 7,
   "metadata": {},
   "outputs": [
    {
     "data": {
      "text/plain": [
       "[0, 1, 2, 3, 4, 5, 6, 7, 8, 9, 10, 11, 12, 13, 14, 15, 16]"
      ]
     },
     "execution_count": 7,
     "metadata": {},
     "output_type": "execute_result"
    }
   ],
   "source": [
    "list(range(0,17))"
   ]
  },
  {
   "cell_type": "markdown",
   "metadata": {},
   "source": [
    "# Question 2\n",
    "\n",
    "Suppose $y$ has a binomial distribution with parameters $n$ and $p$, and we are interested in the log-odds value $\\theta = \\log(p/(1 − p))$. Our prior for $\\theta$ is that $\\theta \\sim N(\\mu, \\sigma^2)$. It follows that the posterior density of $\\theta$ is given, up to a proportionality constant, by:\n",
    "\n",
    "$$\\pi(\\theta | y) \\propto \\frac{\\exp(y\\theta)}{(1 + exp(\\theta))^n} \\exp\\left[\\frac{-(\\theta − \\mu)^2}{2\\sigma^2}\\right]$$\n",
    "\n",
    "For example, suppose we are interested in learning about the probability that a possibly-biased coin lands heads when tossed. *A priori* we believe that the coin is fair, so we assign $\\theta$ a $N(0,.25)$ prior. We toss the coin $n = 5$ times and obtain $y = 5$ heads.\n",
    "\n",
    "1. Using a normal approximation to the posterior density, compute the probability that the coin is biased toward heads (i.e., that θ is positive).\n",
    "2. Using the prior density as a proposal density, design a rejection algorithm for sampling from the posterior distribution. Using simulated draws from your algorithm, approximate the probability that the coin is biased toward heads.\n",
    "3. Using the prior density as a proposal density, simulate values from the posterior distribution using the SIR algorithm. Approximate the probability that the coin is biased toward heads."
   ]
  },
  {
   "cell_type": "code",
   "execution_count": 4,
   "metadata": {
    "collapsed": true
   },
   "outputs": [],
   "source": [
    "# Write your anser here\n",
    "#1. normal approximation\n",
    "import scipy as sp\n",
    "import scipy.stats as stats\n",
    "\n",
    "binom=stats.binom\n",
    "norm=stats.norm\n",
    "\n",
    "theta=norm(0,0.5).rvs(1)\n",
    "y=5\n",
    "n=5\n",
    "post=(np.exp(y*theta)/((1+np.exp(theta))**n) )*np.exp(-(theta**2)/(2*0.25))\n",
    "\n"
   ]
  },
  {
   "cell_type": "markdown",
   "metadata": {},
   "source": [
    "# Question 3\n",
    "\n",
    "The goal of this problem is to investigate the role of the proposal distribution in a Metropolis-Hastings algorithm designed to simulate from the posterior distribution of the mixture parameter $\\delta$. \n",
    "\n",
    "1. Simulate 200 realizations from the mixture distribution:\n",
    "    $$y_i \\sim \\delta N(7, 0.5^2) + (1-\\delta) N(10, 0.5^2)$$\n",
    "    with $\\delta = 0.7$. Plot a histogram of these data. \n",
    "2. Implement a random walk M-H algorithm with proposal $\\delta^{\\prime} = \\delta^{(i)} + \\epsilon$ with $\\epsilon \\sim Unif(−1,1)$. \n",
    "3. Reparameterize the problem letting $U = \\log\\left[\\frac{\\delta}{1 - \\delta}\\right]$ and $u^{\\prime} = u^{(i)} + \\epsilon$. Implement a random walk chain in U-space. \n",
    "4. Compare the estimates and convergence behavior of the three algorithms.\n",
    "\n",
    "In part (1), you are asked to simulate data from a distribution with $\\delta$ known. For parts (2)–(3), assume $\\delta$ is unknown with prior $\\delta \\sim Unif( 0,1)$. For parts (2)–(3), provide an appropriate plot and a table summarizing the output of the algorithm. \n",
    "\n",
    "To facilitate comparisons, use the same number of iterations, random seed, starting values, and burn-in period for all implementations of the algorithm. "
   ]
  },
  {
   "cell_type": "code",
   "execution_count": 5,
   "metadata": {
    "collapsed": true
   },
   "outputs": [],
   "source": [
    "# Write answer here"
   ]
  },
  {
   "cell_type": "markdown",
   "metadata": {},
   "source": [
    "# Question 4\n",
    "\n",
    "Carlin (1992) considers a Bayesian approach to meta-analysis, and includes the following examples of 22 trials of beta-blockers to prevent mortality after myocardial infarction. These data are given below.\n",
    "\n",
    "In one possible random effects model we assume the true baseline mean (on a log-odds scale) $m_i$ in a trial $i$\n",
    "is drawn from some population distribution. Let $r^C_i$ denote number of events in the control group in trial $i$, and $r^T_i$ denote events under active treatment in trial $i$. Our model is:\n",
    "\n",
    "$$\\begin{aligned}\n",
    "r^C_i &\\sim \\text{Binomial}\\left(p^C_i, n^C_i\\right) \\\\\n",
    "r^T_i &\\sim \\text{Binomial}\\left(p^T_i, n^T_i\\right) \\\\\n",
    "\\text{logit}\\left(p^C_i\\right) &= \\mu_i \\\\\n",
    "\\text{logit}\\left(p^T_i\\right) &= \\mu_i + \\delta \\\\\n",
    "\\mu_i &\\sim \\text{Normal}(m, s).\n",
    "\\end{aligned}$$\n",
    "\n",
    "In this case, we want to make inferences about the population effect $m$, and the predictive distribution for the effect $\\delta_{\\text{new}}$ in a new trial. \n",
    "\n",
    "This particular model uses a random effect for the population mean, and a fixed effect for the treatment effect. There are 3 other models you could fit to represent all possible combinations of fixed or random effects for these two parameters.\n",
    "\n",
    "Build all 4 models to estimate the treatment effect in PyMC3 and \n",
    "\n",
    "1. use convergence diagnostics to check for convergence in each model \n",
    "2. use posterior predictive checks to compare the fit of the models\n",
    "3. use DIC to compare the models as approximations of the true generating model\n",
    "\n",
    "Which model would you select and why?"
   ]
  },
  {
   "cell_type": "code",
   "execution_count": 6,
   "metadata": {
    "collapsed": true
   },
   "outputs": [],
   "source": [
    "r_t_obs = [3, 7, 5, 102, 28, 4, 98, 60, 25, 138, 64, 45, 9, 57, 25, 33, 28, 8, 6, 32, 27, 22]\n",
    "n_t_obs = [38, 114, 69, 1533, 355, 59, 945, 632, 278,1916, 873, 263, 291, 858, 154, 207, 251, 151, 174, 209, 391, 680]\n",
    "r_c_obs = [3, 14, 11, 127, 27, 6, 152, 48, 37, 188, 52, 47, 16, 45, 31, 38, 12, 6, 3, 40, 43, 39]\n",
    "n_c_obs = [39, 116, 93, 1520, 365, 52, 939, 471, 282, 1921, 583, 266, 293, 883, 147, 213, 122, 154, 134, 218, 364, 674]\n",
    "N = len(n_c_obs)"
   ]
  },
  {
   "cell_type": "code",
   "execution_count": 7,
   "metadata": {
    "collapsed": true
   },
   "outputs": [],
   "source": [
    "# Write answer here"
   ]
  }
 ],
 "metadata": {
  "anaconda-cloud": {},
  "kernelspec": {
   "display_name": "Python 3",
   "language": "python",
   "name": "python3"
  },
  "language_info": {
   "codemirror_mode": {
    "name": "ipython",
    "version": 3
   },
   "file_extension": ".py",
   "mimetype": "text/x-python",
   "name": "python",
   "nbconvert_exporter": "python",
   "pygments_lexer": "ipython3",
   "version": "3.6.2"
  },
  "latex_envs": {
   "bibliofile": "biblio.bib",
   "cite_by": "apalike",
   "current_citInitial": 1,
   "eqLabelWithNumbers": true,
   "eqNumInitial": 0
  },
  "nav_menu": {},
  "toc": {
   "navigate_menu": true,
   "number_sections": false,
   "sideBar": false,
   "threshold": "3",
   "toc_cell": false,
   "toc_section_display": "block",
   "toc_window_display": false
  },
  "toc_position": {
   "height": "84px",
   "left": "1112.66px",
   "right": "20px",
   "top": "120px",
   "width": "187px"
  }
 },
 "nbformat": 4,
 "nbformat_minor": 1
}
