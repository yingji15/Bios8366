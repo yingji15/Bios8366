{
 "cells": [
  {
   "cell_type": "code",
   "execution_count": null,
   "metadata": {
    "collapsed": true
   },
   "outputs": [],
   "source": []
  },
  {
   "cell_type": "markdown",
   "metadata": {},
   "source": [
    "Answer all questions and submit them either as an IPython notebook, LaTeX document, or Markdown document. Each question is worth 25 points.\n",
    "\n",
    "This homework is due Tuesday, October 24, 2017."
   ]
  },
  {
   "cell_type": "code",
   "execution_count": 1,
   "metadata": {
    "collapsed": true
   },
   "outputs": [],
   "source": [
    "%matplotlib inline\n",
    "import numpy as np\n",
    "#import pymc as pm\n",
    "import pylab as plt\n",
    "import pandas as pd\n",
    "\n",
    "# Set seed\n",
    "np.random.seed(10011)"
   ]
  },
  {
   "cell_type": "markdown",
   "metadata": {},
   "source": [
    "# Question 1\n",
    "\n",
    "Epidemiologists are interested in studying the sexual behavior of individuals at risk for HIV infection. Suppose 1500 gay men were surveyed and each was asked how many risky sexual encounters he had in the previous 30 days. Let $n_i$ denote the number of respondents reporting $i$ encounters, for $i = 1, \\ldots , 16$. The DataFrame below contains these reponses:"
   ]
  },
  {
   "cell_type": "code",
   "execution_count": 2,
   "metadata": {},
   "outputs": [
    {
     "data": {
      "text/plain": [
       "<matplotlib.axes._subplots.AxesSubplot at 0x10fe02a90>"
      ]
     },
     "execution_count": 2,
     "metadata": {},
     "output_type": "execute_result"
    },
    {
     "data": {
      "image/png": "[encoded data removed]",
      "text/plain": [
       "<matplotlib.figure.Figure at 0x10fe02278>"
      ]
     },
     "metadata": {},
     "output_type": "display_data"
    }
   ],
   "source": [
    "encounters = pd.DataFrame({'count': np.arange(17),\n",
    "                          'freq': [379, 299, 222, 145, 109, 95, 73, 59,\n",
    "                                  45, 30, 24, 12, 4, 2, 0, 1, 1]})\n",
    "\n",
    "encounters.freq.plot.bar()"
   ]
  },
  {
   "cell_type": "markdown",
   "metadata": {},
   "source": [
    "These data are poorly fitted by a Poisson model. It is more realistic to assume that the respondents comprise three groups. First, there is a group of people who, for whatever reason, report zero risky encounters even if this is not true. Suppose a respondent has probability $\\alpha$ of belonging to this group. \n",
    "\n",
    "With probability $\\beta$, a respondent belongs to a second group representing typical behavior. Such people respond truthfully, and their numbers of risky encounters are assumed to follow a $\\text{Poisson}(\\mu)$ distribution. \n",
    "\n",
    "Finally, with probability $1 − \\alpha − \\beta$, a respondent belongs to a high-risk group. Such people respond truthfully, and their numbers of risky encounters are assumed to follow a $\\text{Poisson}(\\lambda)$ distribution. \n",
    "\n",
    "The parameters in the model are $\\alpha, \\beta, \\mu$ and $\\lambda$. At the tth iteration of EM, we use $\\theta^{(t)} = (\\alpha^{(t)}, \\beta^{(t)}, \\mu^{(t)}, \\lambda^{(t)})$ to denote the current parameter values. The likelihood of the observed data is given by:\n",
    "\n",
    "$$L(\\theta | n_0, \\ldots, n_16) \\propto \\prod_{i=0}^{16} \\left[ \\frac{\\pi_i(\\theta)}{i!} \\right]^{n_i}$$\n",
    "\n",
    "where $\\pi_i(\\theta) = \\alpha 1_{(i=0)} + \\beta \\mu^i \\exp(-\\mu) + (1-\\alpha - \\beta) \\lambda^i \\exp(-\\lambda)$.\n",
    "\n",
    "The observed data are in the `encounters` table above; the *complete* data may be construed to be $(n_{z,0}, n_{t,0}, n_{p,0}), \\ldots, (n_{z,16}, n_{t,16}, n_{p,16})$, where $k = z, t, p$ correspond to zero, typical and promiscuous groups, respectively. That is, $n_0 = n_{z,0} + n_{t,0} + n_{p,0}$, and so on. Let $N = \\sum_{i=0}^{16} n_i = 1500$.\n",
    "\n",
    "Also define:\n",
    "\n",
    "$$\\begin{align}\n",
    "z_0(\\theta) &=& \\frac{\\alpha}{\\pi_0(\\theta)} \\\\\n",
    "t_i(\\theta) &=& \\frac{\\beta \\mu^i \\exp(-\\mu)}{\\pi_i(\\theta)} \\\\\n",
    "p_i(\\theta) &=& \\frac{(1-\\alpha-\\beta)\\lambda^i \\exp(-\\lambda)}{\\pi_i(\\theta)}\n",
    "\\end{align}$$\n",
    "\n",
    "which correspond to probabilities that respondents with $i$ risky encounters belong to various groups.\n",
    "\n",
    "a. Show that the EM algorithm provides the following updates:\n",
    "\n",
    "$$\\begin{align}\n",
    "\\alpha^{(t+1)} &=& \\frac{n_0 z_0(\\theta^{(t)})}{N} \\\\\n",
    "\\beta^{(t+1)} &=& \\sum_i \\frac{n_i t_i(\\theta^{(t)})}{N} \\\\\n",
    "\\mu^{(t+1)} &=& \\frac{\\sum_i i n_i t_i(\\theta^{(t)})}{\\sum_i n_i t_i(\\theta^{(t)})} \\\\\n",
    "\\lambda^{(t+1)} &=& \\frac{\\sum_i i n_i p_i(\\theta^{(t)})}{\\sum_i n_i p_i(\\theta^{(t)})}\n",
    "\\end{align}$$\n",
    "\n",
    "\n",
    "b. Extimate the parameters of the model using the observed data."
   ]
  },
  {
   "cell_type": "code",
   "execution_count": 3,
   "metadata": {
    "collapsed": true
   },
   "outputs": [],
   "source": [
    "# Write your answer here"
   ]
  },
  {
   "cell_type": "code",
   "execution_count": 9,
   "metadata": {},
   "outputs": [
    {
     "data": {
      "text/plain": [
       "(0.0, 0.52483006652390773, 0.77505041207014569, 4.365661166955018)"
      ]
     },
     "execution_count": 9,
     "metadata": {},
     "output_type": "execute_result"
    }
   ],
   "source": [
    "from scipy.stats.distributions import poisson\n",
    "\n",
    "\n",
    "def e_step(alpha,beta,mu,lam):\n",
    "    t=[]\n",
    "    p=[]\n",
    "    \n",
    "    for i in range(0,16+1):\n",
    "        pi=alpha*(i==0)+beta*np.exp(-mu)*(mu**i) +(1-alpha-beta)*(lam**i)*np.exp(-lam)\n",
    "        z= alpha/pi*(i==0)\n",
    "        ti=beta*(mu**i)*np.exp(-mu)/pi\n",
    "        t.append(ti)\n",
    "        \n",
    "        pt=(1-alpha-beta)*(lam**i)*np.exp(-lam)/pi\n",
    "        p.append(pt)\n",
    "    \n",
    "    return z,t,p\n",
    "\n",
    "def m_step(z,t,p,n,N=1500):\n",
    "    #n is a vector of n0,n1,...,n16\n",
    "    # w is the combination of z,t,p from e step\n",
    "    \n",
    "    \n",
    "    t=np.array(t)\n",
    "    p=np.array(p)\n",
    "    \n",
    "    alpha= n[0]*z/N\n",
    "    beta=np.sum(n*t/N)\n",
    "    \n",
    "    tsum=0\n",
    "    for i in range(0,16+1):\n",
    "        tsum=tsum+i*n[i]*t[i]\n",
    "        \n",
    "    mu=tsum/np.sum(n*t)\n",
    "    \n",
    "    psum=0\n",
    "    for i in range(0,16+1):\n",
    "        psum=psum+i*p[i]*n[i]\n",
    "    \n",
    "    lam=psum/np.sum(n*t)\n",
    "    \n",
    "    return alpha,beta,mu,lam\n",
    "\n",
    "\n",
    "resp=np.array([379, 299, 222, 145, 109, 95, 73, 59,45, 30, 24, 12, 4, 2, 0, 1, 1]) #data\n",
    "    \n",
    "\n",
    "def run_em(alpha0=0.2, beta0=0.2,mu0=5,lam0=5, n=resp):\n",
    "    \n",
    "    # Initialize values\n",
    "    alpha=alpha0\n",
    "    beta=beta0\n",
    "    mu=mu0\n",
    "    lam=lam0\n",
    "\n",
    "    # Stopping criterion\n",
    "    crit = 1e-5\n",
    "\n",
    "    # Convergence flag\n",
    "    converged = False\n",
    "\n",
    "    # Loop until converged\n",
    "    while not converged:\n",
    "\n",
    "        # E-step\n",
    "        z,t,p = e_step(alpha,beta,mu,lam)\n",
    "        # M-step\n",
    "        alpha_new, beta_new,mu_new,lam_new = m_step(z,t,p,n)\n",
    "\n",
    "        # Check convergence\n",
    "        converged = ( np.all(np.abs((np.array(alpha_new) - np.array(alpha)) < crit)) \n",
    "                     & np.all(np.abs((np.array(mu_new) - np.array(mu)) < crit))\n",
    "                     & np.all(np.abs((np.array(beta_new) - np.array(beta)) < crit))\n",
    "                     & np.all(np.abs((np.array(lam_new) - np.array(lam)) < crit)) ) \n",
    "                \n",
    "        alpha, beta, mu, lam = alpha_new, beta_new,mu_new,lam_new\n",
    "\n",
    "    return  alpha, beta, mu, lam\n",
    "\n",
    "run_em(alpha0=0.6)"
   ]
  },
  {
   "cell_type": "code",
   "execution_count": 26,
   "metadata": {
    "collapsed": true
   },
   "outputs": [],
   "source": [
    "a,b,c=e_step(1,2,3,4)"
   ]
  },
  {
   "cell_type": "code",
   "execution_count": 15,
   "metadata": {},
   "outputs": [
    {
     "data": {
      "text/plain": [
       "-0.0"
      ]
     },
     "execution_count": 15,
     "metadata": {},
     "output_type": "execute_result"
    }
   ],
   "source": [
    "a"
   ]
  },
  {
   "cell_type": "code",
   "execution_count": 18,
   "metadata": {},
   "outputs": [
    {
     "data": {
      "text/plain": [
       "17"
      ]
     },
     "execution_count": 18,
     "metadata": {},
     "output_type": "execute_result"
    }
   ],
   "source": [
    "len(b)"
   ]
  },
  {
   "cell_type": "code",
   "execution_count": 27,
   "metadata": {
    "collapsed": true
   },
   "outputs": [],
   "source": [
    "n=np.array([379, 299, 222, 145, 109, 95, 73, 59,45, 30, 24, 12, 4, 2, 0, 1, 1])"
   ]
  },
  {
   "cell_type": "code",
   "execution_count": 22,
   "metadata": {},
   "outputs": [
    {
     "data": {
      "text/plain": [
       "list"
      ]
     },
     "execution_count": 22,
     "metadata": {},
     "output_type": "execute_result"
    }
   ],
   "source": [
    "type(n)"
   ]
  },
  {
   "cell_type": "code",
   "execution_count": 28,
   "metadata": {
    "collapsed": true
   },
   "outputs": [],
   "source": [
    "b=np.array(b)"
   ]
  },
  {
   "cell_type": "code",
   "execution_count": null,
   "metadata": {
    "collapsed": true
   },
   "outputs": [],
   "source": [
    "print(np.sum(n*b))"
   ]
  },
  {
   "cell_type": "code",
   "execution_count": 4,
   "metadata": {
    "collapsed": true
   },
   "outputs": [],
   "source": [
    "def m_step(z,t,p,n,N=1500):\n",
    "    #n is a vector of n0,n1,...,n16\n",
    "    # w is the combination of z,t,p from e step\n",
    "    \n",
    "    \n",
    "    t=np.array(t)\n",
    "    p=np.array(p)\n",
    "    \n",
    "    alpha= n[0]*z/N\n",
    "    beta=np.sum(n*t/N)\n",
    "    \n",
    "    tsum=0\n",
    "    for i in range(0,16+1):\n",
    "        tsum=tsum+i*n[i]*t[i]\n",
    "        \n",
    "    mu=tsum/np.sum(n*t)\n",
    "    \n",
    "    psum=0\n",
    "    for i in range(0,16+1):\n",
    "        psum=psum+i*p[i]*n[i]\n",
    "    \n",
    "    lam=psum/np.sum(n*t)\n",
    "    \n",
    "    return alpha,beta,mu,lam\n"
   ]
  },
  {
   "cell_type": "code",
   "execution_count": 35,
   "metadata": {},
   "outputs": [
    {
     "data": {
      "text/plain": [
       "(-0.0, 0.94747634992871843, 0.56861375574705153, 2.2789507245726726)"
      ]
     },
     "execution_count": 35,
     "metadata": {},
     "output_type": "execute_result"
    }
   ],
   "source": [
    "m_step(a,b,c)"
   ]
  },
  {
   "cell_type": "code",
   "execution_count": 8,
   "metadata": {
    "collapsed": true
   },
   "outputs": [],
   "source": [
    "resp=np.array([379, 299, 222, 145, 109, 95, 73, 59,45, 30, 24, 12, 4, 2, 0, 1, 1]) #data\n",
    "    \n",
    "\n",
    "def run_em(alpha0=0.2, beta0=0.5,mu0=5,lam0=5, n=resp):\n",
    "    \n",
    "    # Initialize values\n",
    "    alpha=alpha0\n",
    "    beta=beta0\n",
    "    mu=mu0\n",
    "    lam=lam0\n",
    "\n",
    "    # Stopping criterion\n",
    "    crit = 1e-5\n",
    "\n",
    "    # Convergence flag\n",
    "    converged = False\n",
    "\n",
    "    # Loop until converged\n",
    "    while not converged:\n",
    "\n",
    "        # E-step\n",
    "        z,t,p = e_step(alpha,beta,mu,lam)\n",
    "        # M-step\n",
    "        alpha_new, beta_new,mu_new,lam_new = m_step(z,t,p,n)\n",
    "\n",
    "        # Check convergence\n",
    "        converged = ( np.all(np.abs((np.array(alpha_new) - np.array(alpha)) < crit)) \n",
    "                     & np.all(np.abs((np.array(mu_new) - np.array(mu)) < crit))\n",
    "                     & np.all(np.abs((np.array(beta_new) - np.array(beta)) < crit))\n",
    "                     & np.all(np.abs((np.array(lam_new) - np.array(lam)) < crit)) ) \n",
    "                \n",
    "        alpha, beta, mu, lam = alpha_new, beta_new,mu_new,lam_new\n",
    "\n",
    "    return  alpha, beta, mu, lam"
   ]
  },
  {
   "cell_type": "code",
   "execution_count": 9,
   "metadata": {},
   "outputs": [
    {
     "data": {
      "text/plain": [
       "(0.0, -4.2560460885945739, 0.55559594525599321, -1.189517651891207)"
      ]
     },
     "execution_count": 9,
     "metadata": {},
     "output_type": "execute_result"
    }
   ],
   "source": [
    "run_em(alpha0=0.6)"
   ]
  },
  {
   "cell_type": "code",
   "execution_count": 7,
   "metadata": {},
   "outputs": [
    {
     "data": {
      "text/plain": [
       "[0, 1, 2, 3, 4, 5, 6, 7, 8, 9, 10, 11, 12, 13, 14, 15, 16]"
      ]
     },
     "execution_count": 7,
     "metadata": {},
     "output_type": "execute_result"
    }
   ],
   "source": [
    "list(range(0,17))"
   ]
  },
  {
   "cell_type": "markdown",
   "metadata": {},
   "source": [
    "# Question 2\n",
    "\n",
    "Suppose $y$ has a binomial distribution with parameters $n$ and $p$, and we are interested in the log-odds value $\\theta = \\log(p/(1 − p))$. Our prior for $\\theta$ is that $\\theta \\sim N(\\mu, \\sigma^2)$. It follows that the posterior density of $\\theta$ is given, up to a proportionality constant, by:\n",
    "\n",
    "$$\\pi(\\theta | y) \\propto \\frac{\\exp(y\\theta)}{(1 + exp(\\theta))^n} \\exp\\left[\\frac{-(\\theta − \\mu)^2}{2\\sigma^2}\\right]$$\n",
    "\n",
    "For example, suppose we are interested in learning about the probability that a possibly-biased coin lands heads when tossed. *A priori* we believe that the coin is fair, so we assign $\\theta$ a $N(0,.25)$ prior. We toss the coin $n = 5$ times and obtain $y = 5$ heads.\n",
    "\n",
    "1. Using a normal approximation to the posterior density, compute the probability that the coin is biased toward heads (i.e., that θ is positive).\n",
    "2. Using the prior density as a proposal density, design a rejection algorithm for sampling from the posterior distribution. Using simulated draws from your algorithm, approximate the probability that the coin is biased toward heads.\n",
    "3. Using the prior density as a proposal density, simulate values from the posterior distribution using the SIR algorithm. Approximate the probability that the coin is biased toward heads."
   ]
  },
  {
   "cell_type": "code",
   "execution_count": 10,
   "metadata": {},
   "outputs": [
    {
     "data": {
      "text/plain": [
       "array([[ 0.86179511]])"
      ]
     },
     "execution_count": 10,
     "metadata": {},
     "output_type": "execute_result"
    }
   ],
   "source": [
    "# Write your anser here\n",
    "#1. normal approximation\n",
    "import scipy as sp\n",
    "import scipy.stats as stats\n",
    "\n",
    "binom=stats.binom\n",
    "norm=stats.norm\n",
    "\n",
    "def post_norm(theta,n=5,y=5): #log of post probability\n",
    "    post=(y*theta)-np.log((1+np.exp(theta))**n) -(theta**2)/(2*0.25)\n",
    "    return post\n",
    "\n",
    "from scipy.optimize import minimize\n",
    "\n",
    "post_min = lambda *args: -post_norm(*args)\n",
    "\n",
    "#logarithm of the unnormalized joint posterior:approximating the density as normal.\n",
    "\n",
    "init_value = 0.5 \n",
    "\n",
    "opt = minimize(post_min, init_value, method='L-BFGS-B')\n",
    "mode = opt.x\n",
    "var = opt.hess_inv.todense() \n",
    "mode, var # mode and variance to returns the kernel of a normal distribution \n",
    "\n",
    "\n",
    "#compute the probability that the coin is biased toward heads (i.e., that θ is positive).\n",
    "1-norm.cdf(0,loc=mode,scale=np.sqrt(var)) "
   ]
  },
  {
   "cell_type": "code",
   "execution_count": 46,
   "metadata": {},
   "outputs": [
    {
     "data": {
      "text/plain": [
       "[<matplotlib.lines.Line2D at 0x113c47320>]"
      ]
     },
     "execution_count": 46,
     "metadata": {},
     "output_type": "execute_result"
    },
    {
     "data": {
      "image/png": "[encoded data removed]",
      "text/plain": [
       "<matplotlib.figure.Figure at 0x113c47240>"
      ]
     },
     "metadata": {},
     "output_type": "display_data"
    }
   ],
   "source": [
    "x=np.linspace(-20,20)\n",
    "import matplotlib.pyplot as plt\n",
    "fig, ax = plt.subplots(1, 1)\n",
    "ax.plot(x, np.exp(post_norm(x)))"
   ]
  },
  {
   "cell_type": "code",
   "execution_count": 47,
   "metadata": {},
   "outputs": [
    {
     "data": {
      "text/plain": [
       "3.6540627729200116e-15"
      ]
     },
     "execution_count": 47,
     "metadata": {},
     "output_type": "execute_result"
    }
   ],
   "source": [
    "np.exp(post_norm(-3))"
   ]
  },
  {
   "cell_type": "code",
   "execution_count": 7,
   "metadata": {},
   "outputs": [
    {
     "ename": "NameError",
     "evalue": "name 'np' is not defined",
     "output_type": "error",
     "traceback": [
      "\u001b[0;31m---------------------------------------------------------------------------\u001b[0m",
      "\u001b[0;31mNameError\u001b[0m                                 Traceback (most recent call last)",
      "\u001b[0;32m<ipython-input-7-a2e7b995fc21>\u001b[0m in \u001b[0;36m<module>\u001b[0;34m()\u001b[0m\n\u001b[1;32m      7\u001b[0m \u001b[0minit_value\u001b[0m \u001b[0;34m=\u001b[0m \u001b[0;36m0.5\u001b[0m\u001b[0;34m\u001b[0m\u001b[0m\n\u001b[1;32m      8\u001b[0m \u001b[0;34m\u001b[0m\u001b[0m\n\u001b[0;32m----> 9\u001b[0;31m \u001b[0mopt\u001b[0m \u001b[0;34m=\u001b[0m \u001b[0mminimize\u001b[0m\u001b[0;34m(\u001b[0m\u001b[0mpost_min\u001b[0m\u001b[0;34m,\u001b[0m \u001b[0minit_value\u001b[0m\u001b[0;34m,\u001b[0m \u001b[0mmethod\u001b[0m\u001b[0;34m=\u001b[0m\u001b[0;34m'L-BFGS-B'\u001b[0m\u001b[0;34m)\u001b[0m\u001b[0;34m\u001b[0m\u001b[0m\n\u001b[0m\u001b[1;32m     10\u001b[0m \u001b[0mmode\u001b[0m \u001b[0;34m=\u001b[0m \u001b[0mopt\u001b[0m\u001b[0;34m.\u001b[0m\u001b[0mx\u001b[0m\u001b[0;34m\u001b[0m\u001b[0m\n\u001b[1;32m     11\u001b[0m \u001b[0mvar\u001b[0m \u001b[0;34m=\u001b[0m \u001b[0mopt\u001b[0m\u001b[0;34m.\u001b[0m\u001b[0mhess_inv\u001b[0m\u001b[0;34m.\u001b[0m\u001b[0mtodense\u001b[0m\u001b[0;34m(\u001b[0m\u001b[0;34m)\u001b[0m\u001b[0;34m\u001b[0m\u001b[0m\n",
      "\u001b[0;32m~/anaconda2/envs/bios8366/lib/python3.6/site-packages/scipy/optimize/_minimize.py\u001b[0m in \u001b[0;36mminimize\u001b[0;34m(fun, x0, args, method, jac, hess, hessp, bounds, constraints, tol, callback, options)\u001b[0m\n\u001b[1;32m    448\u001b[0m     \u001b[0;32melif\u001b[0m \u001b[0mmeth\u001b[0m \u001b[0;34m==\u001b[0m \u001b[0;34m'l-bfgs-b'\u001b[0m\u001b[0;34m:\u001b[0m\u001b[0;34m\u001b[0m\u001b[0m\n\u001b[1;32m    449\u001b[0m         return _minimize_lbfgsb(fun, x0, args, jac, bounds,\n\u001b[0;32m--> 450\u001b[0;31m                                 callback=callback, **options)\n\u001b[0m\u001b[1;32m    451\u001b[0m     \u001b[0;32melif\u001b[0m \u001b[0mmeth\u001b[0m \u001b[0;34m==\u001b[0m \u001b[0;34m'tnc'\u001b[0m\u001b[0;34m:\u001b[0m\u001b[0;34m\u001b[0m\u001b[0m\n\u001b[1;32m    452\u001b[0m         return _minimize_tnc(fun, x0, args, jac, bounds, callback=callback,\n",
      "\u001b[0;32m~/anaconda2/envs/bios8366/lib/python3.6/site-packages/scipy/optimize/lbfgsb.py\u001b[0m in \u001b[0;36m_minimize_lbfgsb\u001b[0;34m(fun, x0, args, jac, bounds, disp, maxcor, ftol, gtol, eps, maxfun, maxiter, iprint, callback, maxls, **unknown_options)\u001b[0m\n\u001b[1;32m    326\u001b[0m             \u001b[0;31m# until the completion of the current minimization iteration.\u001b[0m\u001b[0;34m\u001b[0m\u001b[0;34m\u001b[0m\u001b[0m\n\u001b[1;32m    327\u001b[0m             \u001b[0;31m# Overwrite f and g:\u001b[0m\u001b[0;34m\u001b[0m\u001b[0;34m\u001b[0m\u001b[0m\n\u001b[0;32m--> 328\u001b[0;31m             \u001b[0mf\u001b[0m\u001b[0;34m,\u001b[0m \u001b[0mg\u001b[0m \u001b[0;34m=\u001b[0m \u001b[0mfunc_and_grad\u001b[0m\u001b[0;34m(\u001b[0m\u001b[0mx\u001b[0m\u001b[0;34m)\u001b[0m\u001b[0;34m\u001b[0m\u001b[0m\n\u001b[0m\u001b[1;32m    329\u001b[0m         \u001b[0;32melif\u001b[0m \u001b[0mtask_str\u001b[0m\u001b[0;34m.\u001b[0m\u001b[0mstartswith\u001b[0m\u001b[0;34m(\u001b[0m\u001b[0;34mb'NEW_X'\u001b[0m\u001b[0;34m)\u001b[0m\u001b[0;34m:\u001b[0m\u001b[0;34m\u001b[0m\u001b[0m\n\u001b[1;32m    330\u001b[0m             \u001b[0;31m# new iteration\u001b[0m\u001b[0;34m\u001b[0m\u001b[0;34m\u001b[0m\u001b[0m\n",
      "\u001b[0;32m~/anaconda2/envs/bios8366/lib/python3.6/site-packages/scipy/optimize/lbfgsb.py\u001b[0m in \u001b[0;36mfunc_and_grad\u001b[0;34m(x)\u001b[0m\n\u001b[1;32m    271\u001b[0m     \u001b[0;32mif\u001b[0m \u001b[0mjac\u001b[0m \u001b[0;32mis\u001b[0m \u001b[0;32mNone\u001b[0m\u001b[0;34m:\u001b[0m\u001b[0;34m\u001b[0m\u001b[0m\n\u001b[1;32m    272\u001b[0m         \u001b[0;32mdef\u001b[0m \u001b[0mfunc_and_grad\u001b[0m\u001b[0;34m(\u001b[0m\u001b[0mx\u001b[0m\u001b[0;34m)\u001b[0m\u001b[0;34m:\u001b[0m\u001b[0;34m\u001b[0m\u001b[0m\n\u001b[0;32m--> 273\u001b[0;31m             \u001b[0mf\u001b[0m \u001b[0;34m=\u001b[0m \u001b[0mfun\u001b[0m\u001b[0;34m(\u001b[0m\u001b[0mx\u001b[0m\u001b[0;34m,\u001b[0m \u001b[0;34m*\u001b[0m\u001b[0margs\u001b[0m\u001b[0;34m)\u001b[0m\u001b[0;34m\u001b[0m\u001b[0m\n\u001b[0m\u001b[1;32m    274\u001b[0m             \u001b[0mg\u001b[0m \u001b[0;34m=\u001b[0m \u001b[0m_approx_fprime_helper\u001b[0m\u001b[0;34m(\u001b[0m\u001b[0mx\u001b[0m\u001b[0;34m,\u001b[0m \u001b[0mfun\u001b[0m\u001b[0;34m,\u001b[0m \u001b[0mepsilon\u001b[0m\u001b[0;34m,\u001b[0m \u001b[0margs\u001b[0m\u001b[0;34m=\u001b[0m\u001b[0margs\u001b[0m\u001b[0;34m,\u001b[0m \u001b[0mf0\u001b[0m\u001b[0;34m=\u001b[0m\u001b[0mf\u001b[0m\u001b[0;34m)\u001b[0m\u001b[0;34m\u001b[0m\u001b[0m\n\u001b[1;32m    275\u001b[0m             \u001b[0;32mreturn\u001b[0m \u001b[0mf\u001b[0m\u001b[0;34m,\u001b[0m \u001b[0mg\u001b[0m\u001b[0;34m\u001b[0m\u001b[0m\n",
      "\u001b[0;32m~/anaconda2/envs/bios8366/lib/python3.6/site-packages/scipy/optimize/optimize.py\u001b[0m in \u001b[0;36mfunction_wrapper\u001b[0;34m(*wrapper_args)\u001b[0m\n\u001b[1;32m    290\u001b[0m     \u001b[0;32mdef\u001b[0m \u001b[0mfunction_wrapper\u001b[0m\u001b[0;34m(\u001b[0m\u001b[0;34m*\u001b[0m\u001b[0mwrapper_args\u001b[0m\u001b[0;34m)\u001b[0m\u001b[0;34m:\u001b[0m\u001b[0;34m\u001b[0m\u001b[0m\n\u001b[1;32m    291\u001b[0m         \u001b[0mncalls\u001b[0m\u001b[0;34m[\u001b[0m\u001b[0;36m0\u001b[0m\u001b[0;34m]\u001b[0m \u001b[0;34m+=\u001b[0m \u001b[0;36m1\u001b[0m\u001b[0;34m\u001b[0m\u001b[0m\n\u001b[0;32m--> 292\u001b[0;31m         \u001b[0;32mreturn\u001b[0m \u001b[0mfunction\u001b[0m\u001b[0;34m(\u001b[0m\u001b[0;34m*\u001b[0m\u001b[0;34m(\u001b[0m\u001b[0mwrapper_args\u001b[0m \u001b[0;34m+\u001b[0m \u001b[0margs\u001b[0m\u001b[0;34m)\u001b[0m\u001b[0;34m)\u001b[0m\u001b[0;34m\u001b[0m\u001b[0m\n\u001b[0m\u001b[1;32m    293\u001b[0m \u001b[0;34m\u001b[0m\u001b[0m\n\u001b[1;32m    294\u001b[0m     \u001b[0;32mreturn\u001b[0m \u001b[0mncalls\u001b[0m\u001b[0;34m,\u001b[0m \u001b[0mfunction_wrapper\u001b[0m\u001b[0;34m\u001b[0m\u001b[0m\n",
      "\u001b[0;32m<ipython-input-7-a2e7b995fc21>\u001b[0m in \u001b[0;36m<lambda>\u001b[0;34m(*args)\u001b[0m\n\u001b[1;32m      1\u001b[0m \u001b[0;32mfrom\u001b[0m \u001b[0mscipy\u001b[0m\u001b[0;34m.\u001b[0m\u001b[0moptimize\u001b[0m \u001b[0;32mimport\u001b[0m \u001b[0mminimize\u001b[0m\u001b[0;34m\u001b[0m\u001b[0m\n\u001b[1;32m      2\u001b[0m \u001b[0;34m\u001b[0m\u001b[0m\n\u001b[0;32m----> 3\u001b[0;31m \u001b[0mpost_min\u001b[0m \u001b[0;34m=\u001b[0m \u001b[0;32mlambda\u001b[0m \u001b[0;34m*\u001b[0m\u001b[0margs\u001b[0m\u001b[0;34m:\u001b[0m \u001b[0;34m-\u001b[0m\u001b[0mpost_norm\u001b[0m\u001b[0;34m(\u001b[0m\u001b[0;34m*\u001b[0m\u001b[0margs\u001b[0m\u001b[0;34m)\u001b[0m\u001b[0;34m\u001b[0m\u001b[0m\n\u001b[0m\u001b[1;32m      4\u001b[0m \u001b[0;34m\u001b[0m\u001b[0m\n\u001b[1;32m      5\u001b[0m \u001b[0;31m#logarithm of the unnormalized joint posterior:approximating the density as normal.\u001b[0m\u001b[0;34m\u001b[0m\u001b[0;34m\u001b[0m\u001b[0m\n",
      "\u001b[0;32m<ipython-input-4-70ca723a7d1a>\u001b[0m in \u001b[0;36mpost_norm\u001b[0;34m(theta, n, y)\u001b[0m\n\u001b[1;32m      8\u001b[0m \u001b[0;34m\u001b[0m\u001b[0m\n\u001b[1;32m      9\u001b[0m \u001b[0;32mdef\u001b[0m \u001b[0mpost_norm\u001b[0m\u001b[0;34m(\u001b[0m\u001b[0mtheta\u001b[0m\u001b[0;34m,\u001b[0m\u001b[0mn\u001b[0m\u001b[0;34m=\u001b[0m\u001b[0;36m5\u001b[0m\u001b[0;34m,\u001b[0m\u001b[0my\u001b[0m\u001b[0;34m=\u001b[0m\u001b[0;36m5\u001b[0m\u001b[0;34m)\u001b[0m\u001b[0;34m:\u001b[0m \u001b[0;31m#log of post probability\u001b[0m\u001b[0;34m\u001b[0m\u001b[0m\n\u001b[0;32m---> 10\u001b[0;31m     \u001b[0mpost\u001b[0m\u001b[0;34m=\u001b[0m\u001b[0;34m(\u001b[0m\u001b[0my\u001b[0m\u001b[0;34m*\u001b[0m\u001b[0mtheta\u001b[0m\u001b[0;34m)\u001b[0m\u001b[0;34m-\u001b[0m\u001b[0mnp\u001b[0m\u001b[0;34m.\u001b[0m\u001b[0mlog\u001b[0m\u001b[0;34m(\u001b[0m\u001b[0;34m(\u001b[0m\u001b[0;36m1\u001b[0m\u001b[0;34m+\u001b[0m\u001b[0mnp\u001b[0m\u001b[0;34m.\u001b[0m\u001b[0mexp\u001b[0m\u001b[0;34m(\u001b[0m\u001b[0mtheta\u001b[0m\u001b[0;34m)\u001b[0m\u001b[0;34m)\u001b[0m\u001b[0;34m**\u001b[0m\u001b[0mn\u001b[0m\u001b[0;34m)\u001b[0m \u001b[0;34m-\u001b[0m\u001b[0;34m(\u001b[0m\u001b[0mtheta\u001b[0m\u001b[0;34m**\u001b[0m\u001b[0;36m2\u001b[0m\u001b[0;34m)\u001b[0m\u001b[0;34m/\u001b[0m\u001b[0;34m(\u001b[0m\u001b[0;36m2\u001b[0m\u001b[0;34m*\u001b[0m\u001b[0;36m0.25\u001b[0m\u001b[0;34m)\u001b[0m\u001b[0;34m\u001b[0m\u001b[0m\n\u001b[0m\u001b[1;32m     11\u001b[0m     \u001b[0;32mreturn\u001b[0m \u001b[0mpost\u001b[0m\u001b[0;34m\u001b[0m\u001b[0m\n\u001b[1;32m     12\u001b[0m \u001b[0;34m\u001b[0m\u001b[0m\n",
      "\u001b[0;31mNameError\u001b[0m: name 'np' is not defined"
     ]
    }
   ],
   "source": [
    "from scipy.optimize import minimize\n",
    "\n",
    "post_min = lambda *args: -post_norm(*args)\n",
    "\n",
    "#logarithm of the unnormalized joint posterior:approximating the density as normal.\n",
    "\n",
    "init_value = 0.5 \n",
    "\n",
    "opt = minimize(post_min, init_value, method='L-BFGS-B')\n",
    "mode = opt.x\n",
    "var = opt.hess_inv.todense() \n",
    "mode, var # mode and variance to returns the kernel of a normal distribution "
   ]
  },
  {
   "cell_type": "code",
   "execution_count": 65,
   "metadata": {},
   "outputs": [
    {
     "data": {
      "text/plain": [
       "      fun: array([ 2.869167])\n",
       " hess_inv: <1x1 LbfgsInvHessProduct with dtype=float64>\n",
       "      jac: array([ -5.77315973e-07])\n",
       "  message: b'CONVERGENCE: NORM_OF_PROJECTED_GRADIENT_<=_PGTOL'\n",
       "     nfev: 8\n",
       "      nit: 2\n",
       "   status: 0\n",
       "  success: True\n",
       "        x: array([ 0.47831304])"
      ]
     },
     "execution_count": 65,
     "metadata": {},
     "output_type": "execute_result"
    }
   ],
   "source": [
    "opt"
   ]
  },
  {
   "cell_type": "code",
   "execution_count": 50,
   "metadata": {
    "collapsed": true
   },
   "outputs": [],
   "source": [
    "det = np.linalg.det #determinant of array \n",
    "inv = np.linalg.inv #inverse of matrix\n",
    "\n",
    "def lmvn(value, mu, Sigma):#post prob\n",
    "    delta = value - mu\n",
    "    return  -0.5 * (np.log(det(Sigma)) + np.dot(delta, np.dot(inv(Sigma), delta)))"
   ]
  },
  {
   "cell_type": "code",
   "execution_count": 94,
   "metadata": {},
   "outputs": [
    {
     "data": {
      "text/plain": [
       "array([[  9.30673722e-24]])"
      ]
     },
     "execution_count": 94,
     "metadata": {},
     "output_type": "execute_result"
    }
   ],
   "source": [
    "norm.pdf(5,loc=mode,scale=np.sqrt(var))"
   ]
  },
  {
   "cell_type": "code",
   "execution_count": 79,
   "metadata": {},
   "outputs": [
    {
     "data": {
      "text/plain": [
       "array([[ 0.86179511]])"
      ]
     },
     "execution_count": 79,
     "metadata": {},
     "output_type": "execute_result"
    }
   ],
   "source": [
    "1-norm.cdf(0,loc=mode,scale=np.sqrt(var)) #compute the probability that the coin is biased toward heads (i.e., that θ is positive)."
   ]
  },
  {
   "cell_type": "code",
   "execution_count": 60,
   "metadata": {},
   "outputs": [
    {
     "data": {
      "text/plain": [
       "[<matplotlib.lines.Line2D at 0x11416d470>]"
      ]
     },
     "execution_count": 60,
     "metadata": {},
     "output_type": "execute_result"
    },
    {
     "data": {
      "image/png": "[encoded data removed]",
      "text/plain": [
       "<matplotlib.figure.Figure at 0x11416d2e8>"
      ]
     },
     "metadata": {},
     "output_type": "display_data"
    }
   ],
   "source": [
    "k_x = np.linspace(-10, 10)\n",
    "\n",
    "z = np.array([lmvn(t1,mode,var) \n",
    "               for t1 in k_x ] )\n",
    "\n",
    "import matplotlib.pyplot as plt #show the plot of h(theta)-h(theta_mle)\n",
    "fig, ax = plt.subplots(1, 1)\n",
    "ax.plot(k_x, z-z.max())           "
   ]
  },
  {
   "cell_type": "code",
   "execution_count": 95,
   "metadata": {},
   "outputs": [
    {
     "data": {
      "text/plain": [
       "1.0739212252233608e-23"
      ]
     },
     "execution_count": 95,
     "metadata": {},
     "output_type": "execute_result"
    }
   ],
   "source": [
    "\n",
    "np.exp(lmvn(5,mode,var)-z.max() )\n"
   ]
  },
  {
   "cell_type": "code",
   "execution_count": 64,
   "metadata": {},
   "outputs": [
    {
     "ename": "ValueError",
     "evalue": "x and y must have same first dimension, but have shapes (50,) and (1, 50)",
     "output_type": "error",
     "traceback": [
      "\u001b[0;31m---------------------------------------------------------------------------\u001b[0m",
      "\u001b[0;31mValueError\u001b[0m                                Traceback (most recent call last)",
      "\u001b[0;32m<ipython-input-64-ac9ead30980f>\u001b[0m in \u001b[0;36m<module>\u001b[0;34m()\u001b[0m\n\u001b[1;32m      1\u001b[0m \u001b[0mfig\u001b[0m\u001b[0;34m,\u001b[0m \u001b[0max\u001b[0m \u001b[0;34m=\u001b[0m \u001b[0mplt\u001b[0m\u001b[0;34m.\u001b[0m\u001b[0msubplots\u001b[0m\u001b[0;34m(\u001b[0m\u001b[0;36m1\u001b[0m\u001b[0;34m,\u001b[0m \u001b[0;36m1\u001b[0m\u001b[0;34m)\u001b[0m\u001b[0;34m\u001b[0m\u001b[0m\n\u001b[0;32m----> 2\u001b[0;31m \u001b[0max\u001b[0m\u001b[0;34m.\u001b[0m\u001b[0mplot\u001b[0m\u001b[0;34m(\u001b[0m\u001b[0mk_x\u001b[0m\u001b[0;34m,\u001b[0m \u001b[0mnorm\u001b[0m\u001b[0;34m.\u001b[0m\u001b[0mcdf\u001b[0m\u001b[0;34m(\u001b[0m\u001b[0mk_x\u001b[0m\u001b[0;34m,\u001b[0m\u001b[0mmode\u001b[0m\u001b[0;34m,\u001b[0m\u001b[0mvar\u001b[0m\u001b[0;34m)\u001b[0m\u001b[0;34m)\u001b[0m\u001b[0;34m\u001b[0m\u001b[0m\n\u001b[0m",
      "\u001b[0;32m~/anaconda2/envs/bios8366/lib/python3.6/site-packages/matplotlib/__init__.py\u001b[0m in \u001b[0;36minner\u001b[0;34m(ax, *args, **kwargs)\u001b[0m\n\u001b[1;32m   1896\u001b[0m                     warnings.warn(msg % (label_namer, func.__name__),\n\u001b[1;32m   1897\u001b[0m                                   RuntimeWarning, stacklevel=2)\n\u001b[0;32m-> 1898\u001b[0;31m             \u001b[0;32mreturn\u001b[0m \u001b[0mfunc\u001b[0m\u001b[0;34m(\u001b[0m\u001b[0max\u001b[0m\u001b[0;34m,\u001b[0m \u001b[0;34m*\u001b[0m\u001b[0margs\u001b[0m\u001b[0;34m,\u001b[0m \u001b[0;34m**\u001b[0m\u001b[0mkwargs\u001b[0m\u001b[0;34m)\u001b[0m\u001b[0;34m\u001b[0m\u001b[0m\n\u001b[0m\u001b[1;32m   1899\u001b[0m         \u001b[0mpre_doc\u001b[0m \u001b[0;34m=\u001b[0m \u001b[0minner\u001b[0m\u001b[0;34m.\u001b[0m\u001b[0m__doc__\u001b[0m\u001b[0;34m\u001b[0m\u001b[0m\n\u001b[1;32m   1900\u001b[0m         \u001b[0;32mif\u001b[0m \u001b[0mpre_doc\u001b[0m \u001b[0;32mis\u001b[0m \u001b[0;32mNone\u001b[0m\u001b[0;34m:\u001b[0m\u001b[0;34m\u001b[0m\u001b[0m\n",
      "\u001b[0;32m~/anaconda2/envs/bios8366/lib/python3.6/site-packages/matplotlib/axes/_axes.py\u001b[0m in \u001b[0;36mplot\u001b[0;34m(self, *args, **kwargs)\u001b[0m\n\u001b[1;32m   1404\u001b[0m         \u001b[0mkwargs\u001b[0m \u001b[0;34m=\u001b[0m \u001b[0mcbook\u001b[0m\u001b[0;34m.\u001b[0m\u001b[0mnormalize_kwargs\u001b[0m\u001b[0;34m(\u001b[0m\u001b[0mkwargs\u001b[0m\u001b[0;34m,\u001b[0m \u001b[0m_alias_map\u001b[0m\u001b[0;34m)\u001b[0m\u001b[0;34m\u001b[0m\u001b[0m\n\u001b[1;32m   1405\u001b[0m \u001b[0;34m\u001b[0m\u001b[0m\n\u001b[0;32m-> 1406\u001b[0;31m         \u001b[0;32mfor\u001b[0m \u001b[0mline\u001b[0m \u001b[0;32min\u001b[0m \u001b[0mself\u001b[0m\u001b[0;34m.\u001b[0m\u001b[0m_get_lines\u001b[0m\u001b[0;34m(\u001b[0m\u001b[0;34m*\u001b[0m\u001b[0margs\u001b[0m\u001b[0;34m,\u001b[0m \u001b[0;34m**\u001b[0m\u001b[0mkwargs\u001b[0m\u001b[0;34m)\u001b[0m\u001b[0;34m:\u001b[0m\u001b[0;34m\u001b[0m\u001b[0m\n\u001b[0m\u001b[1;32m   1407\u001b[0m             \u001b[0mself\u001b[0m\u001b[0;34m.\u001b[0m\u001b[0madd_line\u001b[0m\u001b[0;34m(\u001b[0m\u001b[0mline\u001b[0m\u001b[0;34m)\u001b[0m\u001b[0;34m\u001b[0m\u001b[0m\n\u001b[1;32m   1408\u001b[0m             \u001b[0mlines\u001b[0m\u001b[0;34m.\u001b[0m\u001b[0mappend\u001b[0m\u001b[0;34m(\u001b[0m\u001b[0mline\u001b[0m\u001b[0;34m)\u001b[0m\u001b[0;34m\u001b[0m\u001b[0m\n",
      "\u001b[0;32m~/anaconda2/envs/bios8366/lib/python3.6/site-packages/matplotlib/axes/_base.py\u001b[0m in \u001b[0;36m_grab_next_args\u001b[0;34m(self, *args, **kwargs)\u001b[0m\n\u001b[1;32m    405\u001b[0m                 \u001b[0;32mreturn\u001b[0m\u001b[0;34m\u001b[0m\u001b[0m\n\u001b[1;32m    406\u001b[0m             \u001b[0;32mif\u001b[0m \u001b[0mlen\u001b[0m\u001b[0;34m(\u001b[0m\u001b[0mremaining\u001b[0m\u001b[0;34m)\u001b[0m \u001b[0;34m<=\u001b[0m \u001b[0;36m3\u001b[0m\u001b[0;34m:\u001b[0m\u001b[0;34m\u001b[0m\u001b[0m\n\u001b[0;32m--> 407\u001b[0;31m                 \u001b[0;32mfor\u001b[0m \u001b[0mseg\u001b[0m \u001b[0;32min\u001b[0m \u001b[0mself\u001b[0m\u001b[0;34m.\u001b[0m\u001b[0m_plot_args\u001b[0m\u001b[0;34m(\u001b[0m\u001b[0mremaining\u001b[0m\u001b[0;34m,\u001b[0m \u001b[0mkwargs\u001b[0m\u001b[0;34m)\u001b[0m\u001b[0;34m:\u001b[0m\u001b[0;34m\u001b[0m\u001b[0m\n\u001b[0m\u001b[1;32m    408\u001b[0m                     \u001b[0;32myield\u001b[0m \u001b[0mseg\u001b[0m\u001b[0;34m\u001b[0m\u001b[0m\n\u001b[1;32m    409\u001b[0m                 \u001b[0;32mreturn\u001b[0m\u001b[0;34m\u001b[0m\u001b[0m\n",
      "\u001b[0;32m~/anaconda2/envs/bios8366/lib/python3.6/site-packages/matplotlib/axes/_base.py\u001b[0m in \u001b[0;36m_plot_args\u001b[0;34m(self, tup, kwargs)\u001b[0m\n\u001b[1;32m    383\u001b[0m             \u001b[0mx\u001b[0m\u001b[0;34m,\u001b[0m \u001b[0my\u001b[0m \u001b[0;34m=\u001b[0m \u001b[0mindex_of\u001b[0m\u001b[0;34m(\u001b[0m\u001b[0mtup\u001b[0m\u001b[0;34m[\u001b[0m\u001b[0;34m-\u001b[0m\u001b[0;36m1\u001b[0m\u001b[0;34m]\u001b[0m\u001b[0;34m)\u001b[0m\u001b[0;34m\u001b[0m\u001b[0m\n\u001b[1;32m    384\u001b[0m \u001b[0;34m\u001b[0m\u001b[0m\n\u001b[0;32m--> 385\u001b[0;31m         \u001b[0mx\u001b[0m\u001b[0;34m,\u001b[0m \u001b[0my\u001b[0m \u001b[0;34m=\u001b[0m \u001b[0mself\u001b[0m\u001b[0;34m.\u001b[0m\u001b[0m_xy_from_xy\u001b[0m\u001b[0;34m(\u001b[0m\u001b[0mx\u001b[0m\u001b[0;34m,\u001b[0m \u001b[0my\u001b[0m\u001b[0;34m)\u001b[0m\u001b[0;34m\u001b[0m\u001b[0m\n\u001b[0m\u001b[1;32m    386\u001b[0m \u001b[0;34m\u001b[0m\u001b[0m\n\u001b[1;32m    387\u001b[0m         \u001b[0;32mif\u001b[0m \u001b[0mself\u001b[0m\u001b[0;34m.\u001b[0m\u001b[0mcommand\u001b[0m \u001b[0;34m==\u001b[0m \u001b[0;34m'plot'\u001b[0m\u001b[0;34m:\u001b[0m\u001b[0;34m\u001b[0m\u001b[0m\n",
      "\u001b[0;32m~/anaconda2/envs/bios8366/lib/python3.6/site-packages/matplotlib/axes/_base.py\u001b[0m in \u001b[0;36m_xy_from_xy\u001b[0;34m(self, x, y)\u001b[0m\n\u001b[1;32m    242\u001b[0m         \u001b[0;32mif\u001b[0m \u001b[0mx\u001b[0m\u001b[0;34m.\u001b[0m\u001b[0mshape\u001b[0m\u001b[0;34m[\u001b[0m\u001b[0;36m0\u001b[0m\u001b[0;34m]\u001b[0m \u001b[0;34m!=\u001b[0m \u001b[0my\u001b[0m\u001b[0;34m.\u001b[0m\u001b[0mshape\u001b[0m\u001b[0;34m[\u001b[0m\u001b[0;36m0\u001b[0m\u001b[0;34m]\u001b[0m\u001b[0;34m:\u001b[0m\u001b[0;34m\u001b[0m\u001b[0m\n\u001b[1;32m    243\u001b[0m             raise ValueError(\"x and y must have same first dimension, but \"\n\u001b[0;32m--> 244\u001b[0;31m                              \"have shapes {} and {}\".format(x.shape, y.shape))\n\u001b[0m\u001b[1;32m    245\u001b[0m         \u001b[0;32mif\u001b[0m \u001b[0mx\u001b[0m\u001b[0;34m.\u001b[0m\u001b[0mndim\u001b[0m \u001b[0;34m>\u001b[0m \u001b[0;36m2\u001b[0m \u001b[0;32mor\u001b[0m \u001b[0my\u001b[0m\u001b[0;34m.\u001b[0m\u001b[0mndim\u001b[0m \u001b[0;34m>\u001b[0m \u001b[0;36m2\u001b[0m\u001b[0;34m:\u001b[0m\u001b[0;34m\u001b[0m\u001b[0m\n\u001b[1;32m    246\u001b[0m             raise ValueError(\"x and y can be no greater than 2-D, but have \"\n",
      "\u001b[0;31mValueError\u001b[0m: x and y must have same first dimension, but have shapes (50,) and (1, 50)"
     ]
    },
    {
     "data": {
      "image/png": "[encoded data removed]",
      "text/plain": [
       "<matplotlib.figure.Figure at 0x114569470>"
      ]
     },
     "metadata": {},
     "output_type": "display_data"
    }
   ],
   "source": [
    "fig, ax = plt.subplots(1, 1)\n",
    "ax.plot(k_x, norm.cdf(k_x,mode,var))"
   ]
  },
  {
   "cell_type": "code",
   "execution_count": 28,
   "metadata": {},
   "outputs": [
    {
     "data": {
      "text/plain": [
       "-3.5663084375911138"
      ]
     },
     "execution_count": 28,
     "metadata": {},
     "output_type": "execute_result"
    }
   ],
   "source": [
    "post_norm(1)"
   ]
  },
  {
   "cell_type": "code",
   "execution_count": 26,
   "metadata": {},
   "outputs": [
    {
     "data": {
      "text/plain": [
       "array([ 0.05674618])"
      ]
     },
     "execution_count": 26,
     "metadata": {},
     "output_type": "execute_result"
    }
   ],
   "source": [
    "np.exp(post_norm(mode))"
   ]
  },
  {
   "cell_type": "code",
   "execution_count": 32,
   "metadata": {},
   "outputs": [
    {
     "data": {
      "text/plain": [
       "1.6110119884663382e-07"
      ]
     },
     "execution_count": 32,
     "metadata": {},
     "output_type": "execute_result"
    }
   ],
   "source": [
    "lmvn(3,mode,var) "
   ]
  },
  {
   "cell_type": "markdown",
   "metadata": {},
   "source": [
    "2.Using the prior density as a proposal density, design a rejection algorithm for sampling from the posterior distribution. Using simulated draws from your algorithm, approximate the probability that the coin is biased toward heads."
   ]
  },
  {
   "cell_type": "code",
   "execution_count": null,
   "metadata": {
    "collapsed": true
   },
   "outputs": [],
   "source": [
    "#sample  g(x),  accept or reject each of these values based upon  f(xi)\n",
    "#draw a uniform random variate ui\n",
    "#for each draw  accept  xixi  if  ui<f(xi)/cg(xi), where  c  is a constant\n"
   ]
  },
  {
   "cell_type": "code",
   "execution_count": 93,
   "metadata": {
    "collapsed": true
   },
   "outputs": [],
   "source": [
    "def post_norm(theta,n=5,y=5): #log of post probability\n",
    "    post=(y*theta)-np.log((1+np.exp(theta))**n) -(theta**2)/(2*0.25)\n",
    "    return post\n",
    "\n",
    "def calc_diff(theta):\n",
    "    \n",
    "    return post_norm(theta) - norm.logpdf(theta, 0, 0.5)\n",
    "\n",
    "calc_diff_min = lambda *args: -calc_diff(*args)\n",
    "\n",
    "c=opt.fun\n",
    "\n",
    "def reject(n,  c):\n",
    "    \n",
    "    # Draw samples from g(theta)\n",
    "    theta = norm.rvs(0, 0.5, size=n)\n",
    "    \n",
    "    # Calculate probability under g(theta)\n",
    "    gvals = np.array([norm.logpdf(t,0,0.5) for t in theta])\n",
    "\n",
    "    # Calculate probability under f(theta)\n",
    "    fvals = np.array([post_norm(t) for t in theta ])\n",
    "    \n",
    "    # Calculate acceptance probability\n",
    "    p = np.exp(fvals - gvals + c)\n",
    "    \n",
    "    return theta[np.random.random(n) < p]\n",
    "    #return p,theta,fvals,gvals\n",
    "    \n",
    "nsamples = 15000\n",
    "sample = reject(nsamples,  c)\n",
    "sum(sample>0)/(sample.size) #from accepted samples, what proportion >0"
   ]
  },
  {
   "cell_type": "code",
   "execution_count": 89,
   "metadata": {},
   "outputs": [
    {
     "data": {
      "text/plain": [
       "0.031431504842119234"
      ]
     },
     "execution_count": 89,
     "metadata": {},
     "output_type": "execute_result"
    }
   ],
   "source": [
    "np.exp(post_norm(0)-norm.logpdf(0,0,0.5)-0.22)"
   ]
  },
  {
   "cell_type": "code",
   "execution_count": 84,
   "metadata": {},
   "outputs": [
    {
     "data": {
      "text/plain": [
       "-3.4657359027997265"
      ]
     },
     "execution_count": 84,
     "metadata": {},
     "output_type": "execute_result"
    }
   ],
   "source": [
    "post_norm(0)"
   ]
  },
  {
   "cell_type": "code",
   "execution_count": 94,
   "metadata": {
    "collapsed": true
   },
   "outputs": [],
   "source": [
    "from scipy.optimize import minimize\n",
    "opt = minimize(calc_diff_min, \n",
    "               -3, \n",
    "                method='bfgs')"
   ]
  },
  {
   "cell_type": "code",
   "execution_count": 83,
   "metadata": {},
   "outputs": [
    {
     "data": {
      "text/plain": [
       "-19.864958286944322"
      ]
     },
     "execution_count": 83,
     "metadata": {},
     "output_type": "execute_result"
    }
   ],
   "source": [
    "calc_diff(-4)"
   ]
  },
  {
   "cell_type": "code",
   "execution_count": 95,
   "metadata": {},
   "outputs": [
    {
     "data": {
      "text/plain": [
       "      fun: -0.22578268286588354\n",
       " hess_inv: array([[ 36795.80102572]])\n",
       "      jac: array([ -7.62939453e-06])\n",
       "  message: 'Optimization terminated successfully.'\n",
       "     nfev: 57\n",
       "      nit: 17\n",
       "     njev: 19\n",
       "   status: 0\n",
       "  success: True\n",
       "        x: array([ 13.26510432])"
      ]
     },
     "execution_count": 95,
     "metadata": {},
     "output_type": "execute_result"
    }
   ],
   "source": [
    "opt"
   ]
  },
  {
   "cell_type": "code",
   "execution_count": 96,
   "metadata": {
    "collapsed": true
   },
   "outputs": [],
   "source": [
    "c=opt.fun"
   ]
  },
  {
   "cell_type": "code",
   "execution_count": 97,
   "metadata": {
    "collapsed": true
   },
   "outputs": [],
   "source": [
    "def reject(n,  c):\n",
    "    \n",
    "    # Draw samples from g(theta)\n",
    "    theta = norm.rvs(0, 0.5, size=n)\n",
    "    \n",
    "    # Calculate probability under g(theta)\n",
    "    gvals = np.array([norm.logpdf(t,0,0.5) for t in theta])\n",
    "\n",
    "    # Calculate probability under f(theta)\n",
    "    fvals = np.array([post_norm(t) for t in theta ])\n",
    "    \n",
    "    # Calculate acceptance probability\n",
    "    p = np.exp(fvals - gvals + c)\n",
    "    \n",
    "    return theta[np.random.random(n) < p]\n",
    "    #return p,theta,fvals,gvals"
   ]
  },
  {
   "cell_type": "code",
   "execution_count": 103,
   "metadata": {},
   "outputs": [
    {
     "data": {
      "text/plain": [
       "0.85350318471337583"
      ]
     },
     "execution_count": 103,
     "metadata": {},
     "output_type": "execute_result"
    }
   ],
   "source": [
    "nsamples = 15000\n",
    "sample = reject(nsamples,  c)\n",
    "sum(sample>0)/(sample.size) #from accepted samples, what proportion >0\n"
   ]
  },
  {
   "cell_type": "code",
   "execution_count": 101,
   "metadata": {},
   "outputs": [
    {
     "data": {
      "text/plain": [
       "0.86293436293436299"
      ]
     },
     "execution_count": 101,
     "metadata": {},
     "output_type": "execute_result"
    }
   ],
   "source": [
    "sum(sample>0)/(sample.size)"
   ]
  },
  {
   "cell_type": "code",
   "execution_count": 67,
   "metadata": {
    "collapsed": true
   },
   "outputs": [],
   "source": [
    "p,theta,fv,gv=sample"
   ]
  },
  {
   "cell_type": "code",
   "execution_count": 59,
   "metadata": {},
   "outputs": [
    {
     "data": {
      "text/plain": [
       "(1000,)"
      ]
     },
     "execution_count": 59,
     "metadata": {},
     "output_type": "execute_result"
    }
   ],
   "source": [
    "gv.shape"
   ]
  },
  {
   "cell_type": "code",
   "execution_count": 72,
   "metadata": {},
   "outputs": [
    {
     "data": {
      "text/plain": [
       "array([ -5.91022886e-01,  -3.35050609e-01,   4.73844434e-01,\n",
       "        -7.92442197e-02,  -9.04182700e-02,   3.85583336e-01,\n",
       "         5.66141272e-01,  -1.02955662e+00,  -3.32755165e-02,\n",
       "        -1.29042917e-01,  -2.51582133e-01,  -1.53568589e-01,\n",
       "         2.26296353e-01,   6.41343374e-01,   2.49823977e-01,\n",
       "        -1.19222597e-01,   6.32323198e-01,  -5.61262634e-01,\n",
       "         1.68971538e-01,  -5.15850280e-01,  -3.91709995e-01,\n",
       "         1.80249423e-01,  -5.68079468e-01,  -5.55295715e-01,\n",
       "         9.16318941e-01,  -2.31171667e-02,   6.82266392e-01,\n",
       "         6.78293624e-01,  -1.60546829e-01,   5.25949116e-01,\n",
       "         2.69163344e-01,  -5.78780141e-03,  -6.35933908e-01,\n",
       "        -5.26003211e-02,  -6.60201294e-01,  -2.04963119e-01,\n",
       "        -2.44053567e-01,   1.49885016e-01,  -1.83038868e-01,\n",
       "         5.95927487e-01,   5.82048797e-01,   5.07317567e-01,\n",
       "        -9.85142407e-02,   9.19148609e-02,  -1.07490744e+00,\n",
       "         5.03850441e-02,   2.39862790e-01,   3.51491059e-01,\n",
       "         1.42502437e-02,  -1.17759977e-02,  -8.73151764e-01,\n",
       "        -7.00127400e-01,   2.75634354e-01,  -9.96904538e-02,\n",
       "         2.22232841e-01,  -7.75674042e-01,   9.02990572e-02,\n",
       "         5.51422904e-02,  -3.35539442e-01,   5.37227099e-01,\n",
       "        -1.21958764e-01,  -7.10387980e-02,  -2.69533230e-01,\n",
       "        -9.48109716e-01,   2.97128873e-02,   5.02537734e-01,\n",
       "         3.83975039e-01,  -3.49474615e-01,   1.47365142e+00,\n",
       "         2.44213569e-01,  -6.93477381e-01,  -3.07951219e-01,\n",
       "        -1.50789350e-01,   1.01325478e-01,  -5.13946976e-01,\n",
       "        -4.34822540e-01,   6.19808511e-01,  -2.15963862e-01,\n",
       "         7.78941591e-01,  -1.70999538e-01,   1.28178399e-01,\n",
       "         1.20996682e+00,   9.72236468e-03,   6.23143195e-01,\n",
       "        -2.57871662e-01,   4.02252459e-01,  -1.15916453e-03,\n",
       "        -6.64410902e-01,  -1.03557139e+00,   3.20409664e-01,\n",
       "         6.94796207e-01,   4.56244480e-01,  -3.59791818e-01,\n",
       "        -9.99902122e-01,   1.71950421e-01,  -1.86549501e-01,\n",
       "         1.29546681e-01,   1.04337235e+00,   3.44509422e-01,\n",
       "        -2.87974192e-01,   2.92614392e-01,  -9.17941536e-02,\n",
       "         6.28140817e-01,  -3.19931588e-01,  -5.21353138e-02,\n",
       "         3.07407408e-01,  -9.62580016e-02,  -5.46994757e-01,\n",
       "         2.12765642e-01,   3.38043153e-02,  -1.75132165e-01,\n",
       "         1.72277208e-01,  -5.94822782e-01,   7.09690050e-02,\n",
       "         5.51825317e-01,   2.40001330e-01,  -8.11345260e-01,\n",
       "         5.39425443e-02,  -1.08813474e-02,   5.52685236e-01,\n",
       "         2.86620355e-01,  -4.59454125e-01,  -2.62575462e-01,\n",
       "        -1.08591756e-01,   2.45493251e-01,  -1.00271457e+00,\n",
       "         4.10873004e-01,   2.67178888e-01,   3.32781609e-01,\n",
       "         4.35569987e-01,  -3.96163141e-01,  -4.85076563e-01,\n",
       "         4.33842660e-01,  -2.27504345e-01,  -8.55645520e-03,\n",
       "        -8.45562106e-01,   5.26422374e-01,   1.40834063e-01,\n",
       "        -9.08742714e-01,   5.94378651e-01,  -1.92263125e-01,\n",
       "        -2.11211565e-01,   6.56400614e-02,  -2.93093120e-01,\n",
       "         1.53404784e-01,   5.53470246e-01,  -4.86230908e-02,\n",
       "        -2.94454566e-01,  -4.04111740e-01,  -7.38401770e-02,\n",
       "        -3.65000109e-01,  -4.04448194e-01,  -3.52548987e-01,\n",
       "         2.82858158e-01,   2.60474553e-02,   1.87305948e-01,\n",
       "        -3.16009467e-01,  -1.96276777e-01,   7.90370417e-01,\n",
       "        -2.08917483e-01,   7.36207692e-01,  -2.57637536e-02,\n",
       "         3.12732044e-02,   3.80115475e-01,   2.43349788e-01,\n",
       "         4.71675531e-01,   1.65918083e-02,   1.65147970e-01,\n",
       "         1.39953746e-01,   6.89185202e-01,   3.27702611e-01,\n",
       "        -5.98740906e-01,  -2.87228456e-01,  -4.24197154e-01,\n",
       "        -6.12083843e-01,   9.16315702e-02,  -1.16714283e+00,\n",
       "         1.62464415e-01,  -5.35984999e-01,   1.97997704e-01,\n",
       "        -7.03861867e-01,   3.26023448e-01,   2.96635445e-01,\n",
       "        -5.58649503e-01,   3.98819563e-01,   5.21028169e-01,\n",
       "        -4.40890983e-01,  -1.40489830e+00,   6.02212217e-01,\n",
       "         8.20597079e-02,  -3.60239588e-01,   3.25360089e-01,\n",
       "         1.12636418e+00,   4.78855697e-03,  -3.59002527e-01,\n",
       "         2.46308653e-01,  -5.64805700e-01,   1.02786046e-01,\n",
       "        -2.61092935e-01,  -1.12522429e+00,   2.55299700e-01,\n",
       "        -1.45073686e-01,  -2.04172443e-01,   4.50042187e-01,\n",
       "         6.10669807e-01,   4.80234836e-01,  -8.46289233e-01,\n",
       "         1.01596620e+00,   3.10713697e-01,   7.62779365e-01,\n",
       "        -4.93359202e-01,   5.38797182e-01,  -3.90376654e-01,\n",
       "        -7.57657258e-02,   1.08425198e-01,   4.71309776e-01,\n",
       "        -7.27964558e-02,   2.03882530e-01,   5.76117060e-01,\n",
       "         3.45657723e-02,   2.41759673e-01,  -8.00121204e-02,\n",
       "        -8.97591448e-02,   8.68293205e-01,  -4.02018781e-01,\n",
       "         6.30165171e-02,   5.03159451e-02,  -4.44153194e-02,\n",
       "        -1.22559435e-01,   4.28727296e-01,   2.12931540e-01,\n",
       "        -2.56259107e-01,   4.75227128e-01,  -2.66403369e-01,\n",
       "         1.73162014e-01,  -6.06364923e-01,   1.40955167e-01,\n",
       "         4.62194902e-02,  -1.15811871e-01,  -8.75766069e-02,\n",
       "        -1.88692029e-01,   1.46809112e-01,   4.48684700e-01,\n",
       "        -5.21386602e-01,  -7.69754731e-01,   3.75219528e-01,\n",
       "        -2.35877706e-01,  -3.63445287e-01,  -1.43978728e+00,\n",
       "        -2.23531889e-01,  -3.15316180e-01,  -1.71301301e-02,\n",
       "         3.20140647e-01,   3.44685465e-01,   3.24146038e-02,\n",
       "        -1.46201365e-01,  -2.74252014e-02,  -2.77794202e-03,\n",
       "         9.83289446e-01,  -6.63430629e-01,   4.02340943e-02,\n",
       "        -5.01978499e-01,   1.88267376e-01,  -2.38138889e-01,\n",
       "         1.86814249e-01,  -4.39472765e-01,  -7.45388898e-02,\n",
       "        -4.53744868e-01,  -4.54061806e-02,   1.85452760e+00,\n",
       "         3.65368172e-02,   1.32401616e-01,   6.02117241e-02,\n",
       "        -7.07060285e-01,  -5.47087823e-01,   3.00693527e-03,\n",
       "        -4.29312890e-01,   1.74651417e-01,  -9.10735297e-01,\n",
       "        -9.90840054e-01,   2.44610324e-01,  -1.19826081e-01,\n",
       "        -7.06091430e-02,   3.68048784e-01,  -3.62128091e-02,\n",
       "         3.13682095e-02,   5.09234007e-01,  -2.89658792e-01,\n",
       "         4.18208716e-01,   8.32063011e-01,  -3.77902222e-01,\n",
       "        -1.23433897e-01,  -1.96321989e-03,   1.45652431e-01,\n",
       "         7.76774475e-01,   1.73298631e-01,   3.60248980e-01,\n",
       "        -7.42361923e-01,   1.15787789e+00,  -6.60444356e-01,\n",
       "         5.71082072e-01,  -1.46629902e-01,  -4.47991159e-01,\n",
       "        -3.28551691e-01,  -4.70199676e-02,  -2.35847567e-01,\n",
       "        -1.25164896e-01,  -3.31684082e-02,  -3.75491080e-01,\n",
       "         6.53509898e-01,   1.89051782e-01,  -2.93891722e-01,\n",
       "         5.92727301e-01,   6.07543846e-01,  -6.81922757e-01,\n",
       "         2.04346687e-01,   4.87312087e-01,  -3.09739711e-01,\n",
       "        -4.91507962e-01,  -2.17265205e-02,   6.56038966e-02,\n",
       "        -1.88855578e-01,   4.97989055e-01,  -1.44064394e-01,\n",
       "         8.24157016e-01,   5.43624985e-01,   8.85480571e-01,\n",
       "         2.31388893e-01,  -3.33463043e-02,   5.96967007e-01,\n",
       "         2.81693171e-01,   2.95000755e-01,   3.97042699e-02,\n",
       "         1.61531490e-01,  -2.81644493e-01,   2.82702954e-01,\n",
       "        -3.03284339e-01,  -1.51102484e-01,   8.65424730e-01,\n",
       "         1.35810898e+00,  -5.52682851e-02,  -6.04872663e-01,\n",
       "         3.35592362e-01,   7.22193583e-01,   7.73944958e-02,\n",
       "        -2.96919097e-01,   7.07974677e-01,   3.26179273e-01,\n",
       "        -3.14727595e-01,   9.94860125e-02,   8.83151277e-02,\n",
       "        -4.53114731e-01,  -3.47413016e-02,   8.46192471e-01,\n",
       "        -3.48820284e-02,   2.64241812e-01,  -1.81763798e-01,\n",
       "        -8.75934967e-01,  -1.88013790e-01,   6.01432289e-01,\n",
       "         4.87761557e-01,   9.59695363e-02,  -1.12978744e+00,\n",
       "         3.36515256e-01,   2.84220158e-01,  -1.30847838e-01,\n",
       "        -4.64389902e-01,  -3.61717327e-01,   3.06573574e-01,\n",
       "        -3.82591910e-01,   5.46248263e-01,  -3.86450642e-02,\n",
       "        -1.56005429e-01,  -1.05428065e-01,   3.56740315e-01,\n",
       "         4.81206459e-01,   2.16476104e-01,  -7.93871247e-01,\n",
       "        -6.90951514e-01,  -2.03356642e-01,  -1.06164592e-01,\n",
       "         1.14779427e+00,  -5.36768717e-01,  -9.11759130e-01,\n",
       "        -1.15094304e-01,  -2.64116957e-01,  -7.62347025e-02,\n",
       "         3.28946340e-01,  -2.79449918e-01,   1.45568468e-01,\n",
       "        -1.76289846e-01,   3.19476339e-01,   3.05833269e-01,\n",
       "         3.96999691e-01,   7.55501774e-01,   1.99176898e-01,\n",
       "         8.53105291e-01,  -4.02494371e-01,   4.08501841e-01,\n",
       "         4.51773061e-01,  -5.27306413e-01,   5.58027522e-01,\n",
       "         8.87393302e-01,   2.79685046e-01,   4.58355118e-01,\n",
       "         5.10138353e-01,   4.44286759e-01,  -1.04946997e+00,\n",
       "        -6.56292122e-01,  -1.13057282e+00,   2.69992233e-02,\n",
       "        -4.08312082e-01,  -2.32094068e-01,   1.12134349e+00,\n",
       "        -2.61949169e-01,   6.86556927e-01,  -5.18833825e-01,\n",
       "         9.14489571e-01,  -1.04110973e-01,   1.85734851e-01,\n",
       "        -9.92343448e-02,   4.33044216e-01,   9.91468392e-01,\n",
       "         2.89768625e-01,   4.14845976e-01,   1.59018841e-01,\n",
       "        -4.71191943e-01,  -8.51462462e-01,  -4.31252499e-01,\n",
       "        -4.54967715e-01,   3.09454933e-02,   1.55309260e-01,\n",
       "        -6.86794170e-01,   9.12860690e-01,   8.53411064e-01,\n",
       "         5.41131807e-01,   2.60574522e-02,  -2.13087498e-01,\n",
       "         1.09781114e-01,   4.27132697e-01,  -3.28083126e-01,\n",
       "        -1.08146218e-01,  -5.14439202e-01,   3.95074844e-01,\n",
       "         2.94547556e-01,  -4.10591337e-01,   3.08251588e-01,\n",
       "        -4.78013739e-01,   3.52570417e-01,  -1.90306661e-01,\n",
       "         4.64200487e-01,   3.01453489e-01,  -9.50739967e-01,\n",
       "         2.84693247e-01,  -6.15400809e-01,  -3.56945867e-01,\n",
       "         9.98771245e-01,  -2.50318311e-01,   3.19941950e-01,\n",
       "        -1.77059507e-01,  -1.60918368e-01,  -1.76596944e-01,\n",
       "        -3.58155169e-01,   8.18293711e-01,   1.57726393e-01,\n",
       "         1.75096346e-01,  -5.75803665e-01,  -2.28557717e-01,\n",
       "         1.69159197e-01,  -6.78925016e-01,  -6.81240422e-01,\n",
       "        -4.76665160e-01,  -1.44029594e-01,  -4.13410961e-01,\n",
       "         2.92449893e-01,  -4.08315339e-01,  -6.09465227e-01,\n",
       "         3.54421586e-02,   2.94256192e-01,  -2.21983862e-01,\n",
       "         3.60950065e-01,  -1.55397722e-02,  -3.56437430e-01,\n",
       "        -3.39875658e-01,   8.82392942e-01,   1.05264285e+00,\n",
       "        -2.38382851e-01,   5.18784912e-01,   2.06787656e-01,\n",
       "        -1.90758924e-02,  -8.71415991e-01,   2.47115660e-01,\n",
       "         8.18762344e-01,   3.00983087e-01,  -5.94372267e-01,\n",
       "         7.94097373e-01,   2.87076916e-01,  -3.37487355e-01,\n",
       "        -5.55534556e-01,   3.21851924e-01,   5.86655299e-01,\n",
       "         2.97420423e-01,  -4.46842080e-01,  -1.31959766e-01,\n",
       "         5.21308555e-01,  -2.99159352e-02,   5.80692158e-01,\n",
       "         1.13087312e-01,  -7.30769100e-01,   1.88658413e-02,\n",
       "        -2.85984020e-02,  -5.66647335e-01,  -4.19151161e-03,\n",
       "        -6.33707118e-01,   4.40540102e-01,   1.07593601e-01,\n",
       "         2.83974872e-02,   2.19689879e-01,  -1.18056092e-01,\n",
       "        -6.88700744e-01,  -2.13974491e-01,   4.95232689e-01,\n",
       "        -8.70071372e-01,  -3.02232406e-01,   3.08440513e-01,\n",
       "        -1.17655776e+00,  -4.54405682e-01,   1.00800436e+00,\n",
       "        -7.44566713e-02,   3.88381912e-01,  -8.09149623e-01,\n",
       "         3.88340175e-01,  -4.20765562e-01,  -4.57960496e-03,\n",
       "        -1.89553904e-02,  -1.17519055e-01,  -1.77755844e-02,\n",
       "        -3.61508315e-01,  -6.80899561e-02,   2.85514605e-01,\n",
       "        -1.76034841e-01,   9.33443624e-01,  -2.61175217e-01,\n",
       "        -6.17291225e-02,  -2.22835588e-01,   1.20573230e-02,\n",
       "        -1.98918252e-01,   3.79479037e-01,   2.32234518e-01,\n",
       "        -3.09363965e-01,   5.63307686e-01,   1.34924696e-01,\n",
       "         3.87257008e-01,  -2.73074415e-02,  -5.42589202e-01,\n",
       "        -1.00795438e+00,  -1.89281906e-02,   4.35645172e-01,\n",
       "         4.53320938e-01,   1.99801350e-01,  -1.84950039e-01,\n",
       "         3.77262763e-01,  -5.76117517e-01,   7.15176208e-01,\n",
       "        -7.77155256e-01,  -1.44744472e-01,   1.80544870e-01,\n",
       "        -5.41090799e-02,   1.22919667e-02,   8.12018078e-01,\n",
       "        -1.35183686e-01,  -1.56878999e-01,  -3.95824277e-01,\n",
       "        -9.03913486e-01,   4.87320258e-01,  -1.20130670e-01,\n",
       "         1.00448126e-01,   8.88697806e-02,  -1.71750719e-02,\n",
       "         5.48658136e-02,  -1.51796375e-01,   4.28651130e-01,\n",
       "        -3.47872949e-01,   5.49942087e-01,   3.40014319e-01,\n",
       "         2.41994300e-01,   3.62110292e-01,   6.63331097e-01,\n",
       "         1.32486357e+00,   4.15749129e-01,  -4.45699508e-01,\n",
       "         8.43381234e-01,   8.00956769e-01,  -1.05511367e-01,\n",
       "        -1.82630035e-02,  -4.60509085e-01,  -5.42088641e-01,\n",
       "        -1.12318235e+00,  -7.41491833e-01,  -5.49940681e-01,\n",
       "        -2.12482060e-01,   4.38999899e-01,  -2.45070402e-01,\n",
       "        -3.12535293e-01,  -4.78812521e-01,  -1.50016358e+00,\n",
       "        -4.78374828e-03,   1.85855971e-01,   4.88191244e-01,\n",
       "         2.42241512e-01,   2.60315246e-01,   3.54273082e-01,\n",
       "         1.03241619e+00,   6.35833537e-01,   8.84405617e-02,\n",
       "        -1.02341448e-01,  -5.06021421e-01,   7.60187632e-01,\n",
       "        -9.94225469e-02,  -3.10711229e-01,  -1.03752850e-01,\n",
       "         3.23335470e-01,  -4.76378260e-01,   1.59688075e-01,\n",
       "         3.56481977e-02,  -6.79501689e-01,  -1.41863759e+00,\n",
       "        -3.84961044e-02,   4.99133314e-01,   4.33460189e-01,\n",
       "         3.32294554e-01,  -1.18462172e-01,   5.96931325e-01,\n",
       "         1.86652581e-01,  -7.40589141e-01,   7.93904365e-01,\n",
       "        -8.69623195e-01,   5.28358811e-01,  -7.70818363e-01,\n",
       "        -8.66646671e-01,   9.04939748e-01,  -3.58867460e-01,\n",
       "         8.39133573e-01,  -1.28177867e-01,   6.05713562e-02,\n",
       "        -9.23088097e-01,  -3.98205059e-01,   3.57930366e-02,\n",
       "         6.20617463e-01,   2.98647949e-01,   8.10240410e-01,\n",
       "        -2.06911071e-01,  -3.40844833e-01,   1.25312875e-01,\n",
       "         4.70221391e-01,  -2.22424696e-01,  -2.81790290e-01,\n",
       "        -4.47852299e-01,   5.85328700e-01,  -2.11549506e-01,\n",
       "        -1.03295416e-01,  -2.08237134e-01,   4.16937318e-02,\n",
       "        -1.89884420e-01,   1.28188652e-01,   1.96047225e-01,\n",
       "         8.53855807e-01,   1.08792136e-02,  -1.54622003e-01,\n",
       "         4.85173582e-01,  -5.23321081e-01,  -2.37160504e-01,\n",
       "        -1.34064284e+00,   1.03473307e-01,  -1.87761421e-01,\n",
       "        -7.35020377e-01,  -9.74268669e-01,   1.44135311e-01,\n",
       "        -1.88629685e-01,   1.10690897e+00,  -1.38359058e-01,\n",
       "         2.91974535e-01,  -2.90669750e-01,   4.14530589e-01,\n",
       "         3.20500469e-01,  -1.57330271e-02,  -2.28212815e-01,\n",
       "        -3.59922648e-01,  -5.07312927e-01,   1.09970764e-01,\n",
       "         1.13906341e-01,   3.18632030e-01,   2.15824555e-01,\n",
       "        -4.71918089e-01,  -2.74782781e-01,   1.22489560e-01,\n",
       "         3.01801119e-01,  -7.04074066e-01,   5.58294079e-01,\n",
       "        -9.43146299e-02,  -4.23004864e-01,  -4.76986736e-01,\n",
       "        -6.26515047e-01,   6.33654782e-01,   4.34519414e-02,\n",
       "         3.14411293e-02,  -7.12473376e-01,  -2.25539914e-01,\n",
       "         4.74502578e-01,  -1.04773646e+00,  -4.31648771e-01,\n",
       "        -1.41484995e-01,   4.72476075e-01,  -2.61315311e-01,\n",
       "        -2.48648358e-01,  -7.71676517e-01,  -3.05886617e-01,\n",
       "        -1.78720232e-01,   1.93046085e-01,   5.77301125e-01,\n",
       "        -5.44466519e-01,   2.42628934e-01,   1.83420247e-01,\n",
       "        -3.85569975e-02,  -2.63692383e-01,  -6.25921659e-01,\n",
       "         9.16855927e-02,  -7.09809625e-01,  -2.40420527e-01,\n",
       "         4.21224003e-01,  -4.74430352e-01,   3.08734325e-01,\n",
       "         1.43825243e-01,   1.68966993e-01,   6.17194959e-01,\n",
       "        -3.66794073e-01,   1.26955675e+00,  -2.36207701e-01,\n",
       "         4.53811557e-01,   5.44008271e-01,  -7.82072409e-01,\n",
       "         2.04081126e-01,   5.09209336e-01,  -3.83038412e-01,\n",
       "        -3.10249888e-01,   8.63615660e-01,  -4.38496628e-01,\n",
       "        -6.78838003e-01,  -2.16565344e-01,  -2.78491575e-01,\n",
       "         4.75226899e-01,  -1.90395700e-01,   1.64501924e-01,\n",
       "         6.53862601e-02,   2.84256135e-01,  -4.92297730e-01,\n",
       "        -6.03392889e-01,   3.57602129e-01,  -4.73303441e-02,\n",
       "        -1.34596810e-01,   1.24969523e-01,  -3.75503385e-01,\n",
       "        -3.32430487e-01,   4.68213807e-02,   2.56988995e-01,\n",
       "        -7.56501711e-01,   2.55765517e-02,  -8.69344545e-02,\n",
       "         6.58657608e-02,  -5.58586149e-01,  -2.08119621e-01,\n",
       "         1.09385325e+00,  -4.12040574e-02,  -7.92729759e-01,\n",
       "         4.04599939e-01,  -1.49816356e-01,  -4.69259832e-02,\n",
       "         3.07208012e-01,   1.94937595e-01,   1.21592691e-01,\n",
       "         1.09931820e-01,   8.50481227e-02,  -3.68134575e-01,\n",
       "        -1.00336308e+00,   5.84068111e-01,  -1.71746123e-01,\n",
       "         9.75893894e-02,   7.25810207e-01,  -4.43105519e-01,\n",
       "        -2.17007543e-02,  -7.22340613e-01,  -8.75473737e-02,\n",
       "         1.25266503e-01,  -3.64969387e-01,   1.61967107e-01,\n",
       "         4.74864631e-01,  -1.48358319e-01,  -6.26590096e-01,\n",
       "         5.37507120e-01,  -5.28722540e-01,  -3.97154902e-02,\n",
       "         6.98804372e-01,   3.31051984e-02,   5.04820646e-01,\n",
       "         1.87222929e-01,   3.68369714e-01,   3.23310045e-01,\n",
       "        -2.87547181e-01,   2.63985315e-01,   1.42255212e-01,\n",
       "         1.25817174e+00,  -4.25174681e-01,  -9.74007659e-01,\n",
       "        -5.02553793e-01,  -2.46242852e-02,  -8.81245971e-01,\n",
       "         2.90759662e-01,  -6.02379034e-01,  -5.24823074e-02,\n",
       "        -4.55905835e-01,   5.00078376e-01,   5.89893988e-01,\n",
       "         4.73336424e-02,  -2.23493591e-02,   1.10358597e+00,\n",
       "        -4.67780469e-01,  -7.67522683e-01,   1.93212521e-01,\n",
       "         3.87891276e-01,  -8.32100860e-01,   1.10111536e-01,\n",
       "        -1.17041166e+00,   2.97094726e-01,  -4.63160855e-01,\n",
       "         2.61050466e-02,   1.65244316e-01,   1.09512230e+00,\n",
       "         9.01729135e-02,   8.55948452e-01,   5.66722621e-01,\n",
       "        -2.49966048e-01,   2.12635125e-01,   1.30730338e-01,\n",
       "         5.76886868e-01,  -1.75799286e-01,  -6.44330667e-01,\n",
       "         7.46606316e-01,   4.42315721e-01,   4.15438908e-01,\n",
       "         1.95747602e-01,  -1.42844780e+00,  -9.98707895e-02,\n",
       "         2.32344326e-01,  -2.05358773e-01,  -7.87694436e-01,\n",
       "        -5.85938161e-01,   5.87084269e-01,   1.58820433e-01,\n",
       "         1.35571187e+00,   2.56596569e-01,   1.93183153e-01,\n",
       "        -1.19628778e-01,   8.64109314e-01,  -3.47438979e-01,\n",
       "         6.58869058e-01,   1.63554367e-01,   3.23157606e-01,\n",
       "        -5.60006278e-01,  -4.41308521e-01,   2.46975696e-01,\n",
       "         1.10122685e+00,  -3.87614831e-02,  -1.83131039e-01,\n",
       "         9.15696953e-01,  -3.73864518e-01,  -1.94537438e-01,\n",
       "        -4.41332174e-01,   9.54739645e-01,  -4.55590657e-01,\n",
       "         6.06297857e-01,  -3.48786226e-01,  -3.37932623e-01,\n",
       "        -2.97824062e-02,  -4.00429221e-02,  -2.23094352e-01,\n",
       "         4.89096088e-01,   3.69643234e-01,   2.04397973e-01,\n",
       "         3.68280276e-01,  -9.06188383e-02,   8.21976282e-01,\n",
       "         1.10269700e-01,   2.89174812e-01,  -2.07831779e-01,\n",
       "         1.74731278e-01,   2.86493692e-01,   6.07353029e-02,\n",
       "        -7.89235464e-01,  -7.38802358e-02,  -1.97696741e-01,\n",
       "        -4.11638319e-01,  -8.60558454e-02,   5.57846169e-01,\n",
       "         1.13251824e-02,   1.49197456e-01,   9.33962709e-01,\n",
       "        -1.87972967e-01,   1.83767831e-01,   1.91876796e-01,\n",
       "         3.15087341e-01,   5.15961341e-01,  -6.19874904e-02,\n",
       "         2.13042726e-02,  -4.64904926e-01,   1.03002084e+00,\n",
       "        -3.33816338e-01,  -4.71984969e-01,   1.09611949e-01,\n",
       "        -5.93003346e-01,   4.07133630e-01,  -1.21036134e-01,\n",
       "        -5.54759017e-01,  -6.96581846e-01,   6.10579020e-01,\n",
       "         1.13094857e+00,   3.78589240e-01,  -3.85186476e-01,\n",
       "         4.49535411e-01,  -1.21248704e-01,   6.00142329e-01,\n",
       "         1.50461015e-01,  -1.60321039e-01,  -1.93517435e-01,\n",
       "        -2.60499724e-01,  -9.81682496e-01,   4.08857287e-02,\n",
       "         8.66935117e-01,   3.51889733e-02,  -7.55574466e-01,\n",
       "        -1.44059276e-01,   1.09777271e-01,   1.36627152e-01,\n",
       "         1.93559930e-01,   7.98192740e-02,   6.93110418e-01,\n",
       "         1.25051286e+00,   1.11480879e-01,   1.31891740e-01,\n",
       "        -1.32530352e-01,  -4.66386884e-01,  -1.13449305e-01,\n",
       "        -2.38764773e-01,  -1.55519709e-01,   1.86400550e-01,\n",
       "         3.58902421e-02,  -1.40815704e-01,   8.79507858e-01,\n",
       "        -3.86811754e-02,  -2.15722650e-01,   1.07697849e+00,\n",
       "        -4.13864878e-01,   8.58832597e-01,   6.13076870e-01,\n",
       "        -1.01561034e-02,  -4.56190981e-02,  -8.27508941e-01,\n",
       "        -7.46237178e-01,  -3.60449978e-01,   6.68352088e-01,\n",
       "         4.38240282e-01,  -3.04456148e-01,  -1.58619811e+00,\n",
       "         5.22655323e-01,   5.41938173e-01,  -1.68073488e-01,\n",
       "        -4.31911175e-01,  -8.51052556e-01,  -9.41425135e-02,\n",
       "         3.46379607e-01,   4.20587679e-01,  -3.35460457e-01,\n",
       "         6.50550519e-02,   4.75948607e-01,  -9.95377823e-01,\n",
       "        -6.27000446e-02,   2.16501565e-02,   5.28023923e-01,\n",
       "         5.61093283e-01,  -4.99774483e-01,   2.86362633e-02,\n",
       "        -2.62086256e-01,   1.62249929e-02,   8.97253188e-02,\n",
       "        -8.62292772e-01,  -2.52610212e-01,   4.10509230e-01,\n",
       "         7.64146224e-01,  -4.33576633e-01,   2.95188183e-02,\n",
       "         8.17512484e-01])"
      ]
     },
     "execution_count": 72,
     "metadata": {},
     "output_type": "execute_result"
    }
   ],
   "source": [
    "theta"
   ]
  },
  {
   "cell_type": "code",
   "execution_count": 61,
   "metadata": {},
   "outputs": [
    {
     "data": {
      "text/plain": [
       "(1000,)"
      ]
     },
     "execution_count": 61,
     "metadata": {},
     "output_type": "execute_result"
    }
   ],
   "source": [
    "fv.shape"
   ]
  },
  {
   "cell_type": "markdown",
   "metadata": {},
   "source": [
    "3. Using the prior density as a proposal density, simulate values from the posterior distribution using the SIR algorithm. Approximate the probability that the coin is biased toward heads."
   ]
  },
  {
   "cell_type": "code",
   "execution_count": 115,
   "metadata": {
    "collapsed": true
   },
   "outputs": [],
   "source": [
    "n=20000\n",
    "theta = norm.rvs(0, 0.5, size=n)\n",
    "    \n",
    "# Calculate probability under q(theta)-prior\n",
    "q_theta = np.array([norm.logpdf(t,0,0.5) for t in theta])\n",
    "\n",
    "# Calculate probability under f(theta)-posterior\n",
    "f_theta = np.array([post_norm(t) for t in theta ])\n",
    "    \n",
    "w = np.exp(f_theta - q_theta - max(f_theta - q_theta)) #normalize\n",
    "\n",
    "p_sir = w/w.sum()\n",
    "\n",
    "theta_sir = theta[np.random.choice(range(len(theta)), size=10000, p=p_sir)]\n",
    "\n",
    "logK_sample = theta_sir[:,]\n",
    "logK_sample.sort()\n",
    "#probability of theta larger than 0\n",
    "sum(logK_sample>0)/10000"
   ]
  },
  {
   "cell_type": "code",
   "execution_count": 113,
   "metadata": {},
   "outputs": [
    {
     "data": {
      "text/plain": [
       "(20000,)"
      ]
     },
     "execution_count": 113,
     "metadata": {},
     "output_type": "execute_result"
    }
   ],
   "source": [
    "p_sir.shape"
   ]
  },
  {
   "cell_type": "code",
   "execution_count": 114,
   "metadata": {},
   "outputs": [
    {
     "data": {
      "text/plain": [
       "array([ 1.15570607, -0.18007406,  0.50918069, ...,  1.40082636,\n",
       "        1.05561779,  0.65794675])"
      ]
     },
     "execution_count": 114,
     "metadata": {},
     "output_type": "execute_result"
    }
   ],
   "source": [
    "theta_sir"
   ]
  },
  {
   "cell_type": "markdown",
   "metadata": {},
   "source": [
    "# Question 3\n",
    "\n",
    "The goal of this problem is to investigate the role of the proposal distribution in a Metropolis-Hastings algorithm designed to simulate from the posterior distribution of the mixture parameter $\\delta$. \n",
    "\n",
    "1. Simulate 200 realizations from the mixture distribution:\n",
    "    $$y_i \\sim \\delta N(7, 0.5^2) + (1-\\delta) N(10, 0.5^2)$$\n",
    "    with $\\delta = 0.7$. Plot a histogram of these data. \n",
    "2. Implement a random walk M-H algorithm with proposal $\\delta^{\\prime} = \\delta^{(i)} + \\epsilon$ with $\\epsilon \\sim Unif(−1,1)$. \n",
    "3. Reparameterize the problem letting $U = \\log\\left[\\frac{\\delta}{1 - \\delta}\\right]$ and $u^{\\prime} = u^{(i)} + \\epsilon$. Implement a random walk chain in U-space. \n",
    "4. Compare the estimates and convergence behavior of the three algorithms.\n",
    "\n",
    "In part (1), you are asked to simulate data from a distribution with $\\delta$ known. For parts (2)–(3), assume $\\delta$ is unknown with prior $\\delta \\sim Unif( 0,1)$. For parts (2)–(3), provide an appropriate plot and a table summarizing the output of the algorithm. \n",
    "\n",
    "To facilitate comparisons, use the same number of iterations, random seed, starting values, and burn-in period for all implementations of the algorithm. "
   ]
  },
  {
   "cell_type": "code",
   "execution_count": 5,
   "metadata": {
    "collapsed": true
   },
   "outputs": [],
   "source": [
    "# Write answer here\n",
    "#1. generate 200 realizations\n",
    "from scipy.stats import norm\n",
    "\n",
    "n=200\n",
    "n1=norm.rvs(loc=7,scale=0.5,size=n)\n",
    "n2=norm.rvs(loc=10,scale=0.5,size=n)\n",
    "sigma=0.7\n",
    "pop=n1*sigma+n2*(1-sigma)"
   ]
  },
  {
   "cell_type": "code",
   "execution_count": 6,
   "metadata": {},
   "outputs": [
    {
     "data": {
      "text/plain": [
       "(array([  3.,   8.,  17.,  33.,  45.,  47.,  28.,  10.,   7.,   2.]),\n",
       " array([ 6.91069871,  7.11247425,  7.31424979,  7.51602533,  7.71780087,\n",
       "         7.91957641,  8.12135195,  8.32312749,  8.52490303,  8.72667857,\n",
       "         8.92845411]),\n",
       " <a list of 10 Patch objects>)"
      ]
     },
     "execution_count": 6,
     "metadata": {},
     "output_type": "execute_result"
    },
    {
     "data": {
      "image/png": "[encoded data removed]",
      "text/plain": [
       "<matplotlib.figure.Figure at 0x11bb92550>"
      ]
     },
     "metadata": {},
     "output_type": "display_data"
    }
   ],
   "source": [
    "fig, ax = plt.subplots(1, 1)\n",
    "ax.hist(pop)"
   ]
  },
  {
   "cell_type": "code",
   "execution_count": 7,
   "metadata": {},
   "outputs": [
    {
     "data": {
      "text/plain": [
       "(200,)"
      ]
     },
     "execution_count": 7,
     "metadata": {},
     "output_type": "execute_result"
    }
   ],
   "source": [
    "pop.shape"
   ]
  },
  {
   "cell_type": "code",
   "execution_count": 11,
   "metadata": {
    "collapsed": true
   },
   "outputs": [],
   "source": [
    "from scipy.stats import uniform,norm\n",
    "dnorm=norm.logpdf\n",
    "dunif=uniform.logpdf"
   ]
  },
  {
   "cell_type": "code",
   "execution_count": 19,
   "metadata": {
    "collapsed": true
   },
   "outputs": [],
   "source": [
    "def calc_posterior(t,d,y=pop):\n",
    "    # Calculate joint posterior, given values  t\n",
    "    \n",
    "    # prior for delta: unif(0,1)\n",
    "    logp = dunif(d, 0, 1) \n",
    "    \n",
    "    # delta_new=delta_old+t, Priors on t: uniform between -1 and -1+2=1\n",
    "    logp += dunif(t, -1, 2)\n",
    "    \n",
    "    dnew=d+t\n",
    "    \n",
    "    mu=7*dnew+(1-dnew)*10\n",
    "    sigma=np.sqrt((dnew*0.05)**2+( (1-dnew)*0.5 )**2 )\n",
    "    \n",
    "    # Data likelihood\n",
    "    logp += sum(dnorm(y, mu, sigma))\n",
    "    \n",
    "    return logp"
   ]
  },
  {
   "cell_type": "code",
   "execution_count": 20,
   "metadata": {
    "collapsed": true
   },
   "outputs": [],
   "source": [
    "#2. Implement a random walk M-H algorithm with proposal  δ′=δ(i)+ϵ  with  ϵ∼Unif(−1,1)\n",
    "\n",
    "rnorm = np.random.normal\n",
    "runif = np.random.uniform\n",
    "\n",
    "\n",
    "def metropolis(n_iterations, initial_values, prop_var=1):\n",
    "\n",
    "    n_params = len(initial_values)\n",
    "            \n",
    "    # Initial proposal standard deviations\n",
    "    prop_sd = [prop_var]*n_params\n",
    "    \n",
    "    # Initialize trace for parameters\n",
    "    trace = np.empty((n_iterations+1, n_params))\n",
    "    \n",
    "    # Set initial values\n",
    "    trace[0] = initial_values\n",
    "        \n",
    "    # Calculate joint posterior for initial values, trace is a 3 parameter list-use * to unravel\n",
    "    current_log_prob = calc_posterior(*trace[0])\n",
    "    \n",
    "    # Initialize acceptance counts, start with [0,0,0]\n",
    "    accepted = [0]*n_params\n",
    "    \n",
    "    for i in range(n_iterations):\n",
    "    \n",
    "        if not i%1000: print('Iteration %i' % i) # every 1000, print sth\n",
    "    \n",
    "        # Grab current parameter values\n",
    "        current_params = trace[i]\n",
    "    \n",
    "        for j in range(n_params):\n",
    "    \n",
    "            # Get current value for parameter j\n",
    "            p = trace[i].copy()\n",
    "    \n",
    "            # Propose new value\n",
    "            if j==2:\n",
    "                # Ensure tau is positive (by exp)\n",
    "                theta = np.exp(rnorm(np.log(current_params[j]), prop_sd[j]))\n",
    "            else:\n",
    "                theta = rnorm(current_params[j], prop_sd[j])\n",
    "            \n",
    "            # Insert new value \n",
    "            p[j] = theta\n",
    "    \n",
    "            # Calculate log posterior with proposed value\n",
    "            proposed_log_prob = calc_posterior(*p)\n",
    "    \n",
    "            # Log-acceptance rate\n",
    "            alpha = proposed_log_prob - current_log_prob\n",
    "    \n",
    "            # Sample a uniform random variate\n",
    "            u = runif()\n",
    "    \n",
    "            # Test proposed value\n",
    "            if np.log(u) < alpha:\n",
    "                # Accept\n",
    "                trace[i+1,j] = theta\n",
    "                current_log_prob = proposed_log_prob\n",
    "                accepted[j] += 1\n",
    "            else:\n",
    "                # Reject\n",
    "                trace[i+1,j] = trace[i,j]\n",
    "                \n",
    "    return trace, accepted"
   ]
  },
  {
   "cell_type": "code",
   "execution_count": 35,
   "metadata": {},
   "outputs": [
    {
     "name": "stdout",
     "output_type": "stream",
     "text": [
      "Iteration 0\n",
      "Iteration 1000\n",
      "Iteration 2000\n",
      "Iteration 3000\n",
      "Iteration 4000\n",
      "Iteration 5000\n",
      "Iteration 6000\n",
      "Iteration 7000\n",
      "Iteration 8000\n",
      "Iteration 9000\n"
     ]
    }
   ],
   "source": [
    "n_iter = 10000\n",
    "trace, acc = metropolis(n_iter, (1,0), 0.01)"
   ]
  },
  {
   "cell_type": "code",
   "execution_count": 36,
   "metadata": {},
   "outputs": [
    {
     "data": {
      "text/plain": [
       "array([ 0.4117,  0.4087])"
      ]
     },
     "execution_count": 36,
     "metadata": {},
     "output_type": "execute_result"
    }
   ],
   "source": [
    "np.array(acc, float)/n_iter"
   ]
  },
  {
   "cell_type": "code",
   "execution_count": 38,
   "metadata": {},
   "outputs": [
    {
     "data": {
      "image/png": "[encoded data removed]",
      "text/plain": [
       "<matplotlib.figure.Figure at 0x11e70b0b8>"
      ]
     },
     "metadata": {},
     "output_type": "display_data"
    },
    {
     "data": {
      "image/png": "[encoded data removed]",
      "text/plain": [
       "<matplotlib.figure.Figure at 0x11e72bcf8>"
      ]
     },
     "metadata": {},
     "output_type": "display_data"
    }
   ],
   "source": [
    "for param, samples in zip(['intercept', 'slope','precision'], trace.T):\n",
    "    fig, axes = plt.subplots(1, 2, figsize=(8, 2))\n",
    "    axes[0].plot(samples)\n",
    "    axes[0].set_ylabel(param)\n",
    "    axes[1].hist(samples[int(n_iter/2):])"
   ]
  },
  {
   "cell_type": "code",
   "execution_count": 29,
   "metadata": {
    "collapsed": true
   },
   "outputs": [],
   "source": [
    "rnorm = np.random.normal\n",
    "runif = np.random.uniform\n",
    "\n",
    "def metropolis_tuned(n_iterations, initial_values, prop_var=1):\n",
    "\n",
    "    n_params = len(initial_values)\n",
    "            \n",
    "    # Initial proposal standard deviations\n",
    "    prop_sd = [prop_var]*n_params\n",
    "    \n",
    "    # Initialize trace for parameters\n",
    "    trace = np.empty((n_iterations+1, n_params))\n",
    "    \n",
    "    # Set initial values\n",
    "    trace[0] = initial_values\n",
    "        \n",
    "    # Calculate joint posterior for initial values, trace is a 3 parameter list-use * to unravel\n",
    "    current_log_prob = calc_posterior(*trace[0])\n",
    "    \n",
    "    # Initialize acceptance counts, start with [0,0,0]\n",
    "    accepted = [0]*n_params\n",
    "    \n",
    "    for i in range(n_iterations):\n",
    "    \n",
    "        if not i%1000: print('Iteration %i' % i) # every 1000, print sth\n",
    "    \n",
    "        #p=trace[i].copy()\n",
    "  \n",
    "            \n",
    "        # Grab current parameter values\n",
    "        current_params = trace[i]\n",
    "    \n",
    "        for j in range(n_params):\n",
    "    \n",
    "            # Get current value for parameter j\n",
    "            p = trace[i].copy()\n",
    "    \n",
    "            if not i%100:\n",
    "                acc= accepted[i]\n",
    "                if acc<10:\n",
    "                    prop_sd[j]*=0.01\n",
    "            \n",
    "                elif acc>40:\n",
    "                    prop_sd[j]*=100\n",
    "                \n",
    "            accepted[i]=0\n",
    "            \n",
    "            # Propose new value\n",
    "            if j==2:\n",
    "                # Ensure tau is positive (by exp)\n",
    "                theta = np.exp(rnorm(np.log(current_params[j]), prop_sd[j]))\n",
    "            else:\n",
    "                theta = rnorm(current_params[j], prop_sd[j])\n",
    "            \n",
    "            # Insert new value \n",
    "            p[j] = theta\n",
    "    \n",
    "            # Calculate log posterior with proposed value\n",
    "            proposed_log_prob = calc_posterior(*p)\n",
    "    \n",
    "            # Log-acceptance rate\n",
    "            alpha = proposed_log_prob - current_log_prob\n",
    "    \n",
    "            # Sample a uniform random variate\n",
    "            u = runif()\n",
    "    \n",
    "            # Test proposed value\n",
    "            if np.log(u) < alpha:\n",
    "                # Accept\n",
    "                trace[i+1,j] = theta\n",
    "                current_log_prob = proposed_log_prob\n",
    "                accepted[j] += 1\n",
    "            else:\n",
    "                # Reject\n",
    "                trace[i+1,j] = trace[i,j]\n",
    "                \n",
    "    return trace, accepted"
   ]
  },
  {
   "cell_type": "code",
   "execution_count": 28,
   "metadata": {},
   "outputs": [
    {
     "data": {
      "text/plain": [
       "10000"
      ]
     },
     "execution_count": 28,
     "metadata": {},
     "output_type": "execute_result"
    }
   ],
   "source": [
    "n_iter"
   ]
  },
  {
   "cell_type": "code",
   "execution_count": 30,
   "metadata": {},
   "outputs": [
    {
     "name": "stdout",
     "output_type": "stream",
     "text": [
      "Iteration 0\n"
     ]
    },
    {
     "ename": "IndexError",
     "evalue": "list assignment index out of range",
     "output_type": "error",
     "traceback": [
      "\u001b[0;31m---------------------------------------------------------------------------\u001b[0m",
      "\u001b[0;31mIndexError\u001b[0m                                Traceback (most recent call last)",
      "\u001b[0;32m<ipython-input-30-5a6afe95f818>\u001b[0m in \u001b[0;36m<module>\u001b[0;34m()\u001b[0m\n\u001b[0;32m----> 1\u001b[0;31m \u001b[0mtrace_tuned\u001b[0m\u001b[0;34m,\u001b[0m\u001b[0macc\u001b[0m \u001b[0;34m=\u001b[0m \u001b[0mmetropolis_tuned\u001b[0m\u001b[0;34m(\u001b[0m\u001b[0mn_iter\u001b[0m\u001b[0;34m,\u001b[0m \u001b[0;34m(\u001b[0m\u001b[0;36m1\u001b[0m\u001b[0;34m,\u001b[0m\u001b[0;36m0\u001b[0m\u001b[0;34m)\u001b[0m\u001b[0;34m)\u001b[0m\u001b[0;34m\u001b[0m\u001b[0m\n\u001b[0m",
      "\u001b[0;32m<ipython-input-29-66c3a97fa7fc>\u001b[0m in \u001b[0;36mmetropolis_tuned\u001b[0;34m(n_iterations, initial_values, prop_var)\u001b[0m\n\u001b[1;32m     45\u001b[0m                     \u001b[0mprop_sd\u001b[0m\u001b[0;34m[\u001b[0m\u001b[0mj\u001b[0m\u001b[0;34m]\u001b[0m\u001b[0;34m*=\u001b[0m\u001b[0;36m100\u001b[0m\u001b[0;34m\u001b[0m\u001b[0m\n\u001b[1;32m     46\u001b[0m \u001b[0;34m\u001b[0m\u001b[0m\n\u001b[0;32m---> 47\u001b[0;31m             \u001b[0maccepted\u001b[0m\u001b[0;34m[\u001b[0m\u001b[0mi\u001b[0m\u001b[0;34m]\u001b[0m\u001b[0;34m=\u001b[0m\u001b[0;36m0\u001b[0m\u001b[0;34m\u001b[0m\u001b[0m\n\u001b[0m\u001b[1;32m     48\u001b[0m \u001b[0;34m\u001b[0m\u001b[0m\n\u001b[1;32m     49\u001b[0m             \u001b[0;31m# Propose new value\u001b[0m\u001b[0;34m\u001b[0m\u001b[0;34m\u001b[0m\u001b[0m\n",
      "\u001b[0;31mIndexError\u001b[0m: list assignment index out of range"
     ]
    }
   ],
   "source": [
    "trace_tuned,acc = metropolis_tuned(n_iter, (1,0))"
   ]
  },
  {
   "cell_type": "code",
   "execution_count": null,
   "metadata": {
    "collapsed": true
   },
   "outputs": [],
   "source": [
    "#3 Reparameterize the problem letting  U=log[δ1−δ]U=log⁡[δ1−δ]  and  u′=u(i)+ϵu′=u(i)+ϵ . Implement a random walk chain in U-space."
   ]
  },
  {
   "cell_type": "code",
   "execution_count": 119,
   "metadata": {},
   "outputs": [
    {
     "data": {
      "text/plain": [
       "array([[  3.00604243e-11,  -9.61386085e-14]])"
      ]
     },
     "execution_count": 119,
     "metadata": {},
     "output_type": "execute_result"
    }
   ],
   "source": [
    "np.empty((1,2))"
   ]
  },
  {
   "cell_type": "markdown",
   "metadata": {},
   "source": [
    "# Question 4\n",
    "\n",
    "Carlin (1992) considers a Bayesian approach to meta-analysis, and includes the following examples of 22 trials of beta-blockers to prevent mortality after myocardial infarction. These data are given below.\n",
    "\n",
    "In one possible random effects model we assume the true baseline mean (on a log-odds scale) $m_i$ in a trial $i$\n",
    "is drawn from some population distribution. Let $r^C_i$ denote number of events in the control group in trial $i$, and $r^T_i$ denote events under active treatment in trial $i$. Our model is:\n",
    "\n",
    "$$\\begin{aligned}\n",
    "r^C_i &\\sim \\text{Binomial}\\left(p^C_i, n^C_i\\right) \\\\\n",
    "r^T_i &\\sim \\text{Binomial}\\left(p^T_i, n^T_i\\right) \\\\\n",
    "\\text{logit}\\left(p^C_i\\right) &= \\mu_i \\\\\n",
    "\\text{logit}\\left(p^T_i\\right) &= \\mu_i + \\delta \\\\\n",
    "\\mu_i &\\sim \\text{Normal}(m, s).\n",
    "\\end{aligned}$$\n",
    "\n",
    "In this case, we want to make inferences about the population effect $m$, and the predictive distribution for the effect $\\delta_{\\text{new}}$ in a new trial. \n",
    "\n",
    "This particular model uses a random effect for the population mean, and a fixed effect for the treatment effect. There are 3 other models you could fit to represent all possible combinations of fixed or random effects for these two parameters.\n",
    "\n",
    "Build all 4 models to estimate the treatment effect in PyMC3 and \n",
    "\n",
    "1. use convergence diagnostics to check for convergence in each model \n",
    "2. use posterior predictive checks to compare the fit of the models\n",
    "3. use DIC to compare the models as approximations of the true generating model\n",
    "\n",
    "Which model would you select and why?"
   ]
  },
  {
   "cell_type": "code",
   "execution_count": 1,
   "metadata": {
    "collapsed": true
   },
   "outputs": [],
   "source": [
    "r_t_obs = [3, 7, 5, 102, 28, 4, 98, 60, 25, 138, 64, 45, 9, 57, 25, 33, 28, 8, 6, 32, 27, 22]\n",
    "n_t_obs = [38, 114, 69, 1533, 355, 59, 945, 632, 278,1916, 873, 263, 291, 858, 154, 207, 251, 151, 174, 209, 391, 680]\n",
    "r_c_obs = [3, 14, 11, 127, 27, 6, 152, 48, 37, 188, 52, 47, 16, 45, 31, 38, 12, 6, 3, 40, 43, 39]\n",
    "n_c_obs = [39, 116, 93, 1520, 365, 52, 939, 471, 282, 1921, 583, 266, 293, 883, 147, 213, 122, 154, 134, 218, 364, 674]\n",
    "N = len(n_c_obs)"
   ]
  },
  {
   "cell_type": "code",
   "execution_count": 7,
   "metadata": {
    "collapsed": true
   },
   "outputs": [],
   "source": [
    "# Write answer here\n",
    "#1\n",
    "import pymc3 as pm\n",
    "\n",
    "with pm.Model() meta:\n",
    "    a=pm.Normal('a',0,sd=10)\n",
    "    b=pm.Normal('b',0,sd=10)\n",
    "    \n",
    "    p=pm.invlogit(a+b*np.array(log_dose))\n",
    "    \n",
    "    y=pm.Binomial('y',n,p,observed=np.array(deaths))\n",
    "    \n",
    "    ld50=pm.Deterministic('ld50',-a/b"
   ]
  }
 ],
 "metadata": {
  "anaconda-cloud": {},
  "kernelspec": {
   "display_name": "Python 3",
   "language": "python",
   "name": "python3"
  },
  "language_info": {
   "codemirror_mode": {
    "name": "ipython",
    "version": 3
   },
   "file_extension": ".py",
   "mimetype": "text/x-python",
   "name": "python",
   "nbconvert_exporter": "python",
   "pygments_lexer": "ipython3",
   "version": "3.6.2"
  },
  "latex_envs": {
   "bibliofile": "biblio.bib",
   "cite_by": "apalike",
   "current_citInitial": 1,
   "eqLabelWithNumbers": true,
   "eqNumInitial": 0
  },
  "nav_menu": {},
  "toc": {
   "navigate_menu": true,
   "number_sections": false,
   "sideBar": false,
   "threshold": "3",
   "toc_cell": false,
   "toc_section_display": "block",
   "toc_window_display": false
  },
  "toc_position": {
   "height": "84px",
   "left": "1112.66px",
   "right": "20px",
   "top": "120px",
   "width": "187px"
  }
 },
 "nbformat": 4,
 "nbformat_minor": 1
}
