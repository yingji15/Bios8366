{
 "cells": [
  {
   "cell_type": "markdown",
   "metadata": {},
   "source": [
    "Answer all questions and submit them either as an IPython notebook, LaTeX document, or Markdown document. Each question is worth 25 points.\n",
    "\n",
    "This homework is due Friday, September 22, 2017."
   ]
  },
  {
   "cell_type": "code",
   "execution_count": 2,
   "metadata": {
    "collapsed": true
   },
   "outputs": [],
   "source": [
    "%matplotlib inline\n",
    "import matplotlib.pyplot as plt\n",
    "import pandas as pd\n",
    "import numpy as np"
   ]
  },
  {
   "cell_type": "markdown",
   "metadata": {},
   "source": [
    "## Question 1\n",
    "\n",
    "The data below provides counts of a flour beetle (Tribolium confusum) population at various points in time:"
   ]
  },
  {
   "cell_type": "code",
   "execution_count": 2,
   "metadata": {},
   "outputs": [
    {
     "data": {
      "text/plain": [
       "[<matplotlib.lines.Line2D at 0x112c48198>]"
      ]
     },
     "execution_count": 2,
     "metadata": {},
     "output_type": "execute_result"
    },
    {
     "data": {
      "image/png": "[encoded data removed]",
      "text/plain": [
       "<matplotlib.figure.Figure at 0x112bd99b0>"
      ]
     },
     "metadata": {},
     "output_type": "display_data"
    }
   ],
   "source": [
    "days = 0,8,28,41,63,79,97,117,135,154\n",
    "beetles = 2,47,192,256,768,896,1120,896,1184,1024\n",
    "\n",
    "plt.plot(days, beetles)"
   ]
  },
  {
   "cell_type": "markdown",
   "metadata": {},
   "source": [
    "An elementary model for population growth is the logistic model:\n",
    "\n",
    "$$\\frac{dN}{dt} = rN\\left(1 - \\frac{N}{K}\\right)$$\n",
    "\n",
    "where $N$ is population size, $t$ is time, $r$ is a growth rate parameter, and $K$ is a parameter that represents the population carrying capacity of the environment. The solution to this differential equation is given by: \n",
    "\n",
    "$$N_t = f(t) = \\frac{KN_0}{N_0 + (K - N_0)\\exp(-rt)}$$\n",
    "\n",
    "where $N_t$ denotes the population size at time $t$. \n",
    "\n",
    "1. Fit the logistic growth model to the flour beetle data using optimization to minimize the sum of squared errors between model predictions and observed counts.\n",
    "\n",
    "2. In many population modeling applications, an assumption of lognormality is adopted. The simplest assumption would be that the $\\log(N_t)$ are independent and normally distributed with mean $\\log[f(t)]$ and variance $\\sigma^2$. Find the MLEs under this assumption, and provide estimates of standard errors and correlation between them."
   ]
  },
  {
   "cell_type": "code",
   "execution_count": null,
   "metadata": {
    "collapsed": true
   },
   "outputs": [],
   "source": [
    "# Write your answer here\n",
    "\n"
   ]
  },
  {
   "cell_type": "markdown",
   "metadata": {},
   "source": [
    "## Question 2\n",
    "\n",
    "1. Implement simulated annealing for minimizing the AIC for the baseball salary regression problem. Model your algorithm on the example given in class. \n",
    "\n",
    "    1. Compare the effects of different cooling schedules (different temperatures and different durations at each temperature).  \n",
    "    2. Compare the effect of a proposal distribution that is discrete uniform over 2-neighborhoods versus one that is discrete uniform over 3-neighborhoods.\n",
    "\n",
    "2. Implement a genetic algorithm for minimizing the AIC for the baseball salary regression problem. Model your algorithm on Example 3.5. \n",
    "\n",
    "    1. Compare the effects of using different mutation rates.  \n",
    "    2. Compare the effects of using different generation sizes.  \n",
    "    3. Instead of the selection mechanism used in the class example, try using independent selection of both parents with probabilities proportional to their fitness.\n",
    "\n"
   ]
  },
  {
   "cell_type": "code",
   "execution_count": 3,
   "metadata": {},
   "outputs": [],
   "source": [
    "baseball = pd.read_table('../data/baseball.dat', sep='\\s+')"
   ]
  },
  {
   "cell_type": "code",
   "execution_count": 5,
   "metadata": {},
   "outputs": [
    {
     "data": {
      "text/plain": [
       "<bound method NDFrame.head of      salary  average    obp  runs  hits  doubles  triples  homeruns  rbis  \\\n",
       "0      3300    0.272  0.302    69   153       21        4        31   104   \n",
       "1      2600    0.269  0.335    58   111       17        2        18    66   \n",
       "2      2500    0.249  0.337    54   115       15        1        17    73   \n",
       "3      2475    0.260  0.292    59   128       22        7        12    50   \n",
       "4      2313    0.273  0.346    87   169       28        5         8    58   \n",
       "5      2175    0.291  0.379   104   170       32        2        26   100   \n",
       "6       600    0.258  0.370    34    86       14        1        14    38   \n",
       "7       460    0.228  0.279    16    38        7        2         3    21   \n",
       "8       240    0.250  0.327    40    61       11        0         1    18   \n",
       "9       200    0.203  0.240    39    64       10        1        10    33   \n",
       "10      177    0.262  0.283     7    38        5        0         0    10   \n",
       "11      140    0.222  0.307    21    45        9        0         6    22   \n",
       "12      117    0.227  0.280     4     5        2        0         1     3   \n",
       "13      115    0.261  0.370     1     6        0        0         0     2   \n",
       "14     2600    0.300  0.368    69   141       22        3        19    75   \n",
       "15     1907    0.225  0.292    60   130       22        1        13    73   \n",
       "16     1190    0.255  0.321    39   108       22        8         3    26   \n",
       "17      990    0.290  0.349    59   141       30        2        16    64   \n",
       "18      925    0.246  0.323    22    81       14        0         6    26   \n",
       "19      365    0.208  0.265    12    35       11        1         0    15   \n",
       "20      302    0.238  0.347    83   134       15        4        10    51   \n",
       "21      300    0.267  0.310    73   149       23        9         6    39   \n",
       "22      129    0.353  0.435    16    48       12        2         2    18   \n",
       "23      111    0.213  0.222     4    13        4        1         1     8   \n",
       "24     6100    0.302  0.391   102   174       44        6        18   100   \n",
       "25     4125    0.260  0.321    69   150       23        1        19    96   \n",
       "26     3213    0.255  0.347    45    71        7        5         1    17   \n",
       "27     2319    0.259  0.349   108   146       34        4        38   117   \n",
       "28     2000    0.223  0.307    43    84       10        4        10    40   \n",
       "29     1600    0.225  0.310    44    96        9        3         0    31   \n",
       "..      ...      ...    ...   ...   ...      ...      ...       ...   ...   \n",
       "307     205    0.249  0.336    33    46        8        0         3    21   \n",
       "308     185    0.238  0.289    21    56        5        1         0    21   \n",
       "309     115    0.235  0.268     9    16        5        0         2     4   \n",
       "310    3750    0.256  0.338    52    95       13        1        27    69   \n",
       "311    2188    0.248  0.300    58   139       29        3        17    88   \n",
       "312    2167    0.254  0.332    95   160       34        6         3    57   \n",
       "313    2167    0.194  0.286    38    63        8        1         8    32   \n",
       "314    2050    0.327  0.399    76   179       42        1        22   100   \n",
       "315    1445    0.244  0.337    64    99       14        4        27    77   \n",
       "316     875    0.305  0.347    35    54        6        2         6    23   \n",
       "317     560    0.307  0.405    98   167       35        1        14    52   \n",
       "318     360    0.230  0.302    42    98       16        4         1    41   \n",
       "319     162    0.247  0.286    16    44       13        0         2    22   \n",
       "320     133    0.205  0.272    11    23        2        0         4     9   \n",
       "321     109    0.216  0.285    38    87       12        0        19    51   \n",
       "322    4300    0.266  0.359   115   152       32        1        44   122   \n",
       "323    3850    0.322  0.389   115   203       49        3        26    88   \n",
       "324    2387    0.341  0.408   108   201       27        3        15    78   \n",
       "325     950    0.278  0.377    76   113       17        2        17    49   \n",
       "326     675    0.271  0.339    21    54        8        1         2    20   \n",
       "327     600    0.252  0.283    44   136       18        4         9    44   \n",
       "328     287    0.264  0.321    78   144       34        1        27   102   \n",
       "329     230    0.269  0.332    46   106       22        0        20    69   \n",
       "330     215    0.194  0.270     8    28        3        2         1    11   \n",
       "331     183    0.213  0.312    36    57        8        3         2    26   \n",
       "332     170    0.111  0.138     3     3        0        0         0     1   \n",
       "333     160    0.264  0.318    24    48        7        0         1    22   \n",
       "334     142    0.187  0.281    38    50        9        2        15    37   \n",
       "335     140    0.264  0.270    24    74       16        0         3    27   \n",
       "336     109    0.258  0.395     6     8        1        0         1     6   \n",
       "\n",
       "     walks   ...     rbisperso  walksperso  obppererror  runspererror  \\\n",
       "0       22   ...        1.3000      0.2750       0.0755       17.2500   \n",
       "1       39   ...        0.9565      0.5652       0.0838       14.5000   \n",
       "2       63   ...        0.6293      0.5431       0.0562        9.0000   \n",
       "3       23   ...        0.7812      0.3594       0.0133        2.6818   \n",
       "4       70   ...        1.0943      1.3208       0.0384        9.6667   \n",
       "5       87   ...        1.1236      0.9775       0.0758       20.8000   \n",
       "6       15   ...        0.8444      0.3333       0.0336        3.0909   \n",
       "7       11   ...        0.6562      0.3438       0.0698        4.0000   \n",
       "8       24   ...        0.6923      0.9231       0.1090       13.3333   \n",
       "9       14   ...        0.3438      0.1458       0.0343        5.5714   \n",
       "10       5   ...        0.5556      0.2778       0.0354        0.8750   \n",
       "11      19   ...        0.3929      0.3393       0.0768        5.2500   \n",
       "12       2   ...        3.0000      2.0000       0.2800        4.0000   \n",
       "13       4   ...        0.6667      1.3333       0.3700        1.0000   \n",
       "14      53   ...        1.1719      0.8281       0.0460        8.6250   \n",
       "15      50   ...        0.7300      0.5000       0.0195        4.0000   \n",
       "16      42   ...        0.4262      0.6885       0.0357        4.3333   \n",
       "17      42   ...        0.6275      0.4118       0.0499        8.4286   \n",
       "18      22   ...        1.0000      0.8462       0.0538        3.6667   \n",
       "19      14   ...        0.5000      0.4667       0.0379        1.7143   \n",
       "20      95   ...        0.3377      0.6291       0.0124        2.9643   \n",
       "21      34   ...        0.4382      0.3820       0.0443       10.4286   \n",
       "22      20   ...        0.8182      0.9091       0.0725        2.6667   \n",
       "23       1   ...        0.4444      0.0556       0.2220        4.0000   \n",
       "24      90   ...        1.4925      1.3433       0.0244        6.3750   \n",
       "25      55   ...        1.2973      0.7432       0.0401        8.6250   \n",
       "26      39   ...        0.3617      0.8298       0.0867       11.2500   \n",
       "27      78   ...        0.9750      0.6500       0.0109        3.3750   \n",
       "28      36   ...        0.7143      0.6429       0.0614        8.6000   \n",
       "29      50   ...        0.4493      0.7246       0.0194        2.7500   \n",
       "..     ...   ...           ...         ...          ...           ...   \n",
       "307     23   ...        0.5000      0.5476       0.0840        8.2500   \n",
       "308     14   ...        0.5676      0.3784       0.0241        1.7500   \n",
       "309      3   ...        0.3636      0.2727       0.1340        4.5000   \n",
       "310     43   ...        1.2105      0.7544       0.0483        7.4286   \n",
       "311     44   ...        1.4426      0.7213       0.0500        9.6667   \n",
       "312     72   ...        0.9048      1.1429       0.0175        5.0000   \n",
       "313     34   ...        0.6531      0.6939       0.0409        5.4286   \n",
       "314     71   ...        1.2195      0.8659       0.0798       15.2000   \n",
       "315     53   ...        0.6581      0.4530       0.0562       10.6667   \n",
       "316     10   ...        0.8519      0.3704       0.1157       11.6667   \n",
       "317     84   ...        0.7222      1.1667       0.0253        6.1250   \n",
       "318     45   ...        1.1081      1.2162       0.0216        3.0000   \n",
       "319      9   ...        0.5789      0.2368       0.0357        2.0000   \n",
       "320     11   ...        0.3750      0.4583       0.0907        3.6667   \n",
       "321     35   ...        0.4359      0.2991       0.0950       12.6667   \n",
       "322     78   ...        0.8026      0.5132       0.0359       11.5000   \n",
       "323     68   ...        1.2222      0.9444       0.0299        8.8462   \n",
       "324     65   ...        1.0000      0.8333       0.0272        7.2000   \n",
       "325     58   ...        0.7000      0.8286       0.3770       76.0000   \n",
       "326     21   ...        0.8000      0.8400       0.0282        1.7500   \n",
       "327     25   ...        0.5238      0.2976       0.0129        2.0000   \n",
       "328     42   ...        0.8644      0.3559       0.0459       11.1429   \n",
       "329     33   ...        0.7419      0.3548       0.0474        6.5714   \n",
       "330     16   ...        0.4783      0.6957       0.1350        4.0000   \n",
       "331     39   ...        0.8125      1.2188       0.0195        2.2500   \n",
       "332      1   ...        0.1429      0.1429       0.1380        3.0000   \n",
       "333     15   ...        1.2222      0.8333       0.0398        3.0000   \n",
       "334     32   ...        0.3776      0.3265       0.0281        3.8000   \n",
       "335      5   ...        0.6429      0.1190       0.0245        2.1818   \n",
       "336      7   ...        0.5455      0.6364       0.3950        6.0000   \n",
       "\n",
       "     hitspererror  hrspererror  soserrors  sbsobp  sbsruns  sbshits  \n",
       "0         38.2500       7.7500        320   1.208      276      612  \n",
       "1         27.7500       4.5000        276   0.000        0        0  \n",
       "2         19.1667       2.8333        696   2.022      324      690  \n",
       "3          5.8182       0.5455       1408   6.132     1239     2688  \n",
       "4         18.7778       0.8889        477   1.038      261      507  \n",
       "5         34.0000       5.2000        445   8.338     2288     3740  \n",
       "6          7.8182       1.2727        495   0.000        0        0  \n",
       "7          9.5000       0.7500        128   0.558       32       76  \n",
       "8         20.3333       0.3333         78   4.578      560      854  \n",
       "9          9.1429       1.4286        672   3.120      507      832  \n",
       "10         4.7500       0.0000        144   0.566       14       76  \n",
       "11        11.2500       1.5000        224   0.921       63      135  \n",
       "12         5.0000       1.0000          1   0.000        0        0  \n",
       "13         6.0000       0.0000          3   0.000        0        0  \n",
       "14        17.6250       2.3750        512  11.408     2139     4371  \n",
       "15         8.6667       0.8667       1500   0.584      120      260  \n",
       "16        12.0000       0.3333        549   0.642       78      216  \n",
       "17        20.1429       2.2857        714   4.886      826     1974  \n",
       "18        13.5000       1.0000        156   0.646       44      162  \n",
       "19         5.0000       0.0000        210   0.530       24       70  \n",
       "20         4.7857       0.3571       4228  19.432     4648     7504  \n",
       "21        21.2857       0.8571        623  23.560     5548    11324  \n",
       "22         8.0000       0.3333        132   0.000        0        0  \n",
       "23        13.0000       1.0000         18   0.000        0        0  \n",
       "24        10.8750       1.1250       1072   0.782      204      348  \n",
       "25        18.7500       2.3750        592   3.210      690     1500  \n",
       "26        17.7500       0.2500        188  12.839     1665     2627  \n",
       "27         4.5625       1.1875       3840  10.470     3240     4380  \n",
       "28        16.8000       2.0000        280   2.149      301      588  \n",
       "29         6.0000       0.0000       1104   2.480      352      768  \n",
       "..            ...          ...        ...     ...      ...      ...  \n",
       "307       11.5000       0.7500        168   4.032      396      552  \n",
       "308        4.6667       0.0000        444   0.867       63      168  \n",
       "309        8.0000       1.0000         22   0.804       27       48  \n",
       "310       13.5714       3.8571        399   0.676      104      190  \n",
       "311       23.1667       2.8333        366   0.000        0        0  \n",
       "312        8.4211       0.1579       1197   9.296     2660     4480  \n",
       "313        9.0000       1.1429        343   0.000        0        0  \n",
       "314       35.8000       4.4000        410   7.182     1368     3222  \n",
       "315       16.5000       4.5000        702   0.000        0        0  \n",
       "316       18.0000       2.0000         81   5.552      560      864  \n",
       "317       10.4375       0.8750       1152   0.000        0        0  \n",
       "318        7.0000       0.0714        518   2.114      294      686  \n",
       "319        5.5000       0.2500        304   0.000        0        0  \n",
       "320        7.6667       1.3333         72   0.000        0        0  \n",
       "321       29.0000       6.3333        351   0.000        0        0  \n",
       "322       15.2000       4.4000       1520   9.334     2990     3952  \n",
       "323       15.6154       2.0000        936   1.556      460      812  \n",
       "324       13.4000       1.0000       1170  14.688     3888     7236  \n",
       "325      113.0000      17.0000         70   0.377       76      113  \n",
       "326        4.5000       0.1667        300   0.678       42      108  \n",
       "327        6.1818       0.4091       1848   3.113      484     1496  \n",
       "328       20.5714       3.8571        826   1.284      312      576  \n",
       "329       15.1429       2.8571        651   0.000        0        0  \n",
       "330       14.0000       0.5000         46   0.270        8       28  \n",
       "331        3.5625       0.1250        512   2.496      288      456  \n",
       "332        3.0000       0.0000          7   0.000        0        0  \n",
       "333        6.0000       0.1250        144   0.000        0        0  \n",
       "334        5.0000       1.5000        980   0.000        0        0  \n",
       "335        6.7273       0.2727        462   0.000        0        0  \n",
       "336        8.0000       1.0000         11   0.000        0        0  \n",
       "\n",
       "[337 rows x 28 columns]>"
      ]
     },
     "execution_count": 5,
     "metadata": {},
     "output_type": "execute_result"
    }
   ],
   "source": [
    "baseball.shape\n",
    "baseball.head"
   ]
  },
  {
   "cell_type": "code",
   "execution_count": null,
   "metadata": {
    "collapsed": true
   },
   "outputs": [],
   "source": [
    "# Write your answer here"
   ]
  },
  {
   "cell_type": "markdown",
   "metadata": {},
   "source": [
    "## Question 3\n",
    "\n",
    "Use the combinatorial optimization method of your choice to obtain a solution to the traveling salesman problem for the Brazilian cities described in the lecture notes, using minimum total distance as the criterion. Use the the first city listed in the dataset as \"home\" (*i.e.* the trip must start and end there). I will award 5 bonus points to the best solution!"
   ]
  },
  {
   "cell_type": "code",
   "execution_count": 4,
   "metadata": {
    "collapsed": true
   },
   "outputs": [],
   "source": [
    "def parse_latlon(x):\n",
    "    d, m, s = map(float, x.split(':'))\n",
    "    ms = m/60. + s/3600.\n",
    "    if d<0:\n",
    "        return d - ms\n",
    "    return d + ms\n",
    "\n",
    "cities =  pd.read_csv('../data/brasil_capitals.txt', \n",
    "                      names=['city','lat','lon'])[['lat','lon']].applymap(parse_latlon)"
   ]
  },
  {
   "cell_type": "code",
   "execution_count": null,
   "metadata": {
    "collapsed": true
   },
   "outputs": [],
   "source": [
    "# Write your answer here"
   ]
  },
  {
   "cell_type": "markdown",
   "metadata": {},
   "source": [
    "## Question 4\n",
    "\n",
    "The `../data/ebola` folder contains summarized reports of Ebola cases from three countries during the recent outbreak of the disease in West Africa. For each country, there are daily reports that contain various information about the outbreak in several cities in each country.\n",
    "\n",
    "From these data files, use `pandas` to import them and create a single data frame that includes the daily totals of new cases and deaths for each country."
   ]
  },
  {
   "cell_type": "code",
   "execution_count": null,
   "metadata": {
    "collapsed": true
   },
   "outputs": [],
   "source": [
    "# Write your answer here"
   ]
  }
 ],
 "metadata": {
  "anaconda-cloud": {},
  "kernelspec": {
   "display_name": "Python 3",
   "language": "python",
   "name": "python3"
  },
  "language_info": {
   "codemirror_mode": {
    "name": "ipython",
    "version": 3
   },
   "file_extension": ".py",
   "mimetype": "text/x-python",
   "name": "python",
   "nbconvert_exporter": "python",
   "pygments_lexer": "ipython3",
   "version": "3.6.2"
  }
 },
 "nbformat": 4,
 "nbformat_minor": 1
}
