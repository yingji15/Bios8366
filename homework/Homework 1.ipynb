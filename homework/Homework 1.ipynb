{
 "cells": [
  {
   "cell_type": "markdown",
   "metadata": {},
   "source": [
    "Answer all questions and submit them either as an IPython notebook, LaTeX document, or Markdown document. Each question is worth 25 points.\n",
    "\n",
    "This homework is due Friday, September 22, 2017."
   ]
  },
  {
   "cell_type": "code",
   "execution_count": 2,
   "metadata": {
    "collapsed": true
   },
   "outputs": [],
   "source": [
    "%matplotlib inline\n",
    "import matplotlib.pyplot as plt\n",
    "import pandas as pd\n",
    "import numpy as np"
   ]
  },
  {
   "cell_type": "markdown",
   "metadata": {},
   "source": [
    "## Question 1\n",
    "\n",
    "The data below provides counts of a flour beetle (Tribolium confusum) population at various points in time:"
   ]
  },
  {
   "cell_type": "code",
   "execution_count": 3,
   "metadata": {},
   "outputs": [
    {
     "data": {
      "text/plain": [
       "[<matplotlib.lines.Line2D at 0x11b558860>]"
      ]
     },
     "execution_count": 3,
     "metadata": {},
     "output_type": "execute_result"
    },
    {
     "data": {
      "image/png": "[encoded data removed]",
      "text/plain": [
       "<matplotlib.figure.Figure at 0x11b46bbe0>"
      ]
     },
     "metadata": {},
     "output_type": "display_data"
    }
   ],
   "source": [
    "days = 0,8,28,41,63,79,97,117,135,154\n",
    "beetles = 2,47,192,256,768,896,1120,896,1184,1024\n",
    "\n",
    "plt.plot(days, beetles)"
   ]
  },
  {
   "cell_type": "markdown",
   "metadata": {},
   "source": [
    "An elementary model for population growth is the logistic model:\n",
    "\n",
    "$$\\frac{dN}{dt} = rN\\left(1 - \\frac{N}{K}\\right)$$\n",
    "\n",
    "where $N$ is population size, $t$ is time, $r$ is a growth rate parameter, and $K$ is a parameter that represents the population carrying capacity of the environment. The solution to this differential equation is given by: \n",
    "\n",
    "$$N_t = f(t) = \\frac{KN_0}{N_0 + (K - N_0)\\exp(-rt)}$$\n",
    "\n",
    "where $N_t$ denotes the population size at time $t$. \n",
    "\n",
    "1. Fit the logistic growth model to the flour beetle data using optimization to minimize the sum of squared errors between model predictions and observed counts.\n",
    "\n",
    "2. In many population modeling applications, an assumption of lognormality is adopted. The simplest assumption would be that the $\\log(N_t)$ are independent and normally distributed with mean $\\log[f(t)]$ and variance $\\sigma^2$. Find the MLEs under this assumption, and provide estimates of standard errors and correlation between them."
   ]
  },
  {
   "cell_type": "code",
   "execution_count": 31,
   "metadata": {
    "collapsed": true
   },
   "outputs": [],
   "source": [
    "# Write your answer here\n",
    "#question 1\n",
    "#set up N(t) and squared error\n",
    "n_0=beetles[0]\n",
    "def pred(r,k,t): #prediction\n",
    "    nt=(k*n_0)/(n_0+(k-n_0)*np.exp(-r*t))\n",
    "    return nt\n",
    "\n",
    "def sse(para):\n",
    "    error=0\n",
    "    for i in np.arange(len(days)):\n",
    "        error=error+ ( pred(para[0], para[1], days[i]) - beetles[i])**2\n",
    "    return error"
   ]
  },
  {
   "cell_type": "code",
   "execution_count": 39,
   "metadata": {},
   "outputs": [
    {
     "name": "stdout",
     "output_type": "stream",
     "text": [
      "Optimization terminated successfully.\n",
      "         Current function value: 1477931.555556\n",
      "         Iterations: 6\n",
      "         Function evaluations: 48\n",
      "         Gradient evaluations: 12\n",
      "      fun: 1477931.5555564691\n",
      " hess_inv: array([[  3.77696296e-06,   4.26295680e-04],\n",
      "       [  4.26295680e-04,   5.15866153e-02]])\n",
      "      jac: array([ 0.,  0.])\n",
      "  message: 'Optimization terminated successfully.'\n",
      "     nfev: 48\n",
      "      nit: 6\n",
      "     njev: 12\n",
      "   status: 0\n",
      "  success: True\n",
      "        x: array([   5.95286864,  709.22254081])\n"
     ]
    }
   ],
   "source": [
    "from scipy.optimize import minimize \n",
    "\n",
    "res = minimize(sse, [0.1,0.1],options={'gtol': 1e-6, 'disp': True})\n",
    "print(res)"
   ]
  },
  {
   "cell_type": "code",
   "execution_count": 40,
   "metadata": {},
   "outputs": [
    {
     "data": {
      "text/plain": [
       "[<matplotlib.lines.Line2D at 0x11ea514a8>]"
      ]
     },
     "execution_count": 40,
     "metadata": {},
     "output_type": "execute_result"
    },
    {
     "data": {
      "image/png": "[encoded data removed]",
      "text/plain": [
       "<matplotlib.figure.Figure at 0x11e958b00>"
      ]
     },
     "metadata": {},
     "output_type": "display_data"
    }
   ],
   "source": [
    "#question2\n"
   ]
  },
  {
   "cell_type": "code",
   "execution_count": 42,
   "metadata": {},
   "outputs": [],
   "source": [
    "\n"
   ]
  },
  {
   "cell_type": "code",
   "execution_count": 43,
   "metadata": {},
   "outputs": [
    {
     "data": {
      "text/plain": [
       "5992139.9845661586"
      ]
     },
     "execution_count": 43,
     "metadata": {},
     "output_type": "execute_result"
    }
   ],
   "source": []
  },
  {
   "cell_type": "code",
   "execution_count": 44,
   "metadata": {},
   "outputs": [
    {
     "data": {
      "text/plain": [
       "5992139.9845661586"
      ]
     },
     "execution_count": 44,
     "metadata": {},
     "output_type": "execute_result"
    }
   ],
   "source": []
  },
  {
   "cell_type": "code",
   "execution_count": 27,
   "metadata": {},
   "outputs": [],
   "source": [
    "def add(x):\n",
    "    t=0\n",
    "    for i in np.arange(len(x)):\n",
    "        t=t+x[i]\n",
    "\n",
    "    return t"
   ]
  },
  {
   "cell_type": "code",
   "execution_count": 30,
   "metadata": {},
   "outputs": [
    {
     "data": {
      "text/plain": [
       "True"
      ]
     },
     "execution_count": 30,
     "metadata": {},
     "output_type": "execute_result"
    }
   ],
   "source": [
    "len(days)==len(beetles)"
   ]
  },
  {
   "cell_type": "markdown",
   "metadata": {},
   "source": [
    "## Question 2\n",
    "\n",
    "1. Implement simulated annealing for minimizing the AIC for the baseball salary regression problem. Model your algorithm on the example given in class. \n",
    "\n",
    "    1. Compare the effects of different cooling schedules (different temperatures and different durations at each temperature).  \n",
    "    2. Compare the effect of a proposal distribution that is discrete uniform over 2-neighborhoods versus one that is discrete uniform over 3-neighborhoods.\n",
    "\n",
    "2. Implement a genetic algorithm for minimizing the AIC for the baseball salary regression problem. Model your algorithm on Example 3.5. \n",
    "\n",
    "    1. Compare the effects of using different mutation rates.  \n",
    "    2. Compare the effects of using different generation sizes.  \n",
    "    3. Instead of the selection mechanism used in the class example, try using independent selection of both parents with probabilities proportional to their fitness.\n",
    "\n"
   ]
  },
  {
   "cell_type": "code",
   "execution_count": 3,
   "metadata": {
    "collapsed": true
   },
   "outputs": [],
   "source": [
    "baseball = pd.read_table('../data/baseball.dat', sep='\\s+')"
   ]
  },
  {
   "cell_type": "code",
   "execution_count": null,
   "metadata": {
    "collapsed": true
   },
   "outputs": [],
   "source": [
    "# Write your answer here"
   ]
  },
  {
   "cell_type": "markdown",
   "metadata": {},
   "source": [
    "## Question 3\n",
    "\n",
    "Use the combinatorial optimization method of your choice to obtain a solution to the traveling salesman problem for the Brazilian cities described in the lecture notes, using minimum total distance as the criterion. Use the the first city listed in the dataset as \"home\" (*i.e.* the trip must start and end there). I will award 5 bonus points to the best solution!"
   ]
  },
  {
   "cell_type": "code",
   "execution_count": 4,
   "metadata": {
    "collapsed": true
   },
   "outputs": [],
   "source": [
    "def parse_latlon(x):\n",
    "    d, m, s = map(float, x.split(':'))\n",
    "    ms = m/60. + s/3600.\n",
    "    if d<0:\n",
    "        return d - ms\n",
    "    return d + ms\n",
    "\n",
    "cities =  pd.read_csv('../data/brasil_capitals.txt', \n",
    "                      names=['city','lat','lon'])[['lat','lon']].applymap(parse_latlon)"
   ]
  },
  {
   "cell_type": "code",
   "execution_count": null,
   "metadata": {
    "collapsed": true
   },
   "outputs": [],
   "source": [
    "# Write your answer here"
   ]
  },
  {
   "cell_type": "markdown",
   "metadata": {},
   "source": [
    "## Question 4\n",
    "\n",
    "The `../data/ebola` folder contains summarized reports of Ebola cases from three countries during the recent outbreak of the disease in West Africa. For each country, there are daily reports that contain various information about the outbreak in several cities in each country.\n",
    "\n",
    "From these data files, use `pandas` to import them and create a single data frame that includes the daily totals of new cases and deaths for each country."
   ]
  },
  {
   "cell_type": "code",
   "execution_count": null,
   "metadata": {
    "collapsed": true
   },
   "outputs": [],
   "source": [
    "# Write your answer here\n",
    "\n"
   ]
  }
 ],
 "metadata": {
  "anaconda-cloud": {},
  "kernelspec": {
   "display_name": "Python 3",
   "language": "python",
   "name": "python3"
  },
  "language_info": {
   "codemirror_mode": {
    "name": "ipython",
    "version": 3
   },
   "file_extension": ".py",
   "mimetype": "text/x-python",
   "name": "python",
   "nbconvert_exporter": "python",
   "pygments_lexer": "ipython3",
   "version": "3.6.2"
  }
 },
 "nbformat": 4,
 "nbformat_minor": 1
}
