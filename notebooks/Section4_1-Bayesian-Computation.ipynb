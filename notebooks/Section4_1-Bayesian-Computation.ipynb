{
 "cells": [
  {
   "cell_type": "markdown",
   "metadata": {},
   "source": [
    "# Computational Methods in Bayesian Analysis\n",
    "\n",
    "The process of conducting Bayesian inference can be broken down into three general steps (Gelman *et al.* 2013):\n",
    "\n",
    "![](images/123.png)\n",
    "\n",
    "### Step 1: Specify a probability model\n",
    "\n",
    "As was noted above, Bayesian statistics involves using probability models to solve problems. So, the first task is to *completely specify* the model in terms of probability distributions. This includes everything: unknown parameters, data, covariates, missing data, predictions. All must be assigned some probability density.\n",
    "\n",
    "This step involves making choices.\n",
    "\n",
    "- what is the form of the sampling distribution of the data?\n",
    "- what form best describes our uncertainty in the unknown parameters?\n",
    "\n",
    "### Step 2: Calculate a posterior distribution\n",
    "\n",
    "The mathematical form \\\\(p(\\theta | y)\\\\) that we associated with the Bayesian approach is referred to as a **posterior distribution**.\n",
    "\n",
    "> posterior /pos·ter·i·or/ (pos-tēr´e-er) later in time; subsequent.\n",
    "\n",
    "Why posterior? Because it tells us what we know about the unknown \\\\(\\theta\\\\) *after* having observed \\\\(y\\\\).\n",
    "\n",
    "This posterior distribution is formulated as a function of the probability model that was specified in Step 1. Usually, we can write it down but we cannot calculate it analytically. In fact, the difficulty inherent in calculating the posterior distribution for most models of interest is perhaps the major contributing factor for the lack of widespread adoption of Bayesian methods for data analysis. Various strategies for doing so comprise this tutorial.\n",
    "\n",
    "**But**, once the posterior distribution is calculated, you get a lot for free:\n",
    "\n",
    "- point estimates\n",
    "- credible intervals\n",
    "- quantiles\n",
    "- predictions\n",
    "\n",
    "### Step 3: Check your model\n",
    "\n",
    "Though frequently ignored in practice, it is critical that the model and its outputs be assessed before using the outputs for inference. Models are specified based on assumptions that are largely unverifiable, so the least we can do is examine the output in detail, relative to the specified model and the data that were used to fit the model.\n",
    "\n",
    "Specifically, we must ask:\n",
    "\n",
    "- does the model fit data?\n",
    "- are the conclusions reasonable?\n",
    "- are the outputs sensitive to changes in model structure?\n",
    "\n",
    "\n",
    "## Example: binomial calculation\n",
    "\n",
    "Binomial model is suitable for data that are generated from a sequence of exchangeable Bernoulli trials. These data can be summarized by $y$, the number of times the event of interest occurs, and $n$, the total number of trials. The model parameter is the expected proportion of trials that an event occurs.\n",
    "\n",
    "\\\\[p(Y|\\theta) = \\frac{n!}{y! (n-y)!} \\theta^{y} (1-\\theta)^{n-y}\\\\]\n",
    "\n",
    "where $y \\in \\{0, 1, \\ldots, n\\}$ and $p \\in [0, 1]$.\n",
    "\n",
    "To perform Bayesian inference, we require the specification of a prior distribution. A reasonable choice is a uniform prior on [0,1] which has two implications:\n",
    "\n",
    "1. makes all probability values equally probable *a priori* \n",
    "2. makes calculation of the posterior easy\n",
    "\n",
    "The second task in performing Bayesian inference is, given a fully-specified model, to calculate a posterior distribution. As we have specified the model, we can calculate a posterior distribution up to a proportionality constant (that is, a probability distribution that is **unnormalized**):\n",
    "\n",
    "$$P(\\theta | n, y) \\propto P(y | n, \\theta) P(\\theta) = \\theta^y (1-\\theta)^{n-y}$$\n",
    "\n",
    "We can present different posterior distributions as a function of different realized data.\n",
    "\n",
    "We can also calculate posterior estimates for $\\theta$ by maximizing the unnormalized posterior using optimization. \n",
    "\n",
    "### Exercise: posterior estimation\n",
    "\n",
    "Write a function that returns posterior estimates of a binomial sampling model using a uniform prior on the unknown probability. Plot the posterior densities for each of the following datasets:\n",
    "\n",
    "1. n=5, y=3\n",
    "2. n=20, y=12\n",
    "3. n=100, y=60\n",
    "4. n=500, y=300\n",
    "\n",
    "what type of distribution do these plots look like?"
   ]
  },
  {
   "cell_type": "markdown",
   "metadata": {},
   "source": [
    "output is probability (easy to interpret)\n",
    "quantify uncertainty\n",
    "\n",
    "p(theta|y)=p(theta)p(y|theta)/p(y) prop p(theta)p(y|theta)\n",
    "p(theta):prior\n",
    "p(y|theta): likelihood\n",
    "theta: parameters\n",
    "\n",
    "after have post prob\n",
    "distribution\n",
    "\n",
    "prior: not to be fair but to get good answer\n",
    "\n",
    "book: bayesian data analysis\n"
   ]
  },
  {
   "cell_type": "code",
   "execution_count": 12,
   "metadata": {},
   "outputs": [
    {
     "data": {
      "image/png": "[encoded data removed]",
      "text/plain": [
       "<matplotlib.figure.Figure at 0x11533de10>"
      ]
     },
     "metadata": {},
     "output_type": "display_data"
    }
   ],
   "source": [
    "# Write your answer here\n",
    "%matplotlib inline\n",
    "import numpy as np\n",
    "import matplotlib.pyplot as plt\n",
    "\n",
    "n=5,20,100,500\n",
    "y=3,12,60,300\n",
    "\n",
    "fig,axes=plt.subplots(2,2,sharex=True)\n",
    "xvals=np.linspace(0,1,10000)\n",
    "\n",
    "post=lambda theta,n,y: (theta)**y*(1-theta)**(n-y)\n",
    "\n",
    "for i,ax in enumerate(axes.ravel()):\n",
    "    ax.plot(xvals,post(xvals,n[i],y[i]))\n",
    "\n",
    "plt.tight_layout()\n",
    "\n",
    "\n"
   ]
  },
  {
   "cell_type": "markdown",
   "metadata": {},
   "source": [
    "## Informative Priors\n",
    "\n",
    "Formally, we justify a non-informative prior by the **Principle of Insufficient Reason**, which states that uniform probability is justified when there is nothing known about the parameter in question. Frequently, it is inappropriate to employ an uninformative prior as we have done above. For some distributions there is no clear choice of such a prior, particularly when parameters are transformed. For example, a flat prior on the real line is not flat on the unit interval. \n",
    "\n",
    "There are two alternative interpretations of the prior distribution.\n",
    "\n",
    "1. **Population prior**: a distribution that represents a notional population of values for the parameter, from which those in the current experiment/study have been drawn.\n",
    "2. **Knowledge prior**: a distribution that represents our uncertainty about the true value of the parameter.\n",
    "\n",
    "In either case, a prior distribution should include in its support all parameter values that are plausible.\n",
    "\n",
    "Choosing an informative prior presents an analytic challenge with respect to the functional form of the prior distribution. We would like a prior that results in a posterior distribution that is simple to work with. Taking our binomial likelihood again as an example:\n",
    "\n",
    "$$P(\\theta | n, y) \\propto \\theta^y (1-\\theta)^{n-y}$$\n",
    "\n",
    "we can see that it is of the general form $\\theta^a (1-\\theta)^b$. Thus, we are looking for a parametric distribution that describes the distribution of or uncertainty in $\\theta$ that is of this general form. The **beta distribution** satisfies these criteria:\n",
    "\n",
    "$$P(\\theta | \\alpha, \\beta) \\propto \\theta^{\\alpha-1} (1-\\theta)^{\\beta-1}$$\n",
    "\n",
    "The parameters $\\alpha, \\beta$ are called **hyperparameters**, and here they suggest prior information corresponding to $\\alpha-1$ \"successes\" and $\\beta-1$ failures. \n",
    "\n",
    "Let's go ahead and calculate the posterior distribution:\n",
    "\n",
    "$$\\begin{eqnarray}\n",
    "P(\\theta | n, y) &\\propto& \\theta^y (1-\\theta)^{n-y} \\theta^{\\alpha-1} (1-\\theta)^{\\beta-1} \\\\\n",
    "    &=& \\theta^{y+\\alpha-1} (1-\\theta)^{n-y+\\beta-1} \\\\\n",
    "    &=& \\text{Beta}(\\alpha + y, \\beta + n -y) \\\\\n",
    "\\end{eqnarray}$$\n",
    "\n",
    "So, in this instance, the posterior distribution follows the same functional form as the prior. This phenomenon is referred to as **conjugacy**, whereby the beta distribution is in the conjugate family for the binomial sampling distribution.\n",
    "\n",
    "> What is the posterior distribution when a Beta(1,1) prior is used?\n",
    "\n",
    "Formally, we defined conjugacy by saying that a class $\\mathcal{P}$ is a conjugate prior for the class $\\mathcal{F}$ of likelihoods if:\n",
    "\n",
    "$$P(\\theta | y) \\propto f(y|\\theta) p(\\theta) \\in \\mathcal{P} \\text{ for all } f \\in \\mathcal{F} \\text{ and } p \\in \\mathcal{P}$$\n",
    "\n",
    "This definition is quite vague for practical application, so we are more interested in **natural** conjugates, whereby the conjugacy is specific to a particular distribution, and not just a class of distributions.\n",
    "\n",
    "In the case of the binomial model with a beta prior, we can now analytically calculate the posterior mean and variance for the model:\n",
    "\n",
    "$$E[\\theta|n,y] = \\frac{\\alpha + y}{\\alpha + \\beta + n}$$\n",
    "\n",
    "$$\\begin{eqnarray}\n",
    "\\text{Var}[\\theta|n,y] &=& \\frac{(\\alpha + y)(\\beta + n - y)}{(\\alpha + \\beta + n)^2(\\alpha + \\beta + n +1)} \\\\\n",
    "&=& \\frac{E[\\theta|n,y] (1-E[\\theta|n,y])}{\\alpha + \\beta + n +1}\n",
    "\\end{eqnarray}$$\n",
    "\n",
    "Notice that the posterior expectation will always fall between the sample and prior means.\n",
    "\n",
    "Notice also what happens when $y$ and $n-y$ get large."
   ]
  },
  {
   "cell_type": "markdown",
   "metadata": {},
   "source": [
    "## Exercise: probability of female birth given placenta previa\n",
    "\n",
    "Placenta previa is an unusual condition of pregnancy in which the placenta is implanted low in the uterus, complicating a normal delivery. An German study of the sex of placenta previa births found that of 980 births, 437 were female. \n",
    "\n",
    "How much evidence does this provide for the claim that the proportion of female births in the population of placenta previa births $\\theta$ is less than 0.485 (this is the proportion of female births in the general population)?\n",
    "\n",
    "1. Calculate the the posterior distribution for $\\theta$ using a uniform prior, and plot the prior, likelihood and posterior on the same axes.\n",
    "\n",
    "2. Find a prior distribution that has a mean of 0.485 and prior \"sample size\" of 100. Calculate the posterior distribution and plot the prior, likelihood and posterior on the same axes."
   ]
  },
  {
   "cell_type": "code",
   "execution_count": 13,
   "metadata": {
    "collapsed": true
   },
   "outputs": [],
   "source": [
    "# Write your answer here \n",
    "import scipy as sp\n"
   ]
  },
  {
   "cell_type": "code",
   "execution_count": 2,
   "metadata": {
    "collapsed": true
   },
   "outputs": [],
   "source": [
    "import scipy.stats as stats\n",
    "binom=stats.binom\n",
    "beta=stats.beta"
   ]
  },
  {
   "cell_type": "code",
   "execution_count": 7,
   "metadata": {},
   "outputs": [
    {
     "data": {
      "text/plain": [
       "array([ 0.28017375,  0.65242913,  0.69046319,  0.86556898,  0.2619746 ,\n",
       "        0.33813571,  0.77018829,  0.34314452,  0.90566829,  0.69966018])"
      ]
     },
     "execution_count": 7,
     "metadata": {},
     "output_type": "execute_result"
    }
   ],
   "source": [
    "beta(1,1).rvs(10)"
   ]
  },
  {
   "cell_type": "code",
   "execution_count": 11,
   "metadata": {
    "collapsed": true
   },
   "outputs": [],
   "source": [
    "N,F=980,437\n",
    "M=N-F"
   ]
  },
  {
   "cell_type": "code",
   "execution_count": 21,
   "metadata": {
    "collapsed": true
   },
   "outputs": [],
   "source": [
    "import seaborn as sns\n",
    "sns.set_style('ticks')\n",
    "sns.set_context('poster')"
   ]
  },
  {
   "cell_type": "code",
   "execution_count": 18,
   "metadata": {
    "collapsed": true
   },
   "outputs": [],
   "source": [
    "prior=beta(1,1).pdf(xvals)\n",
    "like=binom(n=N,p=xvals).pmf(F) #discrete so pmf, only contain data\n",
    "post=beta(F+1,M+1).pdf(xvals)"
   ]
  },
  {
   "cell_type": "code",
   "execution_count": 23,
   "metadata": {
    "collapsed": true
   },
   "outputs": [],
   "source": [
    "prior=beta(48.5,51.5).pdf(xvals)#change prior to 48.5,51.5\n",
    "like=binom(n=N,p=xvals).pmf(F) #discrete so pmf\n",
    "post=beta(F+48.5,M+51.5).pdf(xvals)"
   ]
  },
  {
   "cell_type": "code",
   "execution_count": 24,
   "metadata": {},
   "outputs": [
    {
     "data": {
      "text/plain": [
       "[<matplotlib.lines.Line2D at 0x114b1b2e8>]"
      ]
     },
     "execution_count": 24,
     "metadata": {},
     "output_type": "execute_result"
    },
    {
     "data": {
      "image/png": "[encoded data removed]",
      "text/plain": [
       "<matplotlib.figure.Figure at 0x1149ff8d0>"
      ]
     },
     "metadata": {},
     "output_type": "display_data"
    }
   ],
   "source": [
    "ax=plt.subplot()\n",
    "#fig,ax=plt.subplots(1,1,figsize=(14,8)) make it bigger\n",
    "ax.plot(xvals,post,'r-')\n",
    "ax2=ax.twinx()\n",
    "ax2.plot(xvals,like,'g:')\n",
    "ax.plot(xvals,prior,'b--')"
   ]
  },
  {
   "cell_type": "code",
   "execution_count": 14,
   "metadata": {},
   "outputs": [
    {
     "data": {
      "text/plain": [
       "[<matplotlib.lines.Line2D at 0x112964b70>]"
      ]
     },
     "execution_count": 14,
     "metadata": {},
     "output_type": "execute_result"
    },
    {
     "data": {
      "image/png": "[encoded data removed]",
      "text/plain": [
       "<matplotlib.figure.Figure at 0x110823588>"
      ]
     },
     "metadata": {},
     "output_type": "display_data"
    }
   ],
   "source": [
    "#my try\n",
    "post=lambda theta: (theta)**437*(1-theta)**(980-437)\n",
    "xvals=np.linspace(0,1,10000)\n",
    "\n",
    "plt.plot(xvals,post(xvals) )"
   ]
  },
  {
   "cell_type": "code",
   "execution_count": 16,
   "metadata": {},
   "outputs": [
    {
     "data": {
      "text/plain": [
       "array([  0.00000000e+00,   1.00010001e-04,   2.00020002e-04, ...,\n",
       "         9.99799980e-01,   9.99899990e-01,   1.00000000e+00])"
      ]
     },
     "execution_count": 16,
     "metadata": {},
     "output_type": "execute_result"
    }
   ],
   "source": [
    "xvals"
   ]
  },
  {
   "cell_type": "code",
   "execution_count": null,
   "metadata": {
    "collapsed": true
   },
   "outputs": [],
   "source": []
  },
  {
   "cell_type": "markdown",
   "metadata": {},
   "source": [
    "## Approximate Computation\n",
    "\n",
    "Most interesting Bayesian models cannot be computed analytically in closed form, or simulated from directly using random number generators for standard distributions.\n",
    "\n",
    "Bayesian analysis often requires integration over multiple dimensions that is intractable both via analytic methods or standard methods of numerical integration.\n",
    "However, it is often possible to compute these integrals by simulating\n",
    "(drawing samples) from posterior distributions. For example, consider the expected value of a random variable $\\mathbf{x}$:\n",
    "\n",
    "$$\\begin{gathered}\n",
    "\\begin{split}E[{\\bf x}] = \\int {\\bf x} f({\\bf x}) d{\\bf x}, \\qquad\n",
    "{\\bf x} = \\{x_1,...,x_k\\}\\end{split}\\notag\\\\\\begin{split}\\end{split}\\notag\\end{gathered}$$\n",
    "\n",
    "where $k$ (the dimension of vector $x$) is perhaps very large. If we can produce a reasonable number of random vectors $\\{{\\bf x_i}\\}$, we can use these values to approximate the unknown integral. This process is known as *Monte Carlo integration*. In general, MC integration allows integrals against probability density functions:\n",
    "\n",
    "$$\\begin{gathered}\n",
    "\\begin{split}I = \\int h(\\mathbf{x}) f(\\mathbf{x}) \\mathbf{dx}\\end{split}\\notag\\\\\\begin{split}\\end{split}\\notag\\end{gathered}$$\n",
    "\n",
    "to be estimated by finite sums:\n",
    "\n",
    "$$\\begin{gathered}\n",
    "\\begin{split}\\hat{I} = \\frac{1}{n}\\sum_{i=1}^n h(\\mathbf{x}_i),\\end{split}\\notag\\\\\\begin{split}\\end{split}\\notag\\end{gathered}$$\n",
    "\n",
    "where $\\mathbf{x}_i$ is a sample from $f$. This estimate is valid and useful because:\n",
    "\n",
    "-   By the strong law of large numbers:\n",
    "\n",
    "$$\\begin{gathered}\n",
    "\\begin{split}\\hat{I} \\rightarrow I   \\mbox{   with probability 1}\\end{split}\\notag\\\\\\begin{split}\\end{split}\\notag\\end{gathered}$$\n",
    "\n",
    "-   Simulation error can be measured and controlled:\n",
    "\n",
    "$$Var(\\hat{I}) = \\frac{1}{n(n-1)}\\sum_{i=1}^n\n",
    "   (h(\\mathbf{x}_i)-\\hat{I})^2$$"
   ]
  },
  {
   "cell_type": "markdown",
   "metadata": {},
   "source": [
    "### How is this relevant to Bayesian analysis? \n",
    "\n",
    "When we observe data $y$ that we hypothesize as being obtained from a sampling model $f(y|\\theta)$, where $\\theta$ is a vector of (unknown) model parameters, a Bayesian places a *prior* distribution $p(\\theta)$ on the parameters to describe the uncertainty in the true values of the parameters. Bayesian inference, then, is obtained by calculating the *posterior* distribution, which is proportional to the product of these quantities:\n",
    "\n",
    "$$p(\\theta | y) \\propto f(y|\\theta) p(\\theta)$$\n",
    "\n",
    "unfortunately, for most problems of interest, the normalizing constant cannot be calculated because it involves mutli-dimensional integration over $\\theta$.\n",
    "\n",
    "Returning to our integral for MC sampling, if we replace $f(\\mathbf{x})$\n",
    "with a posterior, $p(\\theta|y)$ and make $h(\\theta)$ an interesting function of the unknown parameter, the resulting expectation is that of the posterior of $h(\\theta)$:\n",
    "\n",
    "$$E[h(\\theta)|y] = \\int h(\\theta) p(\\theta|y) d\\theta \\approx \\frac{1}{n}\\sum_{i=1}^n h(\\theta)$$\n",
    "\n",
    "We also require integrals to obtain marginal estimates from a joint model. If $\\theta$ is of length $K$, then inference about any particular parameter is obtained by:\n",
    "\n",
    "$$p(\\theta_i|y) \\propto \\int p(\\theta|y) d\\theta_{-i}$$\n",
    "\n",
    "where the `-i` subscript indicates all elements except the $i^{th}$."
   ]
  },
  {
   "cell_type": "markdown",
   "metadata": {},
   "source": [
    "## Example: Overdispersion Model\n",
    "\n",
    "[Tsutakawa et al. (1985)](http://onlinelibrary.wiley.com/doi/10.1002/sim.4780040210/abstract) provides mortality data for stomach cancer among men aged 45-64 in several cities in Missouri. The file `cancer.csv` contains deaths $y_i$ and subjects at risk $n_i$ for 20 cities from this dataset."
   ]
  },
  {
   "cell_type": "code",
   "execution_count": 9,
   "metadata": {},
   "outputs": [
    {
     "data": {
      "text/html": [
       "<div>\n",
       "<style>\n",
       "    .dataframe thead tr:only-child th {\n",
       "        text-align: right;\n",
       "    }\n",
       "\n",
       "    .dataframe thead th {\n",
       "        text-align: left;\n",
       "    }\n",
       "\n",
       "    .dataframe tbody tr th {\n",
       "        vertical-align: top;\n",
       "    }\n",
       "</style>\n",
       "<table border=\"1\" class=\"dataframe\">\n",
       "  <thead>\n",
       "    <tr style=\"text-align: right;\">\n",
       "      <th></th>\n",
       "      <th>y</th>\n",
       "      <th>n</th>\n",
       "    </tr>\n",
       "  </thead>\n",
       "  <tbody>\n",
       "    <tr>\n",
       "      <th>0</th>\n",
       "      <td>0</td>\n",
       "      <td>1083</td>\n",
       "    </tr>\n",
       "    <tr>\n",
       "      <th>1</th>\n",
       "      <td>0</td>\n",
       "      <td>855</td>\n",
       "    </tr>\n",
       "    <tr>\n",
       "      <th>2</th>\n",
       "      <td>2</td>\n",
       "      <td>3461</td>\n",
       "    </tr>\n",
       "    <tr>\n",
       "      <th>3</th>\n",
       "      <td>0</td>\n",
       "      <td>657</td>\n",
       "    </tr>\n",
       "    <tr>\n",
       "      <th>4</th>\n",
       "      <td>1</td>\n",
       "      <td>1208</td>\n",
       "    </tr>\n",
       "    <tr>\n",
       "      <th>5</th>\n",
       "      <td>1</td>\n",
       "      <td>1025</td>\n",
       "    </tr>\n",
       "    <tr>\n",
       "      <th>6</th>\n",
       "      <td>0</td>\n",
       "      <td>527</td>\n",
       "    </tr>\n",
       "    <tr>\n",
       "      <th>7</th>\n",
       "      <td>2</td>\n",
       "      <td>1668</td>\n",
       "    </tr>\n",
       "    <tr>\n",
       "      <th>8</th>\n",
       "      <td>1</td>\n",
       "      <td>583</td>\n",
       "    </tr>\n",
       "    <tr>\n",
       "      <th>9</th>\n",
       "      <td>3</td>\n",
       "      <td>582</td>\n",
       "    </tr>\n",
       "    <tr>\n",
       "      <th>10</th>\n",
       "      <td>0</td>\n",
       "      <td>917</td>\n",
       "    </tr>\n",
       "    <tr>\n",
       "      <th>11</th>\n",
       "      <td>1</td>\n",
       "      <td>857</td>\n",
       "    </tr>\n",
       "    <tr>\n",
       "      <th>12</th>\n",
       "      <td>1</td>\n",
       "      <td>680</td>\n",
       "    </tr>\n",
       "    <tr>\n",
       "      <th>13</th>\n",
       "      <td>1</td>\n",
       "      <td>917</td>\n",
       "    </tr>\n",
       "    <tr>\n",
       "      <th>14</th>\n",
       "      <td>54</td>\n",
       "      <td>53637</td>\n",
       "    </tr>\n",
       "    <tr>\n",
       "      <th>15</th>\n",
       "      <td>0</td>\n",
       "      <td>874</td>\n",
       "    </tr>\n",
       "    <tr>\n",
       "      <th>16</th>\n",
       "      <td>0</td>\n",
       "      <td>395</td>\n",
       "    </tr>\n",
       "    <tr>\n",
       "      <th>17</th>\n",
       "      <td>1</td>\n",
       "      <td>581</td>\n",
       "    </tr>\n",
       "    <tr>\n",
       "      <th>18</th>\n",
       "      <td>3</td>\n",
       "      <td>588</td>\n",
       "    </tr>\n",
       "    <tr>\n",
       "      <th>19</th>\n",
       "      <td>0</td>\n",
       "      <td>383</td>\n",
       "    </tr>\n",
       "  </tbody>\n",
       "</table>\n",
       "</div>"
      ],
      "text/plain": [
       "     y      n\n",
       "0    0   1083\n",
       "1    0    855\n",
       "2    2   3461\n",
       "3    0    657\n",
       "4    1   1208\n",
       "5    1   1025\n",
       "6    0    527\n",
       "7    2   1668\n",
       "8    1    583\n",
       "9    3    582\n",
       "10   0    917\n",
       "11   1    857\n",
       "12   1    680\n",
       "13   1    917\n",
       "14  54  53637\n",
       "15   0    874\n",
       "16   0    395\n",
       "17   1    581\n",
       "18   3    588\n",
       "19   0    383"
      ]
     },
     "execution_count": 9,
     "metadata": {},
     "output_type": "execute_result"
    }
   ],
   "source": [
    "import pandas as pd\n",
    "\n",
    "cancer = pd.read_csv('../data/cancer.csv')\n",
    "cancer\n",
    "#n: num at risk, y: death"
   ]
  },
  {
   "cell_type": "markdown",
   "metadata": {},
   "source": [
    "If we use a simple binomial model, which assumes independent samples from a binomial distribution with probability of mortality $p$, we can use MLE to obtain an estimate of this probability."
   ]
  },
  {
   "cell_type": "code",
   "execution_count": 5,
   "metadata": {},
   "outputs": [
    {
     "data": {
      "text/plain": [
       "0.00099331262766165821"
      ]
     },
     "execution_count": 5,
     "metadata": {},
     "output_type": "execute_result"
    }
   ],
   "source": [
    "ytotal, ntotal = cancer.sum().astype(float)\n",
    "p_hat = ytotal/ntotal\n",
    "p_hat\n",
    "#binomial MLE"
   ]
  },
  {
   "cell_type": "markdown",
   "metadata": {},
   "source": [
    "However, if we compare the variation of $y$ under this model, it is to small relative to the observed variation:"
   ]
  },
  {
   "cell_type": "code",
   "execution_count": 6,
   "metadata": {},
   "outputs": [
    {
     "data": {
      "text/plain": [
       "70.929474803436037"
      ]
     },
     "execution_count": 6,
     "metadata": {},
     "output_type": "execute_result"
    }
   ],
   "source": [
    "p_hat*(1.-p_hat)*ntotal #predicted variance, assume cities are the same"
   ]
  },
  {
   "cell_type": "code",
   "execution_count": 7,
   "metadata": {},
   "outputs": [
    {
     "data": {
      "text/plain": [
       "141.94473684210527"
      ]
     },
     "execution_count": 7,
     "metadata": {},
     "output_type": "execute_result"
    }
   ],
   "source": [
    "cancer.y.var() #observed variance"
   ]
  },
  {
   "cell_type": "markdown",
   "metadata": {},
   "source": [
    "Hence, the data are strongly overdispersed relative to what is predicted under a model with a fixed probability of death. A more realistic model would allow for these probabilities to vary among the cities. One way of representing this is conjugating the binomial distribution with another distribution that describes the variation in the binomial probability. A sensible choice for this is the **beta distribution**:\n",
    "\n",
    "$$f(p \\mid \\alpha, \\beta) = \\frac{\\Gamma(\\alpha + \\beta)}{\\Gamma(\\alpha) \\Gamma(\\beta)} p^{\\alpha - 1} (1 - p)^{\\beta - 1}$$\n",
    "\n",
    "Conjugating this with the binomial distribution, and reparameterizing such that $\\alpha = K\\eta$ and $\\beta = K(1-\\eta)$ for $K > 0$ and $\\eta \\in (0,1)$ results in the **beta-binomial distribution**:\n",
    "\n",
    "$$f(y \\mid K, \\eta) = \\frac{n!}{y!(n-y)!} \\frac{B(K\\eta+y, K(1-\\eta) + n - y)}{B(K\\eta, K(1-\\eta))}$$\n",
    "\n",
    "where $B$ is the beta function.\n",
    "\n",
    "What remains is to place priors over the parameters $K$ and $\\eta$. Common choices for diffuse (*i.e.* vague or uninformative) priors are:\n",
    "\n",
    "$$\\begin{aligned}\n",
    "p(K) &\\propto \\frac{1}{(1+K)^2} \\cr\n",
    "p(\\eta) &\\propto \\frac{1}{\\eta(1-\\eta)}\n",
    "\\end{aligned}$$\n",
    "\n",
    "These are not normalized, but our posterior will not be normalized anyhow, so this is not an issue."
   ]
  },
  {
   "cell_type": "code",
   "execution_count": 8,
   "metadata": {},
   "outputs": [
    {
     "name": "stderr",
     "output_type": "stream",
     "text": [
      "/Users/ying/anaconda2/envs/bios8366/lib/python3.6/site-packages/ipykernel_launcher.py:13: RuntimeWarning: divide by zero encountered in true_divide\n",
      "  del sys.path[0]\n"
     ]
    },
    {
     "data": {
      "text/plain": [
       "<matplotlib.text.Text at 0x116cb0d68>"
      ]
     },
     "execution_count": 8,
     "metadata": {},
     "output_type": "execute_result"
    },
    {
     "data": {
      "image/png": "[encoded data removed]",
      "text/plain": [
       "<matplotlib.figure.Figure at 0x116378d68>"
      ]
     },
     "metadata": {},
     "output_type": "display_data"
    }
   ],
   "source": [
    "%matplotlib inline\n",
    "import numpy as np\n",
    "import matplotlib.pyplot as plt\n",
    "\n",
    "fig, axes = plt.subplots(1, 2, figsize=(10,4))\n",
    "K_x = np.linspace(0, 10)\n",
    "K_prior = lambda K: 1./(1. + K)**2\n",
    "axes[0].plot(K_x, K_prior(K_x))\n",
    "axes[0].set_xlabel('K')\n",
    "axes[0].set_ylabel('p(K)')\n",
    "\n",
    "eta_x = np.linspace(0, 1)\n",
    "eta_prior = lambda eta: 1./(eta*(1.-eta)) \n",
    "axes[1].plot(eta_x, eta_prior(eta_x))\n",
    "axes[1].set_xlabel(r'$\\eta$')\n",
    "axes[1].set_ylabel(r'p($\\eta$)')"
   ]
  },
  {
   "cell_type": "markdown",
   "metadata": {},
   "source": [
    "Now, by multiplying these quantities together, we can obtain a non-normalized posterior.\n",
    "\n",
    "$$p(K, \\eta | \\mathbf{y}) \\propto \\frac{1}{(1+K)^2} \\frac{1}{\\eta(1-\\eta)} \\prod_i \\frac{B(K\\eta+y_i, K(1-\\eta) + n_i - y_i)}{B(K\\eta, K(1-\\eta))}$$\n",
    "\n",
    "This can be calculated in Python as follows (log-transformed):"
   ]
  },
  {
   "cell_type": "markdown",
   "metadata": {},
   "source": [
    "rudimentary: draw unnormalized distribution"
   ]
  },
  {
   "cell_type": "code",
   "execution_count": 14,
   "metadata": {},
   "outputs": [
    {
     "data": {
      "text/plain": [
       "-605.06645607721157"
      ]
     },
     "execution_count": 14,
     "metadata": {},
     "output_type": "execute_result"
    }
   ],
   "source": [
    "from scipy.special import betaln\n",
    "\n",
    "def betabin_post(params, n, y):\n",
    "\n",
    "    K, eta = params #tupple of 2 para\n",
    "    post = betaln(K*eta + y, K*(1.-eta) + n - y).sum()\n",
    "    post -= len(y)*betaln(K*eta, K*(1.-eta))\n",
    "    post -= np.log(eta*(1.-eta))\n",
    "    post -= 2.*np.log(1.+K)\n",
    "    \n",
    "    return post\n",
    "        \n",
    "betabin_post((15000, 0.003), cancer.n, cancer.y)        "
   ]
  },
  {
   "cell_type": "markdown",
   "metadata": {},
   "source": [
    "This posterior can be evaluated on a grid to give us an idea about its general shape. We can see that it is skewed in both dimensions:"
   ]
  },
  {
   "cell_type": "code",
   "execution_count": 15,
   "metadata": {},
   "outputs": [
    {
     "data": {
      "image/png": "[encoded data removed]",
      "text/plain": [
       "<matplotlib.figure.Figure at 0x117fbb5c0>"
      ]
     },
     "metadata": {},
     "output_type": "display_data"
    }
   ],
   "source": [
    "# Create grid\n",
    "K_x = np.linspace(1, 20000)\n",
    "eta_x = np.linspace(0.0001, 0.003)\n",
    "\n",
    "# Calculate posterior on grid\n",
    "z = np.array([[betabin_post((K, eta), cancer.n, cancer.y) \n",
    "               for eta in eta_x] for K in K_x])\n",
    "\n",
    "# Plot posterior\n",
    "x, y = np.meshgrid(eta_x, K_x)\n",
    "cplot = plt.contour(x, y, z-z.max(), [-4, -3, -2, -1, -0.5], cmap=plt.cm.RdBu)\n",
    "plt.ylabel('K')\n",
    "plt.xlabel('$\\eta$');"
   ]
  },
  {
   "cell_type": "markdown",
   "metadata": {},
   "source": [
    "To deal with the extreme skewness in the precision parameter $K$ and to facilitate modeling, we can transform the beta-binomial parameters to the real line via:\n",
    "\n",
    "$$\\begin{aligned}\n",
    "\\theta_1 &= \\log(K) \\cr\n",
    "\\theta_2 &= \\log\\left(\\frac{\\eta}{1-\\eta}\\right)\n",
    "\\end{aligned}$$\n",
    "\n",
    "which we can easily implement by modifiying `betabin_post`:"
   ]
  },
  {
   "cell_type": "markdown",
   "metadata": {},
   "source": [
    "logit transformation: (0,1) to real line \n",
    "    logistic regression use this"
   ]
  },
  {
   "cell_type": "code",
   "execution_count": 16,
   "metadata": {},
   "outputs": [
    {
     "data": {
      "text/plain": [
       "-576.79668610789224"
      ]
     },
     "execution_count": 16,
     "metadata": {},
     "output_type": "execute_result"
    }
   ],
   "source": [
    "def betabin_trans(theta, n, y):\n",
    "    K = np.exp(theta[0])\n",
    "    eta = 1./(1. + np.exp(-theta[1]))\n",
    "    \n",
    "    post = (betaln(K*eta + y, K*(1.-eta) + n - y) - betaln(K*eta, K*(1.-eta))).sum()\n",
    "    post += theta[0]\n",
    "    post -= 2.*np.log(1.+np.exp(theta[0]))\n",
    "    \n",
    "    return post\n",
    "    \n",
    "betabin_trans((10, -7.5), cancer.n, cancer.y)"
   ]
  },
  {
   "cell_type": "code",
   "execution_count": 13,
   "metadata": {},
   "outputs": [
    {
     "data": {
      "image/png": "[encoded data removed]",
      "text/plain": [
       "<matplotlib.figure.Figure at 0x116378160>"
      ]
     },
     "metadata": {},
     "output_type": "display_data"
    }
   ],
   "source": [
    "# Create grid\n",
    "log_K_x = np.linspace(0, 20)\n",
    "logit_eta_x = np.linspace(-8, -5)\n",
    "\n",
    "# Calculate posterior on grid\n",
    "z = np.array([[betabin_trans((t1, t2), cancer.n, cancer.y) \n",
    "             for t2 in logit_eta_x] for t1 in log_K_x])\n",
    "\n",
    "# Plot posterior\n",
    "x, y = np.meshgrid(logit_eta_x, log_K_x)\n",
    "cplot = plt.contour(x, y, z - z.max(), levels=[-8, -4, -2, -1, -0.5], cmap=plt.cm.RdBu)\n",
    "plt.clabel(cplot, inline=1, fontsize=10, fmt='%1.1f')\n",
    "plt.ylabel('log(K)')\n",
    "plt.xlabel('logit($\\eta$)');"
   ]
  },
  {
   "cell_type": "markdown",
   "metadata": {},
   "source": [
    "## Approximation Methods\n",
    "\n",
    "An alternative approach to summarizing a $p$-dimensional posterior distribution involves estimating the mode of the posterior, and approximating the density as multivariate normal. If we consider the logarithm of the unnormalized joint posterior:\n",
    "\n",
    "$$h(\\theta | y) = \\log[f(y|\\theta) p(\\theta)]$$\n",
    "\n",
    "one way to approximate this function is to usd a second-order Taylor series expansion around the mode $\\hat{\\theta}$:\n",
    "\n",
    "$$h(\\theta | y) \\approx h(\\hat{\\theta} | y) + \\frac{1}{2}(\\theta-\\hat{\\theta})' h''(\\hat{\\theta} | y) (\\theta-\\hat{\\theta})$$\n",
    "\n",
    "This form is simply the multivariate normal distribution with $\\hat{\\theta}$ as the mean and the inverse negative Hessian as the covariance matrix:\n",
    "\n",
    "$$\\Sigma = -h''(\\hat{\\theta} | y)^{-1}$$\n",
    "\n",
    "We can apply one of several numerical methods for multivariate optimization to numerically estimate the mode of the posterior. Here, we will use the Broyden–Fletcher–Goldfarb–Shanno (BFGS) algorithm that is provided by SciPy. In addition to returning an estimate of the mode, it returns the estimated variance-covariance matrix, which we will need to parameterize the mutlivariate normal distribution.\n",
    "\n",
    "Applying this to the beta-binomial posterior estimation problem, we simply provide an initial guess for the mode:"
   ]
  },
  {
   "cell_type": "markdown",
   "metadata": {},
   "source": [
    "multivariate normal: usually not a bad approximation "
   ]
  },
  {
   "cell_type": "code",
   "execution_count": 17,
   "metadata": {},
   "outputs": [
    {
     "data": {
      "text/plain": [
       "(array([ 7.57749772, -6.81890711]), array([[ 1.34564945, -0.17003434],\n",
       "        [-0.17003434,  0.07407434]]))"
      ]
     },
     "execution_count": 17,
     "metadata": {},
     "output_type": "execute_result"
    }
   ],
   "source": [
    "from scipy.optimize import minimize\n",
    "\n",
    "betabin_trans_min = lambda *args: -betabin_trans(*args)\n",
    "\n",
    "init_value = (10, -7.5) #pick from figure above\n",
    "\n",
    "opt = minimize(betabin_trans_min, init_value, method='L-BFGS-B',\n",
    "          args=(cancer.n.values, cancer.y.values))\n",
    "mode = opt.x\n",
    "var = opt.hess_inv.todense() \n",
    "mode, var"
   ]
  },
  {
   "cell_type": "markdown",
   "metadata": {},
   "source": [
    "Thus, our approximated mode is $\\log(K)=7.6$, $\\text{logit}(\\eta)=-6.8$. We can plug this value, along with the variance-covariance matrix, into a function that returns the kernel of a multivariate normal distribution, and use this to plot the approximate posterior:"
   ]
  },
  {
   "cell_type": "code",
   "execution_count": 18,
   "metadata": {
    "collapsed": true
   },
   "outputs": [],
   "source": [
    "det = np.linalg.det #determinant of array \n",
    "inv = np.linalg.inv #inverse of matrix\n",
    "\n",
    "def lmvn(value, mu, Sigma):\n",
    "    # Log kernel of multivariate normal\n",
    "    delta = np.array(value) - mu\n",
    "    return -0.5 * (np.log(det(Sigma)) + np.dot(delta, np.dot(inv(Sigma), delta)))"
   ]
  },
  {
   "cell_type": "code",
   "execution_count": 16,
   "metadata": {},
   "outputs": [
    {
     "data": {
      "image/png": "[encoded data removed]",
      "text/plain": [
       "<matplotlib.figure.Figure at 0x119024dd8>"
      ]
     },
     "metadata": {},
     "output_type": "display_data"
    }
   ],
   "source": [
    "z = np.array([[lmvn((t1, t2), mode, var) \n",
    "             for t2 in logit_eta_x] for t1 in log_K_x])\n",
    "x, y = np.meshgrid(logit_eta_x, log_K_x)\n",
    "cplot = plt.contour(x, y, z - z.max(), levels=[-8, -4, -2, -1, -0.5], cmap=plt.cm.RdBu)\n",
    "plt.ylabel('log(K)')\n",
    "plt.xlabel('logit($\\eta$)');"
   ]
  },
  {
   "cell_type": "markdown",
   "metadata": {},
   "source": [
    "Along with this, we can estimate a 95% probability interval for the estimated mode:"
   ]
  },
  {
   "cell_type": "code",
   "execution_count": 17,
   "metadata": {
    "scrolled": true
   },
   "outputs": [
    {
     "data": {
      "text/plain": [
       "(5.3038977225426773, 9.8510977251964071)"
      ]
     },
     "execution_count": 17,
     "metadata": {},
     "output_type": "execute_result"
    }
   ],
   "source": [
    "from scipy.stats.distributions import norm\n",
    "\n",
    "se = np.sqrt(np.diag(var))\n",
    "\n",
    "mode[0] + norm.ppf(0.025)*se[0], mode[0] + norm.ppf(0.975)*se[0]"
   ]
  },
  {
   "cell_type": "code",
   "execution_count": 18,
   "metadata": {},
   "outputs": [
    {
     "data": {
      "text/plain": [
       "(-7.3523427005087774, -6.2854715136757671)"
      ]
     },
     "execution_count": 18,
     "metadata": {},
     "output_type": "execute_result"
    }
   ],
   "source": [
    "mode[1] + norm.ppf(0.025)*se[1], mode[1] + norm.ppf(0.975)*se[1]"
   ]
  },
  {
   "cell_type": "markdown",
   "metadata": {},
   "source": [
    "probability intervals\n",
    "transform: make it normal (becasue if very skewed, can't just do normal)"
   ]
  },
  {
   "cell_type": "markdown",
   "metadata": {},
   "source": [
    "Of course, this approximation is only reasonable for posteriors that are not strongly skewed, bimodal, or leptokurtic (heavy-tailed)."
   ]
  },
  {
   "cell_type": "markdown",
   "metadata": {},
   "source": [
    "## Rejection Sampling\n",
    "\n",
    "Though Monte Carlo integration allows us to estimate integrals that are unassailable by analysis and standard numerical methods, it relies on the ability to draw samples from the posterior distribution. For known parametric forms, this is not a problem; probability integral transforms or bivariate techniques (e.g Box-Muller method) may be used to obtain samples from uniform pseudo-random variates generated from a computer. Often, however, we cannot readily generate random values from non-standard posteriors. In such instances, we can use rejection sampling to generate samples.\n",
    "\n",
    "Posit a function, $f(x)$ which can be evaluated for any value on the support of $x:S_x = [A,B]$, but may not be integrable or easily sampled from. If we can calculate the maximum value of $f(x)$, we can then define a rectangle that is guaranteed to contain all possible values\n",
    "$(x,f(x))$. It is then trivial to generate points over the box and enumerate the values that fall under the curve.\n",
    "\n",
    "\n",
    "$$\\begin{gathered}\n",
    "\\begin{split}\\frac{\\mbox{Points under curve}}{\\mbox{Points generated}} \\times \\mbox{box area} = \\lim_{n \\to \\infty} \\int_A^B f(x) dx\\end{split}\\notag\\\\\\begin{split}\\end{split}\\notag\\end{gathered}$$\n",
    "\n",
    "### Example: triangular distribution"
   ]
  },
  {
   "cell_type": "markdown",
   "metadata": {},
   "source": [
    "triangular: expert opinions"
   ]
  },
  {
   "cell_type": "code",
   "execution_count": 2,
   "metadata": {
    "collapsed": true
   },
   "outputs": [],
   "source": [
    "def rtriangle(low, high, mode):\n",
    "    alpha = -1\n",
    "    while np.random.random() > alpha:\n",
    "        u = np.random.uniform(low, high) #draw random value from 2 dimension\n",
    "        if u < mode: \n",
    "            alpha = (u - low) / (mode - low)\n",
    "        else:\n",
    "            alpha = (high - u) / (high - mode)\n",
    "    return(u)"
   ]
  },
  {
   "cell_type": "code",
   "execution_count": 20,
   "metadata": {},
   "outputs": [
    {
     "data": {
      "image/png": "[encoded data removed]",
      "text/plain": [
       "<matplotlib.figure.Figure at 0x11907e518>"
      ]
     },
     "metadata": {},
     "output_type": "display_data"
    }
   ],
   "source": [
    "_ = plt.hist([rtriangle(0, 7, 2) for t in range(10000)], bins=100)"
   ]
  },
  {
   "cell_type": "markdown",
   "metadata": {},
   "source": [
    "This approach is useful, for example, in estimating the normalizing constant for posterior distributions.\n",
    "\n",
    "\n",
    "If $f(x)$ has **unbounded support** (i.e. infinite tails), such as a Gaussian distribution, a bounding box is no longer appropriate. We must specify a majorizing (or, enveloping) function, $g(x)$, which implies:\n",
    "\n",
    "$$\\begin{gathered}\n",
    "\\begin{split}cg(x) \\ge  f(x) \\qquad\\forall x \\in (-\\infty,\\infty)\\end{split}\\notag\\\\\\begin{split}\\end{split}\\notag\\end{gathered}$$\n",
    "\n",
    "Having done this, we can now sample ${x_i}$ from $g(x)$ and accept or reject each of these values based upon $f(x_i)$. Specifically, for each draw $x_i$, we also draw a uniform random variate $u_i$ and accept $x_i$\n",
    "if $u_i < f(x_i)/cg(x_i)$, where $c$ is a constant. This procedure is repeated until a sufficient number of samples is obtained. This approach is made more efficient by choosing an **enveloping distribution** that is “close” to the target distribution, thus maximizing the number of accepted points. \n",
    "\n",
    "To apply rejection sampling to the beta-binomial example, we first need to find a majorizing function $g(x)$ from which we can easily draw samples. We have seen in the previous section that the multivariate normal might serve as a suitable candidate, if multiplied by an appropriately large value of $c$. However, the thinness of the normal tails makes it difficult to use as a majorizing function. Instead, a multivariate Student's T distribution offers heavier tails for a suitably-small value for the degrees of freedom $\\nu$:\n",
    "\n",
    "$$f(\\mathbf{x}| \\nu,\\mu,\\Sigma) = \\frac{\\Gamma\\left[(\\nu+p)/2\\right]}{\\Gamma(\\nu/2)\\nu^{p/2}\\pi^{p/2}\\left|{\\Sigma}\\right|^{1/2}\\left[1+\\frac{1}{\\nu}({\\mathbf x}-{\\mu})^T{\\Sigma}^{-1}({\\mathbf x}-{\\mu})\\right]^{(\\nu+p)/2}}$$"
   ]
  },
  {
   "cell_type": "markdown",
   "metadata": {},
   "source": [
    "We can draw samples from a multivariate-T density by combining mutlivariate normal and $\\chi^2$ random variates:\n",
    "\n",
    "> ### Generating multivariate-T samples\n",
    "\n",
    "> If $X$ is distributed multivariate normal $\\text{MVN}(\\mathbf{0},\\Sigma)$ and $S$ is a $\\chi^2$ random variable with $\\mu$ degrees of freedom, then a multivariate Student's-T random variable $T = T_1,\\ldots,T_p$ can be generated by $T_i = \\frac{\\sqrt{\\nu}X_i}{S} + \\mu_i$, where $\\mu = \\mu_1,\\ldots,\\mu$ is a mean vector."
   ]
  },
  {
   "cell_type": "markdown",
   "metadata": {},
   "source": [
    "multivariate normal\n",
    "covariance unknown\n",
    "2 random variable draws: x (normal)s(chi-square)"
   ]
  },
  {
   "cell_type": "markdown",
   "metadata": {},
   "source": [
    "This is implemented in Python by:"
   ]
  },
  {
   "cell_type": "code",
   "execution_count": 19,
   "metadata": {},
   "outputs": [],
   "source": [
    "chi2 = np.random.chisquare\n",
    "mvn = np.random.multivariate_normal\n",
    "\n",
    "rmvt = lambda nu, S, mu=0, size=1: (np.sqrt(nu) * (mvn(np.zeros(len(S)), S, size).T\n",
    "                                   / chi2(nu, size))).T + mu"
   ]
  },
  {
   "cell_type": "markdown",
   "metadata": {},
   "source": [
    "Finally, we need an implementation of the multivariate T probability distribution function, which is as follows:"
   ]
  },
  {
   "cell_type": "code",
   "execution_count": 20,
   "metadata": {
    "collapsed": true
   },
   "outputs": [],
   "source": [
    "from scipy.special import gammaln\n",
    "\n",
    "def mvt(x, nu, S, mu=0): \n",
    "\n",
    "    d = len(S)\n",
    "    n = len(x)\n",
    "    X = np.atleast_2d(x) - mu\n",
    "    \n",
    "    Q = X.dot(np.linalg.inv(S)).dot(X.T).sum()\n",
    "    log_det = np.log(np.linalg.det(S))\n",
    "    log_pdf = gammaln((nu + d)/2.) - 0.5 * (d*np.log(np.pi*nu) + log_det) - gammaln(nu/2.)\n",
    "    log_pdf -= 0.5*(nu + d)*np.log(1 + Q/nu)\n",
    "    \n",
    "    return(np.exp(log_pdf))"
   ]
  },
  {
   "cell_type": "markdown",
   "metadata": {},
   "source": [
    "The next step is to find the constant $c$ that ensures:\n",
    "\n",
    "$$cg(\\theta) \\ge  f(\\theta|y) \\qquad\\forall \\theta \\in (-\\infty,\\infty)$$\n",
    "\n",
    "Alternatively, we want to ensure:\n",
    "\n",
    "$$\\log[f(\\theta|y)] - \\log[g(\\theta)] \\le c'$$"
   ]
  },
  {
   "cell_type": "markdown",
   "metadata": {},
   "source": [
    "turn into root finding problem"
   ]
  },
  {
   "cell_type": "code",
   "execution_count": 21,
   "metadata": {
    "collapsed": true
   },
   "outputs": [],
   "source": [
    "def calc_diff(theta, n, y, nu, S, mu):\n",
    "    \n",
    "    return betabin_trans(theta, n, y) - np.log(mvt(theta, nu, S, mu))\n",
    "\n",
    "calc_diff_min = lambda *args: -calc_diff(*args)"
   ]
  },
  {
   "cell_type": "markdown",
   "metadata": {},
   "source": [
    "We can calculate an appropriate value of $c'$ by simply using the approximation method described above on `calc_diff` (tweaked to produce a negative value for minimization):"
   ]
  },
  {
   "cell_type": "code",
   "execution_count": 22,
   "metadata": {
    "collapsed": true
   },
   "outputs": [],
   "source": [
    "opt = minimize(calc_diff_min, \n",
    "                (12, -7), \n",
    "                args=(cancer.n, cancer.y, 4, 2*var, mode), \n",
    "                method='bfgs')"
   ]
  },
  {
   "cell_type": "code",
   "execution_count": 23,
   "metadata": {},
   "outputs": [
    {
     "data": {
      "text/plain": [
       "      fun: 569.1811686388969\n",
       " hess_inv: array([[  6.10884018e-08,   2.04254368e-08],\n",
       "       [  2.04254368e-08,   8.19388936e-09]])\n",
       "      jac: array([-0.01561737,  0.79351044])\n",
       "  message: 'Desired error not necessarily achieved due to precision loss.'\n",
       "     nfev: 208\n",
       "      nit: 6\n",
       "     njev: 49\n",
       "   status: 2\n",
       "  success: False\n",
       "        x: array([ 12.01007582,  -6.86883493])"
      ]
     },
     "execution_count": 23,
     "metadata": {},
     "output_type": "execute_result"
    }
   ],
   "source": [
    "opt"
   ]
  },
  {
   "cell_type": "code",
   "execution_count": 24,
   "metadata": {},
   "outputs": [],
   "source": [
    "c = opt.fun"
   ]
  },
  {
   "cell_type": "markdown",
   "metadata": {},
   "source": [
    "Now we can execute a rejection sampling algorithm:"
   ]
  },
  {
   "cell_type": "markdown",
   "metadata": {},
   "source": [
    "no loop, vectorize\n"
   ]
  },
  {
   "cell_type": "code",
   "execution_count": 28,
   "metadata": {
    "collapsed": true
   },
   "outputs": [],
   "source": [
    "def reject(post, nu, S, mu, n, data, c):\n",
    "    \n",
    "    k = len(mode)\n",
    "    \n",
    "    # Draw samples from g(theta)\n",
    "    theta = rmvt(nu, S, mu, size=n)\n",
    "    \n",
    "    # Calculate probability under g(theta)\n",
    "    gvals = np.array([np.log(mvt(t, nu, S, mu)) for t in theta])\n",
    "\n",
    "    # Calculate probability under f(theta)\n",
    "    fvals = np.array([post(t, data.n, data.y) for t in theta])\n",
    "    \n",
    "    # Calculate acceptance probability\n",
    "    p = np.exp(fvals - gvals + c)\n",
    "    \n",
    "    #return theta[np.random.random(n) < p]\n",
    "    return p"
   ]
  },
  {
   "cell_type": "code",
   "execution_count": 29,
   "metadata": {},
   "outputs": [],
   "source": [
    "nsamples = 1000\n",
    "sample = reject(betabin_trans, 4, var, mode, nsamples, cancer, c)"
   ]
  },
  {
   "cell_type": "code",
   "execution_count": 30,
   "metadata": {},
   "outputs": [
    {
     "data": {
      "text/plain": [
       "array([  2.16629159e-01,   1.94735740e-01,   1.83558263e-04,\n",
       "         1.92283759e-01,   1.90177920e-01,   2.07683943e-01,\n",
       "         2.05457562e-01,   2.15143991e-01,   2.07167106e-01,\n",
       "         2.13335893e-01,   2.07864993e-01,   1.96872163e-01,\n",
       "         1.91626036e-01,   1.93834125e-01,   1.92110591e-01,\n",
       "         3.85872046e-01,   1.97521408e-01,   1.93700602e-01,\n",
       "         2.90162046e-01,   1.87503828e-01,   2.43655732e-01,\n",
       "         1.97697505e-01,   1.88890186e-01,   3.01633426e-01,\n",
       "         1.87166905e-01,   2.38012511e-01,   1.90270063e-01,\n",
       "         1.87586694e-01,   2.91048582e-01,   2.28718576e-01,\n",
       "         2.03636600e-01,   5.96626520e-59,   1.17065652e-03,\n",
       "         4.07987025e-02,   6.03868914e-01,   1.90370797e-01,\n",
       "         1.96755299e-01,   2.00898241e-01,   1.97357077e-01,\n",
       "         1.93982104e-01,   1.94452278e-01,   1.92649730e-01,\n",
       "         2.81382689e-01,   2.17017679e-01,   1.89315403e-01,\n",
       "         1.86018783e-01,   1.95783774e-01,   2.33842907e-01,\n",
       "         2.06853015e-01,   1.87702896e-01,   2.00312340e-01,\n",
       "         1.92842350e-01,   3.25257087e-01,   3.97746650e-03,\n",
       "         4.98203770e-01,   1.94570296e-01,   1.43308339e-01,\n",
       "         1.25303842e+00,   2.07716444e-01,   2.71582539e-01,\n",
       "         2.34154666e-01,   2.28925980e-01,   2.51611489e-06,\n",
       "         1.95856634e-01,   1.23433075e-01,   2.89742547e-03,\n",
       "         1.97413644e-01,   2.28349222e-01,   3.27150963e-06,\n",
       "         1.87487221e-01,   2.23338596e-01,   2.27907282e-01,\n",
       "         2.05205877e-01,   6.01995696e-01,   1.76731216e-01,\n",
       "         1.99170286e-01,   2.37138349e-01,   1.87690461e-01,\n",
       "         2.30983246e-01,   1.88760100e-01,   4.64700467e-04,\n",
       "         5.43781105e-14,   2.09406059e-01,   3.93843168e-01,\n",
       "         1.86787150e-01,   1.86566878e-01,   2.12875409e-01,\n",
       "         2.40111766e-01,   2.80691899e-01,   2.00290799e-01,\n",
       "         1.99653123e-01,   1.88544651e-01,   1.94049527e-01,\n",
       "         2.21471853e-01,   9.85939829e-02,   1.96339628e-01,\n",
       "         1.03809255e-01,   2.03419857e-01,   1.90520601e-01,\n",
       "         1.93682358e-01,   1.90012985e-01,   1.44682795e-02,\n",
       "         1.05591032e-03,   2.13797180e-01,   1.94137135e-01,\n",
       "         1.95471124e-01,   1.96727614e-01,   1.87323806e-01,\n",
       "         1.91561434e-01,   4.58216257e-02,   1.97279880e-01,\n",
       "         9.48910052e-01,   1.86403052e-01,   1.94174640e-01,\n",
       "         1.98027038e-01,   1.87345240e-01,   1.87004571e-01,\n",
       "         2.02508778e-01,   2.21419453e-01,   2.19386514e-01,\n",
       "         1.90261918e-01,   6.59659081e-02,   6.33736051e-01,\n",
       "         1.86130832e-01,   1.47240719e-01,   1.94109041e-01,\n",
       "         2.21823710e-01,   1.91828756e-01,   2.01521698e-01,\n",
       "         1.87797072e-01,   2.12596251e-01,   1.86400388e-01,\n",
       "         1.97418284e-01,   1.88579634e-01,   1.92434715e-01,\n",
       "         1.92596245e-01,   1.91924723e-01,   2.20400572e-01,\n",
       "         6.13853108e-02,   2.33168081e-01,   2.33799958e-01,\n",
       "         1.88879818e-01,   1.73344027e-01,   1.68030716e-01,\n",
       "         1.88030408e-01,   1.87401163e-01,   1.89507129e-01,\n",
       "         2.90808149e-02,   1.94903877e-01,   2.20214532e-01,\n",
       "         2.40037314e-01,   2.28054144e-01,   2.16170149e-01,\n",
       "         1.88284524e-01,   1.91156421e-01,   1.99459038e-01,\n",
       "         1.96457473e-01,   1.88295996e-01,   1.89046572e-02,\n",
       "         1.92051863e-01,   1.96786326e-01,   1.88836487e-01,\n",
       "         2.36089586e-01,   1.88565780e-01,   3.67155134e-01,\n",
       "         2.17259070e-01,   2.47481154e-01,   2.30345671e-01,\n",
       "         1.99650710e-01,   2.24946396e-01,   1.89993602e-01,\n",
       "         3.56202519e-02,   4.18066317e-02,   1.92689948e-01,\n",
       "         2.66616700e-03,   7.52401593e-03,   1.90544624e-01,\n",
       "         1.88492447e-01,   2.72367704e-01,   2.00908880e-01,\n",
       "         2.00841251e-01,   1.91791620e-01,   3.02336126e-01,\n",
       "         1.97219954e-01,   4.97903688e-02,   5.30453708e-02,\n",
       "         1.94561596e-01,   1.96456409e-01,   1.97413362e-01,\n",
       "         1.36663777e-01,   1.86148979e-01,   1.56921711e-01,\n",
       "         2.05181372e-01,   1.88138928e-01,   2.26848349e-01,\n",
       "         2.47310992e-01,   5.18369020e-03,   2.48063049e-01,\n",
       "         8.64852369e-02,   1.90153728e-01,   2.02134721e-01,\n",
       "         2.02456695e-01,   2.17580721e-01,   1.20814836e-01,\n",
       "         2.14529526e-01,   1.93671776e-01,   2.00808860e-01,\n",
       "         1.87233330e-01,   1.88450789e-01,   2.45783976e-01,\n",
       "         1.90693165e-01,   1.92950273e-01,   2.28642571e-01,\n",
       "         1.90135120e-01,   1.92093187e-01,   2.16253304e-01,\n",
       "         2.03362868e-01,   1.88949683e-01,   1.91564398e-01,\n",
       "         1.86502347e-01,   1.97621837e-01,   1.88637073e-01,\n",
       "         1.88427950e-01,   1.91615225e-01,   1.89346092e-01,\n",
       "         1.67616541e-01,   1.35166367e-01,   1.89575022e-01,\n",
       "         3.03095574e-01,   1.91739450e-01,   2.26131634e-01,\n",
       "         2.36178286e-01,   1.89169877e-01,   2.48825165e-01,\n",
       "         1.39411708e-01,   2.11852021e-01,   2.39175942e-01,\n",
       "         1.92973674e-01,   2.31322149e-01,   1.58496220e-01,\n",
       "         2.10985465e-01,   1.89365185e-01,   2.98318185e-01,\n",
       "         2.62206943e-01,   2.50928974e-01,   3.88852757e-01,\n",
       "         1.94104539e-01,   1.97079390e-01,   1.73349140e-01,\n",
       "         1.91416902e-01,   2.00338872e-01,   2.81171322e-01,\n",
       "         3.40207269e-01,   2.96070752e-01,   2.05222922e-01,\n",
       "         1.91601627e-01,   1.92692535e-01,   2.30340425e-01,\n",
       "         2.19893834e-01,   3.67062837e-03,   1.91827497e-01,\n",
       "         1.96273944e-01,   1.92085476e-01,   7.55393109e-10,\n",
       "         2.30254157e-01,   1.94848246e-01,   2.15036745e-01,\n",
       "         2.27120473e-04,   1.88207552e-01,   1.56694194e-02,\n",
       "         2.16571651e-01,   1.68338992e-01,   1.89355643e-01,\n",
       "         2.07417056e-01,   2.34960894e-01,   2.24489523e-01,\n",
       "         1.95737162e-01,   8.96205860e-20,   1.93098549e-01,\n",
       "         4.94867483e-01,   4.18703308e-02,   1.94973371e-01,\n",
       "         2.50054948e-01,   2.46958944e-01,   1.89738427e-01,\n",
       "         2.04683414e-01,   2.04856114e-01,   6.19840453e-01,\n",
       "         1.95828925e-01,   1.88357808e-01,   1.91273842e-01,\n",
       "         1.92167310e-01,   2.40866358e-01,   1.92620559e-01,\n",
       "         2.15045666e-01,   2.02919016e-01,   2.00279346e-01,\n",
       "         1.89178712e-01,   1.99574815e-01,   2.07790453e-01,\n",
       "         4.98745981e-02,   1.07303361e-01,   1.98718648e-01,\n",
       "         6.87906829e-04,   2.02377234e-01,   1.96259449e-01,\n",
       "         1.88586341e-01,   1.87744132e-01,   2.04328080e-01,\n",
       "         2.34997195e-01,   1.96899351e-01,   1.87042939e-01,\n",
       "         1.96908349e-01,   2.03195218e-01,   2.09992983e-01,\n",
       "         6.71729533e-07,   1.87677339e-01,   1.89882707e-01,\n",
       "         1.97742040e-01,   2.10278963e-01,   1.95178104e-01,\n",
       "         2.16351615e-01,   2.77586869e-01,   1.97777677e-01,\n",
       "         1.96096914e-01,   2.56783789e-01,   1.97306445e-01,\n",
       "         1.99342818e-01,   2.19128633e-01,   1.88572465e-01,\n",
       "         1.92724660e-01,   2.21594532e-01,   3.06133982e-01,\n",
       "         1.93459366e-01,   6.32234270e-02,   1.95611117e-01,\n",
       "         4.79879457e-01,   2.09650052e-01,   2.27994066e-01,\n",
       "         1.94683922e-01,   2.95484884e-01,   1.93121467e-01,\n",
       "         2.72181639e-01,   1.87175104e-01,   1.89272956e-01,\n",
       "         1.94951825e-01,   1.91479689e-01,   1.29068968e-07,\n",
       "         1.88426920e-01,   1.95128062e-01,   2.19240797e-01,\n",
       "         2.57252424e-01,   1.86738291e-01,   2.14196067e-01,\n",
       "         2.95847281e-01,   2.58802676e-01,   1.99216771e-01,\n",
       "         6.99873163e-09,   2.09021923e-01,   2.24452901e-01,\n",
       "         1.94681913e-01,   1.89973057e-01,   2.29369724e-01,\n",
       "         1.99852306e-01,   1.90345798e-01,   1.93212036e-01,\n",
       "         2.22659593e-01,   1.86304942e-01,   1.97877110e-01,\n",
       "         2.00443125e-01,   1.94852366e-01,   1.92608476e-01,\n",
       "         2.66622811e-01,   1.98012191e-01,   1.93902722e-01,\n",
       "         1.94731106e-01,   3.31738609e-28,   2.16159920e-01,\n",
       "         1.86383306e-01,   4.02274965e-83,   2.08886230e-01,\n",
       "         2.06527759e-01,   2.25523567e-01,   1.94664142e-01,\n",
       "         2.01188122e-01,   2.02700528e-01,   1.86930875e-01,\n",
       "         1.86978359e-01,   2.11632507e-01,   1.65199938e-01,\n",
       "         2.05460445e-01,   1.86662769e-01,   2.32351707e-01,\n",
       "         2.33787799e-01,   1.93043793e-01,   1.95497269e-01,\n",
       "         1.86318196e-01,   1.95306306e-01,   2.00192661e-01,\n",
       "         1.86715423e-01,   1.91967396e-01,   2.20384525e-01,\n",
       "         1.92169490e-01,   1.69592670e-01,   1.96979960e-01,\n",
       "         2.34955385e-01,   2.06214703e-01,   2.07523421e-01,\n",
       "         1.86232526e-01,   2.04540524e-01,   2.15523841e-01,\n",
       "         2.23855768e-01,   1.92816754e-01,   1.87798593e-01,\n",
       "         2.05801511e-01,   1.93966443e-01,   3.49262076e-02,\n",
       "         4.09895319e-01,   1.91432995e-01,   2.49374923e-01,\n",
       "         4.09528345e-01,   1.87150074e-01,   2.32600241e-01,\n",
       "         2.05518161e-01,   2.07640819e-01,   2.92357876e-07,\n",
       "         7.00948785e-03,   7.92546068e-04,   1.96261696e-01,\n",
       "         4.85945101e-01,   1.93120048e-01,   2.08039628e-01,\n",
       "         1.29646187e-01,   2.46867371e-01,   2.02882446e-01,\n",
       "         1.90505704e-01,   4.03120753e-01,   1.86572726e-01,\n",
       "         1.77378119e-14,   2.27558123e-01,   2.36283885e-01,\n",
       "         2.06980449e-01,   1.87357015e-01,   2.08261040e-01,\n",
       "         1.87377423e-01,   1.95334797e-01,   1.94892780e-01,\n",
       "         1.99631883e-01,   1.88177175e-01,   2.21129528e-04,\n",
       "         3.18724878e-01,   1.96835186e-01,   2.37416576e-01,\n",
       "         1.87592029e-01,   1.91148556e-01,   2.98787882e-01,\n",
       "         1.90605207e-01,   1.89806726e-01,   1.93019340e-01,\n",
       "         1.92455044e-01,   2.47229950e-01,   1.86521397e-01,\n",
       "         4.04913124e-01,   2.15406154e-01,   2.03267007e-01,\n",
       "         4.56279930e-04,   4.32743531e-01,   1.93711892e-01,\n",
       "         1.88799823e-01,   2.18942611e-01,   3.86864910e-01,\n",
       "         1.89297416e-01,   2.38480273e-01,   2.30870648e-01,\n",
       "         3.04587881e-01,   2.24361213e-01,   2.29058233e-01,\n",
       "         2.73029515e-02,   2.03408408e-01,   1.87495072e-01,\n",
       "         2.07307091e-01,   1.87398671e-01,   2.02563726e-01,\n",
       "         1.97782059e-01,   1.96458555e-01,   3.48563619e-01,\n",
       "         2.02596276e-01,   1.98803530e-01,   3.34308819e-01,\n",
       "         1.98887812e-01,   7.18970716e-02,   2.12123897e-01,\n",
       "         1.95449425e-01,   1.86292408e-01,   1.94711565e-01,\n",
       "         1.96033121e-01,   1.40175593e-01,   2.13082691e-01,\n",
       "         2.13860457e-01,   2.09867279e-01,   2.26515437e-01,\n",
       "         1.91086327e-01,   5.02267474e-02,   3.22745007e-01,\n",
       "         1.94362258e-01,   1.86937900e-01,   1.69119656e-01,\n",
       "         1.87263962e-01,   1.78022778e-08,   3.05555033e-01,\n",
       "         1.97385702e-01,   2.00341940e-01,   1.97339276e-01,\n",
       "         2.08027567e-01,   1.91979323e-01,   1.91654949e-01,\n",
       "         1.87348589e-01,   1.89987837e-01,   1.89555972e-01,\n",
       "         1.87320277e-01,   1.49553505e-01,   1.91197126e-01,\n",
       "         1.86319639e-07,   1.87248634e-01,   9.87133828e-01,\n",
       "         1.86351933e-01,   8.23752420e-02,   2.71410791e-01,\n",
       "         1.94681733e-01,   2.37747761e-01,   2.07706375e-01,\n",
       "         1.86879384e-01,   1.86992493e-01,   1.78709104e-01,\n",
       "         2.29925713e-01,   3.71014600e-01,   2.29082930e-01,\n",
       "         1.86959112e-01,   1.87507156e-01,   1.86572638e-01,\n",
       "         1.97462918e-01,   1.87604705e-01,   2.07204900e-01,\n",
       "         2.12070459e-01,   2.00828473e-01,   1.93465045e-01,\n",
       "         1.98536576e-01,   3.53441349e-02,   2.38010949e-01,\n",
       "         2.67986844e-01,   1.91216098e-01,   2.48354519e-01,\n",
       "         1.89067707e-01,   6.70802333e-01,   1.87636557e-01,\n",
       "         1.89737271e-01,   2.06955441e-01,   1.90587997e-01,\n",
       "         2.06510848e-01,   2.37772115e-01,   1.92297821e-01,\n",
       "         2.21935118e-01,   2.18093056e-01,   1.63616424e-01,\n",
       "         2.01393330e-01,   1.89562568e-01,   1.85996752e-01,\n",
       "         1.89713342e-01,   2.08256886e-01,   2.04175490e-32,\n",
       "         4.51829746e-01,   6.93669994e-02,   1.87118647e-01,\n",
       "         1.93391140e-01,   2.79290914e-01,   1.94658346e-01,\n",
       "         1.95316307e-01,   1.97396962e-01,   1.96518945e-01,\n",
       "         3.87417327e-01,   1.90785503e-01,   2.23865650e-01,\n",
       "         2.16182592e-01,   1.96947557e-01,   2.09813411e-01,\n",
       "         1.88078795e-01,   1.99549928e-02,   2.70371679e-01,\n",
       "         2.21201962e-01,   2.04147118e-01,   4.94159729e-02,\n",
       "         2.80815640e-02,   2.04783843e-01,   4.51401977e-01,\n",
       "         2.16399679e-01,   2.69235638e-01,   1.91460772e-01,\n",
       "         1.77250587e-01,   2.43993965e-01,   2.01959625e-01,\n",
       "         2.01762915e-01,   2.43965333e-01,   1.86765519e-01,\n",
       "         1.86359953e-01,   1.97089633e-01,   1.93024638e-01,\n",
       "         2.21810599e-01,   2.33509119e-01,   1.91946933e-01,\n",
       "         1.92063319e-01,   2.07347974e-01,   1.87062313e-01,\n",
       "         2.02005512e-01,   1.94523498e-01,   2.53303789e-01,\n",
       "         2.17207807e-01,   9.25909223e-09,   1.92175113e-01,\n",
       "         2.04503405e-01,   1.88233028e-01,   1.92309818e-01,\n",
       "         1.95521232e-09,   1.96991517e-01,   5.56014116e-09,\n",
       "         9.78187385e-02,   1.89394572e-01,   2.81755065e-04,\n",
       "         2.32287226e-01,   1.88672265e-01,   2.27806408e-01,\n",
       "         4.30135923e-20,   1.95333887e-01,   1.93719083e-01,\n",
       "         2.04962764e-01,   2.02919955e-01,   1.86781352e-01,\n",
       "         1.51988912e-01,   2.08055949e-01,   2.13223427e-01,\n",
       "         2.34586647e-01,   2.72698259e-01,   2.31476094e-01,\n",
       "         1.88979819e-01,   1.97375555e-01,   2.15638250e-01,\n",
       "         2.13603229e-01,   1.88158062e-01,   1.97700109e-01,\n",
       "         1.88106049e-01,   2.48873047e-01,   2.01236002e-01,\n",
       "         2.09385105e-01,   2.13688188e-01,   1.39702986e-01,\n",
       "         1.53245739e-01,   2.73073890e-01,   1.83558257e-01,\n",
       "         1.88238243e-01,   2.81975544e-12,   2.05462852e-01,\n",
       "         1.26688778e-01,   1.90952727e-01,   1.98697808e-01,\n",
       "         2.58044843e-01,   1.87481239e-01,   2.11912128e-01,\n",
       "         1.88713317e-01,   2.08614539e-01,   1.95084892e-01,\n",
       "         1.97333827e-01,   1.96228359e-01,   1.87222458e-01,\n",
       "         2.13096463e-01,   1.94708302e-01,   2.01535700e-01,\n",
       "         1.36826125e-01,   1.90024905e-01,   1.94937099e-01,\n",
       "         2.43305282e-01,   2.78538249e-01,   1.95471619e-01,\n",
       "         2.56568101e-01,   7.41735109e-04,   2.08669699e-01,\n",
       "         2.43255130e-01,   3.11981712e-02,   1.77949400e-01,\n",
       "         1.88292098e-01,   1.67121368e-01,   1.97811816e-01,\n",
       "         2.40280010e-01,   1.87590133e-01,   1.94691999e-01,\n",
       "         2.36070512e-01,   1.90863954e-01,   2.07283648e-01,\n",
       "         1.94987253e-01,   6.21712967e-01,   2.11503288e-01,\n",
       "         2.23727386e-01,   1.93832895e-01,   1.93658616e-01,\n",
       "         2.03869642e-01,   2.19941179e-01,   1.87944966e-01,\n",
       "         2.18647000e-01,   1.89673222e-01,   2.51085105e-01,\n",
       "         1.93478261e-01,   1.86926839e-01,   3.20654069e-02,\n",
       "         1.89643441e-01,   1.70566714e-01,   1.91117079e-01,\n",
       "         1.92516410e-01,   1.86967426e-01,   2.05026210e-01,\n",
       "         2.96214838e-01,   1.98088456e-01,   1.15612312e-01,\n",
       "         1.91182386e-01,   1.91697927e-01,   1.87461723e-01,\n",
       "         1.90364021e-01,   2.23441428e-01,   1.00791430e-21,\n",
       "         5.18228895e-02,   4.37851948e-02,   1.94050594e-01,\n",
       "         2.01839969e-01,   1.90412129e-01,   1.88477172e-01,\n",
       "         2.03385444e-01,   2.21646868e-01,   3.46344008e-02,\n",
       "         2.04124449e-01,   1.87488539e-01,   1.88601711e-01,\n",
       "         2.06515327e-01,   2.08226278e-01,   2.53238448e-01,\n",
       "         2.35451452e-02,   2.04780116e-01,   1.54960268e-01,\n",
       "         1.90558013e-01,   2.66762711e-01,   2.18908181e-01,\n",
       "         1.93775580e-01,   1.96864036e-01,   1.94243434e-01,\n",
       "         4.07811430e-01,   2.00424417e-01,   2.04219779e-01,\n",
       "         1.88807378e-01,   1.98914197e-01,   1.89043557e-01,\n",
       "         1.89949229e-01,   2.11312069e-01,   3.18539114e-01,\n",
       "         1.89833446e-01,   2.55494527e-01,   2.86501122e-01,\n",
       "         1.90379172e-01,   1.86177611e-01,   1.91165400e-01,\n",
       "         1.97672668e-01,   1.89370228e-01,   2.14431284e-01,\n",
       "         1.92334511e-01,   1.99814996e-01,   1.86659898e-01,\n",
       "         2.04349577e-01,   1.82313490e-01,   2.14029323e-01,\n",
       "         2.09852748e-01,   2.03844617e-01,   1.82498293e-01,\n",
       "         3.38217380e-01,   3.07642170e-12,   2.56364573e-01,\n",
       "         2.16533468e-01,   1.88961429e-01,   1.86318169e-01,\n",
       "         1.12280546e-02,   2.03538344e-01,   4.49123214e-01,\n",
       "         1.94291046e-01,   2.96945614e-01,   2.12402606e-01,\n",
       "         2.45867240e-01,   2.42573206e-01,   1.87588218e-01,\n",
       "         1.96966942e-01,   9.62455083e-02,   2.98518695e-01,\n",
       "         1.98885610e-01,   1.91681945e-01,   1.89101752e-01,\n",
       "         1.88009779e-01,   4.01299928e-02,   1.94675089e-01,\n",
       "         1.97034336e-01,   2.01539237e-01,   1.87164404e-01,\n",
       "         4.75841595e-02,   2.16183510e-01,   2.82372821e-01,\n",
       "         1.88962271e-01,   7.04346360e-05,   4.12786292e-01,\n",
       "         2.00314229e-01,   2.13243220e-01,   1.99988459e-01,\n",
       "         2.08230927e-01,   2.02848581e-01,   1.87539618e-01,\n",
       "         1.96011618e-01,   1.64384594e-01,   1.97441008e-01,\n",
       "         1.89545158e-01,   1.93717383e-01,   2.59506384e-50,\n",
       "         2.36625169e-01,   1.88063727e-01,   9.60473599e-02,\n",
       "         1.88466928e-01,   2.07197624e-01,   3.45620915e-01,\n",
       "         1.93961278e-01,   2.15923822e-01,   5.34463714e-12,\n",
       "         1.91213153e-01,   2.22994740e-01,   1.90403302e-01,\n",
       "         2.15642094e-01,   1.36441969e-18,   1.71328596e-07,\n",
       "         2.32479051e-01,   1.83145941e-01,   1.84889493e-02,\n",
       "         1.91626854e-01,   1.92850416e-01,   6.33684599e-03,\n",
       "         5.46196938e-01,   2.36978412e-01,   2.01720948e-01,\n",
       "         1.97596591e-01,   1.89404865e-01,   2.41598569e-01,\n",
       "         2.39644095e-01,   2.83256486e-01,   2.06245708e-01,\n",
       "         2.02068819e-16,   2.25614271e-01,   1.94055730e-01,\n",
       "         1.92555440e-01,   1.89189670e-01,   2.45801651e-01,\n",
       "         5.67326137e-01,   1.96230416e-01,   2.94977901e-08,\n",
       "         3.24023794e-01,   1.97348737e-01,   1.96843706e-01,\n",
       "         4.73473496e-02,   2.35214337e-01,   2.05135890e-01,\n",
       "         1.89240781e-01,   2.74741593e-01,   1.58927677e-01,\n",
       "         1.83739780e-01,   1.95511689e-01,   3.19754434e-03,\n",
       "         2.60203930e-01,   1.86339928e-01,   1.97566427e-01,\n",
       "         1.89457172e-01,   1.26020394e-01,   2.03138764e-01,\n",
       "         1.92870330e-01,   4.23613095e-03,   2.00190027e-01,\n",
       "         1.78535117e-01,   1.89632426e-01,   2.08547865e-01,\n",
       "         3.29952652e-02,   2.86180576e-01,   4.77134777e-01,\n",
       "         2.21330095e-01,   3.38407645e-01,   2.80343394e-01,\n",
       "         8.45071608e-03,   1.86473143e-01,   2.21209465e-01,\n",
       "         8.79685363e-02,   1.93161485e-01,   3.18631618e-01,\n",
       "         1.97557736e-01,   1.91275539e-01,   1.86610928e-01,\n",
       "         2.55773109e-03,   4.29524417e-01,   1.19357000e-01,\n",
       "         1.91948875e-01,   1.98552585e-01,   2.32090816e-01,\n",
       "         1.93404039e-01,   8.74027259e-77,   1.88145393e-01,\n",
       "         1.87708621e-01,   1.95567360e-01,   1.92627430e-01,\n",
       "         1.86530889e-01,   1.97372904e-01,   3.54809935e-04,\n",
       "         2.10625171e-01,   1.90757198e-01,   1.95622994e-01,\n",
       "         2.01901568e-01,   2.01490526e-01,   1.93287017e-01,\n",
       "         2.36469722e-01,   1.91886732e-01,   2.42824894e-01,\n",
       "         2.00553436e-01,   1.93261404e-01,   3.18564005e-01,\n",
       "         1.98511090e-01,   1.93126171e-01,   1.88299639e-01,\n",
       "         1.01675950e-02,   1.91907753e-01,   1.65404134e-01,\n",
       "         2.36036778e-01,   2.81905336e-01,   1.94166793e-01,\n",
       "         2.16253961e-01,   2.25481785e-01,   2.55696942e-01,\n",
       "         2.50838363e-01,   2.00135168e-01,   1.97619307e-01,\n",
       "         1.75665447e-01,   1.40911482e-01,   1.90363490e-01,\n",
       "         1.91614167e-01,   2.01987816e-01,   1.98561967e-01,\n",
       "         3.38649239e-01,   1.96762584e-01,   5.47160274e-01,\n",
       "         1.90666086e-01,   2.38704066e-01,   2.04241626e-01,\n",
       "         1.93533180e-01,   1.03694552e-02,   3.36619719e-01,\n",
       "         1.86826696e-01,   2.05133149e-01,   1.13238834e-01,\n",
       "         1.89773224e-01,   2.03597619e-01,   2.50964892e-01,\n",
       "         1.95937605e-01,   9.85565218e-09,   2.51665804e-01,\n",
       "         3.98808394e-01,   1.96552401e-01,   4.30821059e-01,\n",
       "         1.29486045e-01,   2.26603169e-01,   1.78517384e-06,\n",
       "         2.08602568e-01,   1.88196884e-01,   1.92254180e-01,\n",
       "         1.90944018e-01,   1.57506392e-01,   1.72642983e-03,\n",
       "         1.89412888e-01,   2.08140215e-01,   1.87889968e-01,\n",
       "         1.91780306e-01,   2.01733994e-01,   2.52638263e-01,\n",
       "         1.86171786e-01,   1.89251180e-01,   1.95923755e-01,\n",
       "         2.01199123e-01,   1.86270266e-01,   1.86351668e-01,\n",
       "         2.84876809e-01,   1.96622743e-01,   2.39924017e-01,\n",
       "         3.73927211e-02,   2.01576264e-01,   2.06424655e-01,\n",
       "         1.92845965e-01,   1.89259882e-01,   2.03953332e-03,\n",
       "         2.38057887e-01])"
      ]
     },
     "execution_count": 30,
     "metadata": {},
     "output_type": "execute_result"
    }
   ],
   "source": [
    "sample"
   ]
  },
  {
   "cell_type": "code",
   "execution_count": 30,
   "metadata": {},
   "outputs": [
    {
     "data": {
      "text/plain": [
       "<matplotlib.collections.PathCollection at 0x1193402b0>"
      ]
     },
     "execution_count": 30,
     "metadata": {},
     "output_type": "execute_result"
    },
    {
     "data": {
      "image/png": "[encoded data removed]",
      "text/plain": [
       "<matplotlib.figure.Figure at 0x116c54a20>"
      ]
     },
     "metadata": {},
     "output_type": "display_data"
    }
   ],
   "source": [
    "z = np.array([[betabin_trans((t1, t2), cancer.n, cancer.y) \n",
    "             for t2 in logit_eta_x] for t1 in log_K_x])\n",
    "x, y = np.meshgrid(logit_eta_x, log_K_x)\n",
    "cplot = plt.contour(x, y, z - z.max(), levels=[-8, -4, -2, -1, -0.5], cmap=plt.cm.RdBu)\n",
    "plt.clabel(cplot, inline=1, fontsize=10, fmt='%1.1f')\n",
    "plt.ylabel('log(K)');plt.xlabel('logit($\\eta$)')\n",
    "plt.scatter(*sample.T[[1,0]])"
   ]
  },
  {
   "cell_type": "markdown",
   "metadata": {},
   "source": [
    "Notice that the efficiency of rejection sampling is not very high for this problem."
   ]
  },
  {
   "cell_type": "code",
   "execution_count": 31,
   "metadata": {},
   "outputs": [
    {
     "data": {
      "text/plain": [
       "0.396"
      ]
     },
     "execution_count": 31,
     "metadata": {},
     "output_type": "execute_result"
    }
   ],
   "source": [
    "float(sample.size)/nsamples #throw away >0.5 of samples"
   ]
  },
  {
   "cell_type": "markdown",
   "metadata": {},
   "source": [
    "Rejection sampling is usually subject to declining performance as the dimension of the parameter space increases. Further improvement is gained by using optimized algorithms such as importance sampling which, as the name implies, samples more frequently from important areas of the distribution."
   ]
  },
  {
   "cell_type": "markdown",
   "metadata": {},
   "source": [
    "## Importance Sampling\n",
    "\n",
    "As we have seen, the primary difficulty in Bayesian inference is calculating the posterior density for models of moderate-to-high dimension. For example, calculating the posterior mean of some function $h$ requires two difficult integration steps:\n",
    "\n",
    "$$E[h(\\theta) | y] = \\frac{\\int h(\\theta)f(y|\\theta) p(\\theta) d\\theta}{\\int f(y|\\theta) p(\\theta) d\\theta} = \\frac{\\int h(\\theta)p(\\theta | y) d\\theta}{\\int p(\\theta|y) d\\theta}$$\n",
    "\n",
    "If the posterior $p(\\theta|y)$ is a density from which it is easy to sample, we could approximiate these integrals using Monte Carlo simulation, but too often it is not.\n",
    "\n",
    "Instead, assume that we can draw from a probability density $q(\\theta)$ that is some approximation of $p$. We could then write:\n",
    "\n",
    "$$E[h(\\theta) | y] = \\frac{\\int h(\\theta) \\frac{p(\\theta|y)}{q(\\theta)} q(\\theta) d\\theta}{\\int \\frac{p(\\theta|y)}{q(\\theta)} q(\\theta) d\\theta}$$\n",
    "\n",
    "Expressed this way, $w(\\theta) = p(\\theta|y) / q(\\theta)$ can be regarded as *weights* for the $M$ values of $\\theta$ sampled from $q$ that we can use to correct the sample so that it approximates $h(\\theta)$. Specifically, the **importance sampling estimate** of $E[h(\\theta) | y]$ is:\n",
    "\n",
    "$$\\hat{h}_{is} = \\frac{\\sum_{i=1}^{M} h(\\theta^{(i)})w(\\theta^{(i)})}{\\sum_{i=1}^{M} w(\\theta^{(i)})}$$\n",
    "\n",
    "where $\\theta^{(i)}$ is the $i^{th}$ sample simulated from $q(\\theta)$. The standard error for the importance sampling estimate is:\n",
    "\n",
    "$$\\text{SE}_{is} = \\frac{\\sqrt{\\sum_{i=1}^{M} [(h(\\theta^{(i)}) - \\hat{h}_{is}) w(\\theta^{(i)})]^2}}{\\sum_{i=1}^{M} w(\\theta^{(i)})}$$\n",
    "\n",
    "The efficiency of importance sampling is related to the selection of the importance sampling distribution $q$."
   ]
  },
  {
   "cell_type": "markdown",
   "metadata": {},
   "source": [
    "P/q: =1 if same\n",
    "p/q: weight\n"
   ]
  },
  {
   "cell_type": "markdown",
   "metadata": {},
   "source": [
    "### Example: Beta-binomial parameter\n",
    "\n",
    "As a simple illustration of importance sampling, let's consider again the problem of estimating the paramters of the beta-binomial example. Here, we will use a multivariate T density as the simulation distribution $q$.\n",
    "\n",
    "Here are 1000 sampled values to use for approximating the posterior:"
   ]
  },
  {
   "cell_type": "code",
   "execution_count": 32,
   "metadata": {
    "collapsed": true
   },
   "outputs": [],
   "source": [
    "theta = rmvt(4, var, mode, size=1000)"
   ]
  },
  {
   "cell_type": "markdown",
   "metadata": {},
   "source": [
    "We can obtain the probability of these values under the posterior density:"
   ]
  },
  {
   "cell_type": "code",
   "execution_count": 33,
   "metadata": {
    "collapsed": true
   },
   "outputs": [],
   "source": [
    "f_theta = np.array([betabin_trans(t, cancer.n, cancer.y) for t in theta])"
   ]
  },
  {
   "cell_type": "markdown",
   "metadata": {},
   "source": [
    "and under the T distribution:"
   ]
  },
  {
   "cell_type": "code",
   "execution_count": 34,
   "metadata": {
    "collapsed": true
   },
   "outputs": [],
   "source": [
    "q_theta = mvt(theta, 4, var, mode) #t distribution"
   ]
  },
  {
   "cell_type": "markdown",
   "metadata": {},
   "source": [
    "This allows us to calculate the importance weights:"
   ]
  },
  {
   "cell_type": "code",
   "execution_count": 35,
   "metadata": {
    "collapsed": true
   },
   "outputs": [],
   "source": [
    "w = np.exp(f_theta - q_theta - max(f_theta - q_theta)) #normalize"
   ]
  },
  {
   "cell_type": "markdown",
   "metadata": {},
   "source": [
    "notice that we have subtracted the maximum value of the differences, which normalizes the weights.\n",
    "\n",
    "Now, we can obtain estimates of the parameters:"
   ]
  },
  {
   "cell_type": "code",
   "execution_count": 36,
   "metadata": {},
   "outputs": [
    {
     "data": {
      "text/plain": [
       "[7.5849155376137514, -6.8140958681336272]"
      ]
     },
     "execution_count": 36,
     "metadata": {},
     "output_type": "execute_result"
    }
   ],
   "source": [
    "theta_si = [(w*t).sum()/w.sum() for t in theta.T]\n",
    "theta_si"
   ]
  },
  {
   "cell_type": "markdown",
   "metadata": {},
   "source": [
    "Finally, the standard error of the estimates:"
   ]
  },
  {
   "cell_type": "code",
   "execution_count": 37,
   "metadata": {},
   "outputs": [
    {
     "data": {
      "text/plain": [
       "[0.42350146634482161, 0.098319636478610598]"
      ]
     },
     "execution_count": 37,
     "metadata": {},
     "output_type": "execute_result"
    }
   ],
   "source": [
    "se = [np.sqrt((((theta.T[i] - theta_si[i])* w)**2).sum()/w.sum()) for i in (0,1)]\n",
    "se"
   ]
  },
  {
   "cell_type": "markdown",
   "metadata": {},
   "source": [
    "## Sampling Importance Resampling\n",
    "\n",
    "The importance sampling method can be modified to incorporate weighted bootstrapping, in a procedure called sampling importance resampling (SIR). As previously, we obtain a sample of size $M$ from an importance sampling distribution $q$ and calculate the corresponding weights $w(\\theta_i) = p(\\theta|y) / q(\\theta)$. \n",
    "\n",
    "Instead of directly re-weighting the samples from $q$, SIR instead transforms the weights into probabilities via:\n",
    "\n",
    "$$p_i = \\frac{w(\\theta_i)}{\\sum_{i=1}^M w(\\theta_i)}$$\n",
    "\n",
    "These probabilities are then used to re-sample their respective $\\theta_i$ values, with replacement. This implies that the resulting resamples $\\theta_i^{\\prime}$ will be distributed approximately as the posterior $p(\\theta|y)$.\n",
    "\n",
    "Using again the beta-binomial example, we can take the weights calculated above, and convert them to probabilities:"
   ]
  },
  {
   "cell_type": "code",
   "execution_count": 38,
   "metadata": {
    "collapsed": true
   },
   "outputs": [],
   "source": [
    "p_sir = w/w.sum()"
   ]
  },
  {
   "cell_type": "markdown",
   "metadata": {},
   "source": [
    "The `choice` function in `numpy.random` can be used to generate a random sample from an arbitrary 1-D array."
   ]
  },
  {
   "cell_type": "code",
   "execution_count": 39,
   "metadata": {
    "collapsed": true
   },
   "outputs": [],
   "source": [
    "theta_sir = theta[np.random.choice(range(len(theta)), size=10000, p=p_sir)]"
   ]
  },
  {
   "cell_type": "code",
   "execution_count": 40,
   "metadata": {},
   "outputs": [
    {
     "data": {
      "image/png": "[encoded data removed]",
      "text/plain": [
       "<matplotlib.figure.Figure at 0x1193403c8>"
      ]
     },
     "metadata": {},
     "output_type": "display_data"
    }
   ],
   "source": [
    "fig, axes = plt.subplots(2)\n",
    "_ = axes[0].hist(theta_sir.T[0], bins=30)\n",
    "_ = axes[1].hist(theta_sir.T[1], bins=30)"
   ]
  },
  {
   "cell_type": "markdown",
   "metadata": {},
   "source": [
    "good for change weight \n",
    "take median (in case for long tail) as point estimate"
   ]
  },
  {
   "cell_type": "markdown",
   "metadata": {},
   "source": [
    "One advantage of this approach is that one can easily extract a posterior probability interval for each parameter, simply by extracting quantiles from the resampled values."
   ]
  },
  {
   "cell_type": "code",
   "execution_count": 41,
   "metadata": {},
   "outputs": [
    {
     "data": {
      "text/plain": [
       "array([ 6.48198387,  8.85579233])"
      ]
     },
     "execution_count": 41,
     "metadata": {},
     "output_type": "execute_result"
    }
   ],
   "source": [
    "logK_sample = theta_sir[:,0]\n",
    "logK_sample.sort()\n",
    "logK_sample[[250, 9750]]"
   ]
  },
  {
   "cell_type": "markdown",
   "metadata": {},
   "source": [
    "## Exercise: Sensitivity analysis\n",
    "\n",
    "Perform a Bayesian sensitivity analysis by performing SIR on the stomach cancer dataset $N$ times, with one observation (a city) removed from the dataset each time. Calculate and plot posterior medians and 95% posterior intervals for each $f(\\theta|y_{(-i)})$ to visually analyze the influence of each observation."
   ]
  },
  {
   "cell_type": "code",
   "execution_count": 42,
   "metadata": {
    "collapsed": true
   },
   "outputs": [],
   "source": [
    "# Write your answer here\n",
    "def sir(data):\n",
    "    y,n=data.value.T\n",
    "    theta = rmvt(4, var, mode, size=1000)\n",
    "    f_theta = np.array([betabin_trans(t, cancer.n, cancer.y) for t in theta])\n",
    "    q_theta = mvt(theta, 4, var, mode) #t distribution\n",
    "    w = np.exp(f_theta - q_theta - max(f_theta - q_theta)) #normalize\n",
    "    p_sir = w/w.sum()\n",
    "    theta_sir = theta[np.random.choice(range(len(theta)), size=10000, p=p_sir)]\n",
    "    logK_sample = theta_sir[:,0]\n",
    "    return logK_sample"
   ]
  },
  {
   "cell_type": "code",
   "execution_count": 43,
   "metadata": {
    "collapsed": true
   },
   "outputs": [],
   "source": [
    "datasets=[cancer.drop(i) for i in range(len(cancer))]"
   ]
  },
  {
   "cell_type": "code",
   "execution_count": 44,
   "metadata": {},
   "outputs": [
    {
     "ename": "AttributeError",
     "evalue": "'DataFrame' object has no attribute 'value'",
     "output_type": "error",
     "traceback": [
      "\u001b[0;31m---------------------------------------------------------------------------\u001b[0m",
      "\u001b[0;31mAttributeError\u001b[0m                            Traceback (most recent call last)",
      "\u001b[0;32m<ipython-input-44-eab1bb48b335>\u001b[0m in \u001b[0;36m<module>\u001b[0;34m()\u001b[0m\n\u001b[0;32m----> 1\u001b[0;31m \u001b[0msamples\u001b[0m\u001b[0;34m=\u001b[0m\u001b[0;34m[\u001b[0m\u001b[0msir\u001b[0m\u001b[0;34m(\u001b[0m\u001b[0md\u001b[0m\u001b[0;34m)\u001b[0m \u001b[0;32mfor\u001b[0m \u001b[0md\u001b[0m \u001b[0;32min\u001b[0m \u001b[0mdatasets\u001b[0m\u001b[0;34m]\u001b[0m\u001b[0;34m\u001b[0m\u001b[0m\n\u001b[0m",
      "\u001b[0;32m<ipython-input-44-eab1bb48b335>\u001b[0m in \u001b[0;36m<listcomp>\u001b[0;34m(.0)\u001b[0m\n\u001b[0;32m----> 1\u001b[0;31m \u001b[0msamples\u001b[0m\u001b[0;34m=\u001b[0m\u001b[0;34m[\u001b[0m\u001b[0msir\u001b[0m\u001b[0;34m(\u001b[0m\u001b[0md\u001b[0m\u001b[0;34m)\u001b[0m \u001b[0;32mfor\u001b[0m \u001b[0md\u001b[0m \u001b[0;32min\u001b[0m \u001b[0mdatasets\u001b[0m\u001b[0;34m]\u001b[0m\u001b[0;34m\u001b[0m\u001b[0m\n\u001b[0m",
      "\u001b[0;32m<ipython-input-42-1c0644cd97bb>\u001b[0m in \u001b[0;36msir\u001b[0;34m(data)\u001b[0m\n\u001b[1;32m      1\u001b[0m \u001b[0;31m# Write your answer here\u001b[0m\u001b[0;34m\u001b[0m\u001b[0;34m\u001b[0m\u001b[0m\n\u001b[1;32m      2\u001b[0m \u001b[0;32mdef\u001b[0m \u001b[0msir\u001b[0m\u001b[0;34m(\u001b[0m\u001b[0mdata\u001b[0m\u001b[0;34m)\u001b[0m\u001b[0;34m:\u001b[0m\u001b[0;34m\u001b[0m\u001b[0m\n\u001b[0;32m----> 3\u001b[0;31m     \u001b[0my\u001b[0m\u001b[0;34m,\u001b[0m\u001b[0mn\u001b[0m\u001b[0;34m=\u001b[0m\u001b[0mdata\u001b[0m\u001b[0;34m.\u001b[0m\u001b[0mvalue\u001b[0m\u001b[0;34m.\u001b[0m\u001b[0mT\u001b[0m\u001b[0;34m\u001b[0m\u001b[0m\n\u001b[0m\u001b[1;32m      4\u001b[0m     \u001b[0mtheta\u001b[0m \u001b[0;34m=\u001b[0m \u001b[0mrmvt\u001b[0m\u001b[0;34m(\u001b[0m\u001b[0;36m4\u001b[0m\u001b[0;34m,\u001b[0m \u001b[0mvar\u001b[0m\u001b[0;34m,\u001b[0m \u001b[0mmode\u001b[0m\u001b[0;34m,\u001b[0m \u001b[0msize\u001b[0m\u001b[0;34m=\u001b[0m\u001b[0;36m1000\u001b[0m\u001b[0;34m)\u001b[0m\u001b[0;34m\u001b[0m\u001b[0m\n\u001b[1;32m      5\u001b[0m     \u001b[0mf_theta\u001b[0m \u001b[0;34m=\u001b[0m \u001b[0mnp\u001b[0m\u001b[0;34m.\u001b[0m\u001b[0marray\u001b[0m\u001b[0;34m(\u001b[0m\u001b[0;34m[\u001b[0m\u001b[0mbetabin_trans\u001b[0m\u001b[0;34m(\u001b[0m\u001b[0mt\u001b[0m\u001b[0;34m,\u001b[0m \u001b[0mcancer\u001b[0m\u001b[0;34m.\u001b[0m\u001b[0mn\u001b[0m\u001b[0;34m,\u001b[0m \u001b[0mcancer\u001b[0m\u001b[0;34m.\u001b[0m\u001b[0my\u001b[0m\u001b[0;34m)\u001b[0m \u001b[0;32mfor\u001b[0m \u001b[0mt\u001b[0m \u001b[0;32min\u001b[0m \u001b[0mtheta\u001b[0m\u001b[0;34m]\u001b[0m\u001b[0;34m)\u001b[0m\u001b[0;34m\u001b[0m\u001b[0m\n",
      "\u001b[0;32m~/anaconda2/envs/bios8366/lib/python3.6/site-packages/pandas/core/generic.py\u001b[0m in \u001b[0;36m__getattr__\u001b[0;34m(self, name)\u001b[0m\n\u001b[1;32m   3079\u001b[0m             \u001b[0;32mif\u001b[0m \u001b[0mname\u001b[0m \u001b[0;32min\u001b[0m \u001b[0mself\u001b[0m\u001b[0;34m.\u001b[0m\u001b[0m_info_axis\u001b[0m\u001b[0;34m:\u001b[0m\u001b[0;34m\u001b[0m\u001b[0m\n\u001b[1;32m   3080\u001b[0m                 \u001b[0;32mreturn\u001b[0m \u001b[0mself\u001b[0m\u001b[0;34m[\u001b[0m\u001b[0mname\u001b[0m\u001b[0;34m]\u001b[0m\u001b[0;34m\u001b[0m\u001b[0m\n\u001b[0;32m-> 3081\u001b[0;31m             \u001b[0;32mreturn\u001b[0m \u001b[0mobject\u001b[0m\u001b[0;34m.\u001b[0m\u001b[0m__getattribute__\u001b[0m\u001b[0;34m(\u001b[0m\u001b[0mself\u001b[0m\u001b[0;34m,\u001b[0m \u001b[0mname\u001b[0m\u001b[0;34m)\u001b[0m\u001b[0;34m\u001b[0m\u001b[0m\n\u001b[0m\u001b[1;32m   3082\u001b[0m \u001b[0;34m\u001b[0m\u001b[0m\n\u001b[1;32m   3083\u001b[0m     \u001b[0;32mdef\u001b[0m \u001b[0m__setattr__\u001b[0m\u001b[0;34m(\u001b[0m\u001b[0mself\u001b[0m\u001b[0;34m,\u001b[0m \u001b[0mname\u001b[0m\u001b[0;34m,\u001b[0m \u001b[0mvalue\u001b[0m\u001b[0;34m)\u001b[0m\u001b[0;34m:\u001b[0m\u001b[0;34m\u001b[0m\u001b[0m\n",
      "\u001b[0;31mAttributeError\u001b[0m: 'DataFrame' object has no attribute 'value'"
     ]
    }
   ],
   "source": [
    "samples=[sir(d) for d in datasets]"
   ]
  },
  {
   "cell_type": "code",
   "execution_count": null,
   "metadata": {
    "collapsed": true
   },
   "outputs": [],
   "source": [
    "plt.boxplot(samples)"
   ]
  },
  {
   "cell_type": "markdown",
   "metadata": {},
   "source": [
    "## References\n",
    "\n",
    "Chapter 6 of [Givens, Geof H.; Hoeting, Jennifer A. (2012-10-09). Computational Statistics (Wiley Series in Computational Statistics)](http://www.stat.colostate.edu/computationalstatistics/)\n",
    "\n",
    "Chapter 5 of [Albert, J. (2009). Bayesian computation with R.](http://www.amazon.com/Bayesian-Computation-R-Use/dp/0387922970)"
   ]
  },
  {
   "cell_type": "code",
   "execution_count": null,
   "metadata": {
    "collapsed": true
   },
   "outputs": [],
   "source": []
  }
 ],
 "metadata": {
  "anaconda-cloud": {},
  "kernelspec": {
   "display_name": "Python 3",
   "language": "python",
   "name": "python3"
  },
  "language_info": {
   "codemirror_mode": {
    "name": "ipython",
    "version": 3
   },
   "file_extension": ".py",
   "mimetype": "text/x-python",
   "name": "python",
   "nbconvert_exporter": "python",
   "pygments_lexer": "ipython3",
   "version": "3.6.2"
  },
  "latex_envs": {
   "bibliofile": "biblio.bib",
   "cite_by": "apalike",
   "current_citInitial": 1,
   "eqLabelWithNumbers": true,
   "eqNumInitial": 0
  }
 },
 "nbformat": 4,
 "nbformat_minor": 1
}
