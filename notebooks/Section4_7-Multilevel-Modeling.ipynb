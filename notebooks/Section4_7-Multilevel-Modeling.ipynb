{
 "cells": [
  {
   "cell_type": "markdown",
   "metadata": {},
   "source": [
    "# A Primer on Bayesian Methods for Multilevel Modeling"
   ]
  },
  {
   "cell_type": "markdown",
   "metadata": {},
   "source": [
    "Hierarchical or multilevel modeling is a generalization of regression modeling.\n",
    "\n",
    "*Multilevel models* are regression models in which the constituent model parameters are given **probability models**. This implies that model parameters are allowed to **vary by group**.\n",
    "\n",
    "Observational units are often naturally **clustered**. Clustering induces dependence between observations, despite random sampling of clusters and random sampling within clusters.\n",
    "\n",
    "A *hierarchical model* is a particular multilevel model where parameters are nested within one another.\n",
    "\n",
    "Some multilevel structures are not hierarchical. \n",
    "\n",
    "* e.g. \"country\" and \"year\" are not nested, but may represent separate, but overlapping, clusters of parameters\n",
    "\n",
    "We will motivate this topic using an environmental epidemiology example."
   ]
  },
  {
   "cell_type": "markdown",
   "metadata": {},
   "source": [
    "things happen in clusters\n"
   ]
  },
  {
   "cell_type": "markdown",
   "metadata": {},
   "source": [
    "### Example: Radon contamination (Gelman and Hill 2006)\n",
    "\n",
    "Radon is a radioactive gas that enters homes through contact points with the ground. It is a carcinogen that is the primary cause of lung cancer in non-smokers. Radon levels vary greatly from household to household.\n",
    "\n",
    "![radon](images/how_radon_enters.jpg)\n",
    "\n",
    "The EPA did a study of radon levels in 80,000 houses. Two important predictors:\n",
    "\n",
    "* measurement in basement or first floor (radon higher in basements)\n",
    "* county uranium level (positive correlation with radon levels)\n",
    "\n",
    "We will focus on modeling radon levels in Minnesota.\n",
    "\n",
    "The hierarchy in this example is households within county. "
   ]
  },
  {
   "cell_type": "markdown",
   "metadata": {},
   "source": [
    "country level\n",
    "\n",
    "household level: house with basement > without basement"
   ]
  },
  {
   "cell_type": "markdown",
   "metadata": {},
   "source": [
    "### Data organization"
   ]
  },
  {
   "cell_type": "markdown",
   "metadata": {},
   "source": [
    "First, we import the data from a local file, and extract Minnesota's data."
   ]
  },
  {
   "cell_type": "code",
   "execution_count": 1,
   "metadata": {
    "collapsed": true
   },
   "outputs": [],
   "source": [
    "%matplotlib inline\n",
    "import numpy as np\n",
    "import pandas as pd\n",
    "import matplotlib.pyplot as plt\n",
    "import seaborn as sns; sns.set_context('notebook')\n",
    "\n",
    "# Import radon data\n",
    "srrs2 = pd.read_csv('../data/srrs2.dat')\n",
    "srrs2.columns = srrs2.columns.map(str.strip)\n",
    "srrs_mn = srrs2[srrs2.state=='MN'].copy()\n",
    "\n",
    "RANDOM_SEEDS = [20090425, 19700903]"
   ]
  },
  {
   "cell_type": "code",
   "execution_count": 2,
   "metadata": {},
   "outputs": [
    {
     "data": {
      "text/html": [
       "<div>\n",
       "<style>\n",
       "    .dataframe thead tr:only-child th {\n",
       "        text-align: right;\n",
       "    }\n",
       "\n",
       "    .dataframe thead th {\n",
       "        text-align: left;\n",
       "    }\n",
       "\n",
       "    .dataframe tbody tr th {\n",
       "        vertical-align: top;\n",
       "    }\n",
       "</style>\n",
       "<table border=\"1\" class=\"dataframe\">\n",
       "  <thead>\n",
       "    <tr style=\"text-align: right;\">\n",
       "      <th></th>\n",
       "      <th>idnum</th>\n",
       "      <th>state</th>\n",
       "      <th>state2</th>\n",
       "      <th>stfips</th>\n",
       "      <th>zip</th>\n",
       "      <th>region</th>\n",
       "      <th>typebldg</th>\n",
       "      <th>floor</th>\n",
       "      <th>room</th>\n",
       "      <th>basement</th>\n",
       "      <th>...</th>\n",
       "      <th>stoptm</th>\n",
       "      <th>startdt</th>\n",
       "      <th>stopdt</th>\n",
       "      <th>activity</th>\n",
       "      <th>pcterr</th>\n",
       "      <th>adjwt</th>\n",
       "      <th>dupflag</th>\n",
       "      <th>zipflag</th>\n",
       "      <th>cntyfips</th>\n",
       "      <th>county</th>\n",
       "    </tr>\n",
       "  </thead>\n",
       "  <tbody>\n",
       "    <tr>\n",
       "      <th>5080</th>\n",
       "      <td>5081</td>\n",
       "      <td>MN</td>\n",
       "      <td>MN</td>\n",
       "      <td>27</td>\n",
       "      <td>55735</td>\n",
       "      <td>5</td>\n",
       "      <td>1</td>\n",
       "      <td>1</td>\n",
       "      <td>3</td>\n",
       "      <td>N</td>\n",
       "      <td>...</td>\n",
       "      <td>930</td>\n",
       "      <td>12088</td>\n",
       "      <td>12288</td>\n",
       "      <td>2.2</td>\n",
       "      <td>9.7</td>\n",
       "      <td>1146.499190</td>\n",
       "      <td>1</td>\n",
       "      <td>0</td>\n",
       "      <td>1</td>\n",
       "      <td>AITKIN</td>\n",
       "    </tr>\n",
       "    <tr>\n",
       "      <th>5081</th>\n",
       "      <td>5082</td>\n",
       "      <td>MN</td>\n",
       "      <td>MN</td>\n",
       "      <td>27</td>\n",
       "      <td>55748</td>\n",
       "      <td>5</td>\n",
       "      <td>1</td>\n",
       "      <td>0</td>\n",
       "      <td>4</td>\n",
       "      <td>Y</td>\n",
       "      <td>...</td>\n",
       "      <td>1615</td>\n",
       "      <td>11888</td>\n",
       "      <td>12088</td>\n",
       "      <td>2.2</td>\n",
       "      <td>14.5</td>\n",
       "      <td>471.366223</td>\n",
       "      <td>0</td>\n",
       "      <td>0</td>\n",
       "      <td>1</td>\n",
       "      <td>AITKIN</td>\n",
       "    </tr>\n",
       "    <tr>\n",
       "      <th>5082</th>\n",
       "      <td>5083</td>\n",
       "      <td>MN</td>\n",
       "      <td>MN</td>\n",
       "      <td>27</td>\n",
       "      <td>55748</td>\n",
       "      <td>5</td>\n",
       "      <td>1</td>\n",
       "      <td>0</td>\n",
       "      <td>4</td>\n",
       "      <td>Y</td>\n",
       "      <td>...</td>\n",
       "      <td>1515</td>\n",
       "      <td>20288</td>\n",
       "      <td>21188</td>\n",
       "      <td>2.9</td>\n",
       "      <td>9.6</td>\n",
       "      <td>433.316718</td>\n",
       "      <td>0</td>\n",
       "      <td>0</td>\n",
       "      <td>1</td>\n",
       "      <td>AITKIN</td>\n",
       "    </tr>\n",
       "    <tr>\n",
       "      <th>5083</th>\n",
       "      <td>5084</td>\n",
       "      <td>MN</td>\n",
       "      <td>MN</td>\n",
       "      <td>27</td>\n",
       "      <td>56469</td>\n",
       "      <td>5</td>\n",
       "      <td>1</td>\n",
       "      <td>0</td>\n",
       "      <td>4</td>\n",
       "      <td>Y</td>\n",
       "      <td>...</td>\n",
       "      <td>1410</td>\n",
       "      <td>122987</td>\n",
       "      <td>123187</td>\n",
       "      <td>1.0</td>\n",
       "      <td>24.3</td>\n",
       "      <td>461.623670</td>\n",
       "      <td>0</td>\n",
       "      <td>0</td>\n",
       "      <td>1</td>\n",
       "      <td>AITKIN</td>\n",
       "    </tr>\n",
       "    <tr>\n",
       "      <th>5084</th>\n",
       "      <td>5085</td>\n",
       "      <td>MN</td>\n",
       "      <td>MN</td>\n",
       "      <td>27</td>\n",
       "      <td>55011</td>\n",
       "      <td>3</td>\n",
       "      <td>1</td>\n",
       "      <td>0</td>\n",
       "      <td>4</td>\n",
       "      <td>Y</td>\n",
       "      <td>...</td>\n",
       "      <td>600</td>\n",
       "      <td>12888</td>\n",
       "      <td>13088</td>\n",
       "      <td>3.1</td>\n",
       "      <td>13.8</td>\n",
       "      <td>433.316718</td>\n",
       "      <td>0</td>\n",
       "      <td>0</td>\n",
       "      <td>3</td>\n",
       "      <td>ANOKA</td>\n",
       "    </tr>\n",
       "    <tr>\n",
       "      <th>5085</th>\n",
       "      <td>5086</td>\n",
       "      <td>MN</td>\n",
       "      <td>MN</td>\n",
       "      <td>27</td>\n",
       "      <td>55014</td>\n",
       "      <td>3</td>\n",
       "      <td>1</td>\n",
       "      <td>0</td>\n",
       "      <td>4</td>\n",
       "      <td>Y</td>\n",
       "      <td>...</td>\n",
       "      <td>1300</td>\n",
       "      <td>120287</td>\n",
       "      <td>121187</td>\n",
       "      <td>2.5</td>\n",
       "      <td>12.8</td>\n",
       "      <td>471.366223</td>\n",
       "      <td>0</td>\n",
       "      <td>0</td>\n",
       "      <td>3</td>\n",
       "      <td>ANOKA</td>\n",
       "    </tr>\n",
       "    <tr>\n",
       "      <th>5086</th>\n",
       "      <td>5087</td>\n",
       "      <td>MN</td>\n",
       "      <td>MN</td>\n",
       "      <td>27</td>\n",
       "      <td>55014</td>\n",
       "      <td>3</td>\n",
       "      <td>1</td>\n",
       "      <td>0</td>\n",
       "      <td>4</td>\n",
       "      <td>Y</td>\n",
       "      <td>...</td>\n",
       "      <td>2025</td>\n",
       "      <td>121887</td>\n",
       "      <td>122087</td>\n",
       "      <td>1.5</td>\n",
       "      <td>14.5</td>\n",
       "      <td>471.366223</td>\n",
       "      <td>0</td>\n",
       "      <td>0</td>\n",
       "      <td>3</td>\n",
       "      <td>ANOKA</td>\n",
       "    </tr>\n",
       "    <tr>\n",
       "      <th>5087</th>\n",
       "      <td>5088</td>\n",
       "      <td>MN</td>\n",
       "      <td>MN</td>\n",
       "      <td>27</td>\n",
       "      <td>55014</td>\n",
       "      <td>3</td>\n",
       "      <td>1</td>\n",
       "      <td>0</td>\n",
       "      <td>2</td>\n",
       "      <td>Y</td>\n",
       "      <td>...</td>\n",
       "      <td>1000</td>\n",
       "      <td>122587</td>\n",
       "      <td>122787</td>\n",
       "      <td>1.0</td>\n",
       "      <td>18.0</td>\n",
       "      <td>433.316718</td>\n",
       "      <td>0</td>\n",
       "      <td>0</td>\n",
       "      <td>3</td>\n",
       "      <td>ANOKA</td>\n",
       "    </tr>\n",
       "    <tr>\n",
       "      <th>5088</th>\n",
       "      <td>5089</td>\n",
       "      <td>MN</td>\n",
       "      <td>MN</td>\n",
       "      <td>27</td>\n",
       "      <td>55014</td>\n",
       "      <td>3</td>\n",
       "      <td>1</td>\n",
       "      <td>0</td>\n",
       "      <td>4</td>\n",
       "      <td>Y</td>\n",
       "      <td>...</td>\n",
       "      <td>1730</td>\n",
       "      <td>10188</td>\n",
       "      <td>10188</td>\n",
       "      <td>0.7</td>\n",
       "      <td>25.1</td>\n",
       "      <td>433.316718</td>\n",
       "      <td>0</td>\n",
       "      <td>0</td>\n",
       "      <td>3</td>\n",
       "      <td>ANOKA</td>\n",
       "    </tr>\n",
       "    <tr>\n",
       "      <th>5089</th>\n",
       "      <td>5090</td>\n",
       "      <td>MN</td>\n",
       "      <td>MN</td>\n",
       "      <td>27</td>\n",
       "      <td>55014</td>\n",
       "      <td>3</td>\n",
       "      <td>1</td>\n",
       "      <td>0</td>\n",
       "      <td>4</td>\n",
       "      <td>Y</td>\n",
       "      <td>...</td>\n",
       "      <td>900</td>\n",
       "      <td>20288</td>\n",
       "      <td>20288</td>\n",
       "      <td>1.2</td>\n",
       "      <td>17.5</td>\n",
       "      <td>461.623670</td>\n",
       "      <td>0</td>\n",
       "      <td>0</td>\n",
       "      <td>3</td>\n",
       "      <td>ANOKA</td>\n",
       "    </tr>\n",
       "    <tr>\n",
       "      <th>5090</th>\n",
       "      <td>5091</td>\n",
       "      <td>MN</td>\n",
       "      <td>MN</td>\n",
       "      <td>27</td>\n",
       "      <td>55014</td>\n",
       "      <td>3</td>\n",
       "      <td>1</td>\n",
       "      <td>0</td>\n",
       "      <td>4</td>\n",
       "      <td>Y</td>\n",
       "      <td>...</td>\n",
       "      <td>1040</td>\n",
       "      <td>20288</td>\n",
       "      <td>20288</td>\n",
       "      <td>1.2</td>\n",
       "      <td>20.2</td>\n",
       "      <td>461.623670</td>\n",
       "      <td>0</td>\n",
       "      <td>0</td>\n",
       "      <td>3</td>\n",
       "      <td>ANOKA</td>\n",
       "    </tr>\n",
       "    <tr>\n",
       "      <th>5091</th>\n",
       "      <td>5092</td>\n",
       "      <td>MN</td>\n",
       "      <td>MN</td>\n",
       "      <td>27</td>\n",
       "      <td>55014</td>\n",
       "      <td>3</td>\n",
       "      <td>1</td>\n",
       "      <td>0</td>\n",
       "      <td>4</td>\n",
       "      <td>Y</td>\n",
       "      <td>...</td>\n",
       "      <td>610</td>\n",
       "      <td>22988</td>\n",
       "      <td>30388</td>\n",
       "      <td>1.3</td>\n",
       "      <td>23.3</td>\n",
       "      <td>471.366223</td>\n",
       "      <td>0</td>\n",
       "      <td>0</td>\n",
       "      <td>3</td>\n",
       "      <td>ANOKA</td>\n",
       "    </tr>\n",
       "    <tr>\n",
       "      <th>5092</th>\n",
       "      <td>5093</td>\n",
       "      <td>MN</td>\n",
       "      <td>MN</td>\n",
       "      <td>27</td>\n",
       "      <td>55014</td>\n",
       "      <td>3</td>\n",
       "      <td>1</td>\n",
       "      <td>0</td>\n",
       "      <td>4</td>\n",
       "      <td>Y</td>\n",
       "      <td>...</td>\n",
       "      <td>1221</td>\n",
       "      <td>30388</td>\n",
       "      <td>31088</td>\n",
       "      <td>1.4</td>\n",
       "      <td>18.7</td>\n",
       "      <td>461.274696</td>\n",
       "      <td>0</td>\n",
       "      <td>0</td>\n",
       "      <td>3</td>\n",
       "      <td>ANOKA</td>\n",
       "    </tr>\n",
       "    <tr>\n",
       "      <th>5093</th>\n",
       "      <td>5094</td>\n",
       "      <td>MN</td>\n",
       "      <td>MN</td>\n",
       "      <td>27</td>\n",
       "      <td>55025</td>\n",
       "      <td>3</td>\n",
       "      <td>1</td>\n",
       "      <td>0</td>\n",
       "      <td>2</td>\n",
       "      <td>Y</td>\n",
       "      <td>...</td>\n",
       "      <td>815</td>\n",
       "      <td>121287</td>\n",
       "      <td>121487</td>\n",
       "      <td>0.4</td>\n",
       "      <td>0.0</td>\n",
       "      <td>461.623670</td>\n",
       "      <td>0</td>\n",
       "      <td>0</td>\n",
       "      <td>3</td>\n",
       "      <td>ANOKA</td>\n",
       "    </tr>\n",
       "    <tr>\n",
       "      <th>5094</th>\n",
       "      <td>5095</td>\n",
       "      <td>MN</td>\n",
       "      <td>MN</td>\n",
       "      <td>27</td>\n",
       "      <td>55025</td>\n",
       "      <td>3</td>\n",
       "      <td>0</td>\n",
       "      <td>0</td>\n",
       "      <td>0</td>\n",
       "      <td></td>\n",
       "      <td>...</td>\n",
       "      <td>1400</td>\n",
       "      <td>121687</td>\n",
       "      <td>121887</td>\n",
       "      <td>1.1</td>\n",
       "      <td>18.8</td>\n",
       "      <td>471.366223</td>\n",
       "      <td>0</td>\n",
       "      <td>0</td>\n",
       "      <td>3</td>\n",
       "      <td>ANOKA</td>\n",
       "    </tr>\n",
       "    <tr>\n",
       "      <th>5095</th>\n",
       "      <td>5096</td>\n",
       "      <td>MN</td>\n",
       "      <td>MN</td>\n",
       "      <td>27</td>\n",
       "      <td>55025</td>\n",
       "      <td>3</td>\n",
       "      <td>1</td>\n",
       "      <td>0</td>\n",
       "      <td>0</td>\n",
       "      <td>Y</td>\n",
       "      <td>...</td>\n",
       "      <td>1600</td>\n",
       "      <td>12688</td>\n",
       "      <td>12888</td>\n",
       "      <td>4.5</td>\n",
       "      <td>7.0</td>\n",
       "      <td>461.623670</td>\n",
       "      <td>0</td>\n",
       "      <td>0</td>\n",
       "      <td>3</td>\n",
       "      <td>ANOKA</td>\n",
       "    </tr>\n",
       "    <tr>\n",
       "      <th>5096</th>\n",
       "      <td>5097</td>\n",
       "      <td>MN</td>\n",
       "      <td>MN</td>\n",
       "      <td>27</td>\n",
       "      <td>55025</td>\n",
       "      <td>3</td>\n",
       "      <td>1</td>\n",
       "      <td>0</td>\n",
       "      <td>4</td>\n",
       "      <td>Y</td>\n",
       "      <td>...</td>\n",
       "      <td>1205</td>\n",
       "      <td>12088</td>\n",
       "      <td>12288</td>\n",
       "      <td>1.3</td>\n",
       "      <td>33.2</td>\n",
       "      <td>485.435931</td>\n",
       "      <td>0</td>\n",
       "      <td>0</td>\n",
       "      <td>3</td>\n",
       "      <td>ANOKA</td>\n",
       "    </tr>\n",
       "    <tr>\n",
       "      <th>5097</th>\n",
       "      <td>5098</td>\n",
       "      <td>MN</td>\n",
       "      <td>MN</td>\n",
       "      <td>27</td>\n",
       "      <td>55025</td>\n",
       "      <td>3</td>\n",
       "      <td>1</td>\n",
       "      <td>0</td>\n",
       "      <td>4</td>\n",
       "      <td>Y</td>\n",
       "      <td>...</td>\n",
       "      <td>2000</td>\n",
       "      <td>22188</td>\n",
       "      <td>22388</td>\n",
       "      <td>2.1</td>\n",
       "      <td>10.1</td>\n",
       "      <td>461.274696</td>\n",
       "      <td>0</td>\n",
       "      <td>0</td>\n",
       "      <td>3</td>\n",
       "      <td>ANOKA</td>\n",
       "    </tr>\n",
       "    <tr>\n",
       "      <th>5098</th>\n",
       "      <td>5099</td>\n",
       "      <td>MN</td>\n",
       "      <td>MN</td>\n",
       "      <td>27</td>\n",
       "      <td>55038</td>\n",
       "      <td>3</td>\n",
       "      <td>1</td>\n",
       "      <td>0</td>\n",
       "      <td>4</td>\n",
       "      <td>Y</td>\n",
       "      <td>...</td>\n",
       "      <td>1110</td>\n",
       "      <td>33188</td>\n",
       "      <td>40488</td>\n",
       "      <td>5.9</td>\n",
       "      <td>5.7</td>\n",
       "      <td>471.366223</td>\n",
       "      <td>0</td>\n",
       "      <td>0</td>\n",
       "      <td>3</td>\n",
       "      <td>ANOKA</td>\n",
       "    </tr>\n",
       "    <tr>\n",
       "      <th>5099</th>\n",
       "      <td>5100</td>\n",
       "      <td>MN</td>\n",
       "      <td>MN</td>\n",
       "      <td>27</td>\n",
       "      <td>55070</td>\n",
       "      <td>3</td>\n",
       "      <td>1</td>\n",
       "      <td>0</td>\n",
       "      <td>2</td>\n",
       "      <td>Y</td>\n",
       "      <td>...</td>\n",
       "      <td>1900</td>\n",
       "      <td>22388</td>\n",
       "      <td>22588</td>\n",
       "      <td>3.3</td>\n",
       "      <td>8.4</td>\n",
       "      <td>461.623670</td>\n",
       "      <td>0</td>\n",
       "      <td>0</td>\n",
       "      <td>3</td>\n",
       "      <td>ANOKA</td>\n",
       "    </tr>\n",
       "    <tr>\n",
       "      <th>5100</th>\n",
       "      <td>5101</td>\n",
       "      <td>MN</td>\n",
       "      <td>MN</td>\n",
       "      <td>27</td>\n",
       "      <td>55303</td>\n",
       "      <td>3</td>\n",
       "      <td>1</td>\n",
       "      <td>0</td>\n",
       "      <td>2</td>\n",
       "      <td>Y</td>\n",
       "      <td>...</td>\n",
       "      <td>1930</td>\n",
       "      <td>120287</td>\n",
       "      <td>121087</td>\n",
       "      <td>1.8</td>\n",
       "      <td>14.4</td>\n",
       "      <td>471.366223</td>\n",
       "      <td>1</td>\n",
       "      <td>0</td>\n",
       "      <td>3</td>\n",
       "      <td>ANOKA</td>\n",
       "    </tr>\n",
       "    <tr>\n",
       "      <th>5101</th>\n",
       "      <td>5102</td>\n",
       "      <td>MN</td>\n",
       "      <td>MN</td>\n",
       "      <td>27</td>\n",
       "      <td>55303</td>\n",
       "      <td>3</td>\n",
       "      <td>0</td>\n",
       "      <td>0</td>\n",
       "      <td>0</td>\n",
       "      <td></td>\n",
       "      <td>...</td>\n",
       "      <td>1620</td>\n",
       "      <td>121987</td>\n",
       "      <td>122187</td>\n",
       "      <td>5.4</td>\n",
       "      <td>5.6</td>\n",
       "      <td>461.623670</td>\n",
       "      <td>0</td>\n",
       "      <td>0</td>\n",
       "      <td>3</td>\n",
       "      <td>ANOKA</td>\n",
       "    </tr>\n",
       "    <tr>\n",
       "      <th>5102</th>\n",
       "      <td>5103</td>\n",
       "      <td>MN</td>\n",
       "      <td>MN</td>\n",
       "      <td>27</td>\n",
       "      <td>55303</td>\n",
       "      <td>3</td>\n",
       "      <td>1</td>\n",
       "      <td>0</td>\n",
       "      <td>4</td>\n",
       "      <td>Y</td>\n",
       "      <td>...</td>\n",
       "      <td>1815</td>\n",
       "      <td>122887</td>\n",
       "      <td>123087</td>\n",
       "      <td>6.3</td>\n",
       "      <td>6.1</td>\n",
       "      <td>461.623670</td>\n",
       "      <td>0</td>\n",
       "      <td>0</td>\n",
       "      <td>3</td>\n",
       "      <td>ANOKA</td>\n",
       "    </tr>\n",
       "    <tr>\n",
       "      <th>5103</th>\n",
       "      <td>5104</td>\n",
       "      <td>MN</td>\n",
       "      <td>MN</td>\n",
       "      <td>27</td>\n",
       "      <td>55303</td>\n",
       "      <td>3</td>\n",
       "      <td>1</td>\n",
       "      <td>0</td>\n",
       "      <td>5</td>\n",
       "      <td>Y</td>\n",
       "      <td>...</td>\n",
       "      <td>1900</td>\n",
       "      <td>122887</td>\n",
       "      <td>123087</td>\n",
       "      <td>1.9</td>\n",
       "      <td>13.7</td>\n",
       "      <td>471.366223</td>\n",
       "      <td>0</td>\n",
       "      <td>0</td>\n",
       "      <td>3</td>\n",
       "      <td>ANOKA</td>\n",
       "    </tr>\n",
       "    <tr>\n",
       "      <th>5104</th>\n",
       "      <td>5105</td>\n",
       "      <td>MN</td>\n",
       "      <td>MN</td>\n",
       "      <td>27</td>\n",
       "      <td>55303</td>\n",
       "      <td>3</td>\n",
       "      <td>1</td>\n",
       "      <td>0</td>\n",
       "      <td>4</td>\n",
       "      <td>Y</td>\n",
       "      <td>...</td>\n",
       "      <td>1530</td>\n",
       "      <td>10188</td>\n",
       "      <td>10188</td>\n",
       "      <td>6.6</td>\n",
       "      <td>8.9</td>\n",
       "      <td>461.623670</td>\n",
       "      <td>0</td>\n",
       "      <td>0</td>\n",
       "      <td>3</td>\n",
       "      <td>ANOKA</td>\n",
       "    </tr>\n",
       "    <tr>\n",
       "      <th>5105</th>\n",
       "      <td>5106</td>\n",
       "      <td>MN</td>\n",
       "      <td>MN</td>\n",
       "      <td>27</td>\n",
       "      <td>55303</td>\n",
       "      <td>3</td>\n",
       "      <td>1</td>\n",
       "      <td>0</td>\n",
       "      <td>2</td>\n",
       "      <td>Y</td>\n",
       "      <td>...</td>\n",
       "      <td>1600</td>\n",
       "      <td>122887</td>\n",
       "      <td>123087</td>\n",
       "      <td>3.1</td>\n",
       "      <td>9.9</td>\n",
       "      <td>471.366223</td>\n",
       "      <td>0</td>\n",
       "      <td>0</td>\n",
       "      <td>3</td>\n",
       "      <td>ANOKA</td>\n",
       "    </tr>\n",
       "    <tr>\n",
       "      <th>5106</th>\n",
       "      <td>5107</td>\n",
       "      <td>MN</td>\n",
       "      <td>MN</td>\n",
       "      <td>27</td>\n",
       "      <td>55303</td>\n",
       "      <td>3</td>\n",
       "      <td>1</td>\n",
       "      <td>0</td>\n",
       "      <td>2</td>\n",
       "      <td>Y</td>\n",
       "      <td>...</td>\n",
       "      <td>1730</td>\n",
       "      <td>11688</td>\n",
       "      <td>11888</td>\n",
       "      <td>6.8</td>\n",
       "      <td>4.9</td>\n",
       "      <td>433.316718</td>\n",
       "      <td>0</td>\n",
       "      <td>0</td>\n",
       "      <td>3</td>\n",
       "      <td>ANOKA</td>\n",
       "    </tr>\n",
       "    <tr>\n",
       "      <th>5107</th>\n",
       "      <td>5108</td>\n",
       "      <td>MN</td>\n",
       "      <td>MN</td>\n",
       "      <td>27</td>\n",
       "      <td>55303</td>\n",
       "      <td>3</td>\n",
       "      <td>1</td>\n",
       "      <td>0</td>\n",
       "      <td>4</td>\n",
       "      <td>Y</td>\n",
       "      <td>...</td>\n",
       "      <td>1645</td>\n",
       "      <td>12888</td>\n",
       "      <td>13088</td>\n",
       "      <td>7.0</td>\n",
       "      <td>4.6</td>\n",
       "      <td>485.435931</td>\n",
       "      <td>0</td>\n",
       "      <td>0</td>\n",
       "      <td>3</td>\n",
       "      <td>ANOKA</td>\n",
       "    </tr>\n",
       "    <tr>\n",
       "      <th>5108</th>\n",
       "      <td>5109</td>\n",
       "      <td>MN</td>\n",
       "      <td>MN</td>\n",
       "      <td>27</td>\n",
       "      <td>55303</td>\n",
       "      <td>3</td>\n",
       "      <td>1</td>\n",
       "      <td>0</td>\n",
       "      <td>7</td>\n",
       "      <td>Y</td>\n",
       "      <td>...</td>\n",
       "      <td>2210</td>\n",
       "      <td>20288</td>\n",
       "      <td>20288</td>\n",
       "      <td>7.7</td>\n",
       "      <td>4.5</td>\n",
       "      <td>461.623670</td>\n",
       "      <td>0</td>\n",
       "      <td>0</td>\n",
       "      <td>3</td>\n",
       "      <td>ANOKA</td>\n",
       "    </tr>\n",
       "    <tr>\n",
       "      <th>5109</th>\n",
       "      <td>5110</td>\n",
       "      <td>MN</td>\n",
       "      <td>MN</td>\n",
       "      <td>27</td>\n",
       "      <td>55303</td>\n",
       "      <td>3</td>\n",
       "      <td>1</td>\n",
       "      <td>0</td>\n",
       "      <td>4</td>\n",
       "      <td>Y</td>\n",
       "      <td>...</td>\n",
       "      <td>1700</td>\n",
       "      <td>20288</td>\n",
       "      <td>20288</td>\n",
       "      <td>5.2</td>\n",
       "      <td>4.8</td>\n",
       "      <td>485.435931</td>\n",
       "      <td>0</td>\n",
       "      <td>0</td>\n",
       "      <td>3</td>\n",
       "      <td>ANOKA</td>\n",
       "    </tr>\n",
       "    <tr>\n",
       "      <th>...</th>\n",
       "      <td>...</td>\n",
       "      <td>...</td>\n",
       "      <td>...</td>\n",
       "      <td>...</td>\n",
       "      <td>...</td>\n",
       "      <td>...</td>\n",
       "      <td>...</td>\n",
       "      <td>...</td>\n",
       "      <td>...</td>\n",
       "      <td>...</td>\n",
       "      <td>...</td>\n",
       "      <td>...</td>\n",
       "      <td>...</td>\n",
       "      <td>...</td>\n",
       "      <td>...</td>\n",
       "      <td>...</td>\n",
       "      <td>...</td>\n",
       "      <td>...</td>\n",
       "      <td>...</td>\n",
       "      <td>...</td>\n",
       "      <td>...</td>\n",
       "    </tr>\n",
       "    <tr>\n",
       "      <th>5969</th>\n",
       "      <td>5970</td>\n",
       "      <td>MN</td>\n",
       "      <td>MN</td>\n",
       "      <td>27</td>\n",
       "      <td>56120</td>\n",
       "      <td>5</td>\n",
       "      <td>1</td>\n",
       "      <td>1</td>\n",
       "      <td>3</td>\n",
       "      <td>Y</td>\n",
       "      <td>...</td>\n",
       "      <td>1315</td>\n",
       "      <td>12688</td>\n",
       "      <td>12888</td>\n",
       "      <td>5.7</td>\n",
       "      <td>5.3</td>\n",
       "      <td>1214.922779</td>\n",
       "      <td>0</td>\n",
       "      <td>0</td>\n",
       "      <td>165</td>\n",
       "      <td>WATONWAN</td>\n",
       "    </tr>\n",
       "    <tr>\n",
       "      <th>5970</th>\n",
       "      <td>5971</td>\n",
       "      <td>MN</td>\n",
       "      <td>MN</td>\n",
       "      <td>27</td>\n",
       "      <td>56520</td>\n",
       "      <td>2</td>\n",
       "      <td>1</td>\n",
       "      <td>0</td>\n",
       "      <td>4</td>\n",
       "      <td>Y</td>\n",
       "      <td>...</td>\n",
       "      <td>1300</td>\n",
       "      <td>20288</td>\n",
       "      <td>20288</td>\n",
       "      <td>9.3</td>\n",
       "      <td>4.2</td>\n",
       "      <td>1071.318034</td>\n",
       "      <td>0</td>\n",
       "      <td>0</td>\n",
       "      <td>167</td>\n",
       "      <td>WILKIN</td>\n",
       "    </tr>\n",
       "    <tr>\n",
       "      <th>5971</th>\n",
       "      <td>5972</td>\n",
       "      <td>MN</td>\n",
       "      <td>MN</td>\n",
       "      <td>27</td>\n",
       "      <td>55925</td>\n",
       "      <td>4</td>\n",
       "      <td>1</td>\n",
       "      <td>0</td>\n",
       "      <td>0</td>\n",
       "      <td>Y</td>\n",
       "      <td>...</td>\n",
       "      <td>830</td>\n",
       "      <td>21188</td>\n",
       "      <td>21388</td>\n",
       "      <td>3.4</td>\n",
       "      <td>7.0</td>\n",
       "      <td>990.411554</td>\n",
       "      <td>1</td>\n",
       "      <td>0</td>\n",
       "      <td>169</td>\n",
       "      <td>WINONA</td>\n",
       "    </tr>\n",
       "    <tr>\n",
       "      <th>5972</th>\n",
       "      <td>5973</td>\n",
       "      <td>MN</td>\n",
       "      <td>MN</td>\n",
       "      <td>27</td>\n",
       "      <td>55943</td>\n",
       "      <td>4</td>\n",
       "      <td>1</td>\n",
       "      <td>0</td>\n",
       "      <td>4</td>\n",
       "      <td>Y</td>\n",
       "      <td>...</td>\n",
       "      <td>1640</td>\n",
       "      <td>121687</td>\n",
       "      <td>121887</td>\n",
       "      <td>4.1</td>\n",
       "      <td>7.7</td>\n",
       "      <td>921.864905</td>\n",
       "      <td>0</td>\n",
       "      <td>0</td>\n",
       "      <td>169</td>\n",
       "      <td>WINONA</td>\n",
       "    </tr>\n",
       "    <tr>\n",
       "      <th>5973</th>\n",
       "      <td>5974</td>\n",
       "      <td>MN</td>\n",
       "      <td>MN</td>\n",
       "      <td>27</td>\n",
       "      <td>55952</td>\n",
       "      <td>4</td>\n",
       "      <td>1</td>\n",
       "      <td>0</td>\n",
       "      <td>4</td>\n",
       "      <td>Y</td>\n",
       "      <td>...</td>\n",
       "      <td>1020</td>\n",
       "      <td>20288</td>\n",
       "      <td>21188</td>\n",
       "      <td>11.6</td>\n",
       "      <td>3.8</td>\n",
       "      <td>1071.318034</td>\n",
       "      <td>1</td>\n",
       "      <td>0</td>\n",
       "      <td>169</td>\n",
       "      <td>WINONA</td>\n",
       "    </tr>\n",
       "    <tr>\n",
       "      <th>5974</th>\n",
       "      <td>5975</td>\n",
       "      <td>MN</td>\n",
       "      <td>MN</td>\n",
       "      <td>27</td>\n",
       "      <td>55969</td>\n",
       "      <td>4</td>\n",
       "      <td>2</td>\n",
       "      <td>0</td>\n",
       "      <td>7</td>\n",
       "      <td>Y</td>\n",
       "      <td>...</td>\n",
       "      <td>700</td>\n",
       "      <td>122087</td>\n",
       "      <td>122387</td>\n",
       "      <td>7.2</td>\n",
       "      <td>6.1</td>\n",
       "      <td>921.864905</td>\n",
       "      <td>0</td>\n",
       "      <td>0</td>\n",
       "      <td>169</td>\n",
       "      <td>WINONA</td>\n",
       "    </tr>\n",
       "    <tr>\n",
       "      <th>5975</th>\n",
       "      <td>5976</td>\n",
       "      <td>MN</td>\n",
       "      <td>MN</td>\n",
       "      <td>27</td>\n",
       "      <td>55972</td>\n",
       "      <td>4</td>\n",
       "      <td>1</td>\n",
       "      <td>0</td>\n",
       "      <td>2</td>\n",
       "      <td>Y</td>\n",
       "      <td>...</td>\n",
       "      <td>700</td>\n",
       "      <td>20288</td>\n",
       "      <td>20288</td>\n",
       "      <td>4.7</td>\n",
       "      <td>6.4</td>\n",
       "      <td>990.411554</td>\n",
       "      <td>0</td>\n",
       "      <td>0</td>\n",
       "      <td>169</td>\n",
       "      <td>WINONA</td>\n",
       "    </tr>\n",
       "    <tr>\n",
       "      <th>5976</th>\n",
       "      <td>5977</td>\n",
       "      <td>MN</td>\n",
       "      <td>MN</td>\n",
       "      <td>27</td>\n",
       "      <td>55972</td>\n",
       "      <td>4</td>\n",
       "      <td>1</td>\n",
       "      <td>1</td>\n",
       "      <td>1</td>\n",
       "      <td>Y</td>\n",
       "      <td>...</td>\n",
       "      <td>800</td>\n",
       "      <td>30388</td>\n",
       "      <td>30388</td>\n",
       "      <td>1.8</td>\n",
       "      <td>13.4</td>\n",
       "      <td>893.237430</td>\n",
       "      <td>0</td>\n",
       "      <td>0</td>\n",
       "      <td>169</td>\n",
       "      <td>WINONA</td>\n",
       "    </tr>\n",
       "    <tr>\n",
       "      <th>5977</th>\n",
       "      <td>5978</td>\n",
       "      <td>MN</td>\n",
       "      <td>MN</td>\n",
       "      <td>27</td>\n",
       "      <td>55987</td>\n",
       "      <td>4</td>\n",
       "      <td>1</td>\n",
       "      <td>1</td>\n",
       "      <td>3</td>\n",
       "      <td>Y</td>\n",
       "      <td>...</td>\n",
       "      <td>1657</td>\n",
       "      <td>121287</td>\n",
       "      <td>121487</td>\n",
       "      <td>0.7</td>\n",
       "      <td>28.9</td>\n",
       "      <td>1024.442902</td>\n",
       "      <td>0</td>\n",
       "      <td>0</td>\n",
       "      <td>169</td>\n",
       "      <td>WINONA</td>\n",
       "    </tr>\n",
       "    <tr>\n",
       "      <th>5978</th>\n",
       "      <td>5979</td>\n",
       "      <td>MN</td>\n",
       "      <td>MN</td>\n",
       "      <td>27</td>\n",
       "      <td>55987</td>\n",
       "      <td>4</td>\n",
       "      <td>1</td>\n",
       "      <td>0</td>\n",
       "      <td>4</td>\n",
       "      <td>Y</td>\n",
       "      <td>...</td>\n",
       "      <td>1505</td>\n",
       "      <td>10188</td>\n",
       "      <td>11188</td>\n",
       "      <td>4.7</td>\n",
       "      <td>5.1</td>\n",
       "      <td>1024.442902</td>\n",
       "      <td>0</td>\n",
       "      <td>0</td>\n",
       "      <td>169</td>\n",
       "      <td>WINONA</td>\n",
       "    </tr>\n",
       "    <tr>\n",
       "      <th>5979</th>\n",
       "      <td>5980</td>\n",
       "      <td>MN</td>\n",
       "      <td>MN</td>\n",
       "      <td>27</td>\n",
       "      <td>55987</td>\n",
       "      <td>4</td>\n",
       "      <td>1</td>\n",
       "      <td>0</td>\n",
       "      <td>2</td>\n",
       "      <td>Y</td>\n",
       "      <td>...</td>\n",
       "      <td>2100</td>\n",
       "      <td>12388</td>\n",
       "      <td>12588</td>\n",
       "      <td>10.2</td>\n",
       "      <td>3.1</td>\n",
       "      <td>1024.442902</td>\n",
       "      <td>0</td>\n",
       "      <td>0</td>\n",
       "      <td>169</td>\n",
       "      <td>WINONA</td>\n",
       "    </tr>\n",
       "    <tr>\n",
       "      <th>5980</th>\n",
       "      <td>5981</td>\n",
       "      <td>MN</td>\n",
       "      <td>MN</td>\n",
       "      <td>27</td>\n",
       "      <td>55987</td>\n",
       "      <td>4</td>\n",
       "      <td>1</td>\n",
       "      <td>0</td>\n",
       "      <td>2</td>\n",
       "      <td>Y</td>\n",
       "      <td>...</td>\n",
       "      <td>1900</td>\n",
       "      <td>20288</td>\n",
       "      <td>20288</td>\n",
       "      <td>11.3</td>\n",
       "      <td>3.2</td>\n",
       "      <td>1024.442902</td>\n",
       "      <td>1</td>\n",
       "      <td>0</td>\n",
       "      <td>169</td>\n",
       "      <td>WINONA</td>\n",
       "    </tr>\n",
       "    <tr>\n",
       "      <th>5981</th>\n",
       "      <td>5982</td>\n",
       "      <td>MN</td>\n",
       "      <td>MN</td>\n",
       "      <td>27</td>\n",
       "      <td>55987</td>\n",
       "      <td>4</td>\n",
       "      <td>1</td>\n",
       "      <td>0</td>\n",
       "      <td>5</td>\n",
       "      <td>Y</td>\n",
       "      <td>...</td>\n",
       "      <td>2130</td>\n",
       "      <td>30388</td>\n",
       "      <td>30388</td>\n",
       "      <td>7.6</td>\n",
       "      <td>4.1</td>\n",
       "      <td>1024.442902</td>\n",
       "      <td>0</td>\n",
       "      <td>0</td>\n",
       "      <td>169</td>\n",
       "      <td>WINONA</td>\n",
       "    </tr>\n",
       "    <tr>\n",
       "      <th>5982</th>\n",
       "      <td>5983</td>\n",
       "      <td>MN</td>\n",
       "      <td>MN</td>\n",
       "      <td>27</td>\n",
       "      <td>55987</td>\n",
       "      <td>4</td>\n",
       "      <td>1</td>\n",
       "      <td>0</td>\n",
       "      <td>2</td>\n",
       "      <td>Y</td>\n",
       "      <td>...</td>\n",
       "      <td>1634</td>\n",
       "      <td>30388</td>\n",
       "      <td>30388</td>\n",
       "      <td>11.8</td>\n",
       "      <td>3.1</td>\n",
       "      <td>921.864905</td>\n",
       "      <td>0</td>\n",
       "      <td>0</td>\n",
       "      <td>169</td>\n",
       "      <td>WINONA</td>\n",
       "    </tr>\n",
       "    <tr>\n",
       "      <th>5983</th>\n",
       "      <td>5984</td>\n",
       "      <td>MN</td>\n",
       "      <td>MN</td>\n",
       "      <td>27</td>\n",
       "      <td>55987</td>\n",
       "      <td>4</td>\n",
       "      <td>1</td>\n",
       "      <td>1</td>\n",
       "      <td>2</td>\n",
       "      <td>Y</td>\n",
       "      <td>...</td>\n",
       "      <td>1000</td>\n",
       "      <td>30388</td>\n",
       "      <td>31188</td>\n",
       "      <td>0.5</td>\n",
       "      <td>0.0</td>\n",
       "      <td>990.411554</td>\n",
       "      <td>0</td>\n",
       "      <td>0</td>\n",
       "      <td>169</td>\n",
       "      <td>WINONA</td>\n",
       "    </tr>\n",
       "    <tr>\n",
       "      <th>5984</th>\n",
       "      <td>5985</td>\n",
       "      <td>MN</td>\n",
       "      <td>MN</td>\n",
       "      <td>27</td>\n",
       "      <td>55313</td>\n",
       "      <td>5</td>\n",
       "      <td>1</td>\n",
       "      <td>0</td>\n",
       "      <td>1</td>\n",
       "      <td>Y</td>\n",
       "      <td>...</td>\n",
       "      <td>1800</td>\n",
       "      <td>122687</td>\n",
       "      <td>122887</td>\n",
       "      <td>6.7</td>\n",
       "      <td>12.0</td>\n",
       "      <td>1214.922779</td>\n",
       "      <td>0</td>\n",
       "      <td>0</td>\n",
       "      <td>171</td>\n",
       "      <td>WRIGHT</td>\n",
       "    </tr>\n",
       "    <tr>\n",
       "      <th>5985</th>\n",
       "      <td>5986</td>\n",
       "      <td>MN</td>\n",
       "      <td>MN</td>\n",
       "      <td>27</td>\n",
       "      <td>55313</td>\n",
       "      <td>5</td>\n",
       "      <td>1</td>\n",
       "      <td>0</td>\n",
       "      <td>1</td>\n",
       "      <td>Y</td>\n",
       "      <td>...</td>\n",
       "      <td>845</td>\n",
       "      <td>12788</td>\n",
       "      <td>12988</td>\n",
       "      <td>5.3</td>\n",
       "      <td>6.2</td>\n",
       "      <td>1146.499190</td>\n",
       "      <td>0</td>\n",
       "      <td>0</td>\n",
       "      <td>171</td>\n",
       "      <td>WRIGHT</td>\n",
       "    </tr>\n",
       "    <tr>\n",
       "      <th>5986</th>\n",
       "      <td>5987</td>\n",
       "      <td>MN</td>\n",
       "      <td>MN</td>\n",
       "      <td>27</td>\n",
       "      <td>55313</td>\n",
       "      <td>5</td>\n",
       "      <td>1</td>\n",
       "      <td>0</td>\n",
       "      <td>2</td>\n",
       "      <td>Y</td>\n",
       "      <td>...</td>\n",
       "      <td>1235</td>\n",
       "      <td>22388</td>\n",
       "      <td>22588</td>\n",
       "      <td>3.1</td>\n",
       "      <td>10.8</td>\n",
       "      <td>1105.956867</td>\n",
       "      <td>0</td>\n",
       "      <td>0</td>\n",
       "      <td>171</td>\n",
       "      <td>WRIGHT</td>\n",
       "    </tr>\n",
       "    <tr>\n",
       "      <th>5987</th>\n",
       "      <td>5988</td>\n",
       "      <td>MN</td>\n",
       "      <td>MN</td>\n",
       "      <td>27</td>\n",
       "      <td>55321</td>\n",
       "      <td>5</td>\n",
       "      <td>1</td>\n",
       "      <td>0</td>\n",
       "      <td>4</td>\n",
       "      <td>Y</td>\n",
       "      <td>...</td>\n",
       "      <td>800</td>\n",
       "      <td>122087</td>\n",
       "      <td>122287</td>\n",
       "      <td>2.1</td>\n",
       "      <td>16.0</td>\n",
       "      <td>1105.956867</td>\n",
       "      <td>0</td>\n",
       "      <td>0</td>\n",
       "      <td>171</td>\n",
       "      <td>WRIGHT</td>\n",
       "    </tr>\n",
       "    <tr>\n",
       "      <th>5988</th>\n",
       "      <td>5989</td>\n",
       "      <td>MN</td>\n",
       "      <td>MN</td>\n",
       "      <td>27</td>\n",
       "      <td>55321</td>\n",
       "      <td>5</td>\n",
       "      <td>1</td>\n",
       "      <td>0</td>\n",
       "      <td>2</td>\n",
       "      <td>Y</td>\n",
       "      <td>...</td>\n",
       "      <td>1734</td>\n",
       "      <td>11688</td>\n",
       "      <td>11888</td>\n",
       "      <td>7.3</td>\n",
       "      <td>4.2</td>\n",
       "      <td>1088.985661</td>\n",
       "      <td>0</td>\n",
       "      <td>0</td>\n",
       "      <td>171</td>\n",
       "      <td>WRIGHT</td>\n",
       "    </tr>\n",
       "    <tr>\n",
       "      <th>5989</th>\n",
       "      <td>5990</td>\n",
       "      <td>MN</td>\n",
       "      <td>MN</td>\n",
       "      <td>27</td>\n",
       "      <td>55341</td>\n",
       "      <td>5</td>\n",
       "      <td>1</td>\n",
       "      <td>0</td>\n",
       "      <td>2</td>\n",
       "      <td>Y</td>\n",
       "      <td>...</td>\n",
       "      <td>2100</td>\n",
       "      <td>122187</td>\n",
       "      <td>122387</td>\n",
       "      <td>5.1</td>\n",
       "      <td>6.9</td>\n",
       "      <td>1105.956867</td>\n",
       "      <td>0</td>\n",
       "      <td>0</td>\n",
       "      <td>171</td>\n",
       "      <td>WRIGHT</td>\n",
       "    </tr>\n",
       "    <tr>\n",
       "      <th>5990</th>\n",
       "      <td>5991</td>\n",
       "      <td>MN</td>\n",
       "      <td>MN</td>\n",
       "      <td>27</td>\n",
       "      <td>55349</td>\n",
       "      <td>5</td>\n",
       "      <td>1</td>\n",
       "      <td>0</td>\n",
       "      <td>4</td>\n",
       "      <td>Y</td>\n",
       "      <td>...</td>\n",
       "      <td>1125</td>\n",
       "      <td>122687</td>\n",
       "      <td>122887</td>\n",
       "      <td>2.2</td>\n",
       "      <td>11.2</td>\n",
       "      <td>1214.922779</td>\n",
       "      <td>0</td>\n",
       "      <td>0</td>\n",
       "      <td>171</td>\n",
       "      <td>WRIGHT</td>\n",
       "    </tr>\n",
       "    <tr>\n",
       "      <th>5991</th>\n",
       "      <td>5992</td>\n",
       "      <td>MN</td>\n",
       "      <td>MN</td>\n",
       "      <td>27</td>\n",
       "      <td>55358</td>\n",
       "      <td>5</td>\n",
       "      <td>1</td>\n",
       "      <td>1</td>\n",
       "      <td>7</td>\n",
       "      <td>Y</td>\n",
       "      <td>...</td>\n",
       "      <td>900</td>\n",
       "      <td>122387</td>\n",
       "      <td>122687</td>\n",
       "      <td>2.3</td>\n",
       "      <td>12.3</td>\n",
       "      <td>1177.377355</td>\n",
       "      <td>0</td>\n",
       "      <td>0</td>\n",
       "      <td>171</td>\n",
       "      <td>WRIGHT</td>\n",
       "    </tr>\n",
       "    <tr>\n",
       "      <th>5992</th>\n",
       "      <td>5993</td>\n",
       "      <td>MN</td>\n",
       "      <td>MN</td>\n",
       "      <td>27</td>\n",
       "      <td>55362</td>\n",
       "      <td>5</td>\n",
       "      <td>1</td>\n",
       "      <td>0</td>\n",
       "      <td>5</td>\n",
       "      <td>Y</td>\n",
       "      <td>...</td>\n",
       "      <td>1600</td>\n",
       "      <td>121287</td>\n",
       "      <td>121487</td>\n",
       "      <td>15.9</td>\n",
       "      <td>3.0</td>\n",
       "      <td>1214.922779</td>\n",
       "      <td>0</td>\n",
       "      <td>0</td>\n",
       "      <td>171</td>\n",
       "      <td>WRIGHT</td>\n",
       "    </tr>\n",
       "    <tr>\n",
       "      <th>5993</th>\n",
       "      <td>5994</td>\n",
       "      <td>MN</td>\n",
       "      <td>MN</td>\n",
       "      <td>27</td>\n",
       "      <td>55362</td>\n",
       "      <td>5</td>\n",
       "      <td>1</td>\n",
       "      <td>0</td>\n",
       "      <td>4</td>\n",
       "      <td>Y</td>\n",
       "      <td>...</td>\n",
       "      <td>1522</td>\n",
       "      <td>11688</td>\n",
       "      <td>11888</td>\n",
       "      <td>9.5</td>\n",
       "      <td>3.6</td>\n",
       "      <td>1214.922779</td>\n",
       "      <td>0</td>\n",
       "      <td>0</td>\n",
       "      <td>171</td>\n",
       "      <td>WRIGHT</td>\n",
       "    </tr>\n",
       "    <tr>\n",
       "      <th>5994</th>\n",
       "      <td>5995</td>\n",
       "      <td>MN</td>\n",
       "      <td>MN</td>\n",
       "      <td>27</td>\n",
       "      <td>55363</td>\n",
       "      <td>5</td>\n",
       "      <td>1</td>\n",
       "      <td>0</td>\n",
       "      <td>4</td>\n",
       "      <td>Y</td>\n",
       "      <td>...</td>\n",
       "      <td>1730</td>\n",
       "      <td>122687</td>\n",
       "      <td>122887</td>\n",
       "      <td>6.4</td>\n",
       "      <td>4.5</td>\n",
       "      <td>1146.499190</td>\n",
       "      <td>0</td>\n",
       "      <td>0</td>\n",
       "      <td>171</td>\n",
       "      <td>WRIGHT</td>\n",
       "    </tr>\n",
       "    <tr>\n",
       "      <th>5995</th>\n",
       "      <td>5996</td>\n",
       "      <td>MN</td>\n",
       "      <td>MN</td>\n",
       "      <td>27</td>\n",
       "      <td>55376</td>\n",
       "      <td>5</td>\n",
       "      <td>1</td>\n",
       "      <td>0</td>\n",
       "      <td>7</td>\n",
       "      <td>Y</td>\n",
       "      <td>...</td>\n",
       "      <td>700</td>\n",
       "      <td>121787</td>\n",
       "      <td>121987</td>\n",
       "      <td>4.5</td>\n",
       "      <td>8.3</td>\n",
       "      <td>1105.956867</td>\n",
       "      <td>0</td>\n",
       "      <td>0</td>\n",
       "      <td>171</td>\n",
       "      <td>WRIGHT</td>\n",
       "    </tr>\n",
       "    <tr>\n",
       "      <th>5996</th>\n",
       "      <td>5997</td>\n",
       "      <td>MN</td>\n",
       "      <td>MN</td>\n",
       "      <td>27</td>\n",
       "      <td>55376</td>\n",
       "      <td>5</td>\n",
       "      <td>1</td>\n",
       "      <td>0</td>\n",
       "      <td>4</td>\n",
       "      <td>Y</td>\n",
       "      <td>...</td>\n",
       "      <td>1045</td>\n",
       "      <td>12888</td>\n",
       "      <td>13088</td>\n",
       "      <td>5.0</td>\n",
       "      <td>5.2</td>\n",
       "      <td>1214.922779</td>\n",
       "      <td>0</td>\n",
       "      <td>0</td>\n",
       "      <td>171</td>\n",
       "      <td>WRIGHT</td>\n",
       "    </tr>\n",
       "    <tr>\n",
       "      <th>5997</th>\n",
       "      <td>5998</td>\n",
       "      <td>MN</td>\n",
       "      <td>MN</td>\n",
       "      <td>27</td>\n",
       "      <td>56297</td>\n",
       "      <td>5</td>\n",
       "      <td>1</td>\n",
       "      <td>0</td>\n",
       "      <td>4</td>\n",
       "      <td>Y</td>\n",
       "      <td>...</td>\n",
       "      <td>940</td>\n",
       "      <td>122887</td>\n",
       "      <td>123087</td>\n",
       "      <td>3.7</td>\n",
       "      <td>9.6</td>\n",
       "      <td>1177.377355</td>\n",
       "      <td>0</td>\n",
       "      <td>0</td>\n",
       "      <td>173</td>\n",
       "      <td>YELLOW MEDICINE</td>\n",
       "    </tr>\n",
       "    <tr>\n",
       "      <th>5998</th>\n",
       "      <td>5999</td>\n",
       "      <td>MN</td>\n",
       "      <td>MN</td>\n",
       "      <td>27</td>\n",
       "      <td>56297</td>\n",
       "      <td>5</td>\n",
       "      <td>1</td>\n",
       "      <td>0</td>\n",
       "      <td>4</td>\n",
       "      <td>Y</td>\n",
       "      <td>...</td>\n",
       "      <td>800</td>\n",
       "      <td>21088</td>\n",
       "      <td>21388</td>\n",
       "      <td>2.9</td>\n",
       "      <td>8.0</td>\n",
       "      <td>1214.922779</td>\n",
       "      <td>0</td>\n",
       "      <td>0</td>\n",
       "      <td>173</td>\n",
       "      <td>YELLOW MEDICINE</td>\n",
       "    </tr>\n",
       "  </tbody>\n",
       "</table>\n",
       "<p>919 rows × 25 columns</p>\n",
       "</div>"
      ],
      "text/plain": [
       "      idnum state state2  stfips    zip  region  typebldg  floor  room  \\\n",
       "5080   5081    MN     MN      27  55735       5         1      1     3   \n",
       "5081   5082    MN     MN      27  55748       5         1      0     4   \n",
       "5082   5083    MN     MN      27  55748       5         1      0     4   \n",
       "5083   5084    MN     MN      27  56469       5         1      0     4   \n",
       "5084   5085    MN     MN      27  55011       3         1      0     4   \n",
       "5085   5086    MN     MN      27  55014       3         1      0     4   \n",
       "5086   5087    MN     MN      27  55014       3         1      0     4   \n",
       "5087   5088    MN     MN      27  55014       3         1      0     2   \n",
       "5088   5089    MN     MN      27  55014       3         1      0     4   \n",
       "5089   5090    MN     MN      27  55014       3         1      0     4   \n",
       "5090   5091    MN     MN      27  55014       3         1      0     4   \n",
       "5091   5092    MN     MN      27  55014       3         1      0     4   \n",
       "5092   5093    MN     MN      27  55014       3         1      0     4   \n",
       "5093   5094    MN     MN      27  55025       3         1      0     2   \n",
       "5094   5095    MN     MN      27  55025       3         0      0     0   \n",
       "5095   5096    MN     MN      27  55025       3         1      0     0   \n",
       "5096   5097    MN     MN      27  55025       3         1      0     4   \n",
       "5097   5098    MN     MN      27  55025       3         1      0     4   \n",
       "5098   5099    MN     MN      27  55038       3         1      0     4   \n",
       "5099   5100    MN     MN      27  55070       3         1      0     2   \n",
       "5100   5101    MN     MN      27  55303       3         1      0     2   \n",
       "5101   5102    MN     MN      27  55303       3         0      0     0   \n",
       "5102   5103    MN     MN      27  55303       3         1      0     4   \n",
       "5103   5104    MN     MN      27  55303       3         1      0     5   \n",
       "5104   5105    MN     MN      27  55303       3         1      0     4   \n",
       "5105   5106    MN     MN      27  55303       3         1      0     2   \n",
       "5106   5107    MN     MN      27  55303       3         1      0     2   \n",
       "5107   5108    MN     MN      27  55303       3         1      0     4   \n",
       "5108   5109    MN     MN      27  55303       3         1      0     7   \n",
       "5109   5110    MN     MN      27  55303       3         1      0     4   \n",
       "...     ...   ...    ...     ...    ...     ...       ...    ...   ...   \n",
       "5969   5970    MN     MN      27  56120       5         1      1     3   \n",
       "5970   5971    MN     MN      27  56520       2         1      0     4   \n",
       "5971   5972    MN     MN      27  55925       4         1      0     0   \n",
       "5972   5973    MN     MN      27  55943       4         1      0     4   \n",
       "5973   5974    MN     MN      27  55952       4         1      0     4   \n",
       "5974   5975    MN     MN      27  55969       4         2      0     7   \n",
       "5975   5976    MN     MN      27  55972       4         1      0     2   \n",
       "5976   5977    MN     MN      27  55972       4         1      1     1   \n",
       "5977   5978    MN     MN      27  55987       4         1      1     3   \n",
       "5978   5979    MN     MN      27  55987       4         1      0     4   \n",
       "5979   5980    MN     MN      27  55987       4         1      0     2   \n",
       "5980   5981    MN     MN      27  55987       4         1      0     2   \n",
       "5981   5982    MN     MN      27  55987       4         1      0     5   \n",
       "5982   5983    MN     MN      27  55987       4         1      0     2   \n",
       "5983   5984    MN     MN      27  55987       4         1      1     2   \n",
       "5984   5985    MN     MN      27  55313       5         1      0     1   \n",
       "5985   5986    MN     MN      27  55313       5         1      0     1   \n",
       "5986   5987    MN     MN      27  55313       5         1      0     2   \n",
       "5987   5988    MN     MN      27  55321       5         1      0     4   \n",
       "5988   5989    MN     MN      27  55321       5         1      0     2   \n",
       "5989   5990    MN     MN      27  55341       5         1      0     2   \n",
       "5990   5991    MN     MN      27  55349       5         1      0     4   \n",
       "5991   5992    MN     MN      27  55358       5         1      1     7   \n",
       "5992   5993    MN     MN      27  55362       5         1      0     5   \n",
       "5993   5994    MN     MN      27  55362       5         1      0     4   \n",
       "5994   5995    MN     MN      27  55363       5         1      0     4   \n",
       "5995   5996    MN     MN      27  55376       5         1      0     7   \n",
       "5996   5997    MN     MN      27  55376       5         1      0     4   \n",
       "5997   5998    MN     MN      27  56297       5         1      0     4   \n",
       "5998   5999    MN     MN      27  56297       5         1      0     4   \n",
       "\n",
       "     basement          ...          stoptm startdt  stopdt activity  pcterr  \\\n",
       "5080        N          ...             930   12088   12288      2.2     9.7   \n",
       "5081        Y          ...            1615   11888   12088      2.2    14.5   \n",
       "5082        Y          ...            1515   20288   21188      2.9     9.6   \n",
       "5083        Y          ...            1410  122987  123187      1.0    24.3   \n",
       "5084        Y          ...             600   12888   13088      3.1    13.8   \n",
       "5085        Y          ...            1300  120287  121187      2.5    12.8   \n",
       "5086        Y          ...            2025  121887  122087      1.5    14.5   \n",
       "5087        Y          ...            1000  122587  122787      1.0    18.0   \n",
       "5088        Y          ...            1730   10188   10188      0.7    25.1   \n",
       "5089        Y          ...             900   20288   20288      1.2    17.5   \n",
       "5090        Y          ...            1040   20288   20288      1.2    20.2   \n",
       "5091        Y          ...             610   22988   30388      1.3    23.3   \n",
       "5092        Y          ...            1221   30388   31088      1.4    18.7   \n",
       "5093        Y          ...             815  121287  121487      0.4     0.0   \n",
       "5094                   ...            1400  121687  121887      1.1    18.8   \n",
       "5095        Y          ...            1600   12688   12888      4.5     7.0   \n",
       "5096        Y          ...            1205   12088   12288      1.3    33.2   \n",
       "5097        Y          ...            2000   22188   22388      2.1    10.1   \n",
       "5098        Y          ...            1110   33188   40488      5.9     5.7   \n",
       "5099        Y          ...            1900   22388   22588      3.3     8.4   \n",
       "5100        Y          ...            1930  120287  121087      1.8    14.4   \n",
       "5101                   ...            1620  121987  122187      5.4     5.6   \n",
       "5102        Y          ...            1815  122887  123087      6.3     6.1   \n",
       "5103        Y          ...            1900  122887  123087      1.9    13.7   \n",
       "5104        Y          ...            1530   10188   10188      6.6     8.9   \n",
       "5105        Y          ...            1600  122887  123087      3.1     9.9   \n",
       "5106        Y          ...            1730   11688   11888      6.8     4.9   \n",
       "5107        Y          ...            1645   12888   13088      7.0     4.6   \n",
       "5108        Y          ...            2210   20288   20288      7.7     4.5   \n",
       "5109        Y          ...            1700   20288   20288      5.2     4.8   \n",
       "...       ...          ...             ...     ...     ...      ...     ...   \n",
       "5969        Y          ...            1315   12688   12888      5.7     5.3   \n",
       "5970        Y          ...            1300   20288   20288      9.3     4.2   \n",
       "5971        Y          ...             830   21188   21388      3.4     7.0   \n",
       "5972        Y          ...            1640  121687  121887      4.1     7.7   \n",
       "5973        Y          ...            1020   20288   21188     11.6     3.8   \n",
       "5974        Y          ...             700  122087  122387      7.2     6.1   \n",
       "5975        Y          ...             700   20288   20288      4.7     6.4   \n",
       "5976        Y          ...             800   30388   30388      1.8    13.4   \n",
       "5977        Y          ...            1657  121287  121487      0.7    28.9   \n",
       "5978        Y          ...            1505   10188   11188      4.7     5.1   \n",
       "5979        Y          ...            2100   12388   12588     10.2     3.1   \n",
       "5980        Y          ...            1900   20288   20288     11.3     3.2   \n",
       "5981        Y          ...            2130   30388   30388      7.6     4.1   \n",
       "5982        Y          ...            1634   30388   30388     11.8     3.1   \n",
       "5983        Y          ...            1000   30388   31188      0.5     0.0   \n",
       "5984        Y          ...            1800  122687  122887      6.7    12.0   \n",
       "5985        Y          ...             845   12788   12988      5.3     6.2   \n",
       "5986        Y          ...            1235   22388   22588      3.1    10.8   \n",
       "5987        Y          ...             800  122087  122287      2.1    16.0   \n",
       "5988        Y          ...            1734   11688   11888      7.3     4.2   \n",
       "5989        Y          ...            2100  122187  122387      5.1     6.9   \n",
       "5990        Y          ...            1125  122687  122887      2.2    11.2   \n",
       "5991        Y          ...             900  122387  122687      2.3    12.3   \n",
       "5992        Y          ...            1600  121287  121487     15.9     3.0   \n",
       "5993        Y          ...            1522   11688   11888      9.5     3.6   \n",
       "5994        Y          ...            1730  122687  122887      6.4     4.5   \n",
       "5995        Y          ...             700  121787  121987      4.5     8.3   \n",
       "5996        Y          ...            1045   12888   13088      5.0     5.2   \n",
       "5997        Y          ...             940  122887  123087      3.7     9.6   \n",
       "5998        Y          ...             800   21088   21388      2.9     8.0   \n",
       "\n",
       "            adjwt  dupflag  zipflag  cntyfips                county  \n",
       "5080  1146.499190        1        0         1  AITKIN                \n",
       "5081   471.366223        0        0         1  AITKIN                \n",
       "5082   433.316718        0        0         1  AITKIN                \n",
       "5083   461.623670        0        0         1  AITKIN                \n",
       "5084   433.316718        0        0         3  ANOKA                 \n",
       "5085   471.366223        0        0         3  ANOKA                 \n",
       "5086   471.366223        0        0         3  ANOKA                 \n",
       "5087   433.316718        0        0         3  ANOKA                 \n",
       "5088   433.316718        0        0         3  ANOKA                 \n",
       "5089   461.623670        0        0         3  ANOKA                 \n",
       "5090   461.623670        0        0         3  ANOKA                 \n",
       "5091   471.366223        0        0         3  ANOKA                 \n",
       "5092   461.274696        0        0         3  ANOKA                 \n",
       "5093   461.623670        0        0         3  ANOKA                 \n",
       "5094   471.366223        0        0         3  ANOKA                 \n",
       "5095   461.623670        0        0         3  ANOKA                 \n",
       "5096   485.435931        0        0         3  ANOKA                 \n",
       "5097   461.274696        0        0         3  ANOKA                 \n",
       "5098   471.366223        0        0         3  ANOKA                 \n",
       "5099   461.623670        0        0         3  ANOKA                 \n",
       "5100   471.366223        1        0         3  ANOKA                 \n",
       "5101   461.623670        0        0         3  ANOKA                 \n",
       "5102   461.623670        0        0         3  ANOKA                 \n",
       "5103   471.366223        0        0         3  ANOKA                 \n",
       "5104   461.623670        0        0         3  ANOKA                 \n",
       "5105   471.366223        0        0         3  ANOKA                 \n",
       "5106   433.316718        0        0         3  ANOKA                 \n",
       "5107   485.435931        0        0         3  ANOKA                 \n",
       "5108   461.623670        0        0         3  ANOKA                 \n",
       "5109   485.435931        0        0         3  ANOKA                 \n",
       "...           ...      ...      ...       ...                   ...  \n",
       "5969  1214.922779        0        0       165  WATONWAN              \n",
       "5970  1071.318034        0        0       167  WILKIN                \n",
       "5971   990.411554        1        0       169  WINONA                \n",
       "5972   921.864905        0        0       169  WINONA                \n",
       "5973  1071.318034        1        0       169  WINONA                \n",
       "5974   921.864905        0        0       169  WINONA                \n",
       "5975   990.411554        0        0       169  WINONA                \n",
       "5976   893.237430        0        0       169  WINONA                \n",
       "5977  1024.442902        0        0       169  WINONA                \n",
       "5978  1024.442902        0        0       169  WINONA                \n",
       "5979  1024.442902        0        0       169  WINONA                \n",
       "5980  1024.442902        1        0       169  WINONA                \n",
       "5981  1024.442902        0        0       169  WINONA                \n",
       "5982   921.864905        0        0       169  WINONA                \n",
       "5983   990.411554        0        0       169  WINONA                \n",
       "5984  1214.922779        0        0       171  WRIGHT                \n",
       "5985  1146.499190        0        0       171  WRIGHT                \n",
       "5986  1105.956867        0        0       171  WRIGHT                \n",
       "5987  1105.956867        0        0       171  WRIGHT                \n",
       "5988  1088.985661        0        0       171  WRIGHT                \n",
       "5989  1105.956867        0        0       171  WRIGHT                \n",
       "5990  1214.922779        0        0       171  WRIGHT                \n",
       "5991  1177.377355        0        0       171  WRIGHT                \n",
       "5992  1214.922779        0        0       171  WRIGHT                \n",
       "5993  1214.922779        0        0       171  WRIGHT                \n",
       "5994  1146.499190        0        0       171  WRIGHT                \n",
       "5995  1105.956867        0        0       171  WRIGHT                \n",
       "5996  1214.922779        0        0       171  WRIGHT                \n",
       "5997  1177.377355        0        0       173  YELLOW MEDICINE       \n",
       "5998  1214.922779        0        0       173  YELLOW MEDICINE       \n",
       "\n",
       "[919 rows x 25 columns]"
      ]
     },
     "execution_count": 2,
     "metadata": {},
     "output_type": "execute_result"
    }
   ],
   "source": [
    "srrs_mn #floor(1-on floor,0-basesment), "
   ]
  },
  {
   "cell_type": "markdown",
   "metadata": {},
   "source": [
    "Next, obtain the county-level predictor, uranium, by combining two variables."
   ]
  },
  {
   "cell_type": "code",
   "execution_count": 3,
   "metadata": {
    "collapsed": true
   },
   "outputs": [],
   "source": [
    "srrs_mn['fips'] = srrs_mn.stfips*1000 + srrs_mn.cntyfips\n",
    "cty = pd.read_csv('../data/cty.dat')\n",
    "cty_mn = cty[cty.st=='MN'].copy()\n",
    "cty_mn['fips'] = 1000*cty_mn.stfips + cty_mn.ctfips"
   ]
  },
  {
   "cell_type": "markdown",
   "metadata": {},
   "source": [
    "Use the `merge` method to combine home- and county-level information in a single DataFrame."
   ]
  },
  {
   "cell_type": "code",
   "execution_count": 4,
   "metadata": {
    "collapsed": true
   },
   "outputs": [],
   "source": [
    "srrs_mn = srrs_mn.merge(cty_mn[['fips', 'Uppm']], on='fips')\n",
    "srrs_mn = srrs_mn.drop_duplicates(subset='idnum')\n",
    "u = np.log(srrs_mn.Uppm)\n",
    "\n",
    "n = len(srrs_mn)"
   ]
  },
  {
   "cell_type": "code",
   "execution_count": 5,
   "metadata": {},
   "outputs": [
    {
     "data": {
      "text/html": [
       "<div>\n",
       "<style>\n",
       "    .dataframe thead tr:only-child th {\n",
       "        text-align: right;\n",
       "    }\n",
       "\n",
       "    .dataframe thead th {\n",
       "        text-align: left;\n",
       "    }\n",
       "\n",
       "    .dataframe tbody tr th {\n",
       "        vertical-align: top;\n",
       "    }\n",
       "</style>\n",
       "<table border=\"1\" class=\"dataframe\">\n",
       "  <thead>\n",
       "    <tr style=\"text-align: right;\">\n",
       "      <th></th>\n",
       "      <th>idnum</th>\n",
       "      <th>state</th>\n",
       "      <th>state2</th>\n",
       "      <th>stfips</th>\n",
       "      <th>zip</th>\n",
       "      <th>region</th>\n",
       "      <th>typebldg</th>\n",
       "      <th>floor</th>\n",
       "      <th>room</th>\n",
       "      <th>basement</th>\n",
       "      <th>...</th>\n",
       "      <th>stopdt</th>\n",
       "      <th>activity</th>\n",
       "      <th>pcterr</th>\n",
       "      <th>adjwt</th>\n",
       "      <th>dupflag</th>\n",
       "      <th>zipflag</th>\n",
       "      <th>cntyfips</th>\n",
       "      <th>county</th>\n",
       "      <th>fips</th>\n",
       "      <th>Uppm</th>\n",
       "    </tr>\n",
       "  </thead>\n",
       "  <tbody>\n",
       "    <tr>\n",
       "      <th>0</th>\n",
       "      <td>5081</td>\n",
       "      <td>MN</td>\n",
       "      <td>MN</td>\n",
       "      <td>27</td>\n",
       "      <td>55735</td>\n",
       "      <td>5</td>\n",
       "      <td>1</td>\n",
       "      <td>1</td>\n",
       "      <td>3</td>\n",
       "      <td>N</td>\n",
       "      <td>...</td>\n",
       "      <td>12288</td>\n",
       "      <td>2.2</td>\n",
       "      <td>9.7</td>\n",
       "      <td>1146.499190</td>\n",
       "      <td>1</td>\n",
       "      <td>0</td>\n",
       "      <td>1</td>\n",
       "      <td>AITKIN</td>\n",
       "      <td>27001</td>\n",
       "      <td>0.502054</td>\n",
       "    </tr>\n",
       "    <tr>\n",
       "      <th>1</th>\n",
       "      <td>5082</td>\n",
       "      <td>MN</td>\n",
       "      <td>MN</td>\n",
       "      <td>27</td>\n",
       "      <td>55748</td>\n",
       "      <td>5</td>\n",
       "      <td>1</td>\n",
       "      <td>0</td>\n",
       "      <td>4</td>\n",
       "      <td>Y</td>\n",
       "      <td>...</td>\n",
       "      <td>12088</td>\n",
       "      <td>2.2</td>\n",
       "      <td>14.5</td>\n",
       "      <td>471.366223</td>\n",
       "      <td>0</td>\n",
       "      <td>0</td>\n",
       "      <td>1</td>\n",
       "      <td>AITKIN</td>\n",
       "      <td>27001</td>\n",
       "      <td>0.502054</td>\n",
       "    </tr>\n",
       "    <tr>\n",
       "      <th>2</th>\n",
       "      <td>5083</td>\n",
       "      <td>MN</td>\n",
       "      <td>MN</td>\n",
       "      <td>27</td>\n",
       "      <td>55748</td>\n",
       "      <td>5</td>\n",
       "      <td>1</td>\n",
       "      <td>0</td>\n",
       "      <td>4</td>\n",
       "      <td>Y</td>\n",
       "      <td>...</td>\n",
       "      <td>21188</td>\n",
       "      <td>2.9</td>\n",
       "      <td>9.6</td>\n",
       "      <td>433.316718</td>\n",
       "      <td>0</td>\n",
       "      <td>0</td>\n",
       "      <td>1</td>\n",
       "      <td>AITKIN</td>\n",
       "      <td>27001</td>\n",
       "      <td>0.502054</td>\n",
       "    </tr>\n",
       "    <tr>\n",
       "      <th>3</th>\n",
       "      <td>5084</td>\n",
       "      <td>MN</td>\n",
       "      <td>MN</td>\n",
       "      <td>27</td>\n",
       "      <td>56469</td>\n",
       "      <td>5</td>\n",
       "      <td>1</td>\n",
       "      <td>0</td>\n",
       "      <td>4</td>\n",
       "      <td>Y</td>\n",
       "      <td>...</td>\n",
       "      <td>123187</td>\n",
       "      <td>1.0</td>\n",
       "      <td>24.3</td>\n",
       "      <td>461.623670</td>\n",
       "      <td>0</td>\n",
       "      <td>0</td>\n",
       "      <td>1</td>\n",
       "      <td>AITKIN</td>\n",
       "      <td>27001</td>\n",
       "      <td>0.502054</td>\n",
       "    </tr>\n",
       "    <tr>\n",
       "      <th>4</th>\n",
       "      <td>5085</td>\n",
       "      <td>MN</td>\n",
       "      <td>MN</td>\n",
       "      <td>27</td>\n",
       "      <td>55011</td>\n",
       "      <td>3</td>\n",
       "      <td>1</td>\n",
       "      <td>0</td>\n",
       "      <td>4</td>\n",
       "      <td>Y</td>\n",
       "      <td>...</td>\n",
       "      <td>13088</td>\n",
       "      <td>3.1</td>\n",
       "      <td>13.8</td>\n",
       "      <td>433.316718</td>\n",
       "      <td>0</td>\n",
       "      <td>0</td>\n",
       "      <td>3</td>\n",
       "      <td>ANOKA</td>\n",
       "      <td>27003</td>\n",
       "      <td>0.428565</td>\n",
       "    </tr>\n",
       "  </tbody>\n",
       "</table>\n",
       "<p>5 rows × 27 columns</p>\n",
       "</div>"
      ],
      "text/plain": [
       "   idnum state state2  stfips    zip  region  typebldg  floor  room basement  \\\n",
       "0   5081    MN     MN      27  55735       5         1      1     3        N   \n",
       "1   5082    MN     MN      27  55748       5         1      0     4        Y   \n",
       "2   5083    MN     MN      27  55748       5         1      0     4        Y   \n",
       "3   5084    MN     MN      27  56469       5         1      0     4        Y   \n",
       "4   5085    MN     MN      27  55011       3         1      0     4        Y   \n",
       "\n",
       "     ...     stopdt activity  pcterr        adjwt  dupflag  zipflag  cntyfips  \\\n",
       "0    ...      12288      2.2     9.7  1146.499190        1        0         1   \n",
       "1    ...      12088      2.2    14.5   471.366223        0        0         1   \n",
       "2    ...      21188      2.9     9.6   433.316718        0        0         1   \n",
       "3    ...     123187      1.0    24.3   461.623670        0        0         1   \n",
       "4    ...      13088      3.1    13.8   433.316718        0        0         3   \n",
       "\n",
       "                 county   fips      Uppm  \n",
       "0  AITKIN                27001  0.502054  \n",
       "1  AITKIN                27001  0.502054  \n",
       "2  AITKIN                27001  0.502054  \n",
       "3  AITKIN                27001  0.502054  \n",
       "4  ANOKA                 27003  0.428565  \n",
       "\n",
       "[5 rows x 27 columns]"
      ]
     },
     "execution_count": 5,
     "metadata": {},
     "output_type": "execute_result"
    }
   ],
   "source": [
    "srrs_mn.head()"
   ]
  },
  {
   "cell_type": "markdown",
   "metadata": {},
   "source": [
    "We also need a lookup table (`dict`) for each unique county, for indexing."
   ]
  },
  {
   "cell_type": "code",
   "execution_count": 23,
   "metadata": {
    "collapsed": true
   },
   "outputs": [],
   "source": [
    "srrs_mn.county = srrs_mn.county.map(str.strip)\n",
    "mn_counties = srrs_mn.county.unique()\n",
    "counties=len(mn_counties)\n",
    "county_lookup = dict(zip(mn_counties, range(mn_counties.shape[0])))"
   ]
  },
  {
   "cell_type": "markdown",
   "metadata": {},
   "source": [
    "Finally, create local copies of variables."
   ]
  },
  {
   "cell_type": "code",
   "execution_count": 7,
   "metadata": {
    "collapsed": true
   },
   "outputs": [],
   "source": [
    "county = srrs_mn['county_code'] = srrs_mn.county.replace(county_lookup).values\n",
    "radon = srrs_mn.activity\n",
    "srrs_mn['log_radon'] = log_radon = np.log(radon + 0.1).values\n",
    "floor_measure = srrs_mn.floor.values"
   ]
  },
  {
   "cell_type": "markdown",
   "metadata": {},
   "source": [
    "Distribution of radon levels in MN (log scale):"
   ]
  },
  {
   "cell_type": "code",
   "execution_count": 8,
   "metadata": {},
   "outputs": [
    {
     "data": {
      "text/plain": [
       "<matplotlib.axes._subplots.AxesSubplot at 0x11d6c0208>"
      ]
     },
     "execution_count": 8,
     "metadata": {},
     "output_type": "execute_result"
    },
    {
     "data": {
      "image/png": "[encoded data removed]",
      "text/plain": [
       "<matplotlib.figure.Figure at 0x11045d630>"
      ]
     },
     "metadata": {},
     "output_type": "display_data"
    }
   ],
   "source": [
    "srrs_mn.activity.apply(lambda x: np.log(x+0.1)).hist(bins=25, grid=False)"
   ]
  },
  {
   "cell_type": "markdown",
   "metadata": {},
   "source": [
    "## Conventional approaches\n",
    "\n",
    "The two conventional alternatives to modeling radon exposure represent the two extremes of the bias-variance tradeoff:\n",
    "\n",
    "***Complete pooling***: \n",
    "\n",
    "Treat all counties the same, and estimate a single radon level.\n",
    "\n",
    "$$y_i = \\alpha + \\beta x_i + \\epsilon_i$$\n",
    "\n",
    "***No pooling***:\n",
    "\n",
    "Model radon in each county independently.\n",
    "\n",
    "$$y_i = \\alpha_{j[i]} + \\beta x_i + \\epsilon_i$$\n",
    "\n",
    "where $j = 1,\\ldots,85$\n",
    "\n",
    "The errors $\\epsilon_i$ may represent measurement error, temporal within-house variation, or variation among houses."
   ]
  },
  {
   "cell_type": "markdown",
   "metadata": {},
   "source": [
    "household i inside county j (each county separate)\n"
   ]
  },
  {
   "cell_type": "markdown",
   "metadata": {},
   "source": [
    "Here are the point estimates of the slope and intercept for the complete pooling model:"
   ]
  },
  {
   "cell_type": "code",
   "execution_count": 9,
   "metadata": {
    "collapsed": true
   },
   "outputs": [],
   "source": [
    "from pymc3 import Model, sample, Normal, HalfCauchy, Uniform\n",
    "\n",
    "floor = srrs_mn.floor.values\n",
    "log_radon = srrs_mn.log_radon.values\n",
    "\n",
    "with Model() as pooled_model:\n",
    "    \n",
    "    β = Normal('β', 0, sd=1e5, shape=2)\n",
    "    σ = HalfCauchy('σ', 5) #good for standard deviation\n",
    "    \n",
    "    θ = β[0] + β[1]*floor\n",
    "    \n",
    "    y = Normal('y', θ, sd=σ, observed=log_radon)\n",
    "    "
   ]
  },
  {
   "cell_type": "code",
   "execution_count": 10,
   "metadata": {},
   "outputs": [
    {
     "name": "stderr",
     "output_type": "stream",
     "text": [
      "Auto-assigning NUTS sampler...\n",
      "Initializing NUTS using ADVI...\n",
      "WARNING (theano.configdefaults): install mkl with `conda install mkl-service`: No module named 'mkl'\n",
      "Average Loss = 1,156.6:   6%|▌         | 11974/200000 [00:01<00:28, 6502.07it/s]\n",
      "Convergence archived at 12500\n",
      "Interrupted at 12,500 [6%]: Average Loss = 1,558.2\n",
      "100%|██████████| 1500/1500 [00:03<00:00, 397.43it/s]\n"
     ]
    }
   ],
   "source": [
    "with pooled_model:\n",
    "    pooled_trace = sample(1000, njobs=2, random_seed=RANDOM_SEEDS)"
   ]
  },
  {
   "cell_type": "code",
   "execution_count": 11,
   "metadata": {},
   "outputs": [
    {
     "name": "stderr",
     "output_type": "stream",
     "text": [
      "Auto-assigning NUTS sampler...\n",
      "Initializing NUTS using ADVI...\n",
      "Average Loss = 1,151.4:   6%|▌         | 12294/200000 [00:02<00:27, 6705.95it/s]\n",
      "Convergence archived at 12500\n",
      "Interrupted at 12,500 [6%]: Average Loss = 1,558.2\n",
      "100%|██████████| 2000/2000 [00:04<00:00, 430.21it/s]\n"
     ]
    }
   ],
   "source": [
    "with pooled_model:\n",
    "    pooled_trace = sample(1000, tune=1000,njobs=2, random_seed=RANDOM_SEEDS)"
   ]
  },
  {
   "cell_type": "code",
   "execution_count": 12,
   "metadata": {
    "collapsed": true
   },
   "outputs": [],
   "source": [
    "b0, m0 = pooled_trace['β'].mean(axis=0)"
   ]
  },
  {
   "cell_type": "code",
   "execution_count": 13,
   "metadata": {},
   "outputs": [
    {
     "data": {
      "text/plain": [
       "[<matplotlib.lines.Line2D at 0x122cab0b8>]"
      ]
     },
     "execution_count": 13,
     "metadata": {},
     "output_type": "execute_result"
    },
    {
     "data": {
      "image/png": "[encoded data removed]",
      "text/plain": [
       "<matplotlib.figure.Figure at 0x122ca7630>"
      ]
     },
     "metadata": {},
     "output_type": "display_data"
    }
   ],
   "source": [
    "plt.scatter(srrs_mn.floor, np.log(srrs_mn.activity+0.1))\n",
    "xvals = np.linspace(-0.2, 1.2)\n",
    "plt.plot(xvals, m0*xvals+b0, 'r--')"
   ]
  },
  {
   "cell_type": "markdown",
   "metadata": {},
   "source": [
    "Estimates of county radon levels for the unpooled model:"
   ]
  },
  {
   "cell_type": "code",
   "execution_count": 24,
   "metadata": {},
   "outputs": [],
   "source": [
    "with Model() as unpooled_model:\n",
    "    \n",
    "    β0 = Normal('β0', 0, sd=1e5, shape=counties)\n",
    "    β1 = Normal('β1', 0, sd=1e5)\n",
    "    σ = HalfCauchy('σ', 5)\n",
    "    \n",
    "    θ = β0[county] + β1*floor\n",
    "    \n",
    "    y = Normal('y', θ, sd=σ, observed=log_radon)\n",
    "    "
   ]
  },
  {
   "cell_type": "code",
   "execution_count": 19,
   "metadata": {},
   "outputs": [
    {
     "data": {
      "text/plain": [
       "85"
      ]
     },
     "execution_count": 19,
     "metadata": {},
     "output_type": "execute_result"
    }
   ],
   "source": [
    "mn_counties.shape[0]"
   ]
  },
  {
   "cell_type": "code",
   "execution_count": 25,
   "metadata": {},
   "outputs": [
    {
     "name": "stderr",
     "output_type": "stream",
     "text": [
      "Auto-assigning NUTS sampler...\n",
      "Initializing NUTS using ADVI...\n",
      "Average Loss = 2,071.6:  10%|▉         | 19735/200000 [00:04<00:40, 4488.44it/s]\n",
      "Convergence archived at 19800\n",
      "Interrupted at 19,800 [9%]: Average Loss = 2,371.1\n",
      "100%|██████████| 1500/1500 [00:09<00:00, 165.80it/s]\n"
     ]
    }
   ],
   "source": [
    "with unpooled_model:\n",
    "    unpooled_trace = sample(1000, njobs=2, random_seed=RANDOM_SEEDS)"
   ]
  },
  {
   "cell_type": "code",
   "execution_count": 26,
   "metadata": {},
   "outputs": [
    {
     "data": {
      "image/png": "[encoded data removed]",
      "text/plain": [
       "<matplotlib.figure.Figure at 0x123fc87b8>"
      ]
     },
     "metadata": {},
     "output_type": "display_data"
    }
   ],
   "source": [
    "from pymc3 import forestplot\n",
    "\n",
    "forestplot(unpooled_trace, varnames=['β0'], ylabels=['']);"
   ]
  },
  {
   "cell_type": "code",
   "execution_count": null,
   "metadata": {
    "collapsed": true
   },
   "outputs": [],
   "source": [
    "unpooled_estimates = pd.Series(unpooled_trace['β0'].mean(axis=0), index=mn_counties)\n",
    "unpooled_se = pd.Series(unpooled_trace['β0'].std(axis=0), index=mn_counties)"
   ]
  },
  {
   "cell_type": "markdown",
   "metadata": {},
   "source": [
    "We can plot the ordered estimates to identify counties with high radon levels:"
   ]
  },
  {
   "cell_type": "code",
   "execution_count": null,
   "metadata": {
    "collapsed": true
   },
   "outputs": [],
   "source": [
    "order = unpooled_estimates.sort_values().index\n",
    "\n",
    "plt.scatter(range(len(unpooled_estimates)), unpooled_estimates[order])\n",
    "for i, m, se in zip(range(len(unpooled_estimates)), unpooled_estimates[order], unpooled_se[order]):\n",
    "    plt.plot([i,i], [m-se, m+se], 'b-')\n",
    "plt.xlim(-1,86); plt.ylim(-1,4)\n",
    "plt.ylabel('Radon estimate');plt.xlabel('Ordered county');"
   ]
  },
  {
   "cell_type": "markdown",
   "metadata": {},
   "source": [
    "Here are visual comparisons between the pooled and unpooled estimates for a subset of counties representing a range of sample sizes."
   ]
  },
  {
   "cell_type": "code",
   "execution_count": null,
   "metadata": {
    "collapsed": true
   },
   "outputs": [],
   "source": [
    "sample_counties = ('LAC QUI PARLE', 'AITKIN', 'KOOCHICHING', \n",
    "                    'DOUGLAS', 'CLAY', 'STEARNS', 'RAMSEY', 'ST LOUIS')\n",
    "\n",
    "fig, axes = plt.subplots(2, 4, figsize=(12, 6), sharey=True, sharex=True)\n",
    "axes = axes.ravel()\n",
    "m = unpooled_trace['β1'].mean()\n",
    "for i,c in enumerate(sample_counties):\n",
    "    y = srrs_mn.log_radon[srrs_mn.county==c]\n",
    "    x = srrs_mn.floor[srrs_mn.county==c]\n",
    "    axes[i].scatter(x + np.random.randn(len(x))*0.01, y, alpha=0.4)\n",
    "    \n",
    "    # No pooling model\n",
    "    b = unpooled_estimates[c]\n",
    "    \n",
    "    # Plot both models and data\n",
    "    xvals = np.linspace(-0.2, 1.2)\n",
    "    axes[i].plot(xvals, m*xvals+b)\n",
    "    axes[i].plot(xvals, m0*xvals+b0, 'r--')\n",
    "    axes[i].set_xticks([0,1])\n",
    "    axes[i].set_xticklabels(['basement', 'floor'])\n",
    "    axes[i].set_ylim(-1, 3)\n",
    "    axes[i].set_title(c)\n",
    "    if not i%2:\n",
    "        axes[i].set_ylabel('log radon level')"
   ]
  },
  {
   "cell_type": "markdown",
   "metadata": {},
   "source": [
    "Neither of these models are satisfactory:\n",
    "\n",
    "* if we are trying to identify high-radon counties, pooling is useless\n",
    "* we do not trust extreme unpooled estimates produced by models using few observations"
   ]
  },
  {
   "cell_type": "markdown",
   "metadata": {},
   "source": [
    "## Multilevel and hierarchical models\n",
    "\n",
    "When we pool our data, we imply that they are sampled from the same model. This ignores any variation among sampling units (other than sampling variance):\n",
    "\n",
    "![pooled](http://f.cl.ly/items/0R1W063h1h0W2M2C0S3M/Screen%20Shot%202013-10-10%20at%208.22.21%20AM.png)\n",
    "\n",
    "When we analyze data unpooled, we imply that they are sampled independently from separate models. At the opposite extreme from the pooled case, this approach claims that differences between sampling units are to large to combine them:\n",
    "\n",
    "![unpooled](http://f.cl.ly/items/38020n2t2Y2b1p3t0B0e/Screen%20Shot%202013-10-10%20at%208.23.36%20AM.png)\n",
    "\n",
    "In a hierarchical model, parameters are viewed as a sample from a population distribution of parameters. Thus, we view them as being neither entirely different or exactly the same. This is ***parital pooling***.\n",
    "\n",
    "![hierarchical](http://f.cl.ly/items/1B3U223i002y3V2W3r0W/Screen%20Shot%202013-10-10%20at%208.25.05%20AM.png)"
   ]
  },
  {
   "cell_type": "markdown",
   "metadata": {},
   "source": [
    "all counties are same or separate\n",
    "instead: \n",
    "    counties have some similarities\n",
    "    model for those parameters"
   ]
  },
  {
   "cell_type": "markdown",
   "metadata": {},
   "source": [
    "We can use PyMC to easily specify multilevel models, and fit them using Markov chain Monte Carlo."
   ]
  },
  {
   "cell_type": "markdown",
   "metadata": {},
   "source": [
    "## Partial pooling model\n",
    "\n",
    "The simplest partial pooling model for the household radon dataset is one which simply estimates radon levels, without any predictors at any level. A partial pooling model represents a compromise between the pooled and unpooled extremes, approximately a weighted average (based on sample size) of the unpooled county estimates and the pooled estimates.\n",
    "\n",
    "$$\\hat{\\alpha} \\approx \\frac{(n_j/\\sigma_y^2)\\bar{y}_j + (1/\\sigma_{\\alpha}^2)\\bar{y}}{(n_j/\\sigma_y^2) + (1/\\sigma_{\\alpha}^2)}$$\n",
    "\n",
    "Estimates for counties with smaller sample sizes will shrink towards the state-wide average.\n",
    "\n",
    "Estimates for counties with larger sample sizes will be closer to the unpooled county estimates."
   ]
  },
  {
   "cell_type": "code",
   "execution_count": 27,
   "metadata": {},
   "outputs": [],
   "source": [
    "with Model() as partial_pooling:\n",
    "    \n",
    "    # Priors\n",
    "    μ_a = Normal('μ_a', mu=0., sd=1e5)\n",
    "    σ_a = HalfCauchy('σ_a', 5)\n",
    "    \n",
    "    # Random intercepts, prior is a model, how they variate according to distribution\n",
    "    a = Normal('a', mu=μ_a, sd=σ_a, shape=counties)\n",
    "    \n",
    "    # Model error\n",
    "    σ_y = HalfCauchy('σ_y',5)\n",
    "    \n",
    "    # Expected value\n",
    "    y_hat = a[county]\n",
    "    \n",
    "    # Data likelihood\n",
    "    y_like = Normal('y_like', mu=y_hat, sd=σ_y, observed=log_radon)\n",
    "    "
   ]
  },
  {
   "cell_type": "code",
   "execution_count": 28,
   "metadata": {},
   "outputs": [
    {
     "name": "stderr",
     "output_type": "stream",
     "text": [
      "Auto-assigning NUTS sampler...\n",
      "Initializing NUTS using ADVI...\n",
      "Average Loss = 1,122.4:  10%|▉         | 19124/200000 [00:04<00:39, 4604.87it/s]\n",
      "Convergence archived at 19600\n",
      "Interrupted at 19,600 [9%]: Average Loss = 1,444.1\n",
      "100%|██████████| 1500/1500 [00:07<00:00, 187.59it/s]\n"
     ]
    }
   ],
   "source": [
    "with partial_pooling:\n",
    "    partial_pooling_trace = sample(1000, njobs=2, random_seed=RANDOM_SEEDS)"
   ]
  },
  {
   "cell_type": "code",
   "execution_count": 29,
   "metadata": {},
   "outputs": [
    {
     "data": {
      "image/png": "[encoded data removed]",
      "text/plain": [
       "<matplotlib.figure.Figure at 0x11e304c50>"
      ]
     },
     "metadata": {},
     "output_type": "display_data"
    }
   ],
   "source": [
    "sample_trace = partial_pooling_trace['a']\n",
    "\n",
    "fig, axes = plt.subplots(1, 2, figsize=(14,6), sharex=True, sharey=True)\n",
    "samples, counties = sample_trace.shape\n",
    "jitter = np.random.normal(scale=0.1, size=counties)\n",
    "\n",
    "n_county = srrs_mn.groupby('county')['idnum'].count()\n",
    "unpooled_means = srrs_mn.groupby('county')['log_radon'].mean()\n",
    "unpooled_sd = srrs_mn.groupby('county')['log_radon'].std()\n",
    "unpooled = pd.DataFrame({'n':n_county, 'm':unpooled_means, 'sd':unpooled_sd})\n",
    "unpooled['se'] = unpooled.sd/np.sqrt(unpooled.n)\n",
    "\n",
    "axes[0].plot(unpooled.n + jitter, unpooled.m, 'b.')\n",
    "for j, row in zip(jitter, unpooled.iterrows()):\n",
    "    name, dat = row\n",
    "    axes[0].plot([dat.n+j,dat.n+j], [dat.m-dat.se, dat.m+dat.se], 'b-')\n",
    "axes[0].set_xscale('log')\n",
    "axes[0].hlines(sample_trace.mean(), 0.9, 100, linestyles='--')\n",
    "\n",
    "        \n",
    "samples, counties = sample_trace.shape\n",
    "means = sample_trace.mean(axis=0)\n",
    "sd = sample_trace.std(axis=0)\n",
    "axes[1].scatter(n_county.values + jitter, means)\n",
    "axes[1].set_xscale('log')\n",
    "axes[1].set_xlim(1,100)\n",
    "axes[1].set_ylim(0, 3)\n",
    "axes[1].hlines(sample_trace.mean(), 0.9, 100, linestyles='--')\n",
    "for j,n,m,s in zip(jitter, n_county.values, means, sd):\n",
    "    axes[1].plot([n+j]*2, [m-s, m+s], 'b-')"
   ]
  },
  {
   "cell_type": "markdown",
   "metadata": {},
   "source": [
    "Notice the difference between the unpooled and partially-pooled estimates, particularly at smaller sample sizes. The former are both more extreme and more imprecise."
   ]
  },
  {
   "cell_type": "markdown",
   "metadata": {},
   "source": [
    "## Varying intercept model\n",
    "\n",
    "This model allows intercepts to vary across county, according to a random effect.\n",
    "\n",
    "$$y_i = \\alpha_{j[i]} + \\beta x_{i} + \\epsilon_i$$\n",
    "\n",
    "where\n",
    "\n",
    "$$\\epsilon_i \\sim N(0, \\sigma_y^2)$$\n",
    "\n",
    "and the intercept random effect:\n",
    "\n",
    "$$\\alpha_{j[i]} \\sim N(\\mu_{\\alpha}, \\sigma_{\\alpha}^2)$$\n",
    "\n",
    "As with the the “no-pooling” model, we set a separate intercept for each county, but rather than fitting separate least squares regression models for each county, multilevel modeling **shares strength** among counties, allowing for more reasonable inference in counties with little data."
   ]
  },
  {
   "cell_type": "code",
   "execution_count": 30,
   "metadata": {
    "collapsed": true
   },
   "outputs": [],
   "source": [
    "with Model() as varying_intercept:\n",
    "    \n",
    "    # Priors\n",
    "    μ_a = Normal('μ_a', mu=0., tau=0.0001)\n",
    "    σ_a = HalfCauchy('σ_a', 5)\n",
    "    \n",
    "    \n",
    "    # Random intercepts\n",
    "    a = Normal('a', mu=μ_a, sd=σ_a, shape=counties)\n",
    "    # Common slope\n",
    "    b = Normal('b', mu=0., sd=1e5)\n",
    "    \n",
    "    # Model error\n",
    "    sd_y = HalfCauchy('sd_y', 5)\n",
    "    \n",
    "    # Expected value\n",
    "    y_hat = a[county] + b * floor_measure\n",
    "    \n",
    "    # Data likelihood\n",
    "    y_like = Normal('y_like', mu=y_hat, sd=sd_y, observed=log_radon)\n",
    "    "
   ]
  },
  {
   "cell_type": "code",
   "execution_count": 31,
   "metadata": {},
   "outputs": [
    {
     "name": "stderr",
     "output_type": "stream",
     "text": [
      "Auto-assigning NUTS sampler...\n",
      "Initializing NUTS using ADVI...\n",
      "Average Loss = 1,083.3:  10%|▉         | 19699/200000 [00:04<00:41, 4351.81it/s]\n",
      "Convergence archived at 19800\n",
      "Interrupted at 19,800 [9%]: Average Loss = 1,430\n",
      "100%|██████████| 1500/1500 [00:09<00:00, 159.82it/s]\n"
     ]
    }
   ],
   "source": [
    "with varying_intercept:\n",
    "    varying_intercept_trace = sample(1000, njobs=2, random_seed=RANDOM_SEEDS)"
   ]
  },
  {
   "cell_type": "code",
   "execution_count": 32,
   "metadata": {},
   "outputs": [
    {
     "data": {
      "image/png": "[encoded data removed]",
      "text/plain": [
       "<matplotlib.figure.Figure at 0x126fa2d68>"
      ]
     },
     "metadata": {},
     "output_type": "display_data"
    }
   ],
   "source": [
    "from pymc3 import forestplot, traceplot, plot_posterior\n",
    "\n",
    "plt.figure(figsize=(6,10))\n",
    "forestplot(varying_intercept_trace, varnames=['a'], ylabels=['']);"
   ]
  },
  {
   "cell_type": "code",
   "execution_count": 33,
   "metadata": {},
   "outputs": [
    {
     "data": {
      "text/plain": [
       "array([<matplotlib.axes._subplots.AxesSubplot object at 0x12af86748>,\n",
       "       <matplotlib.axes._subplots.AxesSubplot object at 0x12b01d080>], dtype=object)"
      ]
     },
     "execution_count": 33,
     "metadata": {},
     "output_type": "execute_result"
    },
    {
     "data": {
      "image/png": "[encoded data removed]",
      "text/plain": [
       "<matplotlib.figure.Figure at 0x11e33d668>"
      ]
     },
     "metadata": {},
     "output_type": "display_data"
    }
   ],
   "source": [
    "plot_posterior(varying_intercept_trace, varnames=['σ_a', 'b'])"
   ]
  },
  {
   "cell_type": "markdown",
   "metadata": {},
   "source": [
    "The estimate for the `floor` coefficient is approximately -0.66, which can be interpreted as houses without basements having about half ($\\exp(-0.66) = 0.52$) the radon levels of those with basements, after accounting for county."
   ]
  },
  {
   "cell_type": "code",
   "execution_count": null,
   "metadata": {
    "collapsed": true
   },
   "outputs": [],
   "source": [
    "from pymc3 import df_summary\n",
    "\n",
    "df_summary(varying_intercept_trace, varnames=['b'])"
   ]
  },
  {
   "cell_type": "code",
   "execution_count": null,
   "metadata": {
    "collapsed": true
   },
   "outputs": [],
   "source": [
    "xvals = np.arange(2)\n",
    "bp = varying_intercept_trace[a].mean(axis=0)\n",
    "mp = varying_intercept_trace[b].mean()\n",
    "for bi in bp:\n",
    "    plt.plot(xvals, mp*xvals + bi, 'bo-', alpha=0.4)\n",
    "plt.xlim(-0.1,1.1);"
   ]
  },
  {
   "cell_type": "markdown",
   "metadata": {},
   "source": [
    "It is easy to show that the partial pooling model provides more objectively reasonable estimates than either the pooled or unpooled models, at least for counties with small sample sizes."
   ]
  },
  {
   "cell_type": "code",
   "execution_count": null,
   "metadata": {
    "collapsed": true,
    "scrolled": false
   },
   "outputs": [],
   "source": [
    "fig, axes = plt.subplots(2, 4, figsize=(12, 6), sharey=True, sharex=True)\n",
    "axes = axes.ravel()\n",
    "for i,c in enumerate(sample_counties):\n",
    "    \n",
    "    # Plot county data\n",
    "    y = srrs_mn.log_radon[srrs_mn.county==c]\n",
    "    x = srrs_mn.floor[srrs_mn.county==c]\n",
    "    axes[i].scatter(x + np.random.randn(len(x))*0.01, y, alpha=0.4)\n",
    "    \n",
    "    # No pooling model\n",
    "    m,b = unpooled_estimates[['floor', c]]\n",
    "    \n",
    "    xvals = np.linspace(-0.2, 1.2)\n",
    "    # Unpooled estimate\n",
    "    axes[i].plot(xvals, m*xvals+b)\n",
    "    # Pooled estimate\n",
    "    axes[i].plot(xvals, m0*xvals+b0, 'r--')\n",
    "    # Partial pooling esimate\n",
    "    axes[i].plot(xvals, mp*xvals+bp[county_lookup[c]], 'k:')\n",
    "    axes[i].set_xticks([0,1])\n",
    "    axes[i].set_xticklabels(['basement', 'floor'])\n",
    "    axes[i].set_ylim(-1, 3)\n",
    "    axes[i].set_title(c)\n",
    "    if not i%2:\n",
    "        axes[i].set_ylabel('log radon level')"
   ]
  },
  {
   "cell_type": "markdown",
   "metadata": {},
   "source": [
    "## Varying slope model\n",
    "\n",
    "Alternatively, we can posit a model that allows the counties to vary according to how the location of measurement (basement or floor) influences the radon reading.\n",
    "\n",
    "$$y_i = \\alpha + \\beta_{j[i]} x_{i} + \\epsilon_i$$\n"
   ]
  },
  {
   "cell_type": "code",
   "execution_count": 34,
   "metadata": {
    "collapsed": true
   },
   "outputs": [],
   "source": [
    "with Model() as varying_slope:\n",
    "    \n",
    "    # Priors\n",
    "    μ_b = Normal('μ_b', mu=0., sd=1e5)\n",
    "    σ_b = HalfCauchy('σ_b', 5)\n",
    "    \n",
    "    # Common intercepts\n",
    "    a = Normal('a', mu=0., sd=1e5)\n",
    "    # Random slopes\n",
    "    b = Normal('b', mu=μ_b, sd=σ_b, shape=counties)\n",
    "    \n",
    "    # Model error\n",
    "    σ_y = HalfCauchy('σ_y',5)\n",
    "    \n",
    "    # Expected value\n",
    "    y_hat = a + b[county] * floor_measure\n",
    "    \n",
    "    # Data likelihood\n",
    "    y_like = Normal('y_like', mu=y_hat, sd=σ_y, observed=log_radon)\n",
    "    "
   ]
  },
  {
   "cell_type": "code",
   "execution_count": 35,
   "metadata": {},
   "outputs": [
    {
     "name": "stderr",
     "output_type": "stream",
     "text": [
      "Auto-assigning NUTS sampler...\n",
      "Initializing NUTS using ADVI...\n",
      "Average Loss = 1,136:  10%|█         | 20203/200000 [00:05<00:43, 4163.31it/s]  \n",
      "Convergence archived at 20600\n",
      "Interrupted at 20,600 [10%]: Average Loss = 1,427.5\n",
      "100%|██████████| 2000/2000 [00:15<00:00, 132.17it/s]\n"
     ]
    }
   ],
   "source": [
    "with varying_slope:\n",
    "    varying_slope_trace = sample(1000, tune=1000, njobs=2, random_seed=RANDOM_SEEDS)"
   ]
  },
  {
   "cell_type": "code",
   "execution_count": 36,
   "metadata": {},
   "outputs": [
    {
     "data": {
      "text/plain": [
       "<matplotlib.gridspec.GridSpec at 0x1274dc630>"
      ]
     },
     "execution_count": 36,
     "metadata": {},
     "output_type": "execute_result"
    },
    {
     "data": {
      "image/png": "[encoded data removed]",
      "text/plain": [
       "<matplotlib.figure.Figure at 0x124332588>"
      ]
     },
     "metadata": {},
     "output_type": "display_data"
    }
   ],
   "source": [
    "plt.figure(figsize=(6,10))\n",
    "forestplot(varying_slope_trace, varnames=['b'], ylabels=[''])"
   ]
  },
  {
   "cell_type": "code",
   "execution_count": 37,
   "metadata": {
    "scrolled": true
   },
   "outputs": [
    {
     "data": {
      "image/png": "[encoded data removed]",
      "text/plain": [
       "<matplotlib.figure.Figure at 0x12c66d898>"
      ]
     },
     "metadata": {},
     "output_type": "display_data"
    }
   ],
   "source": [
    "xvals = np.arange(2)\n",
    "b = varying_slope_trace['a'].mean()\n",
    "m = varying_slope_trace['b'].mean(axis=0)\n",
    "for mi in m:\n",
    "    plt.plot(xvals, mi*xvals + b, 'bo-', alpha=0.4)\n",
    "plt.xlim(-0.2, 1.2);"
   ]
  },
  {
   "cell_type": "markdown",
   "metadata": {},
   "source": [
    "## Non-centered Parameterization\n",
    "\n",
    "The partial pooling models specified above uses a **centered** parameterization of the slope random effect. That is, the individual county effects are distributed around a county mean, with a spread controlled by the hierarchical standard deviation parameter. As the preceding plot reveals, this constraint serves to **shrink** county estimates toward the overall mean, to a degree proportional to the county sample size. This is exactly what we want, and the model appears to fit well--the Gelman-Rubin statistics are exactly 1.\n",
    "\n",
    "But, on closer inspection, there are signs of trouble. Specifically, let's look at the trace of the random effects, and their corresponding standard deviation:"
   ]
  },
  {
   "cell_type": "code",
   "execution_count": 45,
   "metadata": {},
   "outputs": [
    {
     "data": {
      "image/png": "[encoded data removed]",
      "text/plain": [
       "<matplotlib.figure.Figure at 0x12cbbacf8>"
      ]
     },
     "metadata": {},
     "output_type": "display_data"
    }
   ],
   "source": [
    "fig, axs = plt.subplots(nrows=2)\n",
    "axs[0].plot(varying_slope_trace.get_values('σ_b', chains=0), alpha=.5);\n",
    "axs[0].set(ylabel='σ_b');\n",
    "axs[1].plot(varying_slope_trace.get_values('b', chains=0), alpha=.05);\n",
    "axs[1].set(ylabel='b');"
   ]
  },
  {
   "cell_type": "markdown",
   "metadata": {},
   "source": [
    "Notice that when the chain reaches the lower end of the parameter space for $\\sigma_b$, it appears to get \"stuck\" and the entire sampler, including the random slopes `b`, mixes poorly. \n",
    "\n",
    "Jointly plotting the random effect variance and one of the individual random slopes demonstrates what is going on."
   ]
  },
  {
   "cell_type": "code",
   "execution_count": 46,
   "metadata": {
    "scrolled": false
   },
   "outputs": [
    {
     "data": {
      "image/png": "[encoded data removed]",
      "text/plain": [
       "<matplotlib.figure.Figure at 0x127283780>"
      ]
     },
     "metadata": {},
     "output_type": "display_data"
    }
   ],
   "source": [
    "x = pd.Series(varying_slope_trace['b'][:, 10], name='slope')\n",
    "y = pd.Series(varying_slope_trace['σ_b'], name='slope group variance')\n",
    "\n",
    "sns.jointplot(x, y, ylim=(0, .7), stat_func=None);"
   ]
  },
  {
   "cell_type": "markdown",
   "metadata": {},
   "source": [
    "When the group variance is small, this implies that the individual random slopes are themselves close to the group mean. This results in a *funnel*-shaped relationship between the samples of group variance and any of the slopes (particularly those with a smaller sample size). \n",
    "\n",
    "In itself, this is not a problem, since this is the behavior we expect. However, if the sampler is tuned for the wider (unconstrained) part of the parameter space, it has trouble in the areas of higher curvature. The consequence of this is that the neighborhood close to the lower bound of $\\sigma_b$ is sampled poorly; indeed, in our chain it is not sampled at all below 0.1. The result of this will be biased inference.\n",
    "\n",
    "Now that we've spotted the problem, what can we do about it? The best way to deal with this issue is to reparameterize our model. Notice the random slopes in this version:"
   ]
  },
  {
   "cell_type": "code",
   "execution_count": 49,
   "metadata": {
    "collapsed": true
   },
   "outputs": [],
   "source": [
    "from pymc3 import Deterministic\n",
    "\n",
    "with Model() as varying_slope_noncentered:\n",
    "    \n",
    "    # Priors\n",
    "    μ_b = Normal('μ_b', mu=0., sd=1e5)\n",
    "    σ_b = HalfCauchy('σ_b', 5)\n",
    "    \n",
    "    # Common intercepts\n",
    "    a = Normal('a', mu=0., sd=1e5)\n",
    "    \n",
    "    # Non-centered random slopes\n",
    "    # Centered: b = Normal('b', μ_b, sd=σ_b, shape=counties)\n",
    "    υ = Normal('υ', mu=0, sd=1, shape=counties)\n",
    "    b = Deterministic(\"b\", μ_b + υ * σ_b)\n",
    "    \n",
    "    # Model error\n",
    "    σ_y = HalfCauchy('σ_y',5)\n",
    "    \n",
    "    # Expected value\n",
    "    y_hat = a + b[county] * floor_measure\n",
    "    \n",
    "    # Data likelihood\n",
    "    y_like = Normal('y_like', mu=y_hat, sd=σ_y, observed=log_radon)\n",
    "    "
   ]
  },
  {
   "cell_type": "markdown",
   "metadata": {},
   "source": [
    "This is a **non-centered** parameterization. By this, we mean that the random deviates are no longer explicitly modeled as being centered on $\\mu_b$. Instead, they are independent standard normals $\\upsilon$, which are then scaled by the appropriate value of $\\sigma_b$, before being location-transformed by the mean.\n",
    "\n",
    "This model samples much better."
   ]
  },
  {
   "cell_type": "code",
   "execution_count": 50,
   "metadata": {},
   "outputs": [
    {
     "name": "stderr",
     "output_type": "stream",
     "text": [
      "Auto-assigning NUTS sampler...\n",
      "Initializing NUTS using ADVI...\n",
      "Average Loss = 1,123.9:  10%|█         | 20258/200000 [00:04<00:39, 4495.56it/s]\n",
      "Convergence archived at 20600\n",
      "Interrupted at 20,600 [10%]: Average Loss = 1,439.2\n",
      "100%|██████████| 1500/1500 [00:08<00:00, 172.76it/s]\n"
     ]
    }
   ],
   "source": [
    "with varying_slope_noncentered:\n",
    "    noncentered_trace = sample(1000, njobs=2, random_seed=RANDOM_SEEDS)"
   ]
  },
  {
   "cell_type": "markdown",
   "metadata": {},
   "source": [
    "Notice that the bottlenecks in the traces are gone."
   ]
  },
  {
   "cell_type": "code",
   "execution_count": 51,
   "metadata": {},
   "outputs": [
    {
     "data": {
      "image/png": "[encoded data removed]",
      "text/plain": [
       "<matplotlib.figure.Figure at 0x1364b1da0>"
      ]
     },
     "metadata": {},
     "output_type": "display_data"
    }
   ],
   "source": [
    "fig, axs = plt.subplots(nrows=2)\n",
    "axs[0].plot(noncentered_trace.get_values('σ_b', chains=0), alpha=.5);\n",
    "axs[0].set(ylabel='σ_b');\n",
    "axs[1].plot(noncentered_trace.get_values('b', chains=0), alpha=.5);\n",
    "axs[1].set(ylabel='b');"
   ]
  },
  {
   "cell_type": "markdown",
   "metadata": {},
   "source": [
    "trace highly correlated\n"
   ]
  },
  {
   "cell_type": "markdown",
   "metadata": {},
   "source": [
    "And, we are now fully exploring the support of the posterior."
   ]
  },
  {
   "cell_type": "code",
   "execution_count": 52,
   "metadata": {},
   "outputs": [
    {
     "data": {
      "image/png": "[encoded data removed]",
      "text/plain": [
       "<matplotlib.figure.Figure at 0x128b43be0>"
      ]
     },
     "metadata": {},
     "output_type": "display_data"
    }
   ],
   "source": [
    "x = pd.Series(noncentered_trace['b'][:, 75], name='slope')\n",
    "y = pd.Series(noncentered_trace['σ_b'], name='slope group variance')\n",
    "\n",
    "sns.jointplot(x, y, ylim=(0, .7), stat_func=None);"
   ]
  },
  {
   "cell_type": "markdown",
   "metadata": {},
   "source": [
    "\n",
    "this one sampled all slope variance (0 to 0.1) compared to previous one"
   ]
  },
  {
   "cell_type": "code",
   "execution_count": null,
   "metadata": {
    "collapsed": true
   },
   "outputs": [],
   "source": [
    "fig, (ax1, ax2) = plt.subplots(2, 1, sharex=True)\n",
    "plot_posterior(varying_slope_trace, varnames=['σ_b'], ax=ax1, color='LightSeaGreen')\n",
    "plot_posterior(noncentered_trace, varnames=['σ_b'], ax=ax2, color='LightSeaGreen')\n",
    "ax1.set_title('Centered (top) and non-centered (bottom)');"
   ]
  },
  {
   "cell_type": "markdown",
   "metadata": {},
   "source": [
    "## Varying intercept and slope model\n",
    "\n",
    "The most general model allows both the intercept and slope to vary by county:\n",
    "\n",
    "$$y_i = \\alpha_{j[i]} + \\beta_{j[i]} x_{i} + \\epsilon_i$$\n"
   ]
  },
  {
   "cell_type": "code",
   "execution_count": 38,
   "metadata": {
    "collapsed": true
   },
   "outputs": [],
   "source": [
    "with Model() as varying_intercept_slope:\n",
    "    \n",
    "    # Priors\n",
    "    mu_a = Normal('mu_a', mu=0., sd=1e5)\n",
    "    sigma_a = HalfCauchy('sigma_a', 5)\n",
    "    mu_b = Normal('mu_b', mu=0., sd=1e5)\n",
    "    sigma_b = HalfCauchy('sigma_b', 5)\n",
    "    \n",
    "    # Random intercepts\n",
    "    a = Normal('a', mu=mu_a, sd=sigma_a, shape=counties)\n",
    "    # Random slopes\n",
    "    b = Normal('b', mu=mu_b, sd=sigma_b, shape=counties)\n",
    "    \n",
    "    # Model error\n",
    "    sigma_y = Uniform('sigma_y', lower=0, upper=100)\n",
    "    \n",
    "    # Expected value\n",
    "    y_hat = a[county] + b[county] * floor_measure\n",
    "    \n",
    "    # Data likelihood\n",
    "    y_like = Normal('y_like', mu=y_hat, sd=sigma_y, observed=log_radon)"
   ]
  },
  {
   "cell_type": "code",
   "execution_count": 39,
   "metadata": {},
   "outputs": [
    {
     "name": "stderr",
     "output_type": "stream",
     "text": [
      "Auto-assigning NUTS sampler...\n",
      "Initializing NUTS using ADVI...\n",
      "Average Loss = 1,110.9:  17%|█▋        | 33213/200000 [00:10<00:53, 3121.08it/s]\n",
      "Convergence archived at 33500\n",
      "Interrupted at 33,500 [16%]: Average Loss = 2,055.3\n",
      "100%|██████████| 2500/2500 [00:28<00:00, 86.92it/s] \n"
     ]
    }
   ],
   "source": [
    "with varying_intercept_slope:\n",
    "    varying_intercept_slope_trace = sample(2000)"
   ]
  },
  {
   "cell_type": "code",
   "execution_count": 40,
   "metadata": {},
   "outputs": [
    {
     "data": {
      "text/plain": [
       "<matplotlib.gridspec.GridSpec at 0x12c48ef98>"
      ]
     },
     "execution_count": 40,
     "metadata": {},
     "output_type": "execute_result"
    },
    {
     "data": {
      "image/png": "[encoded data removed]",
      "text/plain": [
       "<matplotlib.figure.Figure at 0x12c48ed30>"
      ]
     },
     "metadata": {},
     "output_type": "display_data"
    }
   ],
   "source": [
    "plt.figure(figsize=(6,16))\n",
    "forestplot(varying_intercept_slope_trace, varnames=['a','b'])"
   ]
  },
  {
   "cell_type": "code",
   "execution_count": 41,
   "metadata": {},
   "outputs": [
    {
     "data": {
      "image/png": "[encoded data removed]",
      "text/plain": [
       "<matplotlib.figure.Figure at 0x12c4397b8>"
      ]
     },
     "metadata": {},
     "output_type": "display_data"
    }
   ],
   "source": [
    "xvals = np.arange(2)\n",
    "b = varying_intercept_slope_trace['a'].mean(axis=0)\n",
    "m = varying_intercept_slope_trace['b'].mean(axis=0)\n",
    "for bi,mi in zip(b,m):\n",
    "    plt.plot(xvals, mi*xvals + bi, 'bo-', alpha=0.4)\n",
    "plt.xlim(-0.1, 1.1);"
   ]
  },
  {
   "cell_type": "code",
   "execution_count": null,
   "metadata": {
    "collapsed": true
   },
   "outputs": [],
   "source": [
    "centered parameterization\n",
    "theta~N(u,sigma^2)\n",
    "u~P(u)\n",
    "sigma^2~P(sigma)\n",
    "\n"
   ]
  },
  {
   "cell_type": "markdown",
   "metadata": {},
   "source": [
    "### Exercise\n",
    "\n",
    "Reparameterize the `varying_intercept_slope` model to be non-centered, and compare the resulting parameter estimates."
   ]
  },
  {
   "cell_type": "code",
   "execution_count": null,
   "metadata": {
    "collapsed": true
   },
   "outputs": [],
   "source": [
    "# Write your answer here\n",
    "\n",
    "with Model() as varying_intercept_slope:\n",
    "    \n",
    "    # Priors\n",
    "    mu_a = Normal('mu_a', mu=0., sd=1e5)\n",
    "    sigma_a = HalfCauchy('sigma_a', 5)\n",
    "    mu_b = Normal('mu_b', mu=0., sd=1e5)\n",
    "    sigma_b = HalfCauchy('sigma_b', 5)\n",
    "    \n",
    "    # Random intercepts\n",
    "    a = Normal('a', mu=mu_a, sd=sigma_a, shape=counties)\n",
    "    b = Normal('b', mu=mu_b, sd=sigma_b, shape=counties)\n",
    "    \n",
    "    # Non-centered random slopes\n",
    "    # Centered: b = Normal('b', μ_b, sd=σ_b, shape=counties)\n",
    "    υ = Normal('υ', mu=0, sd=1, shape=counties)\n",
    "    b = Deterministic(\"b\", mu_b + υ * sigma_b)\n",
    "    \n",
    "    # Model error\n",
    "    #sigma_y = Uniform('sigma_y', lower=0, upper=100)\n",
    "    # Model error\n",
    "    σ_y = HalfCauchy('σ_y',5)\n",
    "    \n",
    "    # Expected value\n",
    "    y_hat = a[county] + b[county] * floor_measure\n",
    "    \n",
    "    # Data likelihood\n",
    "    y_like = Normal('y_like', mu=y_hat, sd=sigma_y, observed=log_radon)\n",
    "    \n",
    "    \n",
    "\n",
    "with Model() as varying_slope_noncentered:\n",
    "    \n",
    "    # Priors\n",
    "    μ_b = Normal('μ_b', mu=0., sd=1e5)\n",
    "    σ_b = HalfCauchy('σ_b', 5)\n",
    "    \n",
    "    # Common intercepts\n",
    "    a = Normal('a', mu=0., sd=1e5)\n",
    "    \n",
    "    # Non-centered random slopes\n",
    "    # Centered: b = Normal('b', μ_b, sd=σ_b, shape=counties)\n",
    "    υ = Normal('υ', mu=0, sd=1, shape=counties)\n",
    "    b = Deterministic(\"b\", μ_b + υ * σ_b)\n",
    "    \n",
    "    # Model error\n",
    "    σ_y = HalfCauchy('σ_y',5)\n",
    "    \n",
    "    # Expected value\n",
    "    y_hat = a + b[county] * floor_measure\n",
    "    \n",
    "    # Data likelihood\n",
    "    y_like = Normal('y_like', mu=y_hat, sd=σ_y, observed=log_radon)\n",
    "    "
   ]
  },
  {
   "cell_type": "markdown",
   "metadata": {},
   "source": [
    "## Adding group-level predictors\n",
    "\n",
    "A primary strength of multilevel models is the ability to handle predictors on multiple levels simultaneously. If we consider the varying-intercepts model above:\n",
    "\n",
    "$$y_i = \\alpha_{j[i]} + \\beta x_{i} + \\epsilon_i$$\n",
    "\n",
    "we may, instead of a simple random effect to describe variation in the expected radon value, specify another regression model with a county-level covariate. Here, we use the county uranium reading $u_j$, which is thought to be related to radon levels:\n",
    "\n",
    "$$\\alpha_j = \\gamma_0 + \\gamma_1 u_j + \\zeta_j$$\n",
    "\n",
    "$$\\zeta_j \\sim N(0, \\sigma_{\\alpha}^2)$$\n",
    "\n",
    "Thus, we are now incorporating a house-level predictor (floor or basement) as well as a county-level predictor (uranium).\n",
    "\n",
    "Note that the model has both indicator variables for each county, plus a county-level covariate. In classical regression, this would result in collinearity. In a multilevel model, the partial pooling of the intercepts towards the expected value of the group-level linear model avoids this.\n",
    "\n",
    "Group-level predictors also serve to reduce group-level variation $\\sigma_{\\alpha}$. An important implication of this is that the group-level estimate induces stronger pooling."
   ]
  },
  {
   "cell_type": "code",
   "execution_count": 53,
   "metadata": {
    "collapsed": true
   },
   "outputs": [],
   "source": [
    "from pymc3 import Deterministic\n",
    "\n",
    "with Model() as hierarchical_intercept:\n",
    "    \n",
    "    # Priors\n",
    "    sigma_a = HalfCauchy('sigma_a', 5)\n",
    "    \n",
    "    # County uranium model for slope\n",
    "    gamma_0 = Normal('gamma_0', mu=0., sd=1e5)\n",
    "    gamma_1 = Normal('gamma_1', mu=0., sd=1e5)\n",
    "    \n",
    "    \n",
    "    # Uranium model for intercept\n",
    "    mu_a = gamma_0 + gamma_1*u\n",
    "    # County variation not explained by uranium\n",
    "    eps_a = Normal('eps_a', mu=0, sd=sigma_a, shape=counties) #noncenter parameterization\n",
    "    a = Deterministic('a', mu_a + eps_a[county])\n",
    "    \n",
    "    # Common slope\n",
    "    b = Normal('b', mu=0., sd=1e5)\n",
    "    \n",
    "    # Model error\n",
    "    sigma_y = Uniform('sigma_y', lower=0, upper=100)\n",
    "    \n",
    "    # Expected value\n",
    "    y_hat = a + b * floor_measure\n",
    "    \n",
    "    # Data likelihood\n",
    "    y_like = Normal('y_like', mu=y_hat, sd=sigma_y, observed=log_radon)\n",
    "    "
   ]
  },
  {
   "cell_type": "code",
   "execution_count": 54,
   "metadata": {},
   "outputs": [
    {
     "name": "stderr",
     "output_type": "stream",
     "text": [
      "Auto-assigning NUTS sampler...\n",
      "Initializing NUTS using ADVI...\n",
      "Average Loss = 1,091.2:  16%|█▌        | 32124/200000 [00:08<00:42, 3982.97it/s]\n",
      "Convergence archived at 32500\n",
      "Interrupted at 32,500 [16%]: Average Loss = 2,042.8\n",
      "100%|██████████| 2500/2500 [00:14<00:00, 152.07it/s]\n"
     ]
    }
   ],
   "source": [
    "with hierarchical_intercept:\n",
    "    hierarchical_intercept_trace = sample(2000)"
   ]
  },
  {
   "cell_type": "code",
   "execution_count": 55,
   "metadata": {},
   "outputs": [
    {
     "data": {
      "text/plain": [
       "<matplotlib.text.Text at 0x1334545f8>"
      ]
     },
     "execution_count": 55,
     "metadata": {},
     "output_type": "execute_result"
    },
    {
     "data": {
      "image/png": "[encoded data removed]",
      "text/plain": [
       "<matplotlib.figure.Figure at 0x13607b240>"
      ]
     },
     "metadata": {},
     "output_type": "display_data"
    }
   ],
   "source": [
    "a_means = hierarchical_intercept_trace['a'].mean(axis=0)\n",
    "plt.scatter(u, a_means)\n",
    "g0 = hierarchical_intercept_trace['gamma_0'].mean()\n",
    "g1 = hierarchical_intercept_trace['gamma_1'].mean()\n",
    "xvals = np.linspace(-1, 0.8)\n",
    "plt.plot(xvals, g0+g1*xvals, 'k--')\n",
    "plt.xlim(-1, 0.8)\n",
    "\n",
    "a_se = hierarchical_intercept_trace['a'].std(axis=0)\n",
    "for ui, m, se in zip(u, a_means, a_se):\n",
    "    plt.plot([ui,ui], [m-se, m+se], 'b-')\n",
    "plt.xlabel('County-level uranium'); plt.ylabel('Intercept estimate')"
   ]
  },
  {
   "cell_type": "markdown",
   "metadata": {},
   "source": [
    "The standard errors on the intercepts are narrower than for the partial-pooling model without a county-level covariate."
   ]
  },
  {
   "cell_type": "markdown",
   "metadata": {},
   "source": [
    "### Correlations among levels\n",
    "\n",
    "In some instances, having predictors at multiple levels can reveal correlation between individual-level variables and group residuals. We can account for this by including the average of the individual predictors as a covariate in the model for the group intercept.\n",
    "\n",
    "$$\\alpha_j = \\gamma_0 + \\gamma_1 u_j + \\gamma_2 \\bar{x} + \\zeta_j$$\n",
    "\n",
    "These are broadly referred to as ***contextual effects***."
   ]
  },
  {
   "cell_type": "code",
   "execution_count": 56,
   "metadata": {
    "collapsed": true
   },
   "outputs": [],
   "source": [
    "# Create new variable for mean of floor across counties\n",
    "xbar = srrs_mn.groupby('county')['floor'].mean().rename(county_lookup).values"
   ]
  },
  {
   "cell_type": "code",
   "execution_count": 57,
   "metadata": {
    "collapsed": true
   },
   "outputs": [],
   "source": [
    "with Model() as contextual_effect:\n",
    "    \n",
    "    # Priors\n",
    "    sigma_a = HalfCauchy('sigma_a', 5)\n",
    "    \n",
    "    # County uranium model for slope\n",
    "    gamma = Normal('gamma', mu=0., sd=1e5, shape=3)\n",
    "    \n",
    "    # Uranium model for intercept, linear model\n",
    "    mu_a = Deterministic('mu_a', gamma[0] + gamma[1]*u.values + gamma[2]*xbar[county])\n",
    "\n",
    "    # County variation not explained by uranium\n",
    "    eps_a = Normal('eps_a', mu=0, sd=sigma_a, shape=counties)\n",
    "    a = Deterministic('a', mu_a + eps_a[county])\n",
    "\n",
    "    # Common slope\n",
    "    b = Normal('b', mu=0., sd=1e15)\n",
    "    \n",
    "    # Model error\n",
    "    sigma_y = Uniform('sigma_y', lower=0, upper=100)\n",
    "    \n",
    "    # Expected value\n",
    "    y_hat = a + b * floor_measure\n",
    "    \n",
    "    # Data likelihood\n",
    "    y_like = Normal('y_like', mu=y_hat, sd=sigma_y, observed=log_radon)\n",
    "    "
   ]
  },
  {
   "cell_type": "code",
   "execution_count": 58,
   "metadata": {},
   "outputs": [
    {
     "name": "stderr",
     "output_type": "stream",
     "text": [
      "Auto-assigning NUTS sampler...\n",
      "Initializing NUTS using ADVI...\n",
      "Average Loss = 1,130.9:  15%|█▌        | 30804/200000 [00:09<00:48, 3504.15it/s]\n",
      "Convergence archived at 31000\n",
      "Interrupted at 31,000 [15%]: Average Loss = 2,133.5\n",
      "100%|██████████| 2500/2500 [00:17<00:00, 143.28it/s]\n"
     ]
    }
   ],
   "source": [
    "with contextual_effect:\n",
    "    contextual_effect_trace = sample(2000)"
   ]
  },
  {
   "cell_type": "code",
   "execution_count": 59,
   "metadata": {},
   "outputs": [
    {
     "data": {
      "text/plain": [
       "<matplotlib.gridspec.GridSpec at 0x130d77898>"
      ]
     },
     "execution_count": 59,
     "metadata": {},
     "output_type": "execute_result"
    },
    {
     "data": {
      "image/png": "[encoded data removed]",
      "text/plain": [
       "<matplotlib.figure.Figure at 0x12f5efd68>"
      ]
     },
     "metadata": {},
     "output_type": "display_data"
    }
   ],
   "source": [
    "forestplot(contextual_effect_trace, varnames=['gamma'])"
   ]
  },
  {
   "cell_type": "code",
   "execution_count": 60,
   "metadata": {},
   "outputs": [
    {
     "ename": "NameError",
     "evalue": "name 'df_summary' is not defined",
     "output_type": "error",
     "traceback": [
      "\u001b[0;31m---------------------------------------------------------------------------\u001b[0m",
      "\u001b[0;31mNameError\u001b[0m                                 Traceback (most recent call last)",
      "\u001b[0;32m<ipython-input-60-f223696fbbb5>\u001b[0m in \u001b[0;36m<module>\u001b[0;34m()\u001b[0m\n\u001b[0;32m----> 1\u001b[0;31m \u001b[0mdf_summary\u001b[0m\u001b[0;34m(\u001b[0m\u001b[0mcontextual_effect_trace\u001b[0m\u001b[0;34m,\u001b[0m \u001b[0mvarnames\u001b[0m\u001b[0;34m=\u001b[0m\u001b[0;34m[\u001b[0m\u001b[0;34m'gamma'\u001b[0m\u001b[0;34m]\u001b[0m\u001b[0;34m)\u001b[0m\u001b[0;34m\u001b[0m\u001b[0m\n\u001b[0m",
      "\u001b[0;31mNameError\u001b[0m: name 'df_summary' is not defined"
     ]
    }
   ],
   "source": [
    "df_summary(contextual_effect_trace, varnames=['gamma'])"
   ]
  },
  {
   "cell_type": "markdown",
   "metadata": {},
   "source": [
    "So, we might infer from this that counties with higher proportions of houses without basements tend to have higher baseline levels of radon. Perhaps this is related to the soil type, which in turn might influence what type of structures are built."
   ]
  },
  {
   "cell_type": "markdown",
   "metadata": {},
   "source": [
    "### Prediction\n",
    "\n",
    "Gelman (2006) used cross-validation tests to check the prediction error of the unpooled, pooled, and partially-pooled models\n",
    "\n",
    "**root mean squared cross-validation prediction errors**:\n",
    "\n",
    "* unpooled = 0.86\n",
    "* pooled = 0.84\n",
    "* multilevel = 0.79\n",
    "\n",
    "There are two types of prediction that can be made in a multilevel model:\n",
    "\n",
    "1. a new individual within an existing group\n",
    "2. a new individual within a new group\n",
    "\n",
    "For example, if we wanted to make a prediction for a new house with no basement in St. Louis county, we just need to sample from the radon model with the appropriate intercept."
   ]
  },
  {
   "cell_type": "markdown",
   "metadata": {},
   "source": [
    "multilevel does better\n",
    "\n"
   ]
  },
  {
   "cell_type": "code",
   "execution_count": 61,
   "metadata": {},
   "outputs": [
    {
     "data": {
      "text/plain": [
       "69"
      ]
     },
     "execution_count": 61,
     "metadata": {},
     "output_type": "execute_result"
    }
   ],
   "source": [
    "county_lookup['ST LOUIS']"
   ]
  },
  {
   "cell_type": "markdown",
   "metadata": {},
   "source": [
    "That is, \n",
    "\n",
    "$$\\tilde{y}_i \\sim N(\\alpha_{69} + \\beta (x_i=1), \\sigma_y^2)$$\n",
    "\n",
    "This is simply a matter of adding a single additional line in PyMC:"
   ]
  },
  {
   "cell_type": "code",
   "execution_count": 62,
   "metadata": {
    "collapsed": true
   },
   "outputs": [],
   "source": [
    "with Model() as contextual_pred:\n",
    "    \n",
    "    # Priors\n",
    "    sigma_a = HalfCauchy('sigma_a', 5)\n",
    "    \n",
    "    # County uranium model for slope\n",
    "    gamma = Normal('gamma', mu=0., sd=1e5, shape=3)\n",
    "    \n",
    "    # Uranium model for intercept\n",
    "    mu_a = Deterministic('mu_a', gamma[0] + gamma[1]*u.values + gamma[2]*xbar[county])\n",
    "\n",
    "    # County variation not explained by uranium\n",
    "    eps_a = Normal('eps_a', mu=0, sd=sigma_a, shape=counties)\n",
    "    a = Deterministic('a', mu_a + eps_a[county])\n",
    "\n",
    "    # Common slope\n",
    "    b = Normal('b', mu=0., sd=1e15)\n",
    "    \n",
    "    # Model error\n",
    "    sigma_y = Uniform('sigma_y', lower=0, upper=100)\n",
    "    \n",
    "    # Expected value\n",
    "    y_hat = a + b * floor_measure\n",
    "    \n",
    "    # Data likelihood\n",
    "    y_like = Normal('y_like', mu=y_hat, sd=sigma_y, observed=log_radon)\n",
    "    \n",
    "    # St Louis county prediction, one line added here\n",
    "    stl_pred = Normal('stl_pred', mu=a[69] + b, sd=sigma_y)\n",
    "    "
   ]
  },
  {
   "cell_type": "code",
   "execution_count": 63,
   "metadata": {},
   "outputs": [
    {
     "name": "stderr",
     "output_type": "stream",
     "text": [
      "Auto-assigning NUTS sampler...\n",
      "Initializing NUTS using ADVI...\n",
      "Average Loss = 1,130.7:  15%|█▌        | 30996/200000 [00:08<00:47, 3534.66it/s]\n",
      "Convergence archived at 31000\n",
      "Interrupted at 31,000 [15%]: Average Loss = 2,134.9\n",
      "100%|██████████| 2500/2500 [00:19<00:00, 128.95it/s]\n"
     ]
    }
   ],
   "source": [
    "with contextual_pred:\n",
    "    contextual_pred_trace = sample(2000)"
   ]
  },
  {
   "cell_type": "code",
   "execution_count": 64,
   "metadata": {},
   "outputs": [
    {
     "data": {
      "text/plain": [
       "array([<matplotlib.axes._subplots.AxesSubplot object at 0x13d9dd5f8>], dtype=object)"
      ]
     },
     "execution_count": 64,
     "metadata": {},
     "output_type": "execute_result"
    },
    {
     "data": {
      "image/png": "[encoded data removed]",
      "text/plain": [
       "<matplotlib.figure.Figure at 0x13d9d32e8>"
      ]
     },
     "metadata": {},
     "output_type": "display_data"
    }
   ],
   "source": [
    "plot_posterior(contextual_pred_trace, varnames=['stl_pred'])"
   ]
  },
  {
   "cell_type": "markdown",
   "metadata": {},
   "source": [
    "## Exercise\n",
    "\n",
    "How would we make a prediction from a new county (*e.g.* one not included in this dataset)?"
   ]
  },
  {
   "cell_type": "code",
   "execution_count": 72,
   "metadata": {
    "collapsed": true
   },
   "outputs": [],
   "source": [
    "# Write your answer here\n",
    "with Model() as contextual_pred_new:\n",
    "    \n",
    "    # Priors\n",
    "    sigma_a = HalfCauchy('sigma_a', 5)\n",
    "    \n",
    "    # County uranium model for slope\n",
    "    gamma = Normal('gamma', mu=0., sd=1e5, shape=3)\n",
    "    u_centered=(u-u.mean()).values\n",
    "    # Uranium model for intercept\n",
    "    mu_a = Deterministic('mu_a', gamma[0] + gamma[1]*u_centered + gamma[2]*xbar[county])\n",
    "\n",
    "    # County variation not explained by uranium\n",
    "    eps_a = Normal('eps_a', mu=0, sd=sigma_a, shape=counties)\n",
    "    a = Deterministic('a', mu_a + eps_a[county])\n",
    "\n",
    "    # Common slope\n",
    "    b = Normal('b', mu=0., sd=1e15)\n",
    "    \n",
    "    # Model error\n",
    "    sigma_y = Uniform('sigma_y', lower=0, upper=100)\n",
    "    \n",
    "    # Expected value\n",
    "    y_hat = a + b * floor_measure\n",
    "    \n",
    "    # Data likelihood\n",
    "    y_like = Normal('y_like', mu=y_hat, sd=sigma_y, observed=log_radon)\n",
    "    \n",
    "    # St Louis county prediction, one line added here\n",
    "    xcounty_mean=Normal('xcounty_mean',gamma[0]+gamma[2]*np.mean(xbar),sigma_a)\n",
    "    \n",
    "    xcounty_pred = Normal('stl_pred', mu=xcounty_mean + b, sd=sigma_y)\n",
    "    "
   ]
  },
  {
   "cell_type": "code",
   "execution_count": 73,
   "metadata": {},
   "outputs": [
    {
     "name": "stderr",
     "output_type": "stream",
     "text": [
      "Auto-assigning NUTS sampler...\n",
      "Initializing NUTS using ADVI...\n",
      "Average Loss = 1,130.7:  15%|█▌        | 30935/200000 [00:09<00:51, 3312.55it/s]\n",
      "Convergence archived at 31100\n",
      "Interrupted at 31,100 [15%]: Average Loss = 2,125.4\n",
      "100%|██████████| 4000/4000 [00:34<00:00, 117.28it/s]\n"
     ]
    }
   ],
   "source": [
    "with contextual_pred_new:\n",
    "    new_county_trace=sample(2000,tune=2000)\n",
    "    "
   ]
  },
  {
   "cell_type": "code",
   "execution_count": 74,
   "metadata": {},
   "outputs": [
    {
     "ename": "KeyError",
     "evalue": "'xcounty_pred'",
     "output_type": "error",
     "traceback": [
      "\u001b[0;31m---------------------------------------------------------------------------\u001b[0m",
      "\u001b[0;31mKeyError\u001b[0m                                  Traceback (most recent call last)",
      "\u001b[0;32m<ipython-input-74-4e67cc9b5018>\u001b[0m in \u001b[0;36m<module>\u001b[0;34m()\u001b[0m\n\u001b[0;32m----> 1\u001b[0;31m \u001b[0mplot_posterior\u001b[0m\u001b[0;34m(\u001b[0m\u001b[0mnew_county_trace\u001b[0m\u001b[0;34m,\u001b[0m\u001b[0mvarnames\u001b[0m\u001b[0;34m=\u001b[0m\u001b[0;34m[\u001b[0m\u001b[0;34m'xcounty_pred'\u001b[0m\u001b[0;34m]\u001b[0m\u001b[0;34m)\u001b[0m\u001b[0;34m\u001b[0m\u001b[0m\n\u001b[0m\u001b[1;32m      2\u001b[0m \u001b[0;31m#confidence interval wider\u001b[0m\u001b[0;34m\u001b[0m\u001b[0;34m\u001b[0m\u001b[0m\n",
      "\u001b[0;32m~/anaconda2/envs/bios8366/lib/python3.6/site-packages/pymc3/plots/posteriorplot.py\u001b[0m in \u001b[0;36mplot_posterior\u001b[0;34m(trace, varnames, transform, figsize, text_size, alpha_level, round_to, point_estimate, rope, ref_val, kde_plot, plot_transformed, ax, **kwargs)\u001b[0m\n\u001b[1;32m     89\u001b[0m             \u001b[0mvarnames\u001b[0m \u001b[0;34m=\u001b[0m \u001b[0mget_default_varnames\u001b[0m\u001b[0;34m(\u001b[0m\u001b[0mtrace\u001b[0m\u001b[0;34m.\u001b[0m\u001b[0mvarnames\u001b[0m\u001b[0;34m,\u001b[0m \u001b[0mplot_transformed\u001b[0m\u001b[0;34m)\u001b[0m\u001b[0;34m\u001b[0m\u001b[0m\n\u001b[1;32m     90\u001b[0m \u001b[0;34m\u001b[0m\u001b[0m\n\u001b[0;32m---> 91\u001b[0;31m         \u001b[0mtrace_dict\u001b[0m \u001b[0;34m=\u001b[0m \u001b[0mget_trace_dict\u001b[0m\u001b[0;34m(\u001b[0m\u001b[0mtrace\u001b[0m\u001b[0;34m,\u001b[0m \u001b[0mvarnames\u001b[0m\u001b[0;34m)\u001b[0m\u001b[0;34m\u001b[0m\u001b[0m\n\u001b[0m\u001b[1;32m     92\u001b[0m \u001b[0;34m\u001b[0m\u001b[0m\n\u001b[1;32m     93\u001b[0m         \u001b[0;32mif\u001b[0m \u001b[0max\u001b[0m \u001b[0;32mis\u001b[0m \u001b[0;32mNone\u001b[0m\u001b[0;34m:\u001b[0m\u001b[0;34m\u001b[0m\u001b[0m\n",
      "\u001b[0;32m~/anaconda2/envs/bios8366/lib/python3.6/site-packages/pymc3/plots/posteriorplot.py\u001b[0m in \u001b[0;36mget_trace_dict\u001b[0;34m(tr, varnames)\u001b[0m\n\u001b[1;32m     68\u001b[0m         \u001b[0mtraces\u001b[0m \u001b[0;34m=\u001b[0m \u001b[0mOrderedDict\u001b[0m\u001b[0;34m(\u001b[0m\u001b[0;34m)\u001b[0m\u001b[0;34m\u001b[0m\u001b[0m\n\u001b[1;32m     69\u001b[0m         \u001b[0;32mfor\u001b[0m \u001b[0mv\u001b[0m \u001b[0;32min\u001b[0m \u001b[0mvarnames\u001b[0m\u001b[0;34m:\u001b[0m\u001b[0;34m\u001b[0m\u001b[0m\n\u001b[0;32m---> 70\u001b[0;31m             \u001b[0mvals\u001b[0m \u001b[0;34m=\u001b[0m \u001b[0mtr\u001b[0m\u001b[0;34m.\u001b[0m\u001b[0mget_values\u001b[0m\u001b[0;34m(\u001b[0m\u001b[0mv\u001b[0m\u001b[0;34m,\u001b[0m \u001b[0mcombine\u001b[0m\u001b[0;34m=\u001b[0m\u001b[0;32mTrue\u001b[0m\u001b[0;34m,\u001b[0m \u001b[0msqueeze\u001b[0m\u001b[0;34m=\u001b[0m\u001b[0;32mTrue\u001b[0m\u001b[0;34m)\u001b[0m\u001b[0;34m\u001b[0m\u001b[0m\n\u001b[0m\u001b[1;32m     71\u001b[0m             \u001b[0;32mif\u001b[0m \u001b[0mvals\u001b[0m\u001b[0;34m.\u001b[0m\u001b[0mndim\u001b[0m \u001b[0;34m>\u001b[0m \u001b[0;36m1\u001b[0m\u001b[0;34m:\u001b[0m\u001b[0;34m\u001b[0m\u001b[0m\n\u001b[1;32m     72\u001b[0m                 \u001b[0mvals_flat\u001b[0m \u001b[0;34m=\u001b[0m \u001b[0mvals\u001b[0m\u001b[0;34m.\u001b[0m\u001b[0mreshape\u001b[0m\u001b[0;34m(\u001b[0m\u001b[0mvals\u001b[0m\u001b[0;34m.\u001b[0m\u001b[0mshape\u001b[0m\u001b[0;34m[\u001b[0m\u001b[0;36m0\u001b[0m\u001b[0;34m]\u001b[0m\u001b[0;34m,\u001b[0m \u001b[0;34m-\u001b[0m\u001b[0;36m1\u001b[0m\u001b[0;34m)\u001b[0m\u001b[0;34m.\u001b[0m\u001b[0mT\u001b[0m\u001b[0;34m\u001b[0m\u001b[0m\n",
      "\u001b[0;32m~/anaconda2/envs/bios8366/lib/python3.6/site-packages/pymc3/backends/base.py\u001b[0m in \u001b[0;36mget_values\u001b[0;34m(self, varname, burn, thin, combine, chains, squeeze)\u001b[0m\n\u001b[1;32m    366\u001b[0m         \u001b[0;32mtry\u001b[0m\u001b[0;34m:\u001b[0m\u001b[0;34m\u001b[0m\u001b[0m\n\u001b[1;32m    367\u001b[0m             results = [self._straces[chain].get_values(varname, burn, thin)\n\u001b[0;32m--> 368\u001b[0;31m                        for chain in chains]\n\u001b[0m\u001b[1;32m    369\u001b[0m         \u001b[0;32mexcept\u001b[0m \u001b[0mTypeError\u001b[0m\u001b[0;34m:\u001b[0m  \u001b[0;31m# Single chain passed.\u001b[0m\u001b[0;34m\u001b[0m\u001b[0m\n\u001b[1;32m    370\u001b[0m             \u001b[0mresults\u001b[0m \u001b[0;34m=\u001b[0m \u001b[0;34m[\u001b[0m\u001b[0mself\u001b[0m\u001b[0;34m.\u001b[0m\u001b[0m_straces\u001b[0m\u001b[0;34m[\u001b[0m\u001b[0mchains\u001b[0m\u001b[0;34m]\u001b[0m\u001b[0;34m.\u001b[0m\u001b[0mget_values\u001b[0m\u001b[0;34m(\u001b[0m\u001b[0mvarname\u001b[0m\u001b[0;34m,\u001b[0m \u001b[0mburn\u001b[0m\u001b[0;34m,\u001b[0m \u001b[0mthin\u001b[0m\u001b[0;34m)\u001b[0m\u001b[0;34m]\u001b[0m\u001b[0;34m\u001b[0m\u001b[0m\n",
      "\u001b[0;32m~/anaconda2/envs/bios8366/lib/python3.6/site-packages/pymc3/backends/base.py\u001b[0m in \u001b[0;36m<listcomp>\u001b[0;34m(.0)\u001b[0m\n\u001b[1;32m    366\u001b[0m         \u001b[0;32mtry\u001b[0m\u001b[0;34m:\u001b[0m\u001b[0;34m\u001b[0m\u001b[0m\n\u001b[1;32m    367\u001b[0m             results = [self._straces[chain].get_values(varname, burn, thin)\n\u001b[0;32m--> 368\u001b[0;31m                        for chain in chains]\n\u001b[0m\u001b[1;32m    369\u001b[0m         \u001b[0;32mexcept\u001b[0m \u001b[0mTypeError\u001b[0m\u001b[0;34m:\u001b[0m  \u001b[0;31m# Single chain passed.\u001b[0m\u001b[0;34m\u001b[0m\u001b[0m\n\u001b[1;32m    370\u001b[0m             \u001b[0mresults\u001b[0m \u001b[0;34m=\u001b[0m \u001b[0;34m[\u001b[0m\u001b[0mself\u001b[0m\u001b[0;34m.\u001b[0m\u001b[0m_straces\u001b[0m\u001b[0;34m[\u001b[0m\u001b[0mchains\u001b[0m\u001b[0;34m]\u001b[0m\u001b[0;34m.\u001b[0m\u001b[0mget_values\u001b[0m\u001b[0;34m(\u001b[0m\u001b[0mvarname\u001b[0m\u001b[0;34m,\u001b[0m \u001b[0mburn\u001b[0m\u001b[0;34m,\u001b[0m \u001b[0mthin\u001b[0m\u001b[0;34m)\u001b[0m\u001b[0;34m]\u001b[0m\u001b[0;34m\u001b[0m\u001b[0m\n",
      "\u001b[0;32m~/anaconda2/envs/bios8366/lib/python3.6/site-packages/pymc3/backends/ndarray.py\u001b[0m in \u001b[0;36mget_values\u001b[0;34m(self, varname, burn, thin)\u001b[0m\n\u001b[1;32m    140\u001b[0m         \u001b[0mA\u001b[0m \u001b[0mNumPy\u001b[0m \u001b[0marray\u001b[0m\u001b[0;34m\u001b[0m\u001b[0m\n\u001b[1;32m    141\u001b[0m         \"\"\"\n\u001b[0;32m--> 142\u001b[0;31m         \u001b[0;32mreturn\u001b[0m \u001b[0mself\u001b[0m\u001b[0;34m.\u001b[0m\u001b[0msamples\u001b[0m\u001b[0;34m[\u001b[0m\u001b[0mvarname\u001b[0m\u001b[0;34m]\u001b[0m\u001b[0;34m[\u001b[0m\u001b[0mburn\u001b[0m\u001b[0;34m:\u001b[0m\u001b[0;34m:\u001b[0m\u001b[0mthin\u001b[0m\u001b[0;34m]\u001b[0m\u001b[0;34m\u001b[0m\u001b[0m\n\u001b[0m\u001b[1;32m    143\u001b[0m \u001b[0;34m\u001b[0m\u001b[0m\n\u001b[1;32m    144\u001b[0m     \u001b[0;32mdef\u001b[0m \u001b[0m_slice\u001b[0m\u001b[0;34m(\u001b[0m\u001b[0mself\u001b[0m\u001b[0;34m,\u001b[0m \u001b[0midx\u001b[0m\u001b[0;34m)\u001b[0m\u001b[0;34m:\u001b[0m\u001b[0;34m\u001b[0m\u001b[0m\n",
      "\u001b[0;31mKeyError\u001b[0m: 'xcounty_pred'"
     ]
    }
   ],
   "source": [
    "plot_posterior(new_county_trace,varnames=['xcounty_pred'])\n",
    "#confidence interval wider"
   ]
  },
  {
   "cell_type": "markdown",
   "metadata": {},
   "source": [
    "## Benefits of Multilevel Models\n",
    "\n",
    "Accounting for natural hierarchical structure of observational data\n",
    "\n",
    "Estimation of coefficients for (under-represented) groups\n",
    "\n",
    "Incorporating individual- and group-level information when estimating group-level coefficients\n",
    "\n",
    "Allowing for variation among individual-level coefficients across groups\n",
    "\n"
   ]
  },
  {
   "cell_type": "markdown",
   "metadata": {},
   "source": [
    "## References\n",
    "\n",
    "Gelman, A., & Hill, J. (2006). Data Analysis Using Regression and Multilevel/Hierarchical Models (1st ed.). Cambridge University Press.\n",
    "\n",
    "Betancourt, M. J., & Girolami, M. (2013). Hamiltonian Monte Carlo for Hierarchical Models.\n",
    "\n",
    "Gelman, A. (2006). Multilevel (Hierarchical) modeling: what it can and cannot do. Technometrics, 48(3), 432–435."
   ]
  }
 ],
 "metadata": {
  "kernelspec": {
   "display_name": "Python 3",
   "language": "python",
   "name": "python3"
  },
  "language_info": {
   "codemirror_mode": {
    "name": "ipython",
    "version": 3
   },
   "file_extension": ".py",
   "mimetype": "text/x-python",
   "name": "python",
   "nbconvert_exporter": "python",
   "pygments_lexer": "ipython3",
   "version": "3.6.2"
  },
  "latex_envs": {
   "bibliofile": "biblio.bib",
   "cite_by": "apalike",
   "current_citInitial": 1,
   "eqLabelWithNumbers": true,
   "eqNumInitial": 0
  }
 },
 "nbformat": 4,
 "nbformat_minor": 1
}
