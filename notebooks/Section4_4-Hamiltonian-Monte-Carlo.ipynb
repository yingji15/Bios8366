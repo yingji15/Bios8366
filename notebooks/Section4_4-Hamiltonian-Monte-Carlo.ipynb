{
 "cells": [
  {
   "cell_type": "markdown",
   "metadata": {},
   "source": [
    "# Hamiltonian Monte Carlo\n",
    "\n",
    "Having introduced first-generation MCMC methods previously, we will now turn our attention to a more sophisticated class of algorithm, which improve upon random-walk jump algorithms by using information about the posterior distribution to inform candidate transitions: namely, gradient information.\n",
    "\n",
    "In order to implement these methods in code, we require more powerful mathematical software tools that allow for automated gradient calculation. There are several open source toolboxes that can support gradient-based Monte Carlo methods, and we will look at one of them in detail."
   ]
  },
  {
   "cell_type": "markdown",
   "metadata": {},
   "source": [
    "hybrid MC\n",
    "\n",
    "random walk: inefficient\n",
    "\n",
    "another model: use more info about model (in gradient), not blindly guess\n"
   ]
  },
  {
   "cell_type": "markdown",
   "metadata": {},
   "source": [
    "## Introduction to Mathematical Expressions with Theano\n",
    "\n",
    "Theano is a Python library that allows you to define, optimize, and evaluate mathematical expressions involving multi-dimensional arrays efficiently. Theano features:\n",
    "\n",
    "* __tight integration with numpy__ – Use numpy.ndarray in Theano-compiled functions.\n",
    "* __transparent use of a GPU__ – Perform data-intensive calculations up to 140x faster than with CPU.(float32 only)\n",
    "* __efficient symbolic differentiation__ – Theano does your derivatives for function with one or many inputs.\n",
    "* __speed and stability optimizations__ – Get the right answer for log(1+x) even when x is really tiny.\n",
    "* __dynamic C code generation__ – Evaluate expressions faster.\n",
    "* __extensive unit-testing and self-verification__ – Detect and diagnose errors.\n",
    "\n",
    "Theano is part programming language, part compiler. It is often used to build machine learning, though it is not in itself a machine learning toolkit; think of it as a **mathematical toolkit**.\n",
    "\n",
    "After a brief introduction to the Theano package, we will use it to implement a modern MCMC algorithm, *Hamiltonian Monte Carlo (HMC)*."
   ]
  },
  {
   "cell_type": "markdown",
   "metadata": {},
   "source": [
    "switchpoint: theano function\n",
    "\n",
    "symbolic differentiations\n"
   ]
  },
  {
   "cell_type": "markdown",
   "metadata": {},
   "source": [
    "## Adding Two Scalars\n",
    "\n",
    "To get us started with Theano and get a feel of what we're working with, \n",
    "let's make a simple function: add two numbers together. Here is how you do\n",
    "it:\n",
    "\n",
    "### Step 1 - Declaring Variables"
   ]
  },
  {
   "cell_type": "code",
   "execution_count": 1,
   "metadata": {
    "collapsed": true
   },
   "outputs": [],
   "source": [
    "import numpy as np\n",
    "\n",
    "from theano import function, shared\n",
    "import theano.tensor as tt #asign to alias:used a lot\n",
    "import theano\n",
    "\n",
    "x = tt.dscalar('x') #var with type assigned, double decimated scalar\n",
    "y = tt.dscalar('y')"
   ]
  },
  {
   "cell_type": "markdown",
   "metadata": {},
   "source": [
    "In Theano, all symbols must be typed. In particular, `tt.dscalar`\n",
    "is the type we assign to \"0-dimensional arrays (`scalar`) of doubles\n",
    "(`d`)\". It is a Theano `type`."
   ]
  },
  {
   "cell_type": "code",
   "execution_count": 2,
   "metadata": {
    "collapsed": false
   },
   "outputs": [
    {
     "data": {
      "text/plain": [
       "theano.tensor.var.TensorVariable"
      ]
     },
     "execution_count": 2,
     "metadata": {},
     "output_type": "execute_result"
    }
   ],
   "source": [
    "type(x)"
   ]
  },
  {
   "cell_type": "code",
   "execution_count": 3,
   "metadata": {
    "collapsed": false
   },
   "outputs": [
    {
     "data": {
      "text/plain": [
       "TensorType(float64, scalar)"
      ]
     },
     "execution_count": 3,
     "metadata": {},
     "output_type": "execute_result"
    }
   ],
   "source": [
    "x.type"
   ]
  },
  {
   "cell_type": "code",
   "execution_count": 4,
   "metadata": {
    "collapsed": false
   },
   "outputs": [
    {
     "data": {
      "text/plain": [
       "TensorType(float64, scalar)"
      ]
     },
     "execution_count": 4,
     "metadata": {},
     "output_type": "execute_result"
    }
   ],
   "source": [
    "tt.dscalar"
   ]
  },
  {
   "cell_type": "markdown",
   "metadata": {},
   "source": [
    "Notice that we have created objects of the type `TensorVariable`. A **tensor** is a generalization of an array to (potentially) multiple dimensions. Thus, everything from a scalar to a 5-dimensional hyper-matrix can be accomodated with the same abstraction. All expressions defined in Theano are performed by associating tensors with operations and with one another."
   ]
  },
  {
   "cell_type": "markdown",
   "metadata": {},
   "source": [
    "### Step 2 - Symbolic Expressions\n",
    "\n",
    "The second step is to combine *x* and *y* into their sum *z*:"
   ]
  },
  {
   "cell_type": "code",
   "execution_count": 5,
   "metadata": {
    "collapsed": true
   },
   "outputs": [],
   "source": [
    "z = x + y"
   ]
  },
  {
   "cell_type": "markdown",
   "metadata": {},
   "source": [
    "*z* is yet another *Variable* which represents the addition of\n",
    "*x* and *y*. You can use the `pp` function to *pretty-print* out the computation associated to *z*.\n"
   ]
  },
  {
   "cell_type": "code",
   "execution_count": 6,
   "metadata": {
    "collapsed": false
   },
   "outputs": [
    {
     "name": "stdout",
     "output_type": "stream",
     "text": [
      "(x + y)\n"
     ]
    }
   ],
   "source": [
    "from theano.printing import pp\n",
    "print(pp(z))"
   ]
  },
  {
   "cell_type": "code",
   "execution_count": 7,
   "metadata": {
    "collapsed": false
   },
   "outputs": [
    {
     "data": {
      "text/plain": [
       "Elemwise{add,no_inplace}.0"
      ]
     },
     "execution_count": 7,
     "metadata": {},
     "output_type": "execute_result"
    }
   ],
   "source": [
    "z"
   ]
  },
  {
   "cell_type": "markdown",
   "metadata": {},
   "source": [
    "### Step 3 - Compiling a Function\n",
    "\n",
    "The last step is to create a function taking *x* and *y* as inputs\n",
    "and giving *z* as output:"
   ]
  },
  {
   "cell_type": "code",
   "execution_count": 8,
   "metadata": {
    "collapsed": true
   },
   "outputs": [],
   "source": [
    "f = function([x, y], z)"
   ]
  },
  {
   "cell_type": "markdown",
   "metadata": {},
   "source": [
    "The first argument to `function()` is a list of Variables\n",
    "that will be provided as inputs to the function. The second argument\n",
    "is a single Variable *or* a list of Variables. For either case, the second\n",
    "argument is what we want to see as output when we apply the function. *f* may\n",
    "then be used like a normal Python function.\n"
   ]
  },
  {
   "cell_type": "markdown",
   "metadata": {},
   "source": [
    "Now we can call the function:"
   ]
  },
  {
   "cell_type": "code",
   "execution_count": 9,
   "metadata": {
    "collapsed": false
   },
   "outputs": [
    {
     "name": "stdout",
     "output_type": "stream",
     "text": [
      "5.0\n"
     ]
    }
   ],
   "source": [
    "print(f(2, 3))"
   ]
  },
  {
   "cell_type": "code",
   "execution_count": 10,
   "metadata": {
    "collapsed": false
   },
   "outputs": [
    {
     "name": "stdout",
     "output_type": "stream",
     "text": [
      "28.4\n"
     ]
    }
   ],
   "source": [
    "print(f(16.3, 12.1))"
   ]
  },
  {
   "cell_type": "markdown",
   "metadata": {},
   "source": [
    "If you are following along and typing into an interpreter, you may have\n",
    "noticed that there was a slight delay in executing the ``function``\n",
    "instruction. Behind the scenes, *f* was being **compiled into C code**."
   ]
  },
  {
   "cell_type": "markdown",
   "metadata": {},
   "source": [
    "Internally, Theano builds a graph structure composed of interconnected `Variable` nodes, `op` nodes and `apply` nodes. \n",
    "\n",
    "An `op` node encapsulates a particular mathematical operation, such as an arithmetic operation or a transformation.\n",
    "\n",
    "An `apply` node represents the application of an `op` to some variables. It is important to draw the difference between the definition of a computation represented by an `op` and its application to some actual data which is represented by the apply node. "
   ]
  },
  {
   "cell_type": "markdown",
   "metadata": {},
   "source": [
    "A `Variable` is the main data structure you work with when\n",
    "using Theano. By calling `tt.dscalar` with a string argument, you create a\n",
    "`Variable` representing a floating-point scalar quantity with the\n",
    "given name. If you provide no argument, the symbol will be unnamed. Names\n",
    "are not required, but they can help debugging."
   ]
  },
  {
   "cell_type": "markdown",
   "metadata": {},
   "source": [
    "## Adding Two Matrices\n",
    "\n",
    "If we want to work with matrices instead of scalars, the only change\n",
    "from the previous example is that you need to instantiate *x* and\n",
    "*y* using the matrix Types:"
   ]
  },
  {
   "cell_type": "code",
   "execution_count": 10,
   "metadata": {
    "collapsed": true
   },
   "outputs": [],
   "source": [
    "x = tt.dmatrix('x')\n",
    "y = tt.dmatrix('y')\n",
    "z = x + y\n",
    "f = function([x, y], z) "
   ]
  },
  {
   "cell_type": "markdown",
   "metadata": {},
   "source": [
    "Here is the expression graph corresponding to the addition of `x` and `y`:\n",
    "\n",
    "![expression graph](images/expression_graph.png)"
   ]
  },
  {
   "cell_type": "markdown",
   "metadata": {},
   "source": [
    "``dmatrix`` is the Type for matrices of doubles. Then we can use\n",
    "our new function on 2D arrays:\n"
   ]
  },
  {
   "cell_type": "code",
   "execution_count": 11,
   "metadata": {
    "collapsed": false
   },
   "outputs": [
    {
     "data": {
      "text/plain": [
       "array([[ 11.,  22.],\n",
       "       [ 33.,  44.]])"
      ]
     },
     "execution_count": 11,
     "metadata": {},
     "output_type": "execute_result"
    }
   ],
   "source": [
    "f([[1, 2], [3, 4]], [[10, 20], [30, 40]])"
   ]
  },
  {
   "cell_type": "markdown",
   "metadata": {},
   "source": [
    "The following types are available:\n",
    "\n",
    "* **byte**: ``bscalar, bvector, bmatrix, brow, bcol, btensor3, btensor4``\n",
    "* **16-bit integers**: ``wscalar, wvector, wmatrix, wrow, wcol, wtensor3, wtensor4``\n",
    "* **32-bit integers**: ``iscalar, ivector, imatrix, irow, icol, itensor3, itensor4``\n",
    "* **64-bit integers**: ``lscalar, lvector, lmatrix, lrow, lcol, ltensor3, ltensor4``\n",
    "* **float**: ``fscalar, fvector, fmatrix, frow, fcol, ftensor3, ftensor4``\n",
    "* **double**: ``dscalar, dvector, dmatrix, drow, dcol, dtensor3, dtensor4``\n",
    "* **complex**: ``cscalar, cvector, cmatrix, crow, ccol, ctensor3, ctensor4``"
   ]
  },
  {
   "cell_type": "markdown",
   "metadata": {},
   "source": [
    "An example of a slightly more interesting function is the logistic curve:"
   ]
  },
  {
   "cell_type": "code",
   "execution_count": 12,
   "metadata": {
    "collapsed": true
   },
   "outputs": [],
   "source": [
    "x = tt.dmatrix('x')"
   ]
  },
  {
   "cell_type": "markdown",
   "metadata": {},
   "source": [
    "The logistic transformation:"
   ]
  },
  {
   "cell_type": "code",
   "execution_count": 13,
   "metadata": {
    "collapsed": true
   },
   "outputs": [],
   "source": [
    "s = 1 / (1 + tt.exp(-x))"
   ]
  },
  {
   "cell_type": "code",
   "execution_count": 14,
   "metadata": {
    "collapsed": false
   },
   "outputs": [
    {
     "name": "stdout",
     "output_type": "stream",
     "text": [
      "[[ 0.5         0.73105858]\n",
      " [ 0.26894142  0.11920292]]\n"
     ]
    }
   ],
   "source": [
    "logistic = function([x], s)\n",
    "print(logistic([[0, 1], [-1, -2]]))"
   ]
  },
  {
   "cell_type": "markdown",
   "metadata": {},
   "source": [
    "Theano supports functions with multiple outputs. For example, we can\n",
    "compute the elementwise difference, absolute difference, and\n",
    "squared difference between two matrices *a* and *b* at the same time."
   ]
  },
  {
   "cell_type": "code",
   "execution_count": 15,
   "metadata": {
    "collapsed": true
   },
   "outputs": [],
   "source": [
    "a, b = tt.dmatrices('a', 'b') #define 2 matrices\n",
    "diff = a - b\n",
    "abs_diff = abs(diff)\n",
    "diff_squared = diff ** 2"
   ]
  },
  {
   "cell_type": "markdown",
   "metadata": {},
   "source": [
    "When we use the function `f`, it returns the three computed results as a list."
   ]
  },
  {
   "cell_type": "code",
   "execution_count": 16,
   "metadata": {
    "collapsed": false
   },
   "outputs": [
    {
     "data": {
      "text/plain": [
       "[array([[ 1.,  0.],\n",
       "        [-1., -2.]]), array([[ 1.,  0.],\n",
       "        [ 1.,  2.]]), array([[ 1.,  0.],\n",
       "        [ 1.,  4.]])]"
      ]
     },
     "execution_count": 16,
     "metadata": {},
     "output_type": "execute_result"
    }
   ],
   "source": [
    "f = function([a, b], [diff, abs_diff, diff_squared]) #3 outputs\n",
    "\n",
    "f([[1, 1], [1, 1]], [[0, 1], [2, 3]])"
   ]
  },
  {
   "cell_type": "markdown",
   "metadata": {},
   "source": [
    "c code written, compiled and run\n",
    "\n",
    "write in python but run in C\n"
   ]
  },
  {
   "cell_type": "markdown",
   "metadata": {},
   "source": [
    "## Setting a Default Value for an Argument\n",
    " \n",
    "Let's say you want to define a function that adds two numbers, except that if you only provide one number, the other input is assumed to be one. In Python, the default value for parameters achieves this effect.\n",
    "\n",
    "In Theano we make use of the [In](http://deeplearning.net/software/theano/library/compile/io.html#function-inputs) class, which allows you to specify properties of your function's parameters with greater detail. Here we give a default value of 1 for y by creating an In instance with its value field set to 1. Inputs with default values must follow inputs without default values (like Python's functions). There can be multiple inputs with default values. These parameters can be set positionally or by name, as in standard Python."
   ]
  },
  {
   "cell_type": "code",
   "execution_count": 17,
   "metadata": {
    "collapsed": true
   },
   "outputs": [],
   "source": [
    "from theano import In\n",
    "\n",
    "x, y, w = tt.dscalars('x', 'y', 'w')\n",
    "z = (x + y) * w\n",
    "g = function([x, In(y, value=1), In(w, value=2, name='w_by_name')], z)"
   ]
  },
  {
   "cell_type": "markdown",
   "metadata": {},
   "source": [
    "define expression (place holder)\n",
    "z: function\n",
    "set default \n",
    "y=1 : In(y,value=1)\n",
    "\n"
   ]
  },
  {
   "cell_type": "code",
   "execution_count": 18,
   "metadata": {
    "collapsed": false
   },
   "outputs": [
    {
     "name": "stdout",
     "output_type": "stream",
     "text": [
      "g(33) = 68.0\n"
     ]
    }
   ],
   "source": [
    "print('g(33) = {}'.format(g(33)))"
   ]
  },
  {
   "cell_type": "code",
   "execution_count": 19,
   "metadata": {
    "collapsed": false
   },
   "outputs": [
    {
     "name": "stdout",
     "output_type": "stream",
     "text": [
      "g(33, 0, 1) = 33.0\n"
     ]
    }
   ],
   "source": [
    "print('g(33, 0, 1) = {}'.format(g(33, 0, 1)))"
   ]
  },
  {
   "cell_type": "code",
   "execution_count": 20,
   "metadata": {
    "collapsed": false
   },
   "outputs": [
    {
     "name": "stdout",
     "output_type": "stream",
     "text": [
      "g(33, w_by_name=1) = 34.0\n"
     ]
    }
   ],
   "source": [
    "print('g(33, w_by_name=1) = {}'.format(g(33, w_by_name=1)))"
   ]
  },
  {
   "cell_type": "markdown",
   "metadata": {},
   "source": [
    "## Maintaining State with Shared Variables\n",
    "\n",
    "It is also possible to make a function with an internal state. For example, let’s say we want to make an accumulator: at the beginning, the state is initialized to zero. Then, on each function call, the state is incremented by the function’s argument.\n",
    "\n",
    "First let’s define the accumulator function. It adds its argument to the internal state, and returns the old state value."
   ]
  },
  {
   "cell_type": "markdown",
   "metadata": {},
   "source": [
    "def f(x):\n",
    "    z=x+1 #z is not avaialable outside f(x)\n",
    "    #to solve this, we can make it global\n",
    "    \n",
    "    return won't get it mainteined\n",
    "    yield: maintain state\n",
    "    \n",
    "    "
   ]
  },
  {
   "cell_type": "code",
   "execution_count": 22,
   "metadata": {
    "collapsed": true
   },
   "outputs": [],
   "source": [
    "state = shared(0)\n",
    "inc = tt.iscalar('inc')\n",
    "accumulator = function([inc], state, updates=[(state, state+inc)])\n",
    "\n",
    "#in place operation, update state with \"state+inc\", return old state\n",
    "#in place update rather than assignment"
   ]
  },
  {
   "cell_type": "markdown",
   "metadata": {},
   "source": [
    "This code introduces a few new concepts. The `shared` function constructs so-called shared variables. \n",
    "\n",
    "    state = shared(0)\n",
    "\n",
    "These are hybrid symbolic and non-symbolic variables whose value may be shared between multiple functions. Shared variables can be used in symbolic expressions but they also have an internal value that defines the value taken by this symbolic variable in all the functions that use it. It is called a shared variable because its value is shared between many functions. The value can be accessed and modified by the `get_value` and `set_value` methods.\n",
    "\n",
    "The other new thing in this code is the `updates` parameter of function. \n",
    "\n",
    "    updates=[(state, state+inc)\n",
    "\n",
    "`updates` must be supplied with a list of pairs of the form `(shared-variable, new expression)`. It can also be a dictionary whose keys are shared-variables and values are the new expressions. Here, the accumulator replaces the `state`‘s value with the sum of `state` and the increment amount `inc`."
   ]
  },
  {
   "cell_type": "code",
   "execution_count": 23,
   "metadata": {
    "collapsed": false
   },
   "outputs": [
    {
     "name": "stdout",
     "output_type": "stream",
     "text": [
      "0\n"
     ]
    }
   ],
   "source": [
    "print(state.get_value())"
   ]
  },
  {
   "cell_type": "code",
   "execution_count": 24,
   "metadata": {
    "collapsed": false
   },
   "outputs": [
    {
     "name": "stdout",
     "output_type": "stream",
     "text": [
      "0\n"
     ]
    }
   ],
   "source": [
    "print(accumulator(1))"
   ]
  },
  {
   "cell_type": "code",
   "execution_count": 25,
   "metadata": {
    "collapsed": false
   },
   "outputs": [
    {
     "name": "stdout",
     "output_type": "stream",
     "text": [
      "1\n"
     ]
    }
   ],
   "source": [
    "print(state.get_value())"
   ]
  },
  {
   "cell_type": "code",
   "execution_count": 26,
   "metadata": {
    "collapsed": false
   },
   "outputs": [
    {
     "name": "stdout",
     "output_type": "stream",
     "text": [
      "1\n"
     ]
    }
   ],
   "source": [
    "print(accumulator(300))"
   ]
  },
  {
   "cell_type": "code",
   "execution_count": 27,
   "metadata": {
    "collapsed": false
   },
   "outputs": [
    {
     "name": "stdout",
     "output_type": "stream",
     "text": [
      "301\n"
     ]
    }
   ],
   "source": [
    "print(state.get_value())"
   ]
  },
  {
   "cell_type": "markdown",
   "metadata": {},
   "source": [
    "It is possible to reset the state. Just use the `set_value` method:"
   ]
  },
  {
   "cell_type": "code",
   "execution_count": 28,
   "metadata": {
    "collapsed": true
   },
   "outputs": [],
   "source": [
    "state.set_value(-1)"
   ]
  },
  {
   "cell_type": "code",
   "execution_count": 29,
   "metadata": {
    "collapsed": false
   },
   "outputs": [
    {
     "name": "stdout",
     "output_type": "stream",
     "text": [
      "-1\n"
     ]
    }
   ],
   "source": [
    "print(accumulator(3))"
   ]
  },
  {
   "cell_type": "code",
   "execution_count": 30,
   "metadata": {
    "collapsed": false
   },
   "outputs": [
    {
     "name": "stdout",
     "output_type": "stream",
     "text": [
      "2\n"
     ]
    }
   ],
   "source": [
    "print(state.get_value())"
   ]
  },
  {
   "cell_type": "markdown",
   "metadata": {},
   "source": [
    "As we mentioned above, you can define more than one function to use the same shared variable. These functions can all update the value."
   ]
  },
  {
   "cell_type": "code",
   "execution_count": 31,
   "metadata": {
    "collapsed": true
   },
   "outputs": [],
   "source": [
    "decrementor = function([inc], state, updates=[(state, state-inc)])"
   ]
  },
  {
   "cell_type": "code",
   "execution_count": 32,
   "metadata": {
    "collapsed": false
   },
   "outputs": [
    {
     "name": "stdout",
     "output_type": "stream",
     "text": [
      "2\n"
     ]
    }
   ],
   "source": [
    "print(decrementor(2))"
   ]
  },
  {
   "cell_type": "code",
   "execution_count": 33,
   "metadata": {
    "collapsed": false
   },
   "outputs": [
    {
     "name": "stdout",
     "output_type": "stream",
     "text": [
      "0\n"
     ]
    }
   ],
   "source": [
    "print(state.get_value())"
   ]
  },
  {
   "cell_type": "code",
   "execution_count": 35,
   "metadata": {
    "collapsed": false
   },
   "outputs": [
    {
     "data": {
      "text/plain": [
       "array(0)"
      ]
     },
     "execution_count": 35,
     "metadata": {},
     "output_type": "execute_result"
    }
   ],
   "source": [
    "accumulator(2)"
   ]
  },
  {
   "cell_type": "markdown",
   "metadata": {},
   "source": [
    "You might be wondering why the updates mechanism exists. You can always achieve a similar result by returning the new expressions, and working with them in NumPy as usual. While the updates mechanism can be a syntactic convenience, it is mainly there for *efficiency*. Updates to shared variables can sometimes be done more quickly using in-place algorithms (e.g. low-rank matrix updates). Also, Theano has more control over where and how shared variables are allocated, which is one of the important elements of getting good performance on the GPU."
   ]
  },
  {
   "cell_type": "markdown",
   "metadata": {},
   "source": [
    "### Exercise: Create and manipulate Theano objects\n",
    "\n",
    "To give you some practice with basic Theano data structures and functions, try making the operations below work by implementing the functions that are needed."
   ]
  },
  {
   "cell_type": "code",
   "execution_count": 42,
   "metadata": {
    "collapsed": false
   },
   "outputs": [
    {
     "name": "stdout",
     "output_type": "stream",
     "text": [
      "SUCCESS!\n"
     ]
    }
   ],
   "source": [
    "def make_vector():\n",
    "    \"\"\"\n",
    "    Create and return a new Theano vector.\n",
    "    \"\"\"\n",
    "\n",
    "    return tt.dvector()\n",
    "\n",
    "def make_matrix():\n",
    "    \"\"\"\n",
    "    Create and return a new Theano matrix.\n",
    "    \"\"\"\n",
    "\n",
    "    return tt.dmatrix()\n",
    "\n",
    "def elemwise_mul(a, b):\n",
    "    \"\"\"\n",
    "    a: A theano matrix\n",
    "    b: A theano matrix\n",
    "    \n",
    "    Calcuate the elementwise product of a and b and return it\n",
    "    \"\"\"\n",
    "\n",
    "    return a*b\n",
    "\n",
    "def matrix_vector_mul(a, b):\n",
    "    \"\"\"\n",
    "    a: A theano matrix\n",
    "    b: A theano vector\n",
    "    \n",
    "    Calculate the matrix-vector product of a and b and return it\n",
    "    \"\"\"\n",
    "\n",
    "    return tt.dot(a,b)\n",
    "\n",
    "a = make_vector()\n",
    "b = make_vector()\n",
    "c = elemwise_mul(a, b)\n",
    "d = make_matrix()\n",
    "e = matrix_vector_mul(d, c)\n",
    "\n",
    "f = function([a, b, d], e)\n",
    "\n",
    "rng = np.random.RandomState([1, 2, 3])\n",
    "a_value = rng.randn(5).astype(a.dtype)\n",
    "b_value = rng.rand(5).astype(b.dtype)\n",
    "c_value = a_value * b_value\n",
    "d_value = rng.randn(5, 5).astype(d.dtype)\n",
    "expected = np.dot(d_value, c_value)\n",
    "\n",
    "actual = f(a_value, b_value, d_value)\n",
    "\n",
    "assert np.allclose(actual, expected)\n",
    "print(\"SUCCESS!\")"
   ]
  },
  {
   "cell_type": "markdown",
   "metadata": {},
   "source": [
    "### Example: Logistic regression\n",
    "\n",
    "Here is a non-trivial example, which uses Theano to estimate the parameters of a logistic regression model using gradient information. We will use the bioassay example as a test case:"
   ]
  },
  {
   "cell_type": "markdown",
   "metadata": {},
   "source": [
    " 4 rats diff dose"
   ]
  },
  {
   "cell_type": "code",
   "execution_count": 37,
   "metadata": {
    "collapsed": true
   },
   "outputs": [],
   "source": [
    "rng = np.random\n",
    "\n",
    "dose = np.array([-0.86, -0.3 , -0.05,  0.73])\n",
    "deaths = np.array([0, 1, 3, 5])\n",
    "training_steps = 1000"
   ]
  },
  {
   "cell_type": "markdown",
   "metadata": {},
   "source": [
    "We first declare Theano symbolic variables:"
   ]
  },
  {
   "cell_type": "code",
   "execution_count": 47,
   "metadata": {
    "collapsed": false
   },
   "outputs": [
    {
     "name": "stdout",
     "output_type": "stream",
     "text": [
      "Initial model: 1.0 0.0\n"
     ]
    }
   ],
   "source": [
    "x = tt.vector(\"x\") #predictor,dose\n",
    "y = tt.vector(\"y\") #death \n",
    "w = theano.shared(1., name=\"w\") #slope, global, get updated \n",
    "b = theano.shared(0., name=\"b\") #intersept\n",
    "\n",
    "print(\"Initial model:\", w.get_value(), b.get_value())"
   ]
  },
  {
   "cell_type": "markdown",
   "metadata": {},
   "source": [
    "... then construct the expression graph:"
   ]
  },
  {
   "cell_type": "code",
   "execution_count": 48,
   "metadata": {
    "collapsed": true
   },
   "outputs": [],
   "source": [
    "# Probability that target = 1\n",
    "p_1 = 1 / (1 + tt.exp(-(x*w + b))) #inverse logit\n",
    "\n",
    "# The prediction threshold, predict event if p>0.5\n",
    "prediction = p_1 > 0.5         \n",
    "\n",
    "# Cross-entropy loss function (log likelihood)\n",
    "xent = -y * tt.log(p_1) - (5-y) * tt.log(1-p_1) \n",
    "\n",
    "# The cost to minimize\n",
    "cost = xent.mean()      \n",
    "\n",
    "# Compute the gradient of the cost, both variables\n",
    "gw, gb = tt.grad(cost, [w, b])                  "
   ]
  },
  {
   "cell_type": "markdown",
   "metadata": {},
   "source": [
    "Compile Theano functions:"
   ]
  },
  {
   "cell_type": "code",
   "execution_count": 52,
   "metadata": {
    "collapsed": false
   },
   "outputs": [
    {
     "ename": "TypeError",
     "evalue": "('update target must be a SharedVariable', array(7.795152457520207))",
     "output_type": "error",
     "traceback": [
      "\u001b[0;31m---------------------------------------------------------------------------\u001b[0m",
      "\u001b[0;31mTypeError\u001b[0m                                 Traceback (most recent call last)",
      "\u001b[0;32m<ipython-input-52-bf2c04a595c2>\u001b[0m in \u001b[0;36m<module>\u001b[0;34m()\u001b[0m\n\u001b[1;32m      3\u001b[0m           \u001b[0minputs\u001b[0m\u001b[0;34m=\u001b[0m\u001b[0;34m[\u001b[0m\u001b[0mx\u001b[0m\u001b[0;34m,\u001b[0m \u001b[0my\u001b[0m\u001b[0;34m]\u001b[0m\u001b[0;34m,\u001b[0m\u001b[0;34m\u001b[0m\u001b[0m\n\u001b[1;32m      4\u001b[0m           \u001b[0moutputs\u001b[0m\u001b[0;34m=\u001b[0m\u001b[0;34m[\u001b[0m\u001b[0mprediction\u001b[0m\u001b[0;34m,\u001b[0m \u001b[0mxent\u001b[0m\u001b[0;34m]\u001b[0m\u001b[0;34m,\u001b[0m\u001b[0;34m\u001b[0m\u001b[0m\n\u001b[0;32m----> 5\u001b[0;31m           updates=((w, w - step * gw), (b, b - step * gb), (step, step * 0.99)))\n\u001b[0m\u001b[1;32m      6\u001b[0m \u001b[0mpredict\u001b[0m \u001b[0;34m=\u001b[0m \u001b[0mtheano\u001b[0m\u001b[0;34m.\u001b[0m\u001b[0mfunction\u001b[0m\u001b[0;34m(\u001b[0m\u001b[0minputs\u001b[0m\u001b[0;34m=\u001b[0m\u001b[0;34m[\u001b[0m\u001b[0mx\u001b[0m\u001b[0;34m]\u001b[0m\u001b[0;34m,\u001b[0m \u001b[0moutputs\u001b[0m\u001b[0;34m=\u001b[0m\u001b[0mprediction\u001b[0m\u001b[0;34m)\u001b[0m \u001b[0;31m#compile into function\u001b[0m\u001b[0;34m\u001b[0m\u001b[0m\n\u001b[1;32m      7\u001b[0m \u001b[0;34m\u001b[0m\u001b[0m\n",
      "\u001b[0;32m~/anaconda2/envs/bios8366/lib/python3.6/site-packages/theano/compile/function.py\u001b[0m in \u001b[0;36mfunction\u001b[0;34m(inputs, outputs, mode, updates, givens, no_default_updates, accept_inplace, name, rebuild_strict, allow_input_downcast, profile, on_unused_input)\u001b[0m\n\u001b[1;32m    324\u001b[0m                    \u001b[0mon_unused_input\u001b[0m\u001b[0;34m=\u001b[0m\u001b[0mon_unused_input\u001b[0m\u001b[0;34m,\u001b[0m\u001b[0;34m\u001b[0m\u001b[0m\n\u001b[1;32m    325\u001b[0m                    \u001b[0mprofile\u001b[0m\u001b[0;34m=\u001b[0m\u001b[0mprofile\u001b[0m\u001b[0;34m,\u001b[0m\u001b[0;34m\u001b[0m\u001b[0m\n\u001b[0;32m--> 326\u001b[0;31m                    output_keys=output_keys)\n\u001b[0m\u001b[1;32m    327\u001b[0m     \u001b[0;31m# We need to add the flag check_aliased inputs if we have any mutable or\u001b[0m\u001b[0;34m\u001b[0m\u001b[0;34m\u001b[0m\u001b[0m\n\u001b[1;32m    328\u001b[0m     \u001b[0;31m# borrowed used defined inputs\u001b[0m\u001b[0;34m\u001b[0m\u001b[0;34m\u001b[0m\u001b[0m\n",
      "\u001b[0;32m~/anaconda2/envs/bios8366/lib/python3.6/site-packages/theano/compile/pfunc.py\u001b[0m in \u001b[0;36mpfunc\u001b[0;34m(params, outputs, mode, updates, givens, no_default_updates, accept_inplace, name, rebuild_strict, allow_input_downcast, profile, on_unused_input, output_keys)\u001b[0m\n\u001b[1;32m    447\u001b[0m                                          \u001b[0mrebuild_strict\u001b[0m\u001b[0;34m=\u001b[0m\u001b[0mrebuild_strict\u001b[0m\u001b[0;34m,\u001b[0m\u001b[0;34m\u001b[0m\u001b[0m\n\u001b[1;32m    448\u001b[0m                                          \u001b[0mcopy_inputs_over\u001b[0m\u001b[0;34m=\u001b[0m\u001b[0;32mTrue\u001b[0m\u001b[0;34m,\u001b[0m\u001b[0;34m\u001b[0m\u001b[0m\n\u001b[0;32m--> 449\u001b[0;31m                                          no_default_updates=no_default_updates)\n\u001b[0m\u001b[1;32m    450\u001b[0m     \u001b[0;31m# extracting the arguments\u001b[0m\u001b[0;34m\u001b[0m\u001b[0;34m\u001b[0m\u001b[0m\n\u001b[1;32m    451\u001b[0m     \u001b[0minput_variables\u001b[0m\u001b[0;34m,\u001b[0m \u001b[0mcloned_extended_outputs\u001b[0m\u001b[0;34m,\u001b[0m \u001b[0mother_stuff\u001b[0m \u001b[0;34m=\u001b[0m \u001b[0moutput_vars\u001b[0m\u001b[0;34m\u001b[0m\u001b[0m\n",
      "\u001b[0;32m~/anaconda2/envs/bios8366/lib/python3.6/site-packages/theano/compile/pfunc.py\u001b[0m in \u001b[0;36mrebuild_collect_shared\u001b[0;34m(outputs, inputs, replace, updates, rebuild_strict, copy_inputs_over, no_default_updates)\u001b[0m\n\u001b[1;32m    182\u001b[0m         \u001b[0;32mif\u001b[0m \u001b[0;32mnot\u001b[0m \u001b[0misinstance\u001b[0m\u001b[0;34m(\u001b[0m\u001b[0mstore_into\u001b[0m\u001b[0;34m,\u001b[0m \u001b[0mSharedVariable\u001b[0m\u001b[0;34m)\u001b[0m\u001b[0;34m:\u001b[0m\u001b[0;34m\u001b[0m\u001b[0m\n\u001b[1;32m    183\u001b[0m             raise TypeError('update target must be a SharedVariable',\n\u001b[0;32m--> 184\u001b[0;31m                             store_into)\n\u001b[0m\u001b[1;32m    185\u001b[0m         \u001b[0;32mif\u001b[0m \u001b[0mstore_into\u001b[0m \u001b[0;32min\u001b[0m \u001b[0mupdate_d\u001b[0m\u001b[0;34m:\u001b[0m\u001b[0;34m\u001b[0m\u001b[0m\n\u001b[1;32m    186\u001b[0m             raise ValueError('this shared variable already has an update '\n",
      "\u001b[0;31mTypeError\u001b[0m: ('update target must be a SharedVariable', array(7.795152457520207))"
     ]
    }
   ],
   "source": [
    "step = theano.shared(10., name='step') #step will be learning rate\n",
    "train = theano.function(\n",
    "          inputs=[x, y],\n",
    "          outputs=[prediction, xent],\n",
    "          updates=((w, w - step * gw), (b, b - step * gb), (step, step * 0.99)))\n",
    "predict = theano.function(inputs=[x], outputs=prediction) #compile into function\n",
    "\n",
    "#update w with w-step*gw, update b with b-step*gb"
   ]
  },
  {
   "cell_type": "markdown",
   "metadata": {},
   "source": [
    "Train model:"
   ]
  },
  {
   "cell_type": "code",
   "execution_count": 51,
   "metadata": {
    "collapsed": false
   },
   "outputs": [
    {
     "ename": "AttributeError",
     "evalue": "'numpy.ndarray' object has no attribute 'get_value'",
     "output_type": "error",
     "traceback": [
      "\u001b[0;31m---------------------------------------------------------------------------\u001b[0m",
      "\u001b[0;31mAttributeError\u001b[0m                            Traceback (most recent call last)",
      "\u001b[0;32m<ipython-input-51-166fb8a59fc5>\u001b[0m in \u001b[0;36m<module>\u001b[0;34m()\u001b[0m\n\u001b[1;32m      2\u001b[0m     \u001b[0mpred\u001b[0m\u001b[0;34m,\u001b[0m \u001b[0merr\u001b[0m \u001b[0;34m=\u001b[0m \u001b[0mtrain\u001b[0m\u001b[0;34m(\u001b[0m\u001b[0mdose\u001b[0m\u001b[0;34m,\u001b[0m \u001b[0mdeaths\u001b[0m\u001b[0;34m)\u001b[0m\u001b[0;34m\u001b[0m\u001b[0m\n\u001b[1;32m      3\u001b[0m \u001b[0;34m\u001b[0m\u001b[0m\n\u001b[0;32m----> 4\u001b[0;31m \u001b[0mw\u001b[0m\u001b[0;34m,\u001b[0m \u001b[0mb\u001b[0m \u001b[0;34m=\u001b[0m \u001b[0mw\u001b[0m\u001b[0;34m.\u001b[0m\u001b[0mget_value\u001b[0m\u001b[0;34m(\u001b[0m\u001b[0;34m)\u001b[0m\u001b[0;34m,\u001b[0m \u001b[0mb\u001b[0m\u001b[0;34m.\u001b[0m\u001b[0mget_value\u001b[0m\u001b[0;34m(\u001b[0m\u001b[0;34m)\u001b[0m\u001b[0;34m\u001b[0m\u001b[0m\n\u001b[0m\u001b[1;32m      5\u001b[0m \u001b[0;34m\u001b[0m\u001b[0m\n\u001b[1;32m      6\u001b[0m \u001b[0mprint\u001b[0m\u001b[0;34m(\u001b[0m\u001b[0;34m\"Final model:\"\u001b[0m\u001b[0;34m,\u001b[0m \u001b[0mw\u001b[0m\u001b[0;34m,\u001b[0m \u001b[0mb\u001b[0m\u001b[0;34m)\u001b[0m\u001b[0;34m\u001b[0m\u001b[0m\n",
      "\u001b[0;31mAttributeError\u001b[0m: 'numpy.ndarray' object has no attribute 'get_value'"
     ]
    }
   ],
   "source": [
    "for i in range(training_steps):\n",
    "    pred, err = train(dose, deaths)\n",
    "    \n",
    "w, b = w.get_value(), b.get_value()\n",
    "\n",
    "print(\"Final model:\", w, b)"
   ]
  },
  {
   "cell_type": "code",
   "execution_count": null,
   "metadata": {
    "collapsed": true
   },
   "outputs": [],
   "source": [
    "%matplotlib inline\n",
    "import matplotlib.pyplot as plt\n",
    "\n",
    "logit = lambda x: 1. / (1 + np.exp(-x))\n",
    "xvals = np.linspace(-1, 1)\n",
    "plt.plot(xvals, logit(w*xvals + b))\n",
    "plt.plot(dose, deaths/5., 'ro')"
   ]
  },
  {
   "cell_type": "markdown",
   "metadata": {},
   "source": [
    "## Exercises: Gradients and functions\n",
    "\n",
    "Let's try using the Theano automatic gradient system to compute derivatives."
   ]
  },
  {
   "cell_type": "code",
   "execution_count": 56,
   "metadata": {
    "collapsed": false
   },
   "outputs": [
    {
     "name": "stdout",
     "output_type": "stream",
     "text": [
      "SUCCESS!\n"
     ]
    }
   ],
   "source": [
    "def grad_sum(x, y, z):\n",
    "    \"\"\"\n",
    "    x: A theano variable\n",
    "    y: A theano variable\n",
    "    z: A theano expression involving x and y\n",
    "    Returns dz / dx + dz / dy\n",
    "    \"\"\"\n",
    "\n",
    "    return tt.grad(z,x)+tt.grad(z,y)\n",
    "\n",
    "\n",
    "x = tt.scalar()\n",
    "y = tt.scalar()\n",
    "z = x + y\n",
    "s = grad_sum(x, y, z)\n",
    "assert s.eval({x: 0, y: 0}) == 2\n",
    "print(\"SUCCESS!\")"
   ]
  },
  {
   "cell_type": "markdown",
   "metadata": {},
   "source": [
    "Now try compiling and running a simple function:"
   ]
  },
  {
   "cell_type": "code",
   "execution_count": 57,
   "metadata": {
    "collapsed": false
   },
   "outputs": [
    {
     "name": "stdout",
     "output_type": "stream",
     "text": [
      "SUCCESS!\n"
     ]
    }
   ],
   "source": [
    "def evaluate(x, y, expr, x_value, y_value):\n",
    "    \"\"\"\n",
    "    x: A theano variable\n",
    "    y: A theano variable\n",
    "    expr: A theano expression involving x and y\n",
    "    x_value: A numpy value\n",
    "    y_value: A numpy value\n",
    "    \n",
    "    Returns the value of expr when x_value is substituted for x\n",
    "    and y_value is substituted for y\n",
    "    \"\"\"\n",
    "\n",
    "    return theano.function([x,y],expr)(x_value,y_value) #write \"pass\" to hold space\n",
    "\n",
    "\n",
    "x = tt.iscalar()\n",
    "y = tt.iscalar()\n",
    "z = x + y\n",
    "assert evaluate(x, y, z, 1, 2) == 3\n",
    "print(\"SUCCESS!\")"
   ]
  },
  {
   "cell_type": "markdown",
   "metadata": {},
   "source": [
    "### Random Numbers\n",
    "\n",
    "Because in Theano you first express everything symbolically and afterwards compile this expression to get functions, using pseudo-random numbers is not as straightforward as it is in NumPy.\n",
    "\n",
    "The way to think about putting randomness into Theano’s computations is to put random variables in your graph. Theano will allocate a NumPy `RandomStream` object (a random number generator) for each such variable, and draw from it as necessary. We will call this sort of sequence of random numbers a random stream. Random streams are at their core shared variables, so the observations on shared variables hold here as well. "
   ]
  },
  {
   "cell_type": "code",
   "execution_count": 58,
   "metadata": {
    "collapsed": true
   },
   "outputs": [],
   "source": [
    "from theano.tensor.shared_randomstreams import RandomStreams\n",
    "\n",
    "srng = RandomStreams(seed=234)\n",
    "rv_u = srng.uniform((2,2))\n",
    "f = function([], rv_u)"
   ]
  },
  {
   "cell_type": "code",
   "execution_count": 59,
   "metadata": {
    "collapsed": false
   },
   "outputs": [
    {
     "data": {
      "text/plain": [
       "array([[ 0.12672381,  0.97091597],\n",
       "       [ 0.13989098,  0.88754825]])"
      ]
     },
     "execution_count": 59,
     "metadata": {},
     "output_type": "execute_result"
    }
   ],
   "source": [
    "f()"
   ]
  },
  {
   "cell_type": "markdown",
   "metadata": {},
   "source": [
    "## Looping in Theano\n",
    "\n",
    "The `scan` function provides the ability to write loops in Theano. We are not able to use Python `for` loops with Theano because Theano needs to be able to build and optimize the expression graph before compiling it into faster code, and be able to use symbolic differentiation for calculating gradients.\n",
    "\n",
    "### Simple loop with accumulation\n",
    "\n",
    "Assume that, given $k$ you want to get $A^k$ using a loop. More precisely, if $A$ is a tensor you want to compute $A^k$ elementwise. The python code might look like:\n",
    "\n",
    "```python\n",
    "result = 1\n",
    "for i in range(k):\n",
    "  result = result * A\n",
    "```\n",
    "\n",
    "There are three things here that we need to handle: the initial value assigned to result, the accumulation of results in result, and the unchanging variable A. Unchanging variables are passed to scan as non_sequences. Initialization occurs in outputs_info, and the accumulation happens automatically.\n",
    "\n",
    "The equivalent Theano code would be:"
   ]
  },
  {
   "cell_type": "code",
   "execution_count": 60,
   "metadata": {
    "collapsed": false
   },
   "outputs": [
    {
     "name": "stdout",
     "output_type": "stream",
     "text": [
      "[  0.   1.   4.   9.  16.  25.  36.  49.  64.  81.]\n",
      "[  0.00000000e+00   1.00000000e+00   1.60000000e+01   8.10000000e+01\n",
      "   2.56000000e+02   6.25000000e+02   1.29600000e+03   2.40100000e+03\n",
      "   4.09600000e+03   6.56100000e+03]\n"
     ]
    }
   ],
   "source": [
    "k = tt.iscalar(\"k\")\n",
    "A = tt.vector(\"A\")\n",
    "\n",
    "# Symbolic description of the result\n",
    "result, updates = theano.scan(fn=lambda prior_result, A: prior_result * A,\n",
    "                              outputs_info=tt.ones_like(A),\n",
    "                              non_sequences=A,\n",
    "                              n_steps=k)\n",
    "#ones_like: create all 1's\n",
    "# We only care about A**k, but scan has provided us with A**1 through A**k.\n",
    "# Discard the values that we don't care about. Scan is smart enough to\n",
    "# notice this and not waste memory saving them.\n",
    "final_result = result[-1]\n",
    "\n",
    "# compiled function that returns A**k\n",
    "power = theano.function(inputs=[A,k], outputs=final_result, updates=updates)\n",
    "\n",
    "print(power(range(10),2))\n",
    "print(power(range(10),4))"
   ]
  },
  {
   "cell_type": "markdown",
   "metadata": {},
   "source": [
    "Let us go through the example line by line. What we did is first to **construct a function** (using a lambda expression) that given `prior_result` and `A` returns `prior_result * A`. The order of parameters is fixed by `scan`: the output of the prior call to `fn` is the first parameter, followed by all non-sequences.\n",
    "\n",
    "Next we **initialize the output** as a tensor with same shape and `dtype` as `A`, filled with ones. We give `A` to `scan` as a non sequence parameter and specify the number of steps `k` to iterate over our `lambda` expression.\n",
    "\n",
    "Scan **returns a tuple** containing our result (`result`) and a dictionary of updates (empty in this case). Note that the result is not a matrix, but a 3D tensor containing the value of $A^k$ for each step. We want the last value (after k steps) so we compile a function to return just that. Note that there is an optimization, that at compile time will detect that you are using just the last value of the result and ensure that scan does not store all the intermediate values that are used. So do not worry if `A` and `k` are large."
   ]
  },
  {
   "cell_type": "markdown",
   "metadata": {},
   "source": [
    "In addition to looping a fixed number of times, scan can iterate over the leading dimension of tensors (similar to Python’s `for x in a_list`).\n",
    "\n",
    "The tensor(s) to be looped over should be provided to `scan` using the `sequences` keyword argument.\n",
    "\n",
    "### Example: polynomial calculation\n",
    "\n",
    "Here’s an example that builds a symbolic calculation of a polynomial from a list of its coefficients:"
   ]
  },
  {
   "cell_type": "code",
   "execution_count": 61,
   "metadata": {
    "collapsed": false
   },
   "outputs": [
    {
     "name": "stdout",
     "output_type": "stream",
     "text": [
      "19.0\n"
     ]
    }
   ],
   "source": [
    "coefficients = theano.tensor.vector(\"coefficients\")\n",
    "x = tt.scalar(\"x\")\n",
    "\n",
    "# Generate the components of the polynomial\n",
    "components, updates = theano.scan(fn=lambda coefficient, power, val: coefficient * (val ** power),\n",
    "                                  outputs_info=None,\n",
    "                                  sequences=[coefficients, theano.tensor.arange(1000)],\n",
    "                                  non_sequences=x)\n",
    "# Sum them up\n",
    "polynomial = components.sum()\n",
    "\n",
    "# Compile a function\n",
    "calculate_polynomial = theano.function(inputs=[coefficients, x], outputs=polynomial)\n",
    "\n",
    "# Test\n",
    "test_coefficients = np.asarray([1, 0, 2], dtype=np.float32)\n",
    "test_value = 3\n",
    "print(calculate_polynomial(test_coefficients, test_value))"
   ]
  },
  {
   "cell_type": "markdown",
   "metadata": {},
   "source": [
    "usually vectorization \n",
    "but sometimes use loop"
   ]
  },
  {
   "cell_type": "markdown",
   "metadata": {},
   "source": [
    "## Hamiltonian Monte Carlo\n",
    "\n",
    "While flexible and easy to implement, Metropolis-Hastings sampling is a random walk\n",
    "sampler that might not be statistically efficient for many models. Specifically, for models of high dimension, random walk jumping algorithms do not perform well. It is not enough to simply guess at the next sample location; we need to make each iteration a useful draw from the posterior whenever we can, in order to have an efficient sampler for bigger models.\n",
    "\n",
    "Since Bayesian inference is all about calculating expectations over posteriors, what we seek is an algorithm that explores the area of the parameter space that contains most of the non-zero probability. This region is called the **typical set**."
   ]
  },
  {
   "cell_type": "markdown",
   "metadata": {},
   "source": [
    "\n",
    "\n",
    "### What's a Typical Set?\n",
    "\n",
    "The typical set is where most of the probability density (mass) lies in a particular volume associated with the distribution. As the dimension of a model increases, this set moves progressively further from the mode, and becomes more singular, as the result of concentration of measure.\n",
    "\n",
    "The typical set is a product of both the density, which is highest at the mode, and volume (that we integrate over), which increasingly becomes larger away from the mode as dimensionality increases. In fact, at high dimensions, the region around the mode contributes almost nothing to the expectation. We need an algorithm that will find this narrow region and explore it efficiently."
   ]
  },
  {
   "cell_type": "markdown",
   "metadata": {},
   "source": [
    "![from Hoffman and Gelman 2014](http://d.pr/i/RAA+)\n",
    "\n",
    "In this context, and when sampling from continuous variables, Hamiltonian (or Hybrid) Monte\n",
    "Carlo (HMC) can prove to be a powerful tool. It avoids\n",
    "random walk behavior by simulating a physical system governed by\n",
    "Hamiltonian dynamics, potentially avoiding tricky conditional\n",
    "distributions in the process.\n",
    "\n",
    "In HMC, model samples are obtained by simulating a physical system,\n",
    "where particles move about a high-dimensional landscape, subject to\n",
    "potential and kinetic energies. Adapting the notation from [Neal (1993)](http://www.cs.toronto.edu/~radford/review.abstract.html),\n",
    "particles are characterized by a position vector or state\n",
    "$s \\in \\mathcal{R}^D$ and velocity vector $\\phi \\in \\mathcal{R}^D$. The\n",
    "combined state of a particle is denoted as $\\chi=(s,\\phi)$. \n",
    "\n",
    "The joint **canonical distribution** of the position and velocity can be expressed as a product of the marginal position (which is of interest) and the conditional distribution of the velocity:\n",
    "\n",
    "$$\\pi(s, \\phi) = \\pi(\\phi | s) \\pi(s)$$\n",
    "\n",
    "This joint probability can also be written in terms of an invariant **Hamiltonian function**:\n",
    "\n",
    "$$\\pi(s, \\phi) \\propto \\exp(-H(s,\\phi))$$\n",
    "\n",
    "The Hamiltonian is then defined as the sum of potential energy $E(s)$ and kinetic energy\n",
    "$K(\\phi)$, as follows:\n",
    "\n",
    "$$\\mathcal{H}(s,\\phi) = E(s) + K(\\phi)\n",
    "= E(s) + \\frac{1}{2} \\sum_i \\phi_i^2$$\n",
    "\n",
    "Instead of sampling $p(s)$ directly, HMC operates by sampling from the canonical distribution.\n",
    "\n",
    "$$p(s,\\phi) = \\frac{1}{Z} \\exp(-\\mathcal{H}(s,\\phi))=p(s)p(\\phi)$$.\n",
    "\n",
    "If we choose a momentum that is independent of position, marginalizing over $\\phi$ is\n",
    "trivial and recovers the original distribution of interest.\n",
    "\n",
    "Note that the Hamiltonian $\\mathcal{H}$ is independent of the parameterization of the model, and therefore, captures the geometry of the phase space distribution, including typical set. "
   ]
  },
  {
   "cell_type": "markdown",
   "metadata": {},
   "source": [
    "nuts: better with multiple dimensions, correlated variables\n",
    "\n",
    "integrate posterior distribution\n",
    "\n",
    "want most nonzero\n",
    "\n",
    "f(theta) decrease\n",
    "d(theta) increase\n",
    "f(theta)d(theta) large in middle: typical set\n"
   ]
  },
  {
   "cell_type": "markdown",
   "metadata": {},
   "source": [
    "**Hamiltonian Dynamics**\n",
    "\n",
    "State $s$ and velocity $\\phi$ are modified such that\n",
    "$\\mathcal{H}(s,\\phi)$ remains constant throughout the simulation. The\n",
    "differential equations are given by:\n",
    "\n",
    "$$\\begin{aligned}\\frac{ds_i}{dt} &= \\frac{\\partial \\mathcal{H}}{\\partial \\phi_i} = \\phi_i \\\\\n",
    "\\frac{d\\phi_i}{dt} &= - \\frac{\\partial \\mathcal{H}}{\\partial s_i}\n",
    "= - \\frac{\\partial E}{\\partial s_i}\n",
    "\\end{aligned}$$\n",
    "\n",
    "As shown in [Neal (1993)](http://www.cs.toronto.edu/~radford/review.abstract.html), \n",
    "the above transformation preserves volume and is\n",
    "reversible. The above dynamics can thus be used as transition operators\n",
    "of a Markov chain and will leave $p(s,\\phi)$ invariant. That chain by\n",
    "itself is not ergodic however, since simulating the dynamics maintains a\n",
    "fixed Hamiltonian $\\mathcal{H}(s,\\phi)$. HMC thus alternates Hamiltonian\n",
    "dynamic steps, with Gibbs sampling of the velocity. Because $p(s)$ and\n",
    "$p(\\phi)$ are independent, sampling $\\phi_{new} \\sim p(\\phi|s)$ is\n",
    "trivial since $p(\\phi|s)=p(\\phi)$, where $p(\\phi)$ is often taken to be\n",
    "the univariate Gaussian.\n",
    "\n",
    "**The Leap-Frog Algorithm**\n",
    "\n",
    "In practice, we cannot simulate Hamiltonian dynamics exactly because of\n",
    "the problem of time discretization. There are several ways one can do\n",
    "this. To maintain invariance of the Markov chain however, care must be\n",
    "taken to preserve the properties of *volume conservation* and *time\n",
    "reversibility*. The **leap-frog algorithm** maintains these properties\n",
    "and operates in 3 steps:\n",
    "\n",
    "$$\\begin{aligned}\n",
    "\\phi_i(t + \\epsilon/2) &= \\phi_i(t) - \\frac{\\epsilon}{2} \\frac{\\partial{}}{\\partial s_i} E(s(t)) \\\\\n",
    "s_i(t + \\epsilon) &= s_i(t) + \\epsilon \\phi_i(t + \\epsilon/2) \\\\\n",
    "\\phi_i(t + \\epsilon) &= \\phi_i(t + \\epsilon/2) - \\frac{\\epsilon}{2} \\frac{\\partial{}}{\\partial s_i} E(s(t + \\epsilon)) \n",
    "\\end{aligned}$$\n",
    "\n",
    "We thus perform a half-step update of the velocity at time\n",
    "$t+\\epsilon/2$, which is then used to compute $s(t + \\epsilon)$ and\n",
    "$\\phi(t + \\epsilon)$.\n",
    "\n",
    "**Accept / Reject**\n",
    "\n",
    "In practice, using finite stepsizes $\\epsilon$ will not preserve\n",
    "$\\mathcal{H}(s,\\phi)$ exactly and will introduce bias in the simulation.\n",
    "Also, rounding errors due to the use of floating point numbers means\n",
    "that the above transformation will not be perfectly reversible.\n",
    "\n",
    "HMC cancels these effects **exactly** by adding a Metropolis\n",
    "accept/reject stage, after $n$ leapfrog steps. The new state\n",
    "$\\chi' = (s',\\phi')$ is accepted with probability $p_{acc}(\\chi,\\chi')$,\n",
    "defined as:\n",
    "\n",
    "$$p_{acc}(\\chi,\\chi') = min \\left( 1, \\frac{\\exp(-\\mathcal{H}(s',\\phi')}{\\exp(-\\mathcal{H}(s,\\phi)} \\right)$$\n",
    "\n",
    "**HMC Algorithm**\n",
    "\n",
    "We obtain a new HMC sample as follows:\n",
    "\n",
    "1.  sample a new velocity from a univariate Gaussian distribution\n",
    "2.  perform $n$ leapfrog steps to obtain the new state $\\chi'$\n",
    "3.  perform accept/reject move of $\\chi'$"
   ]
  },
  {
   "cell_type": "markdown",
   "metadata": {},
   "source": [
    "Implementing HMC Using Theano\n",
    "-----------------------------\n",
    "\n",
    "In Theano, update dictionaries and shared variables provide a natural\n",
    "way to implement a sampling algorithm. The current state of the sampler\n",
    "can be represented as a Theano shared variable, with HMC updates being\n",
    "implemented by the updates list of a Theano function.\n",
    "\n",
    "We breakdown the HMC algorithm into the following sub-components:\n",
    "\n",
    "-   `simulate_dynamics`: a symbolic Python function which, given an\n",
    "    initial position and velocity, will perform `n_steps` leapfrog\n",
    "    updates and return the symbolic variables for the proposed state\n",
    "    $\\chi'$.\n",
    "-   `hmc_move`: a symbolic Python function which given a starting\n",
    "    position, generates $\\chi$ by randomly sampling a velocity vector.\n",
    "    It then calls `simulate_dynamics` and determines whether the\n",
    "    transition $\\chi\n",
    "    \\rightarrow \\chi'$ is to be accepted.\n",
    "-   `hmc_updates`: a Python function which, given the symbolic\n",
    "    outputs of `hmc_move`, generates the list of updates for a single\n",
    "    iteration of HMC.\n",
    "-   `HMC_sampler`: a Python helper class which wraps everything\n",
    "    together.\n",
    "\n",
    "**simulate\\_dynamics**\n",
    "\n",
    "To perform $n$ leapfrog steps, we first need to define a function over\n",
    "which the algorithm can iterate. Instead of implementing leap frog verbatim, notice that we can obtain\n",
    "$s(t + n \\epsilon)$ and $\\phi(t + n \\epsilon)$ by performing an initial\n",
    "half-step update for $\\phi$, followed by $n$ full-step updates for\n",
    "$s,\\phi$ and one last half-step update for $\\phi$. In loop form, this\n",
    "gives:\n",
    "\n",
    "$$\\begin{aligned}\\phi_i(t + \\epsilon/2) &= \\phi_i(t) -\n",
    "\\frac{\\epsilon}{2} \\frac{\\partial{}}{\\partial s_i} E(s(t)) \\\\\n",
    "s_i(t + \\epsilon) &= s_i(t) + \\epsilon \\phi_i(t + \\epsilon/2) \\\\\n",
    "\\text{For } m \\in [2,n]\\text{, perform full updates: } \\\\\n",
    "\\qquad\n",
    "\\phi_i(t + (m - 1/2)\\epsilon) &= \\phi_i(t + (m-3/2)\\epsilon) -\n",
    "\\epsilon \\frac{\\partial{}}{\\partial s_i} E(s(t + (m-1)\\epsilon)) \\\\\n",
    "\\qquad\n",
    "s_i(t + m\\epsilon) &= s_i(t) + \\epsilon \\phi_i(t + (m-1/2)\\epsilon) \\\\\n",
    "\\phi_i(t + n\\epsilon) &= \\phi_i(t + (n-1/2)\\epsilon) -\n",
    "\\frac{\\epsilon}{2} \\frac{\\partial{}}{\\partial s_i} E(s(t + n\\epsilon)) \n",
    "\\end{aligned}$$\n",
    "\n",
    "The inner-loop defined above is implemented by the following\n",
    "`leapfrog` function, with `pos`, `vel` and `step` replacing\n",
    "$s,\\phi$ and $\\epsilon$ respectively."
   ]
  },
  {
   "cell_type": "markdown",
   "metadata": {},
   "source": [
    "```python\n",
    "def leapfrog(pos, vel, step):\n",
    "\n",
    "    # one full velocity step\n",
    "    dE_dpos = tt.grad(energy_fn(pos).sum(), pos)\n",
    "    new_vel = vel - step * dE_dpos\n",
    "    \n",
    "    # one full position step\n",
    "    new_pos = pos + step * new_vel\n",
    "\n",
    "    return [new_pos, new_vel],{}\n",
    "```"
   ]
  },
  {
   "cell_type": "markdown",
   "metadata": {},
   "source": [
    "The `simulate_dynamics` function performs the full algorithm. We start with the initial half-step update of $\\phi$\n",
    "and full-step of $s$, and then scan over the `leapfrog` method `n_steps-1` times."
   ]
  },
  {
   "cell_type": "code",
   "execution_count": null,
   "metadata": {
    "collapsed": true
   },
   "outputs": [],
   "source": [
    "stochastic initial\n",
    "\n",
    "velocity*position\n",
    "\n",
    "simulate continuous system using discrete (small steps)\n",
    "\n",
    "leap-frog: position step, velocity step, half step better\n"
   ]
  },
  {
   "cell_type": "code",
   "execution_count": 81,
   "metadata": {
    "collapsed": true
   },
   "outputs": [],
   "source": [
    "def simulate_dynamics(initial_pos, initial_vel, stepsize, n_steps, energy_fn):\n",
    "    #energy: hamiltonian\n",
    "\n",
    "    def leapfrog(pos, vel, step):\n",
    "\n",
    "        # Gradient calculation\n",
    "        dE_dpos = tt.grad(energy_fn(pos).sum(), pos)\n",
    "        \n",
    "        new_vel = vel - step * dE_dpos\n",
    "        new_pos = pos + step * new_vel\n",
    "        return [new_pos, new_vel], {}\n",
    "\n",
    "    # An initial half-step in velocity\n",
    "    initial_energy = energy_fn(initial_pos)\n",
    "    dE_dpos = tt.grad(initial_energy.sum(), initial_pos)\n",
    "    vel_half_step = initial_vel - 0.5 * stepsize * dE_dpos\n",
    "\n",
    "    # ... followed by one full position step\n",
    "    pos_full_step = initial_pos + stepsize * vel_half_step\n",
    "\n",
    "    # Perform full velocity-step updates afterwards, using scan\n",
    "    (all_pos, all_vel), scan_updates = theano.scan(leapfrog,\n",
    "            outputs_info=[\n",
    "                dict(initial=pos_full_step),\n",
    "                dict(initial=vel_half_step),\n",
    "                ],\n",
    "            non_sequences=[stepsize],\n",
    "            n_steps=n_steps - 1)\n",
    "    \n",
    "    # Our final position after integrating\n",
    "    final_pos = all_pos[-1]\n",
    "    final_vel = all_vel[-1]\n",
    "    \n",
    "    # One final half-step in velocity to complete the algorithm\n",
    "    energy = energy_fn(final_pos)\n",
    "    final_vel = final_vel - 0.5 * stepsize * tt.grad(energy.sum(), final_pos)\n",
    "\n",
    "    # return new proposal state\n",
    "    return final_pos, final_vel"
   ]
  },
  {
   "cell_type": "markdown",
   "metadata": {},
   "source": [
    "A final half-step is performed to compute $\\phi(t+n\\epsilon)$, and the\n",
    "final proposed state $\\chi'$ is returned.\n",
    "\n",
    "**hmc_move**\n",
    "\n",
    "The `hmc_move` function implements the remaining steps (steps 1 and\n",
    "3) of an HMC move proposal (while wrapping the `simulate_dynamics`\n",
    "function). Given a matrix of initial states\n",
    "$s \\in \\mathcal{R}^{N \\times D}$ (`positions`) and energy function\n",
    "$E(s)$ (`energy_fn`), it defines the symbolic graph for computing\n",
    "`n_steps` of HMC, using a given `stepsize`. The function prototype\n",
    "is as follows:"
   ]
  },
  {
   "cell_type": "code",
   "execution_count": 82,
   "metadata": {
    "collapsed": true
   },
   "outputs": [],
   "source": [
    "def hmc_move(s_rng, positions, energy_fn, stepsize, n_steps):\n",
    "\n",
    "    # sample random velocity using independent normals\n",
    "    initial_vel = s_rng.normal(size=positions.shape)\n",
    "\n",
    "    # perform simulation of particles subject to Hamiltonian dynamics\n",
    "    final_pos, final_vel = simulate_dynamics(\n",
    "            initial_pos=positions,\n",
    "            initial_vel=initial_vel,\n",
    "            stepsize=stepsize,\n",
    "            n_steps=n_steps,\n",
    "            energy_fn=energy_fn)\n",
    "\n",
    "    # accept/reject the proposed move based on the joint distribution\n",
    "    accept = metropolis_hastings_accept(\n",
    "            energy_prev=hamiltonian(positions, initial_vel, energy_fn),\n",
    "            energy_next=hamiltonian(final_pos, final_vel, energy_fn),\n",
    "            s_rng=s_rng)\n",
    "\n",
    "    return accept, final_pos"
   ]
  },
  {
   "cell_type": "markdown",
   "metadata": {},
   "source": [
    "We start by sampling **random velocities**, using the provided shared\n",
    "`RandomStream` object. Velocities are sampled independently for each\n",
    "dimension and for each particle under simulation, yielding a\n",
    "$N \\times D$ matrix.\n",
    "\n",
    "    initial_vel = s_rng.normal(size=positions.shape)\n",
    "    \n",
    "Since we now have an initial position and velocity, we can now call the\n",
    "`simulate_dynamics` to obtain the proposal for the new state $\\chi'$.\n",
    "\n",
    "    final_pos, final_vel = simulate_dynamics(\n",
    "            initial_pos = positions, \n",
    "            initial_vel = initial_vel,\n",
    "            stepsize = stepsize,\n",
    "            n_steps = n_steps,\n",
    "            energy_fn = energy_fn)\n",
    "            \n",
    "We then **accept/reject** the proposed state based on the Metropolis\n",
    "algorithm.\n",
    "\n",
    "    accept = metropolis_hastings_accept(\n",
    "            energy_prev=hamiltonian(positions, initial_vel, energy_fn),\n",
    "            energy_next=hamiltonian(final_pos, final_vel, energy_fn),\n",
    "            s_rng=s_rng)\n",
    "            \n",
    "where `metropolis_hastings_accept` and `hamiltonian` are helper\n",
    "functions, defined as follows."
   ]
  },
  {
   "cell_type": "code",
   "execution_count": 83,
   "metadata": {
    "collapsed": true
   },
   "outputs": [],
   "source": [
    "def metropolis_hastings_accept(energy_prev, energy_next, s_rng):\n",
    "    \n",
    "    ediff = energy_prev - energy_next\n",
    "    return (tt.exp(ediff) - s_rng.uniform(size=energy_prev.shape)) >= 0\n",
    "\n",
    "\n",
    "def kinetic_energy(vel):\n",
    "    \n",
    "    return 0.5 * (vel ** 2).sum(axis=1)\n",
    "\n",
    "\n",
    "def hamiltonian(pos, vel, energy_fn):\n",
    "    \"\"\"\n",
    "    Returns the Hamiltonian (sum of potential and kinetic energy) for the given\n",
    "    velocity and position. Assumes mass is 1.\n",
    "    \"\"\"\n",
    "    return energy_fn(pos) + kinetic_energy(vel)"
   ]
  },
  {
   "cell_type": "markdown",
   "metadata": {},
   "source": [
    "`hmc_move` finally returns the tuple `(accept, final_pos)`.\n",
    "`accept` is a symbolic boolean variable indicating whether or not the\n",
    "new state `final_pos` should be used or not.\n",
    "\n",
    "**hmc_updates**\n",
    "\n",
    "The purpose of `hmc_updates` is to generate the **list of updates** to\n",
    "perform, whenever our HMC sampling function is called. `hmc_updates`\n",
    "thus receives as parameters, a series of shared variables to update\n",
    "(`positions`, `stepsize` and `avg_acceptance_rate`), and the\n",
    "parameters required to compute their new state.\n",
    "\n",
    "    def hmc_updates(positions, stepsize, avg_acceptance_rate, final_pos, \n",
    "            accept, target_acceptance_rate, stepsize_inc, stepsize_dec, \n",
    "            stepsize_min, stepsize_max, avg_acceptance_slowness):\n",
    "    \n",
    "    \n",
    "        accept_matrix = accept.dimshuffle(0, *(('x',) * (final_pos.ndim - 1)))\n",
    "        \n",
    "        new_positions = tt.switch(accept_matrix, final_pos, positions)\n",
    "        \n",
    "Using the above code, the dictionary `{positions: new_positions}` can\n",
    "be used to update the state of the sampler with either (1) the new state\n",
    "`final_pos` if `accept` is True, or (2) the old state if `accept`\n",
    "is False. This conditional assignment is performed by Theano's\n",
    "[switch](http://deeplearning.net/software/theano/library/tensor/basic.html#tensor.switch)\n",
    "function.\n",
    "\n",
    "`switch` expects as its first argument, a boolean mask with the same\n",
    "broadcastable dimensions as the second and third argument. Since\n",
    "`accept` is scalar-valued, we must first use\n",
    "[dimshuffle](http://deeplearning.net/software/theano/library/tensor/basic.html#tensor._tensor_py_operators.dimshuffle)\n",
    "to permute the dimensions so that it is of the appropriate\n",
    "dimensions for broadcasting.\n",
    "\n",
    "`hmc_updates` additionally implements an *adaptive* version of HMC. We start by\n",
    "tracking the average acceptance rate of the HMC move proposals (across\n",
    "many simulations), using an exponential moving average with time\n",
    "constant `1 - avg_acceptance_slowness`.\n",
    "\n",
    "    new_acceptance_rate = tt.add(\n",
    "            avg_acceptance_slowness * avg_acceptance_rate,\n",
    "            (1.0 - avg_acceptance_slowness) * accept.mean())\n",
    "            \n",
    "If the average acceptance rate is larger than the\n",
    "`target_acceptance_rate`, we increase the `stepsize` by a factor\n",
    "of `stepsize_inc` in order to increase the mixing rate of our chain.\n",
    "If the average acceptance rate is too low however, `stepsize` is\n",
    "decreased by a factor of `stepsize_dec`, yielding a more conservative\n",
    "mixing rate.\n",
    "\n",
    "    _new_stepsize = tt.switch(avg_acceptance_rate > target_acceptance_rate,\n",
    "                              stepsize * stepsize_inc, stepsize * stepsize_dec)\n",
    "\n",
    "    new_stepsize = tt.clip(_new_stepsize, stepsize_min, stepsize_max)\n",
    "\n",
    "The\n",
    "[`clip`](http://deeplearning.net/software/theano/library/tensor/basic.html#tensor.clip)\n",
    "function allows us to maintain the `stepsize` in the range\n",
    "[`stepsize_min`, `stepsize_max`].\n",
    "\n",
    "The final updates list is then returned:\n",
    "\n",
    "    return [(positions, new_positions),\n",
    "        (stepsize, new_stepsize),\n",
    "        (avg_acceptance_rate, new_acceptance_rate)]"
   ]
  },
  {
   "cell_type": "code",
   "execution_count": 84,
   "metadata": {
    "collapsed": true
   },
   "outputs": [],
   "source": [
    "def hmc_updates(positions, stepsize, avg_acceptance_rate, final_pos, accept,\n",
    "                 target_acceptance_rate, stepsize_inc, stepsize_dec,\n",
    "                 stepsize_min, stepsize_max, avg_acceptance_slowness):\n",
    "\n",
    "    \"\"\"\n",
    "    POSITION UPDATES\n",
    "    \n",
    "    Uses results of the acceptance test to update position\n",
    "    \"\"\"\n",
    "\n",
    "    accept_matrix = accept.dimshuffle(0, *(('x',) * (final_pos.ndim - 1)))\n",
    "    # if accept is True, update to `final_pos` else stay put\n",
    "    new_positions = tt.switch(accept_matrix, final_pos, positions)\n",
    "\n",
    "    \"\"\"\n",
    "    STEP SIZE UPDATES\n",
    "    \n",
    "    If the acceptance rate is two low, reduce the stepsize; if it is too high, \n",
    "    increase the stepsize\n",
    "    \"\"\"\n",
    "    \n",
    "    #tuning: update step sizes, but not number of steps\n",
    "    #step increment and decrement\n",
    "    _new_stepsize = tt.switch(avg_acceptance_rate > target_acceptance_rate,\n",
    "                              stepsize * stepsize_inc, stepsize * stepsize_dec)\n",
    "    # maintain stepsize in [stepsize_min, stepsize_max]\n",
    "    new_stepsize = tt.clip(_new_stepsize, stepsize_min, stepsize_max)\n",
    "\n",
    "    # Update acceptance rate with exponential moving average\n",
    "    mean_dtype = theano.scalar.upcast(accept.dtype, avg_acceptance_rate.dtype)\n",
    "    new_acceptance_rate = tt.add(\n",
    "            avg_acceptance_slowness * avg_acceptance_rate,\n",
    "            (1.0 - avg_acceptance_slowness) * accept.mean(dtype=mean_dtype))\n",
    "\n",
    "    return [(positions, new_positions),\n",
    "            (stepsize, new_stepsize),\n",
    "            (avg_acceptance_rate, new_acceptance_rate)]"
   ]
  },
  {
   "cell_type": "markdown",
   "metadata": {},
   "source": [
    "**HMC_sampler**\n",
    "\n",
    "We implement the sampler in a Python class, called `HMC_Sampler`. It is a convenience wrapper for performing Hybrid Monte Carlo (HMC). It creates the symbolic graph for performing an HMC simulation (using `hmc_move` and `hmc_updates`). The graph is then compiled into the `simulate` function, a theano function which runs the simulation and updates the required shared\n",
    "variables. Its main attributes are:\n",
    "\n",
    "-   `new_from_shared_positions`: a constructor method which\n",
    "    allocates various shared variables and strings together the calls to\n",
    "    `hmc_move` and `hmc_updates`. It also builds the theano\n",
    "    function `simulate`, whose sole purpose is to execute the updates\n",
    "    generated by `hmc_updates`.\n",
    "-   `draw`: a convenience method which calls the Theano function\n",
    "    `simulate` and returns a copy of the contents of the shared\n",
    "    variable `self.positions`."
   ]
  },
  {
   "cell_type": "code",
   "execution_count": 85,
   "metadata": {
    "collapsed": true
   },
   "outputs": [],
   "source": [
    "sharedX = lambda X, name: \\\n",
    "        shared(np.asarray(X, dtype=theano.config.floatX), name=name)\n",
    "\n",
    "class HMC(object):\n",
    "#initial pos: shared\n",
    "\n",
    "    def __init__(self, shared_positions, energy_fn,\n",
    "            initial_stepsize=0.01, target_acceptance_rate=.9, n_steps=20,\n",
    "            stepsize_dec=0.98,\n",
    "            stepsize_min=0.001,\n",
    "            stepsize_max=0.25,\n",
    "            stepsize_inc=1.02,\n",
    "            avg_acceptance_slowness=0.9,\n",
    "            seed=12345):\n",
    "        \n",
    "        self.positions = shared_positions\n",
    "        \n",
    "        batchsize = shared_positions.shape[0]\n",
    "\n",
    "        # allocate shared variables\n",
    "        self.stepsize = stepsize = sharedX(initial_stepsize, 'hmc_stepsize')\n",
    "        self.avg_acceptance_rate = avg_acceptance_rate = sharedX(target_acceptance_rate,\n",
    "                                      'avg_acceptance_rate')\n",
    " #gaussian for intial       \n",
    "        s_rng = tt.shared_randomstreams.RandomStreams(seed)\n",
    "\n",
    "        # define graph for an `n_steps` HMC simulation\n",
    "        accept, final_pos = hmc_move(\n",
    "                s_rng,\n",
    "                shared_positions,\n",
    "                energy_fn,\n",
    "                stepsize,\n",
    "                n_steps)\n",
    "\n",
    "        # define the dictionary of updates, to apply on every `simulate` call\n",
    "        simulate_updates = hmc_updates(\n",
    "                shared_positions,\n",
    "                stepsize,\n",
    "                avg_acceptance_rate,\n",
    "                final_pos=final_pos,\n",
    "                accept=accept,\n",
    "                stepsize_min=stepsize_min,\n",
    "                stepsize_max=stepsize_max,\n",
    "                stepsize_inc=stepsize_inc,\n",
    "                stepsize_dec=stepsize_dec,\n",
    "                target_acceptance_rate=target_acceptance_rate,\n",
    "                avg_acceptance_slowness=avg_acceptance_slowness)\n",
    "\n",
    "        # compile theano function\n",
    "        self.simulate = function([], [], updates=simulate_updates)\n",
    "\n",
    "\n",
    "    def draw(self, **kwargs):\n",
    "        \"\"\"\n",
    "        Returns a new position obtained after `n_steps` of HMC simulation.\n",
    "        \"\"\"\n",
    "        self.simulate()\n",
    "        return self.positions.get_value(borrow=False)"
   ]
  },
  {
   "cell_type": "markdown",
   "metadata": {},
   "source": [
    "### Testing our Sampler\n",
    "\n",
    "We test our implementation of HMC by sampling from a multi-variate\n",
    "Gaussian distribution. We start by generating a random mean vector\n",
    "`mu` and covariance matrix `cov`, which allows us to define the\n",
    "energy function of the corresponding Gaussian distribution:\n",
    "`gaussian_energy`. We then initialize the state of the sampler by\n",
    "allocating a `position` shared variable. It is passed to the\n",
    "constructor of `HMC_sampler` along with our target energy function.\n",
    "\n",
    "Following a burn-in period, we then generate a large number of samples\n",
    "and compare the empirical mean and covariance matrix to their true\n",
    "values."
   ]
  },
  {
   "cell_type": "code",
   "execution_count": 86,
   "metadata": {
    "collapsed": true
   },
   "outputs": [],
   "source": [
    "# Simulation hyperparameters\n",
    "burnin=2000\n",
    "n_samples=1000\n",
    "dim=5 #5 d multi gaussian\n",
    "batchsize=3"
   ]
  },
  {
   "cell_type": "markdown",
   "metadata": {},
   "source": [
    "Let's set up the model: a multivariate normal distribution."
   ]
  },
  {
   "cell_type": "code",
   "execution_count": 87,
   "metadata": {
    "collapsed": true
   },
   "outputs": [],
   "source": [
    "rng = np.random.RandomState(123)\n",
    "\n",
    "# Define a covariance and mu for a gaussian\n",
    "mu  = np.array(rng.rand(dim) * 10, dtype=theano.config.floatX)\n",
    "cov = np.array(rng.rand(dim, dim), dtype=theano.config.floatX)\n",
    "cov = (cov + cov.T) / 2.\n",
    "cov[np.arange(dim), np.arange(dim)] = 1.0\n",
    "cov_inv = np.linalg.inv(cov)\n",
    "\n",
    "# Define energy function for a multi-variate Gaussian\n",
    "def gaussian_energy(x):\n",
    "    return 0.5 * (tt.dot((x - mu), cov_inv) * (x - mu)).sum(axis=1)\n",
    "\n",
    "# Declared shared random variable for positions\n",
    "position = shared(rng.randn(batchsize, dim).astype(theano.config.floatX))"
   ]
  },
  {
   "cell_type": "markdown",
   "metadata": {},
   "source": [
    "Now, let's initialize our sampler:"
   ]
  },
  {
   "cell_type": "code",
   "execution_count": 88,
   "metadata": {
    "collapsed": true
   },
   "outputs": [],
   "source": [
    "sampler = HMC(position, gaussian_energy,\n",
    "        initial_stepsize=1e-3, stepsize_max=0.5)"
   ]
  },
  {
   "cell_type": "markdown",
   "metadata": {},
   "source": [
    "Execute some tuning samples, to be discarded."
   ]
  },
  {
   "cell_type": "code",
   "execution_count": 89,
   "metadata": {
    "collapsed": true
   },
   "outputs": [],
   "source": [
    "burn_me = [sampler.draw() for r in range(burnin)]"
   ]
  },
  {
   "cell_type": "markdown",
   "metadata": {},
   "source": [
    "Now draw `n_samples` for inference. This returns a tensor of dimension `(n_samples, batchsize, dim)`."
   ]
  },
  {
   "cell_type": "code",
   "execution_count": 90,
   "metadata": {
    "collapsed": true
   },
   "outputs": [],
   "source": [
    "samples = np.asarray([sampler.draw() for r in range(n_samples)])"
   ]
  },
  {
   "cell_type": "code",
   "execution_count": 91,
   "metadata": {
    "collapsed": false
   },
   "outputs": [
    {
     "data": {
      "text/plain": [
       "(1000, 3, 5)"
      ]
     },
     "execution_count": 91,
     "metadata": {},
     "output_type": "execute_result"
    }
   ],
   "source": [
    "samples.shape"
   ]
  },
  {
   "cell_type": "code",
   "execution_count": 92,
   "metadata": {
    "collapsed": true
   },
   "outputs": [],
   "source": [
    "flat_samples = samples.T.reshape(dim, -1).T"
   ]
  },
  {
   "cell_type": "code",
   "execution_count": 93,
   "metadata": {
    "collapsed": false
   },
   "outputs": [
    {
     "name": "stdout",
     "output_type": "stream",
     "text": [
      "****** TARGET VALUES ******\n",
      "target mean: [ 6.96469186  2.86139335  2.26851454  5.51314769  7.1946897 ]\n",
      "target cov:\n",
      " [[ 1.          0.66197111  0.71141257  0.55766643  0.35753822]\n",
      " [ 0.66197111  1.          0.31053199  0.45455485  0.37991646]\n",
      " [ 0.71141257  0.31053199  1.          0.62800335  0.38004541]\n",
      " [ 0.55766643  0.45455485  0.62800335  1.          0.50807871]\n",
      " [ 0.35753822  0.37991646  0.38004541  0.50807871  1.        ]]\n",
      "****** EMPIRICAL MEAN/COV USING HMC ******\n",
      "empirical mean:  [ 7.01443438  2.8979705   2.33591323  5.57346381  7.25733106]\n",
      "empirical_cov:\n",
      " [[ 1.04033396  0.6721692   0.7756952   0.60719616  0.39925109]\n",
      " [ 0.6721692   1.03321239  0.34309513  0.48219892  0.42882713]\n",
      " [ 0.7756952   0.34309513  1.10562853  0.69613545  0.44126916]\n",
      " [ 0.60719616  0.48219892  0.69613545  1.07920969  0.55688503]\n",
      " [ 0.39925109  0.42882713  0.44126916  0.55688503  1.06562072]]\n",
      "****** HMC INTERNALS ******\n",
      "final stepsize 0.5\n",
      "final acceptance_rate 0.9052926475589113\n"
     ]
    }
   ],
   "source": [
    "print('****** TARGET VALUES ******')\n",
    "print('target mean:', mu)\n",
    "print('target cov:\\n', cov)\n",
    "\n",
    "print('****** EMPIRICAL MEAN/COV USING HMC ******')\n",
    "print('empirical mean: ', flat_samples.mean(axis=0))\n",
    "print('empirical_cov:\\n', np.cov(flat_samples.T))\n",
    "\n",
    "print('****** HMC INTERNALS ******')\n",
    "print('final stepsize', sampler.stepsize.get_value())\n",
    "print('final acceptance_rate', sampler.avg_acceptance_rate.get_value())"
   ]
  },
  {
   "cell_type": "markdown",
   "metadata": {},
   "source": [
    "As can be seen above, the samples generated by our HMC sampler yield an\n",
    "empirical mean and covariance matrix, which are very close to the true\n",
    "underlying parameters. The adaptive algorithm also seemed to work well\n",
    "as the final acceptance rate is close to our target of `0.9`.\n",
    "\n",
    "Hamiltonian MC is included in [PyMC 3](https://github.com/pymc-devs/pymc3), which we will learn about in the next section."
   ]
  },
  {
   "cell_type": "markdown",
   "metadata": {},
   "source": [
    "## References\n",
    "\n",
    "1. Team TTD, Al-Rfou R, Alain G, et al. (2016) [Theano: A Python framework for fast computation of mathematical expressions](https://arxiv.org/abs/1605.02688). arXiv.org.\n",
    "2. Neal, R. M. (2010) [MCMC using Hamiltonian dynamics](http://www.mcmchandbook.net/HandbookChapter5.pdf), in the Handbook of Markov Chain Monte Carlo, S. Brooks, A. Gelman, G. L. Jones, and X.-L. Meng (editors), Chapman & Hall / CRC Press, pp. 113-162.\n",
    "3. Betancourt, M. (2017). [A Conceptual Introduction to Hamiltonian Monte Carlo](https://arxiv.org/abs/1701.02434). arXiv.org."
   ]
  }
 ],
 "metadata": {
  "anaconda-cloud": {},
  "kernelspec": {
   "display_name": "Python 2",
   "language": "python",
   "name": "python2"
  },
  "language_info": {
   "codemirror_mode": {
    "name": "ipython",
    "version": 2
   },
   "file_extension": ".py",
   "mimetype": "text/x-python",
   "name": "python",
   "nbconvert_exporter": "python",
   "pygments_lexer": "ipython2",
   "version": "2.7.13"
  },
  "latex_envs": {
   "bibliofile": "biblio.bib",
   "cite_by": "apalike",
   "current_citInitial": 1,
   "eqLabelWithNumbers": true,
   "eqNumInitial": 0
  }
 },
 "nbformat": 4,
 "nbformat_minor": 1
}
